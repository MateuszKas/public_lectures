{
 "cells": [
  {
   "cell_type": "code",
   "execution_count": 1,
   "metadata": {
    "slideshow": {
     "slide_type": "skip"
    }
   },
   "outputs": [
    {
     "data": {
      "text/html": [
       "<style>\n",
       ".rendered_html table, .rendered_html th, .rendered_html tr, .rendered_html td {\n",
       "     font-size: 80%;\n",
       "}\n",
       "</style>\n"
      ],
      "text/plain": [
       "<IPython.core.display.HTML object>"
      ]
     },
     "metadata": {},
     "output_type": "display_data"
    }
   ],
   "source": [
    "%%HTML\n",
    "<style>\n",
    ".rendered_html table, .rendered_html th, .rendered_html tr, .rendered_html td {\n",
    "     font-size: 80%;\n",
    "}\n",
    "</style>"
   ]
  },
  {
   "cell_type": "markdown",
   "metadata": {
    "slideshow": {
     "slide_type": "slide"
    }
   },
   "source": [
    "# Analiza i bazy danych\n",
    "## Informacje wstępne i DBMS\n",
    "### dr inż. Waldemar Bauer"
   ]
  },
  {
   "cell_type": "markdown",
   "metadata": {
    "slideshow": {
     "slide_type": "slide"
    }
   },
   "source": [
    "## Informacje ogólne\n",
    "\n",
    "- Katedra Automatyki i Robotyki, C3, p. 216 \n",
    "- Konsultacje środy 10:00 - 11:00\n",
    "- bauer@agh.edu.pl\n",
    "- wykłady dostępne pod adresem: https://github.com/KAIR-ISZ/public_lectures"
   ]
  },
  {
   "cell_type": "markdown",
   "metadata": {
    "slideshow": {
     "slide_type": "slide"
    }
   },
   "source": [
    "## Narzędzia używane na zajęciach\n",
    "| | | |  \n",
    "|-|-|-|\n",
    "<div style=\"width: 200px;\">![](./fig/python-logo-1.png)</div>|<div style=\"width: 200px;\">![](./fig/postgresql-logo.png)</div>|<div style=\"width: 200px;\">![](./fig/sqla_logo.png)<div>\n",
    "| | | |\n"
   ]
  },
  {
   "cell_type": "markdown",
   "metadata": {
    "slideshow": {
     "slide_type": "slide"
    }
   },
   "source": [
    "## Dlaczego używamy baz danych\n",
    "\n",
    "- Organizują dane w ustandaryzowany sposób\n",
    "- System organizacji danych odpowiada ludzkiej logice\n",
    "- Umożliwia szybkie przeszukiwani, łączenie i filtrowanie danych\n",
    "- Ułatwia dzielnie się danymi przez ich użytkowników"
   ]
  },
  {
   "cell_type": "markdown",
   "metadata": {
    "slideshow": {
     "slide_type": "slide"
    }
   },
   "source": [
    "## Definicja bazy danych\n",
    "\n",
    "__Nieformalnie__: baza danych to dane i specjalny program umożliwiający ich\n",
    "gromadzenie i przetwarzanie.\n",
    "\n",
    "__Formalne__: Baza danych jest zbiorem powiązanych informacji zorganizowanych w\n",
    "strukturę umożliwiającą łatwe przetwarzanie.\n",
    "\n",
    "__Definicja prawna__: Zależna od organizacji lub kraju"
   ]
  },
  {
   "cell_type": "markdown",
   "metadata": {
    "slideshow": {
     "slide_type": "slide"
    }
   },
   "source": [
    "## Rodzaje baz danych  \n",
    "\n",
    "__Bazy proste__:\n",
    "- Kartotekowe\n",
    "- Hierarchiczne\n",
    "\n",
    "__Bazy złożone__:\n",
    "- Relacyjne\n",
    "- Obiektowe\n",
    "- Relacyjno-obiektowe\n",
    "- Strumieniowe\n",
    "- Temporalne\n",
    "- Nierelacyjne (NoSQL)\n"
   ]
  },
  {
   "cell_type": "markdown",
   "metadata": {
    "slideshow": {
     "slide_type": "slide"
    }
   },
   "source": [
    "## Przetwarzanie danych w bazie danych \n",
    "\n",
    "- Wprowadzanie danych,\n",
    "- Zapisywanie i przechowywanie danych,\n",
    "- Wyszukiwanie i prezentacja danych,\n",
    "- Wstawianie i usuwanie danych,\n",
    "- Aktualizacje danych,\n",
    "- Przetwarzanie arytmetyczne, statystyczne, algebraiczne i logiczne,\n",
    "- Operacje oparte na algebrze relacji,\n",
    "- Kodowanie i dekodowanie danych\n"
   ]
  },
  {
   "cell_type": "markdown",
   "metadata": {
    "slideshow": {
     "slide_type": "slide"
    }
   },
   "source": [
    "## Cele systemu bazodanowego\n",
    "\n",
    "- Centralizacja\n",
    "- Dostęp selektywny\n",
    "- Utrzymanie spójności danych\n",
    "- Normalizacja\n",
    "- Dostęp wielokrotny\n",
    "- Widoki\n",
    "- Dostęp równoległy\n",
    "- Niezależność danych\n",
    "- Optymalizacja"
   ]
  },
  {
   "cell_type": "markdown",
   "metadata": {
    "slideshow": {
     "slide_type": "slide"
    }
   },
   "source": [
    "## Database Management System (DBMS)\n",
    "\n",
    "- Zestaw programów do zarządzania bazą danych\n",
    "\n",
    "- Systemy open source: PostgreSQL, MySQL, Hadoop, Spark, Firebird,...\n",
    "\n",
    "- Systemy handlowe: Oracle, IBM DB, MS SQL Server,...\n",
    "\n",
    "- Systemy biurowe: OOBase, MS Access,...\n",
    " \n"
   ]
  },
  {
   "cell_type": "markdown",
   "metadata": {
    "slideshow": {
     "slide_type": "subslide"
    }
   },
   "source": [
    "## Funkcjonalności DBMS\n",
    "\n",
    "- Umożliwienie zaprojektowania i wdrożenia nowej bazy danych przy użyciu narzędzi i Data Definition Language (DDL).\n",
    "\n",
    "- Umożliwienie selektywnego dostępu do danych przy użyciu języka zapytań (SQL).\n",
    "\n",
    "- Wykonanie określonych operacji na danych przy użyciu języka manipulacji danych (Data Manipulation Language, DML).\n",
    "\n",
    "- Obsługa przechowywania dużych zestawów danych, zapewnienie niezawodności i wydajności obsługi operacji na danych zapisanych na dysku.\n",
    "\n",
    "- Zapewnienie integralności danych (na poziomie tabeli, na poziomie bazy danych)."
   ]
  },
  {
   "cell_type": "markdown",
   "metadata": {
    "slideshow": {
     "slide_type": "subslide"
    }
   },
   "source": [
    "## Funkcjonalności DBMS - cd.\n",
    "\n",
    "- Ochrona dostępu do danych - różne obszary i poziomy dostępu (prowadzenie kont użytkowników, przydzielanie uprawnień, tworzenie widoków).\n",
    "\n",
    "- Zapewnianie dostępu dla wielu użytkowników i synchronizacja dostępu w przypadku dostępu kooperacyjnego.\n",
    "\n",
    "- Zapewnienie możliwości komunikacji z innymi systemami.\n",
    "\n",
    "- Dostarczenie opisu i dokumentacji (schemat i struktura).\n",
    "\n",
    "- Optymalizacja pracy (minimalizacja czasu dostępu lub obsługi zadań), optymalizacja dostępu dla poszczególnych użytkowników, optymalizacja zarządzania zasobami i organizacją bazy danych."
   ]
  }
 ],
 "metadata": {
  "celltoolbar": "Slideshow",
  "kernelspec": {
   "display_name": "Python 3",
   "language": "python",
   "name": "python3"
  },
  "language_info": {
   "codemirror_mode": {
    "name": "ipython",
    "version": 3
   },
   "file_extension": ".py",
   "mimetype": "text/x-python",
   "name": "python",
   "nbconvert_exporter": "python",
   "pygments_lexer": "ipython3",
   "version": "3.7.6"
  }
 },
 "nbformat": 4,
 "nbformat_minor": 2
}
