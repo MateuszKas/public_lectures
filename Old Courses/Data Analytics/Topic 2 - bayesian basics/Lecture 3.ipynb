{
 "cells": [
  {
   "cell_type": "markdown",
   "metadata": {
    "slideshow": {
     "slide_type": "slide"
    }
   },
   "source": [
    "# Data analytics\n",
    "\n",
    "## Exploring distributions\n",
    "\n",
    "### dr hab. inż. Jerzy Baranowski, Prof. AGH"
   ]
  },
  {
   "cell_type": "code",
   "execution_count": 1,
   "metadata": {
    "slideshow": {
     "slide_type": "skip"
    }
   },
   "outputs": [],
   "source": [
    "import scipy.stats as stats\n",
    "import numpy as np\n",
    "import arviz as az\n",
    "import matplotlib.pyplot as plt\n",
    "\n",
    "light=\"#FFFCDC\"\n",
    "light_highlight=\"#FEF590\"\n",
    "mid=\"#FDED2A\"\n",
    "mid_highlight=\"#f0dc05\"\n",
    "dark=\"#EECA02\"\n",
    "dark_highlight=\"#BB9700\"\n",
    "green=\"#00FF00\"\n",
    "light_grey=\"#DDDDDD\""
   ]
  },
  {
   "cell_type": "markdown",
   "metadata": {
    "slideshow": {
     "slide_type": "slide"
    }
   },
   "source": [
    "## Managing expectations\n",
    "\n",
    "- Main point of probabilistic compoutation is to compute an expectation of certain function of parameters. \n",
    "\n",
    "- It generally covers all kind of statistics\n",
    "\n",
    "- Has many beneficial properties"
   ]
  },
  {
   "cell_type": "markdown",
   "metadata": {
    "slideshow": {
     "slide_type": "subslide"
    }
   },
   "source": [
    "## Expectations\n",
    "\n",
    "In general case, function of parameter $q\\in Q$: $f(q)$  with respect to a probability distribution (mass function) $\\pi(q)$ has expectation given by\n",
    "\n",
    "$$\n",
    "\\mathbb{E}_{\\pi}[f] = \\int_{Q} \\mathrm{d} q \\, \\pi(q) \\, f(q).\n",
    "$$\n",
    "\n",
    "or in discrete case\n",
    "\n",
    "$$\n",
    "\\mathbb{E}_{\\pi}[f] = \\sum_{q \\in Q} \\pi(q) \\, f(q).\n",
    "$$"
   ]
  },
  {
   "cell_type": "markdown",
   "metadata": {
    "slideshow": {
     "slide_type": "subslide"
    }
   },
   "source": [
    "## How to compute expectations?\n",
    "\n",
    "Analytic integration is practically impossible. \n",
    "\n",
    "We are left with quadratures, for ex. Euler\n",
    "$$\n",
    "\\mathbb{E}_{\\pi}[f] \\approx \n",
    "\\sum_{n = 1}^{N} (\\Delta q)_{n} \\, \\pi(q_{n}) \\, f(q_{n}).\n",
    "$$\n"
   ]
  },
  {
   "cell_type": "markdown",
   "metadata": {
    "slideshow": {
     "slide_type": "subslide"
    }
   },
   "source": [
    "## How to compute expectations?\n",
    "\n",
    "Other option is exact sampling, leading to so called Monte Carlo estimators.\n",
    "\n",
    "If we can generate set of samples $\\{ q_{1}, \\ldots, q_{N} \\} \\in Q$, such that\n",
    "\n",
    "$$\\hat{f}_{N}^{\\text{MC}} = \\frac{1}{N} \\sum_{n = 1}^{N} f(q_{n}),$$\n",
    "\n",
    "asymptotically converges\n",
    "\n",
    "$$\n",
    "\\lim_{N \\rightarrow \\infty} \\hat{f}_{N}^{\\text{MC}} = \\mathbb{E}_{\\pi}[f].\n",
    "$$\n",
    "\n",
    "Then we have an exact sampling procedure\n"
   ]
  },
  {
   "cell_type": "markdown",
   "metadata": {
    "slideshow": {
     "slide_type": "subslide"
    }
   },
   "source": [
    "## Monte Carlo estimators\n",
    "\n",
    "Provided, that samples are generated properly we can quantify estimator error\n",
    "\n",
    "$$\n",
    "\\frac{ \\hat{f}_{N}^{\\text{MC}} - \\mathbb{E}_{\\pi}[f] }\n",
    "{\\text{MC-SE}_{N}[f] } \n",
    "\\sim \\mathcal{N}(0, 1),\n",
    "$$\n",
    "\n",
    "With Monte Carlo Standard Error given by\n",
    "$$\n",
    "\\text{MC-SE}_{N}[f] \n",
    "= \\sqrt{ \\frac{ \\text{Var}_{\\pi}[f]}{N} }.\n",
    "$$"
   ]
  },
  {
   "cell_type": "markdown",
   "metadata": {
    "slideshow": {
     "slide_type": "slide"
    }
   },
   "source": [
    "## Motivational example\n",
    "- We return to Mass Effect experiment using grid approximation\n"
   ]
  },
  {
   "cell_type": "markdown",
   "metadata": {},
   "source": [
    "<img src=\"img/masseffect.png\" alt=\"drawing\" width=\"500\"/> "
   ]
  },
  {
   "cell_type": "markdown",
   "metadata": {
    "slideshow": {
     "slide_type": "-"
    }
   },
   "source": [
    "<div style=\"text-align: right\"> <span style=\"font-size:.3em;\">Image &copy; EA &amp; Bioware </div>\n"
   ]
  },
  {
   "cell_type": "markdown",
   "metadata": {
    "slideshow": {
     "slide_type": "subslide"
    }
   },
   "source": [
    "## Grid approximation\n",
    "1. Define the grid. This means you decide how many points to use in estimating the posterior, and then you make a list of the parameter values on the grid.\n",
    "2. Compute the value of the prior at each parameter value on the grid.\n",
    "3. Compute the likelihood at each parameter value.\n",
    "4. Compute the unstandardized posterior at each parameter value, by multiplying the prior by the likelihood.\n",
    "5. Finally, standardize the posterior, by dividing each value by the sum of all values."
   ]
  },
  {
   "cell_type": "code",
   "execution_count": 2,
   "metadata": {
    "slideshow": {
     "slide_type": "subslide"
    }
   },
   "outputs": [],
   "source": [
    "def posterior_grid_approx(grid_points=5, success=6, tosses=9):\n",
    "    \n",
    "    # define grid\n",
    "    p_grid = np.linspace(0, 1, grid_points)\n",
    "\n",
    "    # define prior\n",
    "    prior = np.repeat(5, grid_points)  # uniform\n",
    "   \n",
    "    # compute likelihood at each point in the grid\n",
    "    likelihood = stats.binom.pmf(success, tosses, p_grid)\n",
    "\n",
    "    # compute product of likelihood and prior\n",
    "    unstd_posterior = likelihood * prior\n",
    "\n",
    "    # standardize the posterior, so it sums to 1\n",
    "    posterior = unstd_posterior / unstd_posterior.sum()\n",
    "    return p_grid, posterior"
   ]
  },
  {
   "cell_type": "code",
   "execution_count": 3,
   "metadata": {},
   "outputs": [
    {
     "data": {
      "text/plain": [
       "(array([0.  , 0.25, 0.5 , 0.75, 1.  ]),\n",
       " array([0.        , 0.02129338, 0.40378549, 0.57492114, 0.        ]))"
      ]
     },
     "execution_count": 3,
     "metadata": {},
     "output_type": "execute_result"
    }
   ],
   "source": [
    "posterior_grid_approx()"
   ]
  },
  {
   "cell_type": "markdown",
   "metadata": {
    "slideshow": {
     "slide_type": "subslide"
    }
   },
   "source": [
    "## Grid approximation example"
   ]
  },
  {
   "cell_type": "code",
   "execution_count": 4,
   "metadata": {
    "slideshow": {
     "slide_type": "skip"
    }
   },
   "outputs": [
    {
     "data": {
      "image/png": "[encoded data removed]",
      "text/plain": [
       "<Figure size 504x288 with 2 Axes>"
      ]
     },
     "metadata": {
      "needs_background": "light"
     },
     "output_type": "display_data"
    }
   ],
   "source": [
    "f3, (ax1, ax2) = plt.subplots(1, 2, sharex=True,figsize=(7,4),tight_layout=True)\n",
    "grid5=posterior_grid_approx()\n",
    "grid20=posterior_grid_approx(20)\n",
    "ax1.plot(grid5[0],grid5[1],marker='o',color=dark)\n",
    "ax1.set_title('5 points')\n",
    "ax1.set_xlabel('probability of water')\n",
    "ax1.set_ylabel('posterior probability')\n",
    "ax1.set_yticks([])\n",
    "ax2.plot(grid20[0],grid20[1],marker='o',color=dark)\n",
    "ax2.set_title('20 points')\n",
    "ax2.set_xlabel('probability of water')\n",
    "ax2.set_yticks([])\n",
    "plt.show()\n"
   ]
  },
  {
   "cell_type": "code",
   "execution_count": 5,
   "metadata": {},
   "outputs": [
    {
     "data": {
      "image/png": "[encoded data removed]",
      "text/plain": [
       "<Figure size 504x288 with 2 Axes>"
      ]
     },
     "execution_count": 5,
     "metadata": {},
     "output_type": "execute_result"
    }
   ],
   "source": [
    "f3"
   ]
  },
  {
   "cell_type": "markdown",
   "metadata": {
    "slideshow": {
     "slide_type": "slide"
    }
   },
   "source": [
    "## Summarizing by sampling\n",
    "- The easiest way to get information about even complicated posteriors is to simulate data that correspond to it and get parameter estimates from sampling.\n",
    "- For single parameter problems the easiest way is to use inverse cumulative distribution function \n",
    "- Grid approximation is more universal"
   ]
  },
  {
   "cell_type": "code",
   "execution_count": 6,
   "metadata": {
    "slideshow": {
     "slide_type": "subslide"
    }
   },
   "outputs": [],
   "source": [
    "def posterior_grid_approx(grid_points=5, success=7, tosses=11,prior_sel=1):\n",
    "    \n",
    "    # define grid\n",
    "    p_grid = np.linspace(0, 1, grid_points)\n",
    "\n",
    "    # define prior\n",
    "    if prior_sel==1:\n",
    "        prior = np.repeat(5, grid_points)  # uniform\n",
    "    elif prior_sel==2:\n",
    "        prior = (p_grid >= 0.5).astype(int)  # truncated\n",
    "    elif prior_sel==3:    \n",
    "        prior = np.exp(- 5 * abs(p_grid - 0.5))  # double exp \n",
    "    else:\n",
    "        raise ValueError('Unsuported prior selection')\n",
    "    # compute likelihood at each point in the grid\n",
    "    likelihood = stats.binom.pmf(success, tosses, p_grid)\n",
    "\n",
    "    # compute product of likelihood and prior\n",
    "    unstd_posterior = likelihood * prior\n",
    "\n",
    "    # standardize the posterior, so it sums to 1\n",
    "    posterior = unstd_posterior / unstd_posterior.sum()\n",
    "    return p_grid, posterior"
   ]
  },
  {
   "cell_type": "code",
   "execution_count": 57,
   "metadata": {
    "slideshow": {
     "slide_type": "subslide"
    }
   },
   "outputs": [
    {
     "data": {
      "image/png": "[encoded data removed]",
      "text/plain": [
       "<Figure size 504x288 with 1 Axes>"
      ]
     },
     "metadata": {
      "needs_background": "light"
     },
     "output_type": "display_data"
    }
   ],
   "source": [
    "\n",
    "p_grid, posterior=posterior_grid_approx(100,6,9,prior_sel=3)\n",
    "p_grid, prior=posterior_grid_approx(100,0,0,prior_sel=3)\n",
    "fig,ax = plt.subplots(1, 1, figsize=(7,4),tight_layout=True)\n",
    "ax.plot(p_grid, posterior,color=dark,label='Posterior')\n",
    "ax.plot(p_grid, prior,color=mid,label='Prior')\n",
    "\n",
    "\n",
    "ax.set_xlabel('probability of water')\n",
    "ax.set_ylabel(' probability')\n",
    "ax.set_yticks([])\n",
    "ax.legend()\n",
    "plt.show()"
   ]
  },
  {
   "cell_type": "markdown",
   "metadata": {
    "slideshow": {
     "slide_type": "subslide"
    }
   },
   "source": [
    "## Sampling from grid posterior"
   ]
  },
  {
   "cell_type": "code",
   "execution_count": 58,
   "metadata": {
    "slideshow": {
     "slide_type": "-"
    }
   },
   "outputs": [
    {
     "data": {
      "image/png": "[encoded data removed]",
      "text/plain": [
       "<Figure size 504x288 with 1 Axes>"
      ]
     },
     "metadata": {
      "needs_background": "light"
     },
     "output_type": "display_data"
    }
   ],
   "source": [
    "np.random.seed(44)\n",
    "samples=np.random.choice(p_grid,size=10000,replace=True,p=posterior)\n",
    "\n",
    "fig,ax = plt.subplots(1, 1, figsize=(7,4),tight_layout=True)\n",
    "ax.scatter(range(10000),samples,color=dark,edgecolor=dark_highlight)\n",
    "ax.set_xlabel('sample number')\n",
    "ax.set_ylabel(r'value of $\\theta$')\n",
    "plt.show()\n"
   ]
  },
  {
   "cell_type": "markdown",
   "metadata": {
    "slideshow": {
     "slide_type": "skip"
    }
   },
   "source": [
    "## Weakly informative priors\n",
    "We characterize a prior distribution as weakly informative if it is proper but is set up so that the information it does provide is intentionally weaker than whatever actual prior knowledge is available. \n",
    "- Make uninformative more complicated\n",
    "- Make informative less complicated"
   ]
  },
  {
   "cell_type": "code",
   "execution_count": 59,
   "metadata": {
    "slideshow": {
     "slide_type": "subslide"
    }
   },
   "outputs": [
    {
     "data": {
      "image/png": "[encoded data removed]",
      "text/plain": [
       "<Figure size 504x288 with 1 Axes>"
      ]
     },
     "metadata": {
      "needs_background": "light"
     },
     "output_type": "display_data"
    }
   ],
   "source": [
    "fig,ax = plt.subplots(1, 1, figsize=(7,4),tight_layout=True)\n",
    "ax.hist(samples,bins=25,density=True,color=dark,edgecolor=dark_highlight)\n",
    "ax.set_xlabel(r'value of $\\theta$')\n",
    "plt.show()"
   ]
  },
  {
   "cell_type": "code",
   "execution_count": 60,
   "metadata": {
    "slideshow": {
     "slide_type": "subslide"
    }
   },
   "outputs": [
    {
     "name": "stdout",
     "output_type": "stream",
     "text": [
      "0.24107415057429232\n"
     ]
    }
   ],
   "source": [
    "# posterior probability where p < 0.5\n",
    "print(np.sum( posterior[ p_grid < 0.5 ] ))"
   ]
  },
  {
   "cell_type": "code",
   "execution_count": 61,
   "metadata": {},
   "outputs": [
    {
     "name": "stdout",
     "output_type": "stream",
     "text": [
      "0.2371\n"
     ]
    }
   ],
   "source": [
    "# same by sampling\n",
    "print(np.sum( samples < 0.5 ) / 1e4)"
   ]
  },
  {
   "cell_type": "code",
   "execution_count": 62,
   "metadata": {},
   "outputs": [
    {
     "name": "stdout",
     "output_type": "stream",
     "text": [
      "0.6694\n"
     ]
    }
   ],
   "source": [
    "# intervals of interest\n",
    "print(np.sum( (samples > 0.5) & (samples < 0.75) ) / 1e4)"
   ]
  },
  {
   "cell_type": "code",
   "execution_count": 63,
   "metadata": {},
   "outputs": [
    {
     "data": {
      "text/plain": [
       "array([0.44444444, 0.74747475])"
      ]
     },
     "execution_count": 63,
     "metadata": {},
     "output_type": "execute_result"
    }
   ],
   "source": [
    "# quantiles\n",
    "np.quantile(samples, [0.1,0.9])"
   ]
  },
  {
   "cell_type": "markdown",
   "metadata": {
    "slideshow": {
     "slide_type": "subslide"
    }
   },
   "source": [
    "## Prior predictive distribution"
   ]
  },
  {
   "cell_type": "code",
   "execution_count": 64,
   "metadata": {},
   "outputs": [
    {
     "name": "stdout",
     "output_type": "stream",
     "text": [
      "Mean rate of success = 0.5017\n"
     ]
    }
   ],
   "source": [
    "pr_samples=np.random.choice(p_grid,size=10000,replace=True,p=prior)\n",
    "pr_pr_d_samples=np.random.binomial(1,pr_samples)\n",
    "\n",
    "print('Mean rate of success = {}'.format(np.sum(pr_pr_d_samples)/1e4))\n",
    "\n"
   ]
  },
  {
   "cell_type": "code",
   "execution_count": 65,
   "metadata": {},
   "outputs": [
    {
     "data": {
      "image/png": "[encoded data removed]",
      "text/plain": [
       "<Figure size 504x288 with 1 Axes>"
      ]
     },
     "metadata": {
      "needs_background": "light"
     },
     "output_type": "display_data"
    }
   ],
   "source": [
    "fig,ax = plt.subplots(1, 1, figsize=(7,4),tight_layout=True)\n",
    "ax.hist(pr_pr_d_samples,bins=[-.1,.1,.9,1.1],density=True,color=dark,edgecolor=dark_highlight)\n",
    "ax.set_xlabel('outcome')\n",
    "ax.set_xticks([0,1])\n",
    "ax.set_yticks([])\n",
    "plt.show()"
   ]
  },
  {
   "cell_type": "markdown",
   "metadata": {
    "slideshow": {
     "slide_type": "subslide"
    }
   },
   "source": [
    "## Posterior predictive distribution"
   ]
  },
  {
   "cell_type": "code",
   "execution_count": 66,
   "metadata": {
    "slideshow": {
     "slide_type": "-"
    }
   },
   "outputs": [
    {
     "name": "stdout",
     "output_type": "stream",
     "text": [
      "Mean rate of success = 0.5813\n"
     ]
    }
   ],
   "source": [
    "post_samples=np.random.choice(p_grid,size=10000,replace=True,p=posterior)\n",
    "post_pr_d_samples=np.random.binomial(1,post_samples)\n",
    "print('Mean rate of success = {}'.format(np.sum(post_pr_d_samples)/1e4))\n"
   ]
  },
  {
   "cell_type": "code",
   "execution_count": 67,
   "metadata": {},
   "outputs": [
    {
     "data": {
      "image/png": "[encoded data removed]",
      "text/plain": [
       "<Figure size 504x288 with 1 Axes>"
      ]
     },
     "metadata": {
      "needs_background": "light"
     },
     "output_type": "display_data"
    }
   ],
   "source": [
    "fig,ax = plt.subplots(1, 1, figsize=(7,4),tight_layout=True)\n",
    "ax.hist(post_pr_d_samples,bins=[-.1,.1,.9,1.1],density=True,color=dark,edgecolor=dark_highlight)\n",
    "ax.set_xlabel('outcome')\n",
    "ax.set_xticks([0,1])\n",
    "ax.set_yticks([])\n",
    "plt.show()\n"
   ]
  },
  {
   "cell_type": "code",
   "execution_count": 18,
   "metadata": {},
   "outputs": [
    {
     "data": {
      "text/plain": [
       "array([1, 0, 0, ..., 0, 1, 1])"
      ]
     },
     "execution_count": 18,
     "metadata": {},
     "output_type": "execute_result"
    }
   ],
   "source": [
    "post_pr_d_samples"
   ]
  },
  {
   "cell_type": "markdown",
   "metadata": {
    "slideshow": {
     "slide_type": "subslide"
    }
   },
   "source": [
    "## Do grid approximations generalize?\n",
    "It depends"
   ]
  },
  {
   "cell_type": "markdown",
   "metadata": {},
   "source": [
    "<img src=\"img/grid_density.png\" alt=\"drawing\" width=\"500\"/> "
   ]
  },
  {
   "cell_type": "markdown",
   "metadata": {
    "slideshow": {
     "slide_type": "-"
    }
   },
   "source": [
    "<div style=\"text-align: right\"> <span style=\"font-size:.3em;\">Image &copy; <a href=\"https://betanalpha.github.io\"> Michael Betancourt</a></span> </div>\n"
   ]
  },
  {
   "cell_type": "markdown",
   "metadata": {
    "slideshow": {
     "slide_type": "subslide"
    }
   },
   "source": [
    "## Sometimes geometry is difficult"
   ]
  },
  {
   "cell_type": "markdown",
   "metadata": {
    "slideshow": {
     "slide_type": "-"
    }
   },
   "source": [
    "<img src=\"img/grid_negligible.png\" alt=\"drawing\" width=\"500\"/>\n"
   ]
  },
  {
   "cell_type": "markdown",
   "metadata": {
    "slideshow": {
     "slide_type": "-"
    }
   },
   "source": [
    "<div style=\"text-align: right\"> <span style=\"font-size:.3em;\">Image &copy; <a href=\"https://betanalpha.github.io\"> Michael Betancourt</a></span> </div>\n"
   ]
  },
  {
   "cell_type": "markdown",
   "metadata": {
    "slideshow": {
     "slide_type": "slide"
    }
   },
   "source": [
    "## What contributes to expectation?\n",
    "Expectation is an integral\n",
    "\n",
    "$$\n",
    "\\mathbb{E}_{\\pi}[f] = \\int_{Q} \\mathrm{d} q \\, \\pi(q) \\, f(q).\n",
    "$$\n",
    "\n",
    "Intuitively, wherever distribution $\\pi(q)$ is large, it should contribute the most, in particular next to maximum (mode)."
   ]
  },
  {
   "cell_type": "markdown",
   "metadata": {
    "slideshow": {
     "slide_type": "-"
    }
   },
   "source": [
    "<img src=\"img/conc_of_meas_anal_1.png\" alt=\"drawing\" width=\"400\"/>\n"
   ]
  },
  {
   "cell_type": "markdown",
   "metadata": {
    "slideshow": {
     "slide_type": "-"
    }
   },
   "source": [
    "<div style=\"text-align: right\"> <span style=\"font-size:.3em;\">Image &copy; <a href=\"https://betanalpha.github.io\"> Michael Betancourt</a></span> </div>\n"
   ]
  },
  {
   "cell_type": "markdown",
   "metadata": {
    "slideshow": {
     "slide_type": "subslide"
    }
   },
   "source": [
    "## But what about the volume?\n",
    "\n",
    "$dq$ is also under the integral, and volume rises with dimension\n",
    "<img src=\"img/box-1d.png\" alt=\"drawing\" width=\"150\"/>\n",
    "<img src=\"img/box-2d.png\" alt=\"drawing\" width=\"500\"/>\n",
    "<img src=\"img/box-3d.png\" alt=\"drawing\" width=\"700\"/>\n",
    "<div style=\"text-align: right\"> <span style=\"font-size:.3em;\">Image &copy; <a href=\"https://betanalpha.github.io\"> Michael Betancourt</a></span> </div>"
   ]
  },
  {
   "cell_type": "markdown",
   "metadata": {
    "slideshow": {
     "slide_type": "subslide"
    }
   },
   "source": [
    "## Volume rises exponentially with dimension"
   ]
  },
  {
   "cell_type": "markdown",
   "metadata": {
    "slideshow": {
     "slide_type": "-"
    }
   },
   "source": [
    "<img src=\"img/conc_of_meas_anal_2.png\" alt=\"drawing\" width=\"400\"/>\n"
   ]
  },
  {
   "cell_type": "markdown",
   "metadata": {
    "slideshow": {
     "slide_type": "-"
    }
   },
   "source": [
    "<div style=\"text-align: right\"> <span style=\"font-size:.3em;\">Image &copy; <a href=\"https://betanalpha.github.io\"> Michael Betancourt</a></span> </div>\n"
   ]
  },
  {
   "cell_type": "markdown",
   "metadata": {
    "slideshow": {
     "slide_type": "subslide"
    }
   },
   "source": [
    "## It is the product that counts\n"
   ]
  },
  {
   "cell_type": "markdown",
   "metadata": {
    "slideshow": {
     "slide_type": "-"
    }
   },
   "source": [
    "<img src=\"img/conc_of_meas_anal_3.png\" alt=\"drawing\" width=\"400\"/>\n"
   ]
  },
  {
   "cell_type": "markdown",
   "metadata": {
    "slideshow": {
     "slide_type": "-"
    }
   },
   "source": [
    "<div style=\"text-align: right\"> <span style=\"font-size:.3em;\">Image &copy; <a href=\"https://betanalpha.github.io\"> Michael Betancourt</a></span> </div>\n"
   ]
  },
  {
   "cell_type": "markdown",
   "metadata": {
    "slideshow": {
     "slide_type": "subslide"
    }
   },
   "source": [
    "## Typical set\n",
    "What contributes the most to the expectation are the values from the typical set"
   ]
  },
  {
   "cell_type": "markdown",
   "metadata": {
    "slideshow": {
     "slide_type": "-"
    }
   },
   "source": [
    "<img src=\"img/conc_of_meas_anal_4.png\" alt=\"drawing\" width=\"400\"/>\n"
   ]
  },
  {
   "cell_type": "markdown",
   "metadata": {
    "slideshow": {
     "slide_type": "-"
    }
   },
   "source": [
    "<div style=\"text-align: right\"> <span style=\"font-size:.3em;\">Image &copy; <a href=\"https://betanalpha.github.io\"> Michael Betancourt</a></span> </div>\n"
   ]
  },
  {
   "cell_type": "markdown",
   "metadata": {
    "slideshow": {
     "slide_type": "subslide"
    }
   },
   "source": [
    "## Concentration of measure\n",
    "\n",
    "Typical set, is a \"fuzzy surface\" that is located progressively away from the mode with the rise of dimension."
   ]
  },
  {
   "cell_type": "markdown",
   "metadata": {},
   "source": [
    "<img src=\"img/typical_set.png\" alt=\"drawing\" width=\"500\"/> "
   ]
  },
  {
   "cell_type": "markdown",
   "metadata": {
    "slideshow": {
     "slide_type": "-"
    }
   },
   "source": [
    "<div style=\"text-align: right\"> <span style=\"font-size:.3em;\">Image &copy; <a href=\"https://betanalpha.github.io\"> Michael Betancourt</a></span> </div>\n"
   ]
  },
  {
   "cell_type": "markdown",
   "metadata": {
    "slideshow": {
     "slide_type": "subslide"
    }
   },
   "source": [
    "## Typical set is where we should sample from"
   ]
  },
  {
   "cell_type": "markdown",
   "metadata": {},
   "source": [
    "<img src=\"img/typical_set_samples.png\" alt=\"drawing\" width=\"500\"/> "
   ]
  },
  {
   "cell_type": "markdown",
   "metadata": {
    "slideshow": {
     "slide_type": "-"
    }
   },
   "source": [
    "<div style=\"text-align: right\"> <span style=\"font-size:.3em;\">Image &copy; <a href=\"https://betanalpha.github.io\"> Michael Betancourt</a></span> </div>\n"
   ]
  },
  {
   "cell_type": "markdown",
   "metadata": {
    "slideshow": {
     "slide_type": "slide"
    }
   },
   "source": [
    "## Computational algorithms for probabilistic computing\n",
    "\n",
    "- Point estimators\n",
    "- Laplace approximation\n",
    "- Variational approximation\n",
    "- Monte Carlo estimators\n",
    "- Markov Chain Monte Carlo "
   ]
  },
  {
   "cell_type": "markdown",
   "metadata": {
    "slideshow": {
     "slide_type": "subslide"
    }
   },
   "source": [
    "## Modal estimators \n",
    "This approach searches for the maximal value of probability distribution, in order to obtain approximation of expected value"
   ]
  },
  {
   "cell_type": "markdown",
   "metadata": {},
   "source": [
    "<img src=\"img/good_mode.png\" alt=\"drawing\" width=\"500\"/> "
   ]
  },
  {
   "cell_type": "markdown",
   "metadata": {
    "slideshow": {
     "slide_type": "-"
    }
   },
   "source": [
    "<div style=\"text-align: right\"> <span style=\"font-size:.3em;\">Image &copy; <a href=\"https://betanalpha.github.io\"> Michael Betancourt</a></span> </div>\n"
   ]
  },
  {
   "cell_type": "markdown",
   "metadata": {
    "slideshow": {
     "slide_type": "subslide"
    }
   },
   "source": [
    "## Issues\n",
    "- skewed distributions have maxima far from expectations\n",
    "- problems with uncertainty quantisation"
   ]
  },
  {
   "cell_type": "markdown",
   "metadata": {},
   "source": [
    "<img src=\"img/bad_mode.png\" alt=\"drawing\" width=\"500\"/> "
   ]
  },
  {
   "cell_type": "markdown",
   "metadata": {
    "slideshow": {
     "slide_type": "-"
    }
   },
   "source": [
    "<div style=\"text-align: right\"> <span style=\"font-size:.3em;\">Image &copy; <a href=\"https://betanalpha.github.io\"> Michael Betancourt</a></span> </div>\n"
   ]
  },
  {
   "cell_type": "markdown",
   "metadata": {
    "slideshow": {
     "slide_type": "subslide"
    }
   },
   "source": [
    "## Laplace estimator\n",
    "\n",
    "Main idea is to find the maximal value, and fit a Gaussian distribution with a mean in it, and covariance obtained by second order Taylor approximation.\n",
    "\n",
    "Expectation values can then estimated with Gaussian integrals,\n",
    "$$\n",
    "\\mathbb{E}_{\\pi} \\! \\left[ f \\right]\n",
    "\\approx \n",
    "\\int_{Q} \\mathrm{d} q \\, \\mathcal{N} \\! \\left( q \\mid \\mu, \\Sigma \\right) \\,\n",
    "f \\! \\left( q \\right),\n",
    "$$"
   ]
  },
  {
   "cell_type": "markdown",
   "metadata": {
    "slideshow": {
     "slide_type": "subslide"
    }
   },
   "source": [
    "## If distribution is relatively close to Gaussian, typical set is well approximated"
   ]
  },
  {
   "cell_type": "markdown",
   "metadata": {},
   "source": [
    "<img src=\"img/laplace.png\" alt=\"drawing\" width=\"500\"/> "
   ]
  },
  {
   "cell_type": "markdown",
   "metadata": {
    "slideshow": {
     "slide_type": "-"
    }
   },
   "source": [
    "<div style=\"text-align: right\"> <span style=\"font-size:.3em;\">Image &copy; <a href=\"https://betanalpha.github.io\"> Michael Betancourt</a></span> </div>\n"
   ]
  },
  {
   "cell_type": "markdown",
   "metadata": {
    "slideshow": {
     "slide_type": "subslide"
    }
   },
   "source": [
    "## Variational approximation\n",
    "\n",
    "- The main idea is to approximate the posterior with functions, that can be easily sampled from (or their combination). \n",
    "\n",
    "- Such approximation is realized by minimization of a function called divergence, which measures how differetnt candidate and probability distribution are from one another.\n",
    "\n",
    "- In practice it is done by minimizing certain bound on the divergence."
   ]
  },
  {
   "cell_type": "markdown",
   "metadata": {
    "slideshow": {
     "slide_type": "subslide"
    }
   },
   "source": [
    "## Multimodality of variational approximation\n",
    "\n",
    "It can happen, that significantly different candidates have similar divergences, that causes optimization problem to be multimodal\n",
    "\n"
   ]
  },
  {
   "cell_type": "markdown",
   "metadata": {},
   "source": [
    "<img src=\"img/degenerate_fits.png\" alt=\"drawing\" width=\"1000\"/> "
   ]
  },
  {
   "cell_type": "markdown",
   "metadata": {
    "slideshow": {
     "slide_type": "-"
    }
   },
   "source": [
    "<div style=\"text-align: right\"> <span style=\"font-size:.3em;\">Image &copy; <a href=\"https://betanalpha.github.io\"> Michael Betancourt</a></span> </div>\n"
   ]
  },
  {
   "cell_type": "markdown",
   "metadata": {
    "slideshow": {
     "slide_type": "subslide"
    }
   },
   "source": [
    "## Over and under fitting of the typical set\n",
    "\n",
    "<img src=\"img/overestimated_var.png\" alt=\"drawing\" width=\"500\"/>\n",
    "<img src=\"img/underestimated_var.png\" alt=\"drawing\" width=\"500\"/>\n",
    "<div style=\"text-align: right\"> <span style=\"font-size:.3em;\">Image &copy; <a href=\"https://betanalpha.github.io\"> Michael Betancourt</a></span> </div>"
   ]
  },
  {
   "cell_type": "markdown",
   "metadata": {
    "slideshow": {
     "slide_type": "subslide"
    }
   },
   "source": [
    "## Monte Carlo sampling"
   ]
  },
  {
   "cell_type": "markdown",
   "metadata": {},
   "source": [
    "<img src=\"img/typical_set_samples.png\" alt=\"drawing\" width=\"500\"/> "
   ]
  },
  {
   "cell_type": "markdown",
   "metadata": {
    "slideshow": {
     "slide_type": "-"
    }
   },
   "source": [
    "<div style=\"text-align: right\"> <span style=\"font-size:.3em;\">Image &copy; <a href=\"https://betanalpha.github.io\"> Michael Betancourt</a></span> </div>\n"
   ]
  },
  {
   "cell_type": "markdown",
   "metadata": {
    "slideshow": {
     "slide_type": "subslide"
    }
   },
   "source": [
    "## Issues with Monte Carlo \n",
    "\n",
    "- It is easy to sample from known distributions, especially low dimensional or normal\n",
    "- Complicated distributions are an issue\n",
    "- Importance sampling is an option\n",
    "    - Sample from something that you know (proposal distribution)\n",
    "    - Correct with properly chosen weights\n",
    "    - Strongly depends on quality of proposal"
   ]
  },
  {
   "cell_type": "markdown",
   "metadata": {
    "slideshow": {
     "slide_type": "subslide"
    }
   },
   "source": [
    "## Markov Chain Monte Carlo\n"
   ]
  },
  {
   "cell_type": "markdown",
   "metadata": {},
   "source": [
    "<img src=\"img/typical_set_markov_chain.png\" alt=\"drawing\" width=\"500\"/> "
   ]
  },
  {
   "cell_type": "markdown",
   "metadata": {
    "slideshow": {
     "slide_type": "-"
    }
   },
   "source": [
    "<div style=\"text-align: right\"> <span style=\"font-size:.3em;\">Image &copy; <a href=\"https://betanalpha.github.io\"> Michael Betancourt</a></span> </div>\n"
   ]
  },
  {
   "cell_type": "markdown",
   "metadata": {
    "slideshow": {
     "slide_type": "slide"
    }
   },
   "source": [
    "## Extra reading\n",
    "\n",
    "[Probabilistic Computation by Michael Betancourt](https://betanalpha.github.io/assets/case_studies/probabilistic_computation.html#1_representation_with_computational_taxation)"
   ]
  },
  {
   "cell_type": "code",
   "execution_count": null,
   "metadata": {},
   "outputs": [],
   "source": []
  }
 ],
 "metadata": {
  "celltoolbar": "Slideshow",
  "jupytext": {
   "formats": "ipynb"
  },
  "kernelspec": {
   "display_name": "Python 3",
   "language": "python",
   "name": "python3"
  },
  "language_info": {
   "codemirror_mode": {
    "name": "ipython",
    "version": 3
   },
   "file_extension": ".py",
   "mimetype": "text/x-python",
   "name": "python",
   "nbconvert_exporter": "python",
   "pygments_lexer": "ipython3",
   "version": "3.7.10"
  },
  "rise": {
   "autolaunch": true
  }
 },
 "nbformat": 4,
 "nbformat_minor": 4
}
