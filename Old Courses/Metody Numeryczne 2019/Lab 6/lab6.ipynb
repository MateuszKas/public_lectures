{
 "cells": [
  {
   "cell_type": "markdown",
   "metadata": {},
   "source": [
    "# <center>Laboratorium 6: Interpolacja Funkcjami Sklejanymi<br>Metody Numeryczne</center>"
   ]
  },
  {
   "cell_type": "markdown",
   "metadata": {},
   "source": [
    "Instrukcja:  \n",
    "Na zajęciach należy wykonać poniższe zadania, a następnie sporządzić sprawozdanie zawierające odpowiedzi (w postaci kodu) z komentarzami w środowisku Jupyter Notebook i umieścić je na platformie e-learningowej."
   ]
  },
  {
   "cell_type": "markdown",
   "metadata": {},
   "source": [
    "***Temat główny:***   \n",
    "\n",
    "Dokonaj Interpolacji funkcjami sklejanymi funkcji: \n",
    "    \n",
    "### $ f(x) = \\frac{1}{25x^2+1}$\n",
    "\n",
    "Funkcjami:\n",
    "* Pierwszego stopnia\n",
    "* Trzeciego stopnia\n",
    "\n",
    "W przedziale [-1, 1]"
   ]
  },
  {
   "cell_type": "markdown",
   "metadata": {},
   "source": [
    "***Zadanie 1.***  \n",
    "Wykonaj wykres funckji w przedziale [-1.5, 1.5]"
   ]
  },
  {
   "cell_type": "markdown",
   "metadata": {},
   "source": [
    "***Zadanie 2.***    \n",
    "Korzystając z funkcji z pakietu [scipy.interpolate.spline](https://docs.scipy.org/doc/scipy-0.18.1/reference/generated/scipy.interpolate.spline.html) wykonaj zadanie"
   ]
  },
  {
   "cell_type": "markdown",
   "metadata": {},
   "source": [
    "***Zadanie 3.***  \n",
    "Zaimplementuj interpolacje pierwszego stopnia, której interface odpowiada funkcji spline z pakietu scipy. (xk, yk, xnew, return ndarray) "
   ]
  },
  {
   "cell_type": "markdown",
   "metadata": {},
   "source": [
    "***Zadanie 4.***  \n",
    "Porównaj zaimplementowaną interpolacje pierwszego stopnia z interpolacją pierwszego stopnia z pakietu scipy\n",
    "\n",
    "1. Przedstaw błędy interpolacji\n",
    "2. Przedstaw wnioski"
   ]
  },
  {
   "cell_type": "markdown",
   "metadata": {},
   "source": [
    "***Zadanie 5.***\n",
    "Porównaj interpolacje funkcjami sklejanymi pierwszego rzędu, trzeciego rzędu, oraz interpolacje wielomianową opartą na punktach równoodległych z poprzedniego ćwiczenia\n",
    "\n",
    "1. Przedstaw błędy interpolacji dla każdej z metod\n",
    "2. Przedstaw wnioski"
   ]
  },
  {
   "cell_type": "markdown",
   "metadata": {},
   "source": [
    "***Zadanie 6.***\n",
    "Znajdź w dokumentacji pakietu [scipy.interpolate](https://docs.scipy.org/doc/scipy-0.14.0/reference/interpolate.html) funkcje która pozwoli na policzenie pochodnej funkcji interpolującej. \n",
    "\n",
    "1. Oblicz analitycznie pochodną zadanej funkcji \n",
    "2. Przedstaw na jednym wykresie pochodną dla funkcji interpolującej pierwszego i trzeciego rzędu oraz pochodną obliczoną analitycznie\n",
    "3. Przedstaw błędy dla pierwszej pochodnej\n",
    "4. Przedstaw wnioski"
   ]
  },
  {
   "cell_type": "markdown",
   "metadata": {},
   "source": [
    "***Zadanie 7. (dodatkowe, nieobowiązkowe)***  \n",
    "Zaimplementuj funkcję interpolującą sklejaną trzeciego rzędu [korzystając ze wzorów dostępnych w materiach kursu](https://upel.agh.edu.pl/weaiib/pluginfile.php/9123/mod_page/content/1/_instrukcje/Spline.pdf)\n",
    "\n",
    "1. Porównaj zaimplementowaną funkcję z analogicznymi dostępnymi funkcjami w pakiecie scipy.interpolate\n",
    "   * Jakie dodatkowe funkcjonalnosci są dostępne w funkcjach z tego pakietu?"
   ]
  }
 ],
 "metadata": {
  "kernelspec": {
   "display_name": "Python 3",
   "language": "python",
   "name": "python3"
  },
  "language_info": {
   "codemirror_mode": {
    "name": "ipython",
    "version": 3
   },
   "file_extension": ".py",
   "mimetype": "text/x-python",
   "name": "python",
   "nbconvert_exporter": "python",
   "pygments_lexer": "ipython3",
   "version": "3.7.0"
  }
 },
 "nbformat": 4,
 "nbformat_minor": 2
}
