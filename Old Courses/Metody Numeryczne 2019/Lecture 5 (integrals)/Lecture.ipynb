{
 "cells": [
  {
   "cell_type": "code",
   "execution_count": 20,
   "metadata": {},
   "outputs": [
    {
     "data": {
      "text/html": [
       "<style>\n",
       ".rendered_html table, .rendered_html th, .rendered_html tr, .rendered_html td {\n",
       "     font-size: 100%;\n",
       "}\n",
       "</style>\n"
      ],
      "text/plain": [
       "<IPython.core.display.HTML object>"
      ]
     },
     "metadata": {},
     "output_type": "display_data"
    }
   ],
   "source": [
    "%%HTML\n",
    "<style>\n",
    ".rendered_html table, .rendered_html th, .rendered_html tr, .rendered_html td {\n",
    "     font-size: 100%;\n",
    "}\n",
    "</style>"
   ]
  },
  {
   "cell_type": "markdown",
   "metadata": {
    "slideshow": {
     "slide_type": "slide"
    }
   },
   "source": [
    "# Metody Numeryczne\n",
    "\n",
    "## Całkowanie numeryczne\n",
    "\n",
    "\n",
    "\n",
    "### dr hab. inż. Jerzy Baranowski, Prof.AGH\n"
   ]
  },
  {
   "cell_type": "markdown",
   "metadata": {
    "slideshow": {
     "slide_type": "slide"
    }
   },
   "source": [
    "## Całka oznaczona\n",
    "\n",
    "$$\n",
    "\\int_a^b f(x) \\mathrm{d}x\n",
    "$$\n",
    "\n",
    "Formalnie interesuje nas całka Riemanna, czyli granica ciągu sum Riemanna, niezależna od ciągu podziałów przedziału.\n",
    "\n",
    "W praktyce możemy myśleć o całce względem jednej zmiennej jako polu pod krzywą.\n",
    "\n",
    "Z tego powodu wzory na wyliczanie całek nazywamy kwadraturami."
   ]
  },
  {
   "cell_type": "markdown",
   "metadata": {
    "slideshow": {
     "slide_type": "slide"
    }
   },
   "source": [
    "## Zastosowania całkowania numerycznego\n",
    "\n",
    "- Całkowanie w czasie rzeczywistym.\n",
    "- Całkowanie funkcji jednej zmiennej.\n",
    "- Całkowanie funkcji wielu zmiennych.\n"
   ]
  },
  {
   "cell_type": "markdown",
   "metadata": {
    "slideshow": {
     "slide_type": "slide"
    }
   },
   "source": [
    "## Całkowanie w czasie rzeczywistym\n",
    "\n",
    "Podstawowe zastosowanie całkowania w automatyce - regulacja PI, PID\n",
    "\n",
    "Wraz z pojawieniem się nowego pomiaru wartość całki musi zostać zaktualizowana."
   ]
  },
  {
   "cell_type": "markdown",
   "metadata": {
    "slideshow": {
     "slide_type": "subslide"
    }
   },
   "source": [
    "## Jak praktycznie to liczyć?\n",
    "\n",
    "W zasadzie mamy dostępne trzy wzory - wzory prostokątów i wzór trapezów.\n",
    "\n",
    "Dla ustalenia uwagi interesuje nas całka\n",
    "$$\n",
    "\\int_{t_{k-1}}^{t_k} f(t) \\mathrm{d}t\n",
    "$$"
   ]
  },
  {
   "cell_type": "markdown",
   "metadata": {
    "slideshow": {
     "slide_type": "subslide"
    }
   },
   "source": [
    "## Wzór prostokątów w przód\n",
    "Inaczej metoda Eulera w przód\n",
    "\n",
    "$$\n",
    "\\int_{t_{k-1}}^{t_k} f(t) \\mathrm{d}t\\approx f(t_{k-1})(t_k-t_{k-1})\n",
    "$$\n",
    "\n",
    "dla pomiarów równoodległych (stały krok) $t_k=kh$\n",
    "$$\n",
    "\\int_{t_{k-1}}^{t_k} f(t) \\mathrm{d}t\\approx f((k-1)h)h\n",
    "$$\n",
    "\n",
    "Co odpowiada transmitancji\n",
    "$$\n",
    "\\frac{1}{s}\\approx \\frac{h}{z-1}\n",
    "$$"
   ]
  },
  {
   "cell_type": "markdown",
   "metadata": {
    "slideshow": {
     "slide_type": "subslide"
    }
   },
   "source": [
    "## Wzór prostokątów w tył\n",
    "Inaczej metoda różnic wstecznych\n",
    "\n",
    "$$\n",
    "\\int_{t_{k-1}}^{t_k} f(t) \\mathrm{d}t\\approx f(t_{k})(t_k-t_{k-1})\n",
    "$$\n",
    "\n",
    "dla pomiarów równoodległych (stały krok) $t_k=kh$\n",
    "$$\n",
    "\\int_{t_{k-1}}^{t_k} f(t) \\mathrm{d}t\\approx f((kh)h\n",
    "$$\n",
    "\n",
    "Co odpowiada transmitancji\n",
    "$$\n",
    "\\frac{1}{s}\\approx \\frac{hz}{z-1}\n",
    "$$"
   ]
  },
  {
   "cell_type": "markdown",
   "metadata": {
    "slideshow": {
     "slide_type": "subslide"
    }
   },
   "source": [
    "## Wzór trapezów\n",
    "$$\n",
    "\\int_{t_{k-1}}^{t_k} f(t) \\mathrm{d}t\\approx \\left(\\frac{f(t_{k})+f(t_{k-1})}{2}\\right)(t_k-t_{k-1})\n",
    "$$\n",
    "\n",
    "dla pomiarów równoodległych (stały krok) $t_k=kh$\n",
    "$$\n",
    "\\int_{t_{k-1}}^{t_k} f(t) \\mathrm{d}t\\approx \\frac{h}{2}(f(kh)+f((k-1)h))\n",
    "$$\n",
    "\n",
    "Co odpowiada transmitancji (tzw. aproksymacja Tustina)\n",
    "$$\n",
    "\\frac{1}{s}\\approx \\frac{h}{2}\\frac{z+1}{z-1}\n",
    "$$\n"
   ]
  },
  {
   "cell_type": "markdown",
   "metadata": {
    "slideshow": {
     "slide_type": "subslide"
    }
   },
   "source": [
    "## Różnice\n",
    "Metoda prostokątów w tył i trapezów są generalnie dobre. Jedna i druga metoda jest stabilna (o tym na następnym wykładzie). Metoda trapezów jest bardziej dokładna jej błąd:\n",
    "\n",
    "$$\n",
    "\\text{error} \\leq \\frac{(h)^3}{12} M_2\n",
    "$$\n",
    "gdzie $M_2$ to maksimum modułu drugiej pochodnej $f$ na przedziale $(kh, (k-1)h)$, zaś błąd metody prostokątów w tył\n",
    "\n",
    "$$\n",
    "\\text{error} \\leq -\\frac{(h)^2}{2} M_1\n",
    "$$\n",
    "gdzie $M_1$ to maksimum modułu pierwszej pochodnej $f$ na przedziale $(kh, (k-1)h)$.\n"
   ]
  },
  {
   "cell_type": "markdown",
   "metadata": {
    "slideshow": {
     "slide_type": "slide"
    }
   },
   "source": [
    "## Liczenie całki z funkcji\n",
    "Podobnie jak w przypadku wszystkich innych metod konieczne jest stworzenie modelu (np. wielomianu), z którego jest łatwiej policzyć całkę."
   ]
  },
  {
   "cell_type": "markdown",
   "metadata": {
    "slideshow": {
     "slide_type": "subslide"
    }
   },
   "source": [
    "## Kwadratury interpolacyjne\n",
    "Kwadratury interpolacyjne bazują na przybliżeniu funkcji wielomianem interpolacyjnym. \n",
    "\n",
    "Wyróżniamy:\n",
    "\n",
    "- Kwadratury Newtona-Cotesa (na węzłach równoodległych) (do 4 stopnia mają nazwy - wzór trapezów, wzór Simpsona, wzór Boole'a)\n",
    "- Kwadratura Clenshawa-Curtisa (na węzłach Czebyszewa)\n",
    "- Kwadratura Gaussa-Legendre'a (na węzłach Legendre'a)"
   ]
  },
  {
   "cell_type": "markdown",
   "metadata": {
    "slideshow": {
     "slide_type": "subslide"
    }
   },
   "source": [
    "## Postać kwadratury\n",
    "W praktyce postać kwadratury to\n",
    "$$\n",
    "\\int_{-1}^{1}f(x)\\mathrm{d} x\\approx\\sum_{i=0}^n w_i f(x_i)\n",
    "$$\n",
    "\n",
    "gdzie $x_i$ to węzły kwadratury a $w_i$ to tzw. wagi kwadratury."
   ]
  },
  {
   "cell_type": "markdown",
   "metadata": {
    "slideshow": {
     "slide_type": "subslide"
    }
   },
   "source": [
    "## Ocena jakości kwadratury\n",
    "\n",
    "Dla kwadratury o $n$ węzłach mówimy, że jest rzędu wielomianowego $N$ jesżeli podaje dokładną wartość całki z wielomianów stopnia $N$ i mniejszych."
   ]
  },
  {
   "cell_type": "markdown",
   "metadata": {
    "slideshow": {
     "slide_type": "subslide"
    }
   },
   "source": [
    "## Twierdzenie o rzędzie wielomianowym  kwadratur\n",
    "\n",
    "Dla każdego $n\\geq0$ kwadratura interpolacyjna stopnia $n+1$ jest dokładna dla wielomianów stopnia $n$, przy czym kwadratura Gaussa-Legendre'a jest dokładna dla wielomianów stopnia $2n+1$\n",
    "\n",
    "**Dowód**\n",
    "\n",
    "Dokładność dla wielomianów stopnia $n$ jest oczywista. \n",
    "Dla ustalenia uwagi wielomiany Legendre'a to wielomiany ortogonalne z iloczynem skalnarnym \n",
    "$$\n",
    "f\\circ g=\\int_{-1}^{1}f(x)g(x)\\mathrm{d} x\n",
    "$$\n",
    "węzły Legendre'a to pierwiastki tych wielomianów.\n"
   ]
  },
  {
   "cell_type": "markdown",
   "metadata": {
    "slideshow": {
     "slide_type": "subslide"
    }
   },
   "source": [
    "## Dowód cd..\n",
    "Niech funkcja $f$ będzie wielomianem stopnia $2n+1$. Taką funkcję możńa zapisać w formie\n",
    "$$f(x)=P_{n+1}(x)q_n(x)+r_n(x)$$ gdzie $P_{n+1}$ to wielomian Legendre'a stopnia $n+1$ a $q_n$ i $r_n$ są wielomianami stopnia $n$.\n",
    "\n",
    "$$\n",
    "I=\\int_{-1}^{1}f(x)\\mathrm{d} x=\\int_{-1}^{1}P_{n+1}(x)q_n(x)\\mathrm{d} x+\\int_{-1}^{1}r_n(x)\\mathrm{d} x\n",
    "$$"
   ]
  },
  {
   "cell_type": "markdown",
   "metadata": {
    "slideshow": {
     "slide_type": "subslide"
    }
   },
   "source": [
    "Ponieważ wielomiany Legendre'a są ortogonalne, to pierwsza całka jest równa 0. więc\n",
    "$$\n",
    "I=\\int_{-1}^{1}r_n(x)\\mathrm{d} x\n",
    "$$\n",
    "Ponieważ węzły kwadratury są miejscami zerowymi $P_{n+1}$ to mamy, że $f(x_k)=r(x_k)$. Stąd wartość kwadratury interpolacyjnej dla $f$ i dla $r_n$ będą sobie równe. A ponieważ $r_n$ jest stopnia $n$ to wartość tej kwadratury jest dokłądnie równa wartości całki."
   ]
  },
  {
   "cell_type": "markdown",
   "metadata": {
    "slideshow": {
     "slide_type": "subslide"
    }
   },
   "source": [
    "## Dodatkowe uwagi\n",
    "- Kwadratura Gaussa-Legendra jest najdokładniejsza dla wielomianów, jednak w praktycznym całkowaniu jej przewaga nad kwadraturą Clenshawa-Curtisa (na węzłach Czebyszewa) nie jest taka duża. \n",
    "\n",
    "- Dokładny wynik jest zbyt skomplikowany aby go tu omawiać, ale dla małych $n$ kwadratury zachowują się w praktyce tak samo, dopiero dla bardzo dużych $n$ kwadratura GL staje się dwa razy szybsza. Dla nieregularnych funkcji (nieanalitycznych) różnica ta może być niezauważalna w zakresie dokładności maszynowej."
   ]
  },
  {
   "cell_type": "markdown",
   "metadata": {
    "slideshow": {
     "slide_type": "subslide"
    }
   },
   "source": [
    "## Kwadratura Clenshawa-Curtisa \n",
    "\n",
    "Implementuje się ją przez FFT - kod w Matlabie:\n",
    "\n",
    "```function I = clenshaw_curtis(f,n) \n",
    "% (n+1)-pt C-C quadrature of f x = cos(pi*(0:n)'/n); \n",
    "% Chebyshev points\n",
    "fx = feval(f,x)/(2*n); % f evaluated at these points\n",
    "g = real(fft(fx([1:n+1 n:-1:2]))); % fast Fourier transform\n",
    "a = [g(1); g(2:n)+g(2*n:-1:n+2); g(n+1)]; % Chebyshev coeffs w = 0*a'; w(1:2:end) = 2./(1-(0:2:n).^2); % weight vector\n",
    "I = w*a; % the integral```\n",
    "\n",
    "W  Pythonie jest zaimplementowana jako ```scipy.integrate.quad```\n"
   ]
  },
  {
   "cell_type": "markdown",
   "metadata": {
    "slideshow": {
     "slide_type": "subslide"
    }
   },
   "source": [
    "## Kwadratura Gaussa-Legendra\n",
    "Implementacja przez algorytm Goluba-Wlescha:\n",
    "Pierwiastki wielomianu Legendre'a spełniają równanie \n",
    "$$ J\\tilde{P} = x\\tilde{P} - p_n(x) \\times \\mathbf{e}_n$$\n",
    "gdzie $\\tilde{P} = \\begin{bmatrix} p_0(x) & p_1(x) & \\ldots & p_{n-1}(x) \\end{bmatrix}^\\mathsf{T}$, $\\mathbf{e}_n = \\begin{bmatrix} 0 & \\ldots & 0  & 1 \\end{bmatrix}^\\mathsf{T}$ a $J$ jest macierzą Jacobiego\n",
    "$$\n",
    "\\mathbf{J}=\\begin{pmatrix}\n",
    "     a_0 &      1 &      0 &  \\ldots &  \\ldots &  \\ldots \\\\\n",
    "     b_1 &    a_1 &      1 &       0 &  \\ldots &  \\ldots \\\\\n",
    "       0 &    b_2 &    a_2 &       1 &       0 &  \\ldots \\\\\n",
    "       0 & \\ldots & \\ldots &  \\ldots &  \\ldots &       0 \\\\\n",
    "  \\ldots & \\ldots &      0 & b_{n-2} & a_{n-2} &       1 \\\\\n",
    "  \\ldots & \\ldots & \\ldots &       0 & b_{n-1} & a_{n-1}\n",
    "\\end{pmatrix}\n",
    "$$\n",
    "Wartości własne $J$ są pierwiastkami wielomianów Legendre'a\n"
   ]
  },
  {
   "cell_type": "markdown",
   "metadata": {
    "slideshow": {
     "slide_type": "subslide"
    }
   },
   "source": [
    "## Wyliczanie wag kwadratur\n",
    "Korzystamy z lekko zmodyfikowanej macierzy Jacobiego\n",
    "$$ \\begin{align}\n",
    "                                            \\mathcal{J}_{i,i} = J_{i,i} &= a_{i-1}        && i=1,\\ldots,n \\\\ \n",
    "  \\mathcal{J}_{i-1,i} = \\mathcal{J}_{i,i-1} = \\sqrt{J_{i,i-1}J_{i-1,i}} &= \\sqrt{b_{i-1}} && i=2,\\ldots,n.\n",
    "\\end{align}\n",
    "$$\n",
    "wtedy wagi kwadratury wynikają wprost z wektorów własnych macierzy."
   ]
  },
  {
   "cell_type": "markdown",
   "metadata": {
    "slideshow": {
     "slide_type": "subslide"
    }
   },
   "source": [
    "## Kod w Matlabie\n",
    "```\n",
    "function I = gauss(f,n) % (n+1)-pt Gauss quadrature of f\n",
    "beta = .5./sqrt(1-(2*(1:n)).^(-2)); % 3-term recurrence coeffs \n",
    "T = diag(beta ,1) + diag(beta ,-1); % Jacobi matrix\n",
    "[V,D] = eig(T); % eigenvalue decomposition\n",
    "x = diag(D); \n",
    "[x,i] = sort(x); % nodes (= Legendre points)\n",
    "w = 2*V(1,i).^2; % weights\n",
    "I = w*feval(f,x); % the integral\n",
    "```"
   ]
  },
  {
   "cell_type": "markdown",
   "metadata": {
    "slideshow": {
     "slide_type": "subslide"
    }
   },
   "source": [
    "## Inne kwadratury\n",
    "Generalnie kwadratura Gaussa-Legendrea jest najdokładniejsza.\n",
    "\n",
    "Problem polega na tym, że jeżeli nie jesteśmy pewni jakiego rzędu użyć nie możemy wykorzystywać tych samych wartości wielokrotnie.\n",
    "\n",
    "Potencjalnie problemem jest także to, że węzły Legendre'a nie zaczynają się na krańcach przedziału, więc przy podziale całkowania na podprzedziały nie ma zachowania ciągłości."
   ]
  },
  {
   "cell_type": "markdown",
   "metadata": {
    "slideshow": {
     "slide_type": "subslide"
    }
   },
   "source": [
    "## Kwadratura Lobatto\n",
    "\n",
    "- Modyfikacja kwadratury Gaussa-Legendre'a tak,  aby  pierwszy i ostatni węzeł były na brzegach przedziału.\n",
    "\n",
    "- Dla $n$ węzłów jest dokładna dla wielomianów stopnia $2n-3$ "
   ]
  },
  {
   "cell_type": "markdown",
   "metadata": {
    "slideshow": {
     "slide_type": "subslide"
    }
   },
   "source": [
    "## Kwadratura Gaussa-Konroda\n",
    "\n",
    "- Opiera się na koncepcji tzw. zagnieżdżania. \n",
    "\n",
    "- Pomysł jest taki, aby licząc kwadraturę Gaussa-Legendra wyliczyć dodatkowo wartość funkcji w pewnej liczbie dodatkowych węzłów przedziału. Tak aby za pomocą wszystkich wartości wyliczyć przybliżenie. W ten sposób dostajemy jednocześnie dwa przybliżenia i możemy oszacować błąd.\n",
    "\n",
    "- Dla kwadratury GL rzędu $n$ (rząd przybliżenia $2n-1$) wylicza się dodatkowe $n+1$ węzłów uzyskując przybliżenie rzędu $3n +1$\n"
   ]
  },
  {
   "cell_type": "markdown",
   "metadata": {
    "slideshow": {
     "slide_type": "subslide"
    }
   },
   "source": [
    "## Kwadratury adaptacyjne\n",
    "\n",
    "- W praktycznych obliczeniach, gdy nie wiemy jaki rząd kwadratury dobrać stosujemy kwadratury adaptacyjne.\n",
    "- Jednocześnie na tym samym przedziale liczymy kwadratury dwóch różnych rzędów. \n",
    "- Jeżeli różnica między wartościami jest mała to wynik wyższego rzędu uznajemy za rozwiązanie.\n",
    "- Jeżeli różnica przekracza ustalony próg dzielimy przedział całkowania na podprzedziały (między policzonymi już węzłami) i w każdym z nich stosujemy te same dwie kwadratury.\n",
    "- Proces powtarzamy do osiągnięcia tolerancji w każdym z podprzedziałów"
   ]
  },
  {
   "cell_type": "markdown",
   "metadata": {
    "slideshow": {
     "slide_type": "subslide"
    }
   },
   "source": [
    "## Implementacja kwadratur adaptacyjnych\n",
    "\n",
    "- W Matlabie zaimplementowane są kwadratury oparte o kwadratury Lobatto niskich rzędów opracowane przez W. Gautshiego (funkcja ```quad```)\n",
    "- W Pythonie wykorzystywane są kwadratury Gaussa-Konroda pochodzące z pakietu Fortrana QUADPACK (```scipy.integrate.quadrature```)"
   ]
  },
  {
   "cell_type": "code",
   "execution_count": null,
   "metadata": {},
   "outputs": [],
   "source": []
  }
 ],
 "metadata": {
  "celltoolbar": "Slideshow",
  "kernelspec": {
   "display_name": "Python 3",
   "language": "python",
   "name": "python3"
  },
  "language_info": {
   "codemirror_mode": {
    "name": "ipython",
    "version": 3
   },
   "file_extension": ".py",
   "mimetype": "text/x-python",
   "name": "python",
   "nbconvert_exporter": "python",
   "pygments_lexer": "ipython3",
   "version": "3.7.3"
  }
 },
 "nbformat": 4,
 "nbformat_minor": 2
}
