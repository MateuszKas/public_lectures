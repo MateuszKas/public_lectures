{
 "cells": [
  {
   "cell_type": "markdown",
   "metadata": {},
   "source": [
    "# <center>Laboratorium 3<br>Metod Numerycznych</center>"
   ]
  },
  {
   "cell_type": "markdown",
   "metadata": {},
   "source": [
    "Instrukcja:  \n",
    "Na zajęciach wszystkie zadania na laboratorium wykonywać należy przy użyciu edytora [Spyder](https://www.spyder-ide.org/), sprawozdanie należy wykonać w środowisku [Jupyter Notebook](https://jupyter-notebook.readthedocs.io/en/stable/)  \n",
    "   "
   ]
  },
  {
   "cell_type": "markdown",
   "metadata": {},
   "source": [
    "**Cel zajęć:** Celem zajęć jest zapoznanie się z numerycznymi metodami rozwiązywania układów równań liniowych dla macierzy $\\mathbf{A}$: prostokątnych ($m\\times n$) i [rzadkich](https://pl.wikipedia.org/wiki/Macierz_rzadka). To zadanie algebry liniowej którego zapis macierzowy ma postać:  \n",
    "  \n",
    "$\n",
    "\\mathbf{Ax}=\\mathbf{b}\n",
    "$ \n",
    "  \n",
    "gdzie $\\mathbf{A}$ to macierz współczynników z lewej strony równania, wektor $\\mathbf{x}$ jest wektorem zmiennych a wektor $\\mathbf{b}$ wyników prawej strony równania.  \n",
    "\n",
    "Do oceny jakości rozwiązania będziemy wykorzystywać residuum (ang. *residual*)\n",
    "$\n",
    "\\mathbf{r}=\\mathbf{b}-\\mathbf{Ax}\n",
    "$ \n",
    "  "
   ]
  },
  {
   "cell_type": "markdown",
   "metadata": {},
   "source": [
    "***Zadanie 1***   \n",
    "Dane jest $m = 50$ oraz $n = 12$. Używając funkcji linspace zdefiniuj wektor $\\mathbf{t}$ typu $m\\times 1$, w którym  wartości należą do przedziału $[0,1]$ oraz wektor $\\mathbf{b}$ typu $m \\times 1$, którego wartości dane są funkcją $\\cos(4t)$. Następnie stwórz  macierz $\\mathbf{A}$ daną wzorem:  \n",
    "$\\left[\\begin{matrix}\n",
    "1 & t_0 & t_{0}^{2} & \\cdots & t_{0}^{n-1} \\\\\n",
    "1 & t_1 & t_{1}^{2} & \\cdots & t_{1}^{n-1} \\\\\n",
    "1 & t_2 & t_{2}^{2} & \\cdots & t_{2}^{n-1} \\\\\n",
    "\\vdots & \\cdots & \\ddots & \\cdots & \\vdots \\\\\n",
    "1 & t_{m-1} & t_{m-1}^{2} & \\cdots & t_{m-1}^{n-1} \n",
    "\\end{matrix}\\right]\n",
    "\\left[\\begin{matrix}\n",
    "x_0\\\\\n",
    "x_1\\\\\n",
    "x_2\\\\\n",
    "\\vdots\\\\\n",
    "x_{n-1}\n",
    "\\end{matrix}\\right] =\n",
    "\\left[\\begin{matrix}\n",
    "b_0\\\\\n",
    "b_1\\\\\n",
    "b_2\\\\\n",
    "\\vdots\\\\\n",
    "b_{m-1}\n",
    "\\end{matrix}\\right]\n",
    "$  \n",
    "  \n",
    "**Wskazówka**: Do definicji macierzy $\\mathbf{A}$ można użyć funkcji [vander](https://docs.scipy.org/doc/numpy-1.13.0/reference/generated/numpy.vander.html) oraz [fliplr](https://docs.scipy.org/doc/numpy-1.15.0/reference/generated/numpy.fliplr.html).  \n",
    " \n",
    "  \n",
    "Rozwiąż układ równań $\\mathbf{Ax}=\\mathbf{b}$ za pomocą następujacych metod:\n",
    "1. Przekształcenie układu do postaci: $\\mathbf{A}^{\\mathrm{T}}\\mathbf{Ax}=\\mathbf{A}^{\\mathrm{T}}\\mathbf{b}$  i stosując funkcję solve, z poprzednich zajęć.\n",
    "2. Metody domyślnej Pythona rozwiązywania układów równań z macierzą prostokątną [lstsq](https://docs.scipy.org/doc/numpy-1.13.0/reference/generated/numpy.linalg.lstsq.html#numpy-linalg-lstsq).  \n",
    "3. Metody rozkładu QR rozwiązywania układów równań podanego na wykładzie. Do dokonania rozkładu QR w Pythonie używa się funkcji [qr](https://docs.scipy.org/doc/numpy-1.15.1/reference/generated/numpy.linalg.qr.html), natomiast do rozwiązywania układu równań z macierzą trójkątną służy funkcja [solve_triangular](https://docs.scipy.org/doc/scipy/reference/generated/scipy.linalg.solve_triangular.html)\n",
    "4. Metody rozkładu SVD rozwiązywania układów równań podanego na wykładzie.\n",
    "5. Porównaj czasy wykonania wszystkich metod ze sobą przy pomocy funkcji [now](https://docs.python.org/2/library/datetime.html#datetime-objects)\n",
    "6. Porównaj jakość otrzymanych wyników"
   ]
  },
  {
   "cell_type": "markdown",
   "metadata": {},
   "source": [
    "***Zadanie 2***  \n",
    "Utwórz macierz $\\mathbf{A}$ o wymiarach $500 \\times 500$ w następujący sposób:\n",
    "1. Umieść na diagonalnej same jedynki.\n",
    "2. Pozostałe miejsca w macierzy uzupełnij losowymi liczbami z przedziału $[-1,1]$ tak by $\\mathbf{A} = \\mathbf{A}^{\\mathrm{T}}$\n",
    "3. W opracowywanej macierzy zastąp zerem wszystkie wartości które spełniają warunek $|a_{ij}|> \\tau$, poza tymi które znajdują się na diagonalnej.\n",
    "\n",
    "**Wskazówka:** Do szybkiej konstrukcji macierzy $\\mathbf{A}$ można wykorzystać funkcje: [ones](https://docs.scipy.org/doc/numpy-1.15.1/reference/generated/numpy.ones.html),[diag](https://docs.scipy.org/doc/numpy-1.15.1/reference/generated/numpy.diag.html?highlight=diag#numpy.diag), [uniform](https://docs.scipy.org/doc/numpy-1.15.1/reference/generated/numpy.random.uniform.html?highlight=uniform#numpy.random.uniform),[tril](https://docs.scipy.org/doc/numpy-1.13.0/reference/generated/numpy.tril.html),[logical_not](https://docs.scipy.org/doc/numpy-1.15.1/reference/generated/numpy.logical_not.html?highlight=logical_not#numpy.logical_not)\n",
    "\n",
    "Po wygenerowaniu macierzy $\\mathbf{A}$ wylosuj wektor $\\mathbf{b}$ o odpowiednich wymiarach którego wartości również należą do  przedziału $[-1,1]$ i tworzy on układ:\n",
    "  \n",
    "$\n",
    "\\mathbf{Ax}=\\mathbf{b}\n",
    "$ \n",
    "  \n",
    "Wykonaj następujące zadania:\n",
    "1. Sprawdź, jak zachouje się uwarunkowanie macierzy w zależności od wartości $\\tau=\\{ 0.01,0.05,0.1,0.2,0.5,0.75\\}$. Narysuj wykres zależności wartości uwarunkowania macierzy od wartości $\\tau$.\n",
    "2. Dla wszystkich $\\tau$ rozwiąż układ równań przy pomocy funkcji solve.\n",
    "3. Dla wszystkich $\\tau$ rozwiąż układ równań przy pomocy rozkładu LU (w Pythonie funkcja [lu])(https://docs.scipy.org/doc/scipy-0.13.0/reference/generated/scipy.linalg.lu.html).\n",
    "4. Za pomocą funkcji [csr_matrix](https://docs.scipy.org/doc/scipy/reference/generated/scipy.sparse.csr_matrix.html#scipy.sparse.csr_matrix) utwórz [macierze rzadkie](https://pl.wikipedia.org/wiki/Macierz_rzadka) bazujące na macierzach $\\mathbf{A}$ uzyskanych w punkcie 1. Następnie dla otrzymanych macierzy za pomocą funkcji [bicg](https://docs.scipy.org/doc/scipy/reference/generated/scipy.sparse.linalg.bicg.html) będącą implementacją [metody gradientu sprzężonego](https://pl.wikipedia.org/wiki/Metoda_gradientu_sprz%C4%99%C5%BConego) oraz funcji [gmres](https://docs.scipy.org/doc/scipy/reference/generated/scipy.sparse.linalg.gmres.html), która jest implementacją [Generalized minimal residual method](https://en.wikipedia.org/wiki/Generalized_minimal_residual_method) rozwiązać układ równań.\n",
    "5. Sprawdź jak uwarunkowanie macierzy wpływa na jakość rozwiązania układu przez wszystkie metody oraz na czas ich wykonania. Swoje obserwacje przedstaw na odpowiednich wykresach."
   ]
  },
  {
   "cell_type": "markdown",
   "metadata": {},
   "source": [
    "Materiały uzupełniające:\n",
    "- [Scipy Lecture Notes](http://www.scipy-lectures.org/index.html)\n",
    "- [NumPy for Matlab users](https://docs.scipy.org/doc/numpy/user/numpy-for-matlab-users.html#numpy-for-matlab-users)\n",
    "- [Python Tutorial - W3Schools](https://www.w3schools.com/python/default.asp)\n",
    "- [NumPy](https://www.numpy.org)\n",
    "- [Matplotlib](https://matplotlib.org/)\n",
    "- [Anaconda](https://www.anaconda.com/)\n",
    "- [Learn Python for Data Science](https://www.datacamp.com/learn-python-with-anaconda?utm_source=Anaconda_download&utm_campaign=datacamp_training&utm_medium=banner)\n",
    "- [Learn Python](https://www.learnpython.org/)\n",
    "- [Wujek Google](https://google.pl) i [Ciocia Wikipedia](https://pl.wikipedia.org/wiki/Wikipedia:Strona_g%C5%82%C3%B3wna)"
   ]
  }
 ],
 "metadata": {
  "kernelspec": {
   "display_name": "Python 3",
   "language": "python",
   "name": "python3"
  },
  "language_info": {
   "codemirror_mode": {
    "name": "ipython",
    "version": 3
   },
   "file_extension": ".py",
   "mimetype": "text/x-python",
   "name": "python",
   "nbconvert_exporter": "python",
   "pygments_lexer": "ipython3",
   "version": "3.7.3"
  }
 },
 "nbformat": 4,
 "nbformat_minor": 2
}
