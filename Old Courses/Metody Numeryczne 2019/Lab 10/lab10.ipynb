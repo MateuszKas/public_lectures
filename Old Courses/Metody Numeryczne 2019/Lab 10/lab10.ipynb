{
 "cells": [
  {
   "cell_type": "markdown",
   "metadata": {},
   "source": [
    "# <center>Laboratorium 10: Aproksymacja</center>"
   ]
  },
  {
   "cell_type": "markdown",
   "metadata": {},
   "source": [
    "Instrukcja:  \n",
    "Na zajęciach należy wykonać poniższe zadania, a następnie sporządzić sprawozdanie zawierające odpowiedzi (w postaci kodu) z komentarzami w środowisku Jupyter Notebook i umieścić je na platformie e-learningowej."
   ]
  },
  {
   "cell_type": "markdown",
   "metadata": {},
   "source": [
    "***Zadanie 1.***  \n",
    "Napisz funkcję liczącą błąd średniokwadratowy dla dwóch wektorów o tej samej liczbie elementów.\n",
    "\n",
    "$e(A,A') = \\sqrt{\\sum{(A-A')^2}}$"
   ]
  },
  {
   "cell_type": "markdown",
   "metadata": {},
   "source": [
    "***Zadanie 2.***    \n",
    "Dla poniższej funkcji:\n",
    "\n",
    "$ f(x) = 3x - 1$\n",
    "\n",
    "wygeneruj zaszumiony zbiór 20 węzłów aproksymacji na przedziale $[-5,5]$.\n",
    "Następnie korzystając z metody [polyfit](https://docs.scipy.org/doc/numpy-1.15.0/reference/generated/numpy.polyfit.html) wyznacz wielomian aproksymujący stopnia 1.\n",
    "\n",
    "Na wykresie zamieść węzły aproksymacji oraz wykres otrzymanego wielomianu aproksymującego te węzły."
   ]
  },
  {
   "cell_type": "markdown",
   "metadata": {},
   "source": [
    "***Zadanie 3.***  \n",
    "Dla poniższysch węzłów aproksymacji znajdź wielomian aproksymujący optymalnego stopnia (deg < 10):\n",
    "\n",
    "$x = \\begin{bmatrix}0\\\\1\\\\2\\\\3\\\\4\\\\5\\\\6\\\\7\\\\8\\\\9\\end{bmatrix} \\quad y = \\begin{bmatrix}-5.975\\\\-2.634\\\\2.7\\\\-6.494\\\\-3.543\\\\-25.017\\\\-24.79\\\\-45.42\\\\-64.172\\\\-79.554\\end{bmatrix}$\n",
    "\n",
    "\n",
    "Na wykresie zamieść węzły aproksymacji oraz wykresy kolejnych aproxsymacji."
   ]
  }
 ],
 "metadata": {
  "kernelspec": {
   "display_name": "Python 3",
   "language": "python",
   "name": "python3"
  },
  "language_info": {
   "codemirror_mode": {
    "name": "ipython",
    "version": 3
   },
   "file_extension": ".py",
   "mimetype": "text/x-python",
   "name": "python",
   "nbconvert_exporter": "python",
   "pygments_lexer": "ipython3",
   "version": "3.6.7"
  }
 },
 "nbformat": 4,
 "nbformat_minor": 2
}
