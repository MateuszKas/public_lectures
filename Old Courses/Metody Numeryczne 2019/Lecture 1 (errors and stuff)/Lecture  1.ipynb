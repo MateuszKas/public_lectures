{
 "cells": [
  {
   "cell_type": "code",
   "execution_count": 1,
   "metadata": {
    "slideshow": {
     "slide_type": "skip"
    }
   },
   "outputs": [
    {
     "data": {
      "text/html": [
       "<style>\n",
       ".rendered_html table, .rendered_html th, .rendered_html tr, .rendered_html td {\n",
       "     font-size: 100%;\n",
       "}\n",
       "</style>\n"
      ],
      "text/plain": [
       "<IPython.core.display.HTML object>"
      ]
     },
     "metadata": {},
     "output_type": "display_data"
    }
   ],
   "source": [
    "%%HTML\n",
    "<style>\n",
    ".rendered_html table, .rendered_html th, .rendered_html tr, .rendered_html td {\n",
    "     font-size: 100%;\n",
    "}\n",
    "</style>"
   ]
  },
  {
   "cell_type": "markdown",
   "metadata": {
    "slideshow": {
     "slide_type": "slide"
    }
   },
   "source": [
    "# Metody Numeryczne\n",
    "\n",
    "## Elementy analizy numerycznej\n",
    "\n",
    "### dr hab. inż. Jerzy Baranowski, Prof. AGH.\n"
   ]
  },
  {
   "cell_type": "markdown",
   "metadata": {
    "slideshow": {
     "slide_type": "skip"
    }
   },
   "source": [
    "## Informacje ogólne\n",
    "- Katedra Automatyki i Robotyki, C3, p. 214\n",
    "- Konsultacje \n",
    "    - Czwartki 11:00-12:00\n",
    "    (o ile nie ma Kolegium Wydziałowego lub seminarium)\n",
    "- jb@agh.edu.pl\n",
    "- wykłady dostępne tutaj: https://github.com/KAIR-ISZ/public_lectures"
   ]
  },
  {
   "cell_type": "markdown",
   "metadata": {
    "slideshow": {
     "slide_type": "slide"
    }
   },
   "source": [
    "# Reprezentacja liczb"
   ]
  },
  {
   "cell_type": "markdown",
   "metadata": {
    "slideshow": {
     "slide_type": "slide"
    }
   },
   "source": [
    "![](img/meme.jpg)"
   ]
  },
  {
   "cell_type": "markdown",
   "metadata": {
    "slideshow": {
     "slide_type": "subslide"
    }
   },
   "source": [
    "## Kod binarny\n",
    "\n",
    "- Zapis liczby z wykorzystaniem dwóch symboli **1** i **0**\n",
    "- Podstawa współczesnego sposobu reprezentacji informacji\n"
   ]
  },
  {
   "cell_type": "markdown",
   "metadata": {
    "slideshow": {
     "slide_type": "subslide"
    }
   },
   "source": [
    "## Zamierzchła historia\n",
    "\n",
    "- Pingala, Chandaḥśāstra i Prozodia\n",
    "    - Ok. 4 wiek pne\n",
    "    - Wykorzystanie zapisu w formie zer i jedynek do opisu metrum\n",
    "- Chiny, hexagramy, Shao Yong, I-Ching\n",
    "- Leibniz"
   ]
  },
  {
   "cell_type": "markdown",
   "metadata": {
    "slideshow": {
     "slide_type": "subslide"
    }
   },
   "source": [
    "## Algebra Boole'a\n",
    "\n",
    "$$\n",
    "\\begin{align}\n",
    "x \\land y & = xy & \\mathsf{Koniunkcja}\\\\\n",
    "x \\lor y & = x+y-xy & \\mathsf{Alternatywa}\\\\\n",
    "\\neg x & =1-x & \\mathsf{Negacja}\\\\\n",
    "x \\rightarrow y & = (\\neg x\\lor y) & \\mathsf{Implikacja}\\\\\n",
    "x \\oplus y & = (x \\lor y)\\land\\neg(x\\land y) & \\mathsf{EXOR}\\\\\n",
    "x = y & = \\neg(x\\oplus y) & \\mathsf{Równoważność}\\\\\n",
    "\\end{align}\n",
    "$$"
   ]
  },
  {
   "cell_type": "markdown",
   "metadata": {
    "slideshow": {
     "slide_type": "subslide"
    }
   },
   "source": [
    "## Nieco mniej zamierzchła historia\n",
    "- 1937 Shannon – przekaźnikowa realizacja operacji binarnych i algebry Boole’a\n",
    "- 1937 Stibitz – Pierwszy komputer przekaźnikowy (dodawanie)"
   ]
  },
  {
   "cell_type": "markdown",
   "metadata": {
    "slideshow": {
     "slide_type": "slide"
    }
   },
   "source": [
    "## Kod binarny\n",
    "| **0**   | **0**   | **1**   | **0**   | **1**   | **0**   | **1**   | **1**   |\n",
    "|---------|---------|---------|---------|---------|---------|---------|---------|\n",
    "| $2^{7}$ | $2^{6}$ | $2^{5}$ | $2^{4}$ | $2^{3}$ | $2^{2}$ | $2^{1}$ | $2^{0}$ |\n",
    "\n",
    "Co daje $ =2^5+2^3+2^1+2^0=32+8+2+1=43$"
   ]
  },
  {
   "cell_type": "markdown",
   "metadata": {
    "slideshow": {
     "slide_type": "subslide"
    }
   },
   "source": [
    "## Liczby naturalne\n",
    "- Ogólnie zakres od 0 do 2<sup>n</sup>-1\n",
    "- 8 bit – zakres od 0 do 255\n",
    "- 16 bit – zakres od 0 do 65,535 (short, int)\n",
    "- 32 bit – zakres od 0 do 4,294,967,295 (long)\n",
    "\n",
    "W Pythonie i matlabie za bardzo nie przejmujemy się typami, chyba że je wymusimy"
   ]
  },
  {
   "cell_type": "markdown",
   "metadata": {
    "slideshow": {
     "slide_type": "subslide"
    }
   },
   "source": [
    "## Operacje na liczbach binarnych\n",
    "\n",
    "- Dodawanie\n",
    "    - 0+0=0\n",
    "    - 0+1=1\n",
    "    - 1+0=1\n",
    "    - 1+1=0, przenieś 1\n",
    "- Jak w dodawaniu pisemnym\n",
    "\n",
    "``​ 1 1 1 1 1   ``(cyfry przenoszone)  \n",
    "``​   0 1 1 0 1 ``(13<sub>10</sub>)  \n",
    "``​+  1 0 1 1 1 ``(23<sub>10</sub>)  \n",
    "``​------------ ``  \n",
    "``​=1 0 0 1 0 0 `` (36<sub>10</sub>)"
   ]
  },
  {
   "cell_type": "markdown",
   "metadata": {
    "slideshow": {
     "slide_type": "subslide"
    }
   },
   "source": [
    "## Operacje na liczbach binarnych\n",
    "\n",
    "- Odejmowanie\n",
    "    - 0-0=0\n",
    "    - 0-1=1, pożyczka 1\n",
    "    - 1-0=1\n",
    "    - 1-1=0,\n",
    "- Analogicznie\n",
    "\n",
    "``​    *   * * *  ``(pożyczki)  \n",
    "``​  1 1 0 1 1 1 0``(110<sub>10</sub>)  \n",
    "``​-     1 0 1 1 1``(23<sub>10</sub>)  \n",
    "``​--------------- ``  \n",
    "``​= 1 0 1 0 1 1 1`` (87<sub>10</sub>)"
   ]
  },
  {
   "cell_type": "markdown",
   "metadata": {
    "slideshow": {
     "slide_type": "subslide"
    }
   },
   "source": [
    "## Co z liczbami ujemnymi?\n",
    "\n",
    "Uzupełniamy zapis o tzw. bit znaku\n",
    "\n",
    "| **1**   | **0**   | **1**   | **0**   | **1**   | **0**   | **1**   | **1**   |\n",
    "|---------|---------|---------|---------|---------|---------|---------|---------|\n",
    "| S       | $2^{6}$ | $2^{5}$ | $2^{4}$ | $2^{3}$ | $2^{2}$ | $2^{1}$ | $2^{0}$ |\n",
    "\n",
    "Co daje $ =(-1)^1(2^3+2^1+2^0)=-(8+2+1)=-11$\n",
    "\n",
    "Zmieniają się zakresy:\n",
    "- 8 bit (-128 do 127)\n",
    "- 16 bit (−32,768 do 32,767)\n",
    "- itd"
   ]
  },
  {
   "cell_type": "markdown",
   "metadata": {
    "slideshow": {
     "slide_type": "subslide"
    }
   },
   "source": [
    "## Problemy\n",
    "\n",
    "- Niepraktyczny zapis\n",
    "- Trzeba przekodowywać wyniki operacji\n",
    "- Potencjalnie podatniejsze na błędy"
   ]
  },
  {
   "cell_type": "markdown",
   "metadata": {
    "slideshow": {
     "slide_type": "subslide"
    }
   },
   "source": [
    "## Kod uzupełnienia do 2 (U2)\n",
    "| **1**   | **1**   | **1**   | **1**   | **1**   | **0**   | **1**   | **1**   |\n",
    "|---------|---------|---------|---------|---------|---------|---------|---------|\n",
    "| $-2^{7}$| $2^{6}$ | $2^{5}$ | $2^{4}$ | $2^{3}$ | $2^{2}$ | $2^{1}$ | $2^{0}$ |\n",
    "\n",
    "Co daje $ =-2^7+2^6+2^5+2^4+2^3+2^1+2^0$\n",
    "\n",
    "$=-128+64+32+16+8+2+1=-5$"
   ]
  },
  {
   "cell_type": "markdown",
   "metadata": {
    "slideshow": {
     "slide_type": "subslide"
    }
   },
   "source": [
    "## Bardzo łatwa konwersja\n",
    "- Liczby dodatnie są takie same jak były\n",
    "- Aby zamienić liczbę na jej przeciwną wystarczy zanegować wszystkie bity i do wyniku dodać 1 (*w obie strony*)\n",
    "\n",
    "| **0**    | **0**   | **0**   | **0**   | **0**   | **1**   | **0**   | **1**   | 5<sub>10</sub>  | oryginał  |\n",
    "|----------|---------|---------|---------|---------|---------|---------|---------|-----------------|-----------|\n",
    "| 1    | 1   | 1   | 1   | 1   | 0   | 1   | 0   |                 | negacja   |\n",
    "| **1**    | **1**   | **1**   | **1**   | **1**   | **0**   | **1**   | **1**   | -5<sub>10</sub> | dodanie 1 |\n",
    "| 0    | 0   | 0   | 0   | 0   | 1   | 0   | 0   |                 | negacja   |\n",
    "| **0**    | **0**   | **0**   | **0**   | **0**   | **1**   | **0**   | **1**   | 5<sub>10</sub>  | dodanie 1 |\n",
    "| -$2^{7}$ | $2^{6}$ | $2^{5}$ | $2^{4}$ | $2^{3}$ | $2^{2}$ | $2^{1}$ | $2^{0}$ |                 |           |"
   ]
  },
  {
   "cell_type": "markdown",
   "metadata": {
    "slideshow": {
     "slide_type": "subslide"
    }
   },
   "source": [
    "## Jaka z tego korzyść?\n",
    "- Odejmowanie staje się dodawaniem (prawie)\n",
    "$$ A - B = A + \\neg B + 1$$\n",
    "- Przykład 13 – 7 (na 8 bitach)\n",
    "\n",
    "``​  1 1 1 1     1  ``(cyfry przenoszone)  \n",
    "``​  0 0 0 0 1 1 0 1``(13<sub>10</sub>)  \n",
    "``​  1 1 1 1 1 0 0 0``(zanegowane 7<sub>10</sub>)  \n",
    "``​+               1``(jedynka)  \n",
    "``​-----------------``  \n",
    "``​= 0 0 0 0 0 1 1 0`` (6<sub>10</sub>)  "
   ]
  },
  {
   "cell_type": "markdown",
   "metadata": {
    "slideshow": {
     "slide_type": "subslide"
    }
   },
   "source": [
    "## Operacje na liczbach binarnych\n",
    "Mnożenie również przypomina mnożenie pisemne\n",
    "\n",
    "``​          1 0 1 1`` 11<sub>10</sub>  \n",
    "``​        * 1 0 1 0`` 10<sub>10</sub>  \n",
    "``​      -----------``  \n",
    "``​          0 0 0 0``  \n",
    "``​  +     1 0 1 1   ``  \n",
    "``​  +   0 0 0 0``  \n",
    "``​  + 1 0 1 1``  \n",
    "``​  ---------------``  \n",
    "``​  = 1 1 0 1 1 1 0`` 110<sub>10</sub>\n"
   ]
  },
  {
   "cell_type": "markdown",
   "metadata": {
    "slideshow": {
     "slide_type": "slide"
    }
   },
   "source": [
    "# Metody Numeryczne\n",
    "\n",
    "## Reprezentacja liczb wymiernych\n",
    "\n",
    "### dr hab. inż. Jerzy Baranowski, Prof. AGH."
   ]
  },
  {
   "cell_type": "markdown",
   "metadata": {
    "slideshow": {
     "slide_type": "subslide"
    }
   },
   "source": [
    "## A co z ułamkami?\n",
    "Są dwa sposoby zapisu liczb niecałkowitych\n",
    "- Stałoprzecinkowy (stałopozycyjny)\n",
    "- Zmiennoprzecinkowy (zmiennopozycyjny)"
   ]
  },
  {
   "cell_type": "markdown",
   "metadata": {
    "slideshow": {
     "slide_type": "subslide"
    }
   },
   "source": [
    "## Zapis stałoprzecinkowy\n",
    "| **1**   | **0**   | **1**   | **1**   | **1**   | **0**   | **0**   | **0**   |\n",
    "|---------|---------|---------|---------|---------|---------|---------|---------|\n",
    "| $2^{1}$ | $2^{0}$ | $2^{-1}$ | $2^{-2}$ | $2^{-3}$ | $2^{-4}$ | $2^{-5}$ | $2^{-6}$ |\n",
    "\n",
    "$$\n",
    "2^1+2^{-1}+2^{-2}+2^{-3}=2+\\frac{1}{2}+\\frac{1}{4}+\\frac{1}{8}=2.875\n",
    "$$\n",
    "\n"
   ]
  },
  {
   "cell_type": "markdown",
   "metadata": {
    "slideshow": {
     "slide_type": "subslide"
    }
   },
   "source": [
    "## Zalety zapisu stałoprzecinkowego\n",
    "- Nie ma różnicy w kodowaniu\n",
    "- Mamy stale określoną dokładność, którą możemy w miarę dokładnie kształtować\n",
    "- Stosunkowa prostota\n",
    "- Małe wymagania sprzętowe"
   ]
  },
  {
   "cell_type": "markdown",
   "metadata": {
    "slideshow": {
     "slide_type": "subslide"
    }
   },
   "source": [
    "## Wady zapisu stałoprzecinkowego\n",
    "Problemy z dokładnością, np. nie da się dokładnie przedstawić liczby 0.1\n",
    "- Na 3 bitach części ułamkowej różnica wynosi 0.025\n",
    "- Na 7 bitach części ułamkowej różnica wynosi ok. 0.001 \n"
   ]
  },
  {
   "cell_type": "markdown",
   "metadata": {
    "slideshow": {
     "slide_type": "subslide"
    }
   },
   "source": [
    "## Jak wykonujemy działania?\n",
    "- Działania wykonujemy traktując zapis liczby stałoprzecinkowej jako normalną binarną\n",
    "- Kod U2 dalej działa\n",
    "- Należy pamiętać, że wtedy liczba jest pomnożona przez 2<sup>n</sup> gdzie n to ilość bitów części ułamkowej \n",
    "- W liczbach poddanych działaniu liczba bitów części całkowitej i ułamkowej musi być równa"
   ]
  },
  {
   "cell_type": "markdown",
   "metadata": {
    "slideshow": {
     "slide_type": "subslide"
    }
   },
   "source": [
    "## Działania stałoprzecinkowe\n",
    "- Dodawanie wykonujemy identycznie\n",
    "- W przypadku mnożenia wynik musimy podzielić przez 2<sup>n</sup> \n",
    "- Mnożenie liczb stałoprzecinkowych przez potęgę 2 polega tylko na przesuwaniu bitów (bardzo proste w realizacji)\n",
    "\n",
    "| 1             | 0             | 1   | 1   | 1   | 0   | 0   | 0   |   |\n",
    "|---------------|---------------|-----|-----|-----|-----|-----|-----|---|\n",
    "| 0             | 0             | 1   | 0   | 1   | 1   | 1   | 0   | Podzielenie przez $2^{2}$  |\n",
    "| $2^{1}$ | $2^{0}$ | $2^{-1}$ | $2^{-2}$ | $2^{-3}$ | $2^{-4}$ | $2^{-5}$ | $2^{-6}$ ||"
   ]
  },
  {
   "cell_type": "markdown",
   "metadata": {
    "slideshow": {
     "slide_type": "slide"
    }
   },
   "source": [
    "## Format zmiennoprzecinkowy\n",
    "- Bardziej zaawansowany sposób przedstawiania liczb\n",
    "- Ustandaryzowany normą IEEE\n",
    "- Dający pod pewnymi względami większą dokładność"
   ]
  },
  {
   "cell_type": "markdown",
   "metadata": {
    "slideshow": {
     "slide_type": "subslide"
    }
   },
   "source": [
    "## Format zmiennoprzecinkowy\n",
    "\n",
    "Reprezentacja liczby\n",
    "\n",
    "$$\n",
    "x=S\\cdot M\\cdot B^E\n",
    "$$\n",
    "\n",
    "- S – znak (*sign*)\n",
    "- M – mantysa (*mantissa*, także *fraction*)\n",
    "- B – podstawa (*base*, zazwyczaj 2, rzadziej 10)\n",
    "- E - wykładnik (*exponent*)"
   ]
  },
  {
   "cell_type": "markdown",
   "metadata": {
    "slideshow": {
     "slide_type": "subslide"
    }
   },
   "source": [
    "## Mantysa\n",
    "- Liczba odpowiadająca za ułamkową część zapisu\n",
    "- Format stałoprzecinkowy, zazwyczaj liczba z przedziału [1,2)"
   ]
  },
  {
   "cell_type": "markdown",
   "metadata": {
    "slideshow": {
     "slide_type": "subslide"
    }
   },
   "source": [
    "## Podstawa i wykładnik\n",
    "\n",
    "- Pozwalają na określenie szerokiego zakresu\n",
    "- Ze względu na kodowanie, zazwyczaj podstawa to 2\n",
    "- Wykładnik może być ujemny lub dodatni.\n",
    "- Wykładnik koduje się w U2, lub też wprowadza się przesunięcie"
   ]
  },
  {
   "cell_type": "markdown",
   "metadata": {
    "slideshow": {
     "slide_type": "subslide"
    }
   },
   "source": [
    "## Działania na liczbach zmiennoprzecinkowych\n",
    "Dodawanie i odejmowanie\n",
    "\n",
    "$$\n",
    "x_1\\pm x_2=\\left(M_1\\pm M_2\\cdot B^{E_2-E_1}\\right)\\cdot B^{E_1}\n",
    "$$\n",
    "\n",
    "Mnożenie i dzielenie\n",
    "\n",
    "$$\n",
    "x_1\\cdot x_2=(S_1\\cdot S_2)\\cdot (M_1\\cdot M_2)\\cdot B^{E_1+E_2}\n",
    "$$\n",
    "\n",
    "$$\n",
    "x_1 / x_2=(S_1\\cdot S_2)\\cdot (M_1/ M_2)\\cdot B^{E_1-E_2}\n",
    "$$\n",
    "\n"
   ]
  },
  {
   "cell_type": "markdown",
   "metadata": {
    "slideshow": {
     "slide_type": "subslide"
    }
   },
   "source": [
    "## Dzielenie\n",
    "- Mając możliwość zapisu liczby ulamkowej można sformułować operację dzielenia.\n",
    "- Istnieje wiele algorytmów np.\n",
    "    - *restoring division*\n",
    "    - *non-restoring division*\n",
    "    - SRT\n",
    "    - algorytm Newtona-Raphsona\n",
    "    - algorytm Goldschmidta\n",
    "- Są one już zaimplementowane, jedno dzielenie zazwyczaj wymaga przeprowadzenia 3-4 mnożeń\n"
   ]
  },
  {
   "cell_type": "markdown",
   "metadata": {
    "slideshow": {
     "slide_type": "slide"
    }
   },
   "source": [
    "## Ważne formaty – IEEE Single precision\n",
    "![](img/single_precision.png)\n",
    "- 8 bitów wykładnika, wykładnik przesunięty o 127 (zamiana z -126 do 127 na 1 do 244)\n",
    "- 24 bity mantysy, ale zawsze koduje się tylko 23 po kropce, przed kropką jest 1 \n",
    "- Specjalne zapisy nieskończoności i błędów\n",
    "- w NumPy - ``float32``"
   ]
  },
  {
   "cell_type": "markdown",
   "metadata": {
    "slideshow": {
     "slide_type": "subslide"
    }
   },
   "source": [
    "## Ważne formaty – IEEE Double precision\n",
    "![](img/double-precision.png)\n",
    "- 11 bitów wykładnika, wykładnik przesunięty o 1023 (zamiana z -1022 do 1023 na 1 do 2046)\n",
    "- 53 bity mantysy, ale zawsz koduje się tylko 52 po kropce, przed kropką jest 1 \n",
    "- Specjalne zapisy nieskończoności i błędów\n",
    "- w NumPy - ``float64``, ale w zasadzie każda liczba w Pythonie i Matlabie to double, chyba że wymusimy inaczej"
   ]
  },
  {
   "cell_type": "markdown",
   "metadata": {
    "slideshow": {
     "slide_type": "slide"
    }
   },
   "source": [
    "## Wyświetlanie liczb\n",
    "- Normalnie \n",
    "- Notacja inżynierska\n",
    "    - $3700=3.7\\cdot10^3$, $0.12=120\\cdot10^{-3}$\n",
    "- Notacja naukowa\n",
    "    - ``3700=3.7E3``, ``0.12=1.2E-1``"
   ]
  },
  {
   "cell_type": "markdown",
   "metadata": {
    "slideshow": {
     "slide_type": "slide"
    }
   },
   "source": [
    "# Metody Numeryczne\n",
    "\n",
    "## Błedy numeryczne\n",
    "\n",
    "### dr hab. inż. Jerzy Baranowski, Prof. AGH."
   ]
  },
  {
   "cell_type": "markdown",
   "metadata": {
    "slideshow": {
     "slide_type": "slide"
    }
   },
   "source": [
    "## Podstawowe definicje\n",
    "Wartość dokładna\n",
    "$$y=\\tilde{y}+\\varepsilon$$\n",
    "- $\\tilde{y}$ - wartość przybliżona\n",
    "- $\\varepsilon$ - błąd"
   ]
  },
  {
   "cell_type": "markdown",
   "metadata": {
    "slideshow": {
     "slide_type": "subslide"
    }
   },
   "source": [
    "## Błąd bezwzględny\n",
    "Wartość bezwzględna różnicy między rozwiązaniem dokładnym i przybliżonym\n",
    "$$ \\varepsilon=|y-\\tilde{y}|$$"
   ]
  },
  {
   "cell_type": "markdown",
   "metadata": {
    "slideshow": {
     "slide_type": "-"
    }
   },
   "source": [
    "## Błąd względny\n",
    "Stosunek błędu bezwzględnego do wartości bezwzględnej rozwiązania\n",
    "$$\\eta=\\frac{|y-\\tilde{y}|}{|y|}=\\left|\\frac{y-\\tilde{y}}{y}\\right|=\\left|1-\\frac{\\tilde{y}}{y}\\right|$$\n",
    "Czasami błąd względny wyrażamy w procentach"
   ]
  },
  {
   "cell_type": "markdown",
   "metadata": {
    "slideshow": {
     "slide_type": "subslide"
    }
   },
   "source": [
    "## Przykłady\n",
    "Pierwiastek kwadratowy ze 122\n",
    "\n",
    "$$\n",
    "\\begin{align}\n",
    "y{}&=\\sqrt{122}\\approx 11.04536\\\\\n",
    "\\tilde{y}{}&=11\\\\\n",
    "\\varepsilon{}&=|y-\\tilde{y}|=0.04536\\\\\n",
    "\\eta{}&=\\frac{|y-\\tilde{y}|}{|y|}=0.00411\n",
    "\\end{align}\n",
    "$$"
   ]
  },
  {
   "cell_type": "markdown",
   "metadata": {
    "slideshow": {
     "slide_type": "subslide"
    }
   },
   "source": [
    "## Przykłady\n",
    "Liczba obywateli Polski (stan na ostatni spis powszechny z 2011)\n",
    "\n",
    "$$\n",
    "\\begin{align}\n",
    "y{}&=38\\ 538\\ 447\\\\\n",
    "\\tilde{y}{}&=38\\ 500\\ 000\\\\\n",
    "\\varepsilon{}&=|y-\\tilde{y}|=38\\ 447\\\\\n",
    "\\eta{}&=\\frac{|y-\\tilde{y}|}{|y|}=9.97627\\cdot10^{-4}\\approx 0.001\n",
    "\\end{align}\n",
    "$$"
   ]
  },
  {
   "cell_type": "markdown",
   "metadata": {
    "slideshow": {
     "slide_type": "subslide"
    }
   },
   "source": [
    "## Przykłady\n",
    "Obliczanie stałej grawitacji\n",
    "$$\n",
    "\\begin{align}\n",
    "y{}&=6.673841\\cdot10^{-11}\\\\\n",
    "\\tilde{y}{}&=6.7\\cdot10^{-11}\\\\\n",
    "\\varepsilon{}&=|y-\\tilde{y}|=2.6159\\cdot10^{-13}\\\\\n",
    "\\eta{}&=\\frac{|y-\\tilde{y}|}{|y|}=0.00391\n",
    "\\end{align}\n",
    "$$"
   ]
  },
  {
   "cell_type": "markdown",
   "metadata": {
    "slideshow": {
     "slide_type": "slide"
    }
   },
   "source": [
    "## Źródła błędów\n",
    "Błędy powstające przy formułowaniu zagadnienia\n",
    "- Błędy pomiaru\n",
    "- Błędy wynikające z przyjęcia określonych przybliżeń opisu zjawisk fizycznych\n",
    "\n",
    "Błędy powstające przy obliczeniach\n",
    "- Błędy grube (pomyłki)\n",
    "- Błędy metody (obcięcia)\n",
    "- Błędy zaokrągleń"
   ]
  },
  {
   "cell_type": "markdown",
   "metadata": {
    "slideshow": {
     "slide_type": "slide"
    }
   },
   "source": [
    "## Błędy grube\n",
    "- Błąd przy wpisywaniu wzoru do komputera\n",
    "np. ``x=A/b`` zamiast ``x=A\\b``\n",
    "- Zła implementacja algorytmu\n",
    "- Niewłaściwa kolejność wykonywania działań"
   ]
  },
  {
   "cell_type": "markdown",
   "metadata": {
    "slideshow": {
     "slide_type": "slide"
    }
   },
   "source": [
    "## Błędy metody (obcięcia)\n",
    "- Błędy obcięcia są nieodłącznym elementem obliczeń numerycznych.\n",
    "- Błąd obcięcia jest to błąd wynikający z tego, że do uzyskania dokładnego rozwiązania potrzebujemy wykonać nieskończenie wiele obliczeń"
   ]
  },
  {
   "cell_type": "markdown",
   "metadata": {
    "slideshow": {
     "slide_type": "subslide"
    }
   },
   "source": [
    "## Przykłady błędów metody\n",
    "Można wykazać, że\n",
    "$$\n",
    "\\begin{align}\n",
    "\\sin x={}&x-\\frac{x^3}{3!}+\\frac{x^5}{5!}-\\frac{x^7}{7!}+\\ldots=\\\\\n",
    "={}&\\sum\\limits_{n=0}^\\infty(-1)^n\\frac{x^{2n+1}}{(2n+1)!}\n",
    "\\end{align}\n",
    "$$\n",
    "Błędem odcięcia będzie \n",
    "$$\n",
    "\\sin x\\approx x-\\frac{x^3}{3!}+\\frac{x^5}{5!}\n",
    "$$"
   ]
  },
  {
   "cell_type": "markdown",
   "metadata": {
    "slideshow": {
     "slide_type": "subslide"
    }
   },
   "source": [
    "## Przykłady błędów metody\n",
    "\n",
    "Metoda bisekcji"
   ]
  },
  {
   "cell_type": "code",
   "execution_count": 2,
   "metadata": {
    "slideshow": {
     "slide_type": "-"
    }
   },
   "outputs": [],
   "source": [
    "def bisection(f,a,b,N):    \n",
    "    a_n = a\n",
    "    b_n = b\n",
    "    for n in range(1,N+1):\n",
    "        m_n = (a_n + b_n)/2\n",
    "        f_m_n = f(m_n)\n",
    "        if f(a_n)*f_m_n < 0:\n",
    "            a_n = a_n\n",
    "            b_n = m_n\n",
    "        elif f(b_n)*f_m_n < 0:\n",
    "            a_n = m_n\n",
    "            b_n = b_n\n",
    "    return (a_n + b_n)/2"
   ]
  },
  {
   "cell_type": "markdown",
   "metadata": {
    "slideshow": {
     "slide_type": "subslide"
    }
   },
   "source": [
    "Szukamy pierwiastka wielomianu $x^2-2$, w przedziale $[1,2]$. Rozwiązanie to $\\sqrt{2}$."
   ]
  },
  {
   "cell_type": "code",
   "execution_count": 3,
   "metadata": {
    "slideshow": {
     "slide_type": "-"
    }
   },
   "outputs": [
    {
     "data": {
      "text/plain": [
       "1.421875"
      ]
     },
     "execution_count": 3,
     "metadata": {},
     "output_type": "execute_result"
    }
   ],
   "source": [
    "f = lambda x: x**2 - 2 # definicja funkcji\n",
    "bisection(f,1,2,5) # 5 kroków"
   ]
  },
  {
   "cell_type": "code",
   "execution_count": 4,
   "metadata": {},
   "outputs": [
    {
     "data": {
      "text/plain": [
       "1.41455078125"
      ]
     },
     "execution_count": 4,
     "metadata": {},
     "output_type": "execute_result"
    }
   ],
   "source": [
    "bisection(f,1,2,10) # 10 kroków"
   ]
  },
  {
   "cell_type": "code",
   "execution_count": 5,
   "metadata": {},
   "outputs": [
    {
     "data": {
      "text/plain": [
       "1.4141998291015625"
      ]
     },
     "execution_count": 5,
     "metadata": {},
     "output_type": "execute_result"
    }
   ],
   "source": [
    "bisection(f,1,2,15) # 15 kroków"
   ]
  },
  {
   "cell_type": "code",
   "execution_count": 6,
   "metadata": {},
   "outputs": [
    {
     "data": {
      "text/plain": [
       "1.4142135623730951"
      ]
     },
     "execution_count": 6,
     "metadata": {},
     "output_type": "execute_result"
    }
   ],
   "source": [
    "import numpy as np\n",
    "np.sqrt(2) "
   ]
  },
  {
   "cell_type": "markdown",
   "metadata": {
    "slideshow": {
     "slide_type": "subslide"
    }
   },
   "source": [
    "## Błąd metody - podsumowanie\n",
    "- Praktycznie wszystkie metody numeryczne mają jakiś błąd metody\n",
    "- Dobre algorytmy podają jednak jego oszacowanie, w ten sposób wiemy jak daleko jesteśmy od rozwiązania nawet jak przerwiemy obliczenia"
   ]
  },
  {
   "cell_type": "markdown",
   "metadata": {
    "slideshow": {
     "slide_type": "slide"
    }
   },
   "source": [
    "# Metody Numeryczne\n",
    "\n",
    "## Błędy zaokrągleń\n",
    "\n",
    "### dr hab. inż. Jerzy Baranowski, Prof. AGH."
   ]
  },
  {
   "cell_type": "markdown",
   "metadata": {
    "slideshow": {
     "slide_type": "subslide"
    }
   },
   "source": [
    "## Błędy zaokrągleń\n",
    "Kolejne nieusuwalne w pełni źródło błędów, nad którym mamy mniejszą kontrolę niż nad błędem metody"
   ]
  },
  {
   "cell_type": "markdown",
   "metadata": {
    "slideshow": {
     "slide_type": "subslide"
    }
   },
   "source": [
    "## Zaokrąglenie i cyfry znaczące\n",
    "Liczba $\\tilde{y}=\\mathrm{rd}(y)$ jest poprawnie zaokrąglona do *d* miejsc po przecinku, jeżeli \n",
    "\n",
    "$$\n",
    "\\varepsilon=|y-\\tilde{y}|\\leq\\frac{1}{2}\\cdot10^{-d}\n",
    "$$\n",
    "*k*-tą cyfrę dziesiętną liczby $\\tilde{y}$ nazwiemy znaczącą gdy\n",
    "$$|y-\\tilde{y}|\\leq\\frac{1}{2}\\cdot10^{-k}$$\n",
    "oraz \n",
    "$$|\\tilde{y}|\\geq10^{-k}\n",
    "$$"
   ]
  },
  {
   "cell_type": "markdown",
   "metadata": {
    "slideshow": {
     "slide_type": "subslide"
    }
   },
   "source": [
    "## Rzeczywiste obliczenia zmiennoprzecinkowe\n",
    "$$\n",
    "\\begin{align}\n",
    "\\mathrm{fl}(x+y)={}&\\mathrm{rd}(x+y)\\\\\n",
    "\\mathrm{fl}(x-y)={}&\\mathrm{rd}(x-y)\\\\\n",
    "\\mathrm{fl}(x\\cdot y)={}&\\mathrm{rd}(x\\cdot y)\\\\\n",
    "\\mathrm{fl}(x/y)={}&\\mathrm{rd}(x/y)\\\\\n",
    "\\end{align}\n",
    "$$"
   ]
  },
  {
   "cell_type": "markdown",
   "metadata": {
    "slideshow": {
     "slide_type": "subslide"
    }
   },
   "source": [
    "## Liczby maszynowe\n",
    "- Liczba maszynowa, to taka liczba jaką można przedstawić w komputerze. Zbiór tych liczb oznaczamy A\n",
    "- Dokładność maszynową (epsilon maszynowy) – eps, $\\varepsilon_m$,  definiujemy:\n",
    "$$\n",
    "\\mathrm{eps}=\\min\\{x\\in{A}\\colon \\mathrm{fl}(1+x)>1,\\ x>0\\}\n",
    "$$\n",
    "Innymi słowy, jest to najmniejsza liczba, którą możemy dodać do 1, aby uzyskać coś większego od 1. "
   ]
  },
  {
   "cell_type": "markdown",
   "metadata": {
    "slideshow": {
     "slide_type": "subslide"
    }
   },
   "source": [
    "## Epsilon maszynowy w różnych formatach\n",
    "\n",
    "Zależy on od liczby bitów na część ułamkową\n",
    "- Single precision $\\varepsilon_m=2^{-24}\\approx 5.96\\cdot10^{-8}$\n",
    "- Double precision $\\varepsilon_m=2^{-52}\\approx 1.11\\cdot10^{-16}$\n",
    "\n",
    "### Przykład"
   ]
  },
  {
   "cell_type": "code",
   "execution_count": 7,
   "metadata": {},
   "outputs": [
    {
     "data": {
      "text/plain": [
       "(True, False)"
      ]
     },
     "execution_count": 7,
     "metadata": {},
     "output_type": "execute_result"
    }
   ],
   "source": [
    "a=10**(-15)\n",
    "b=10**(-17)\n",
    "1+a>1,1+b>1"
   ]
  },
  {
   "cell_type": "markdown",
   "metadata": {
    "slideshow": {
     "slide_type": "subslide"
    }
   },
   "source": [
    "## Maksymalny błąd reprezentacji\n",
    "Dla każdej liczby rzeczywistej $x$ istnieje taka liczba $\\varepsilon$, taka że $|\\varepsilon|<\\varepsilon_m$, że\n",
    "$\\mathrm{fl}(x)=x(1+\\varepsilon)$\n",
    "\n",
    "Oznacza to, że **błąd względny między liczbą rzeczywistą, a jej najbliższą reprezentacją zmiennoprzecinkową jest zawsze mniejszy od $\\varepsilon_m$**"
   ]
  },
  {
   "cell_type": "markdown",
   "metadata": {
    "slideshow": {
     "slide_type": "subslide"
    }
   },
   "source": [
    "## Lemat Wilkinsona\n",
    "Błedy zaokrągleń powstałe podczas wykonywania działań zmiennoprzecinkowych są równoważne zastępczemu zaburzeniu liczb, na których wykonujemy działania \n",
    "\n",
    "$$\n",
    "\\begin{align}\n",
    "\\mathrm{fl}(x+y)={}&(x+y)(1+\\varepsilon_1)\\\\\n",
    "\\mathrm{fl}(x-y)={}&(x-y)(1+\\varepsilon_2)\\\\\n",
    "\\mathrm{fl}(x\\cdot y)={}&(x\\cdot y)(1+\\varepsilon_3)\\\\\n",
    "\\mathrm{fl}(x/y)={}&(x/y)(1+\\varepsilon_4)\\\\\n",
    "|\\varepsilon_i|<{}&\\varepsilon_m\n",
    "\\end{align}\n",
    "$$\n",
    "(dla każdej pary liczb $x,\\ y$ zaburzenia zastępcze $\\varepsilon_i$ są inne)"
   ]
  },
  {
   "cell_type": "markdown",
   "metadata": {
    "slideshow": {
     "slide_type": "subslide"
    }
   },
   "source": [
    "## Konsekwencja lematu Wilkinsona\n",
    "Prawa łączności i rozdzielności operacji matematycznych są ogólnie nieprawdziwe dla obliczeń zmiennoprzecinkowych\n",
    "\n",
    "### Przykład"
   ]
  },
  {
   "cell_type": "code",
   "execution_count": 8,
   "metadata": {},
   "outputs": [
    {
     "name": "stdout",
     "output_type": "stream",
     "text": [
      "[2.3371258e-05, 33.67843, -33.67781]\n"
     ]
    }
   ],
   "source": [
    "a=np.float32(0.23371258*10**(-4))\n",
    "b=np.float32(0.33678429*10**(2))\n",
    "c=np.float32(-0.33677811*10**(2))\n",
    "print([a,b,c])"
   ]
  },
  {
   "cell_type": "markdown",
   "metadata": {},
   "source": [
    "Chcemy obliczyć ``a+b+c``"
   ]
  },
  {
   "cell_type": "markdown",
   "metadata": {
    "slideshow": {
     "slide_type": "subslide"
    }
   },
   "source": [
    "## Obliczenia"
   ]
  },
  {
   "cell_type": "code",
   "execution_count": 9,
   "metadata": {
    "slideshow": {
     "slide_type": "-"
    }
   },
   "outputs": [
    {
     "name": "stdout",
     "output_type": "stream",
     "text": [
      "0.0006413522\n"
     ]
    }
   ],
   "source": [
    "## Podejście 1\n",
    "d=b+c\n",
    "wynik_1=a+d\n",
    "print(wynik_1)"
   ]
  },
  {
   "cell_type": "code",
   "execution_count": 10,
   "metadata": {
    "slideshow": {
     "slide_type": "-"
    }
   },
   "outputs": [
    {
     "name": "stdout",
     "output_type": "stream",
     "text": [
      "0.00064086914\n"
     ]
    }
   ],
   "source": [
    "## Podejście 2\n",
    "e=a+b\n",
    "wynik_2=e+c\n",
    "print(wynik_2)"
   ]
  },
  {
   "cell_type": "markdown",
   "metadata": {
    "slideshow": {
     "slide_type": "subslide"
    }
   },
   "source": [
    "## Co tu się porobiło?\n",
    "![](img/wat.png)"
   ]
  },
  {
   "cell_type": "markdown",
   "metadata": {
    "slideshow": {
     "slide_type": "subslide"
    }
   },
   "source": [
    "## Konsekwencje obliczen zmiennoprzecinkowych"
   ]
  },
  {
   "cell_type": "code",
   "execution_count": 11,
   "metadata": {
    "slideshow": {
     "slide_type": "-"
    }
   },
   "outputs": [
    {
     "name": "stdout",
     "output_type": "stream",
     "text": [
      "0.7658294 -15\n",
      "0.52622545 6\n",
      "-0.5262158 6\n"
     ]
    }
   ],
   "source": [
    "m_a, e_a = np.frexp(a)\n",
    "print(m_a,e_a)\n",
    "m_b,e_b = np.frexp(b)\n",
    "print(m_b,e_b)\n",
    "m_c,e_c = np.frexp(c)\n",
    "print(m_c,e_c)"
   ]
  },
  {
   "cell_type": "markdown",
   "metadata": {},
   "source": [
    "Wykładnik ``a`` od wykładników ``b`` i ``c`` różni się o 21. Oznacza to, że z 23 bitów mantysy liczby ``a`` po sprowadzeniu do wspólnego wykładnika z ``b`` zostaną nam tylko 2 najbardziej znaczące. "
   ]
  },
  {
   "cell_type": "markdown",
   "metadata": {
    "slideshow": {
     "slide_type": "subslide"
    }
   },
   "source": [
    "## Konsekwencje cd..\n",
    "Jeżeli dodajemy małą liczbę do dużej, zawsze musimy się liczyć z zaokrągleniem i to normalne. W tym przypadku jednak dwie duże liczby ``b`` i ``c`` są przeciwnych znaków i bliskie co do wartości bezwzględnej. Wynik tego działania:"
   ]
  },
  {
   "cell_type": "code",
   "execution_count": 12,
   "metadata": {},
   "outputs": [
    {
     "name": "stdout",
     "output_type": "stream",
     "text": [
      "0.6328125 -10\n",
      "0.00064086914\n"
     ]
    }
   ],
   "source": [
    "m_d,e_d = np.frexp(d)\n",
    "print(m_d,e_d)\n",
    "print(wynik_2)"
   ]
  },
  {
   "cell_type": "markdown",
   "metadata": {},
   "source": [
    "W konsekwencji dodając ``a`` do ``d`` na zaokrągleniu stracimy jedynie 5 bitów mantysy ``a``."
   ]
  },
  {
   "cell_type": "markdown",
   "metadata": {
    "slideshow": {
     "slide_type": "subslide"
    }
   },
   "source": [
    "## O ile się pomyliliśmy (w stosunku do dokładniejszych obliczeń)"
   ]
  },
  {
   "cell_type": "code",
   "execution_count": 13,
   "metadata": {},
   "outputs": [
    {
     "name": "stdout",
     "output_type": "stream",
     "text": [
      "Metoda 1: Błąd bezwzględny   1.91e-08, Błąd względny   2.97e-05\n",
      "Metoda 2: Błąd bezwzględny   5.02e-07, Błąd względny   7.83e-04\n"
     ]
    }
   ],
   "source": [
    "a_dbl=(0.23371258*10**(-4))\n",
    "b_dbl=(0.33678429*10**(2))\n",
    "c_dbl=(-0.33677811*10**(2))\n",
    "d_dbl=b_dbl+c_dbl\n",
    "wynik_dbl=a_dbl+d_dbl\n",
    "epsilon_1=np.abs((wynik_1)-wynik_dbl)\n",
    "eta_1=epsilon_1/np.abs(wynik_dbl)\n",
    "print(\"Metoda 1: Błąd bezwzględny %10.2e, Błąd względny %10.2e\"%(epsilon_1,eta_1))\n",
    "epsilon_2=np.abs((wynik_2)-wynik_dbl)\n",
    "eta_2=epsilon_2/np.abs(wynik_dbl)\n",
    "print(\"Metoda 2: Błąd bezwzględny %10.2e, Błąd względny %10.2e\"%(epsilon_2,eta_2))\n",
    "\n"
   ]
  },
  {
   "cell_type": "markdown",
   "metadata": {
    "slideshow": {
     "slide_type": "slide"
    }
   },
   "source": [
    "# Przenoszenie się błędów zaokrągleń\n",
    "Korzystając z rachunku różniczkowego (różniczkowa analiza błędów) możemy podać wzór na przenoszenie się błędów.\n",
    "\n",
    "Niech $y=\\varphi(x_1,\\ x_2,,\\ldots\\ x_n)$ będzie wielkością, którą chcemy obliczyć a $x_i$ są zaokrąglone z błędem $\\varepsilon_{x_i}$. Błąd względny wyliczania $y$ wynosi w przybliżeniu:\n",
    "\n",
    "$$\n",
    "\\varepsilon_y = \\sum_{i=0}^n \\frac{x_i}{\\varphi(\\mathbf{x})}\n",
    "\\cdot \\frac{\\partial\\varphi(\\mathbf{x})}{\\partial x_i}\\cdot\\varepsilon_{x_i}\n",
    "$$\n",
    "\n"
   ]
  },
  {
   "cell_type": "markdown",
   "metadata": {
    "slideshow": {
     "slide_type": "subslide"
    }
   },
   "source": [
    "# Nieunikniony błąd obliczeń\n",
    "Ze względu na zaokrąglenia pewnych błędów nigdy nie unikniemy. Nieunikniony błąd wartości składa się z błędu wyliczenia wartości (przeniesienia błędów) oraz samego błędu zaokrąglenia:\n",
    "\n",
    "$$\n",
    "\\frac{\\Delta y}{y} = \\epsilon_y + \\mathrm{eps}\n",
    "$$"
   ]
  },
  {
   "cell_type": "markdown",
   "metadata": {
    "slideshow": {
     "slide_type": "subslide"
    }
   },
   "source": [
    "## Przykład\n",
    "Wyliczanie pierwiastka równania kwadratowego $y^2+2py-q=0$ o mniejszej wartości bezwzględnej:\n",
    "$$ y=-p+\\sqrt{p^2+q} $$\n",
    "można policzyć, że \n",
    "$$\n",
    "\\varepsilon_y=-\\frac{p}{\\sqrt{p^2-q}}\\varepsilon_p+\\frac{p+\\sqrt{p^2-q}}{2\\sqrt{p^2-q}}\\varepsilon_q\n",
    "$$"
   ]
  },
  {
   "cell_type": "markdown",
   "metadata": {
    "slideshow": {
     "slide_type": "subslide"
    }
   },
   "source": [
    "## Analiza błędu nieuniknionego\n",
    "Ponieważ dla $q>0$ mamy\n",
    "\n",
    "$$\n",
    "\\left|\\frac{p}{\\sqrt{p^2-q}}\\right|\\leq1,\\quad \\left|\\frac{p+\\sqrt{p^2-q}}{2\\sqrt{p^2-q}}\\right|\\leq1\n",
    "$$\n",
    "to wtedy mamy (przyjmując, że nie zachodzi $p^2\\approx q$)\n",
    "$$\n",
    "\\mathrm{eps}\\leq\\left|\\frac{\\Delta y}{y}\\right| = |\\epsilon_y + \\mathrm{eps}|\\leq 3 \\mathrm{eps}\n",
    "$$"
   ]
  },
  {
   "cell_type": "markdown",
   "metadata": {
    "slideshow": {
     "slide_type": "subslide"
    }
   },
   "source": [
    "## Porównanie algorytmów\n",
    "Rozpartrzmy dwa sposoby wyliczania $y$ dla $p$ i $q$ mniejszych od zera\n",
    "\n",
    "$$\n",
    "\\begin{aligned}\n",
    "s:={}&p^2\\\\\n",
    "t:={}&s+q\\\\\n",
    "u:={}&\\sqrt{t}\\\\\n",
    "y:={}&-p+q\n",
    "\\end{aligned}\n",
    "\\quad \\quad \\quad \\quad\n",
    "\\begin{aligned}\n",
    "s:={}&p^2\\\\\n",
    "t:={}&s+q\\\\\n",
    "u:={}&\\sqrt{t}\\\\\n",
    "v:={}&p+u\\\\\n",
    "y:={}&q/v\n",
    "\\end{aligned}\n",
    "$$\n"
   ]
  },
  {
   "cell_type": "markdown",
   "metadata": {
    "slideshow": {
     "slide_type": "subslide"
    }
   },
   "source": [
    "## Algorytm 1\n",
    "Podstawowym źródłem błędu będzie wzmocnienie błędu zaokrąglenia wyliczania pierwiastka z $t$ poprzez odejmowanie dwóch liczb przy wyliczaniu $y$\n",
    "$$\\varepsilon_y=\\frac{p\\sqrt{p^2+q}+p^2+q}{q}\\varepsilon=\\kappa\\varepsilon$$\n",
    "$\\kappa$ można oszacować z dołu, przez \n",
    "$$\n",
    "\\kappa>\\frac{2 p^2}{q} >0\n",
    "$$\n",
    "co oznacza, że dla małych $q$ błąd obliczeń będzie dużo większy niż błąd nieunikniony.\n"
   ]
  },
  {
   "cell_type": "markdown",
   "metadata": {
    "slideshow": {
     "slide_type": "subslide"
    }
   },
   "source": [
    "## Algorytm 2\n",
    "W tym algorytmie zakokrąglenie przez odejmowanie nie wystąpi\n",
    "\n",
    "$$\n",
    "\\varepsilon_y = -\\frac{\\sqrt{p^2+q}}{p+\\sqrt{p^2+q}}\\varepsilon = \\kappa\\varepsilon\n",
    "$$\n",
    "w tym przypadku zawsze $|\\kappa|<1$."
   ]
  },
  {
   "cell_type": "code",
   "execution_count": 18,
   "metadata": {
    "slideshow": {
     "slide_type": "subslide"
    }
   },
   "outputs": [],
   "source": [
    "def algorytm_1(p,q):\n",
    "    s=p**2\n",
    "    t=s+q\n",
    "    u=np.sqrt(t)\n",
    "    return u-p\n",
    "\n",
    "def algorytm_2(p,q):\n",
    "    s=p**2\n",
    "    t=s+q\n",
    "    u=np.sqrt(t)\n",
    "    v=p+u\n",
    "    return q/v"
   ]
  },
  {
   "cell_type": "markdown",
   "metadata": {
    "slideshow": {
     "slide_type": "subslide"
    }
   },
   "source": [
    "# Porównanie obliczeń"
   ]
  },
  {
   "cell_type": "code",
   "execution_count": 39,
   "metadata": {
    "slideshow": {
     "slide_type": "-"
    }
   },
   "outputs": [],
   "source": [
    "p=1000\n",
    "q=0.018000000081\n",
    "exact_sol=np.max(np.roots([1,2*p,-q]))"
   ]
  },
  {
   "cell_type": "code",
   "execution_count": 40,
   "metadata": {
    "slideshow": {
     "slide_type": "skip"
    }
   },
   "outputs": [],
   "source": [
    "epsilon_1=np.abs((algorytm_1(p,q))-exact_sol)\n",
    "eta_1=epsilon_1/np.abs(exact_sol)\n",
    "epsilon_2=np.abs((algorytm_2(p,q))-exact_sol)\n",
    "eta_2=epsilon_2/np.abs(exact_sol)"
   ]
  },
  {
   "cell_type": "code",
   "execution_count": 41,
   "metadata": {
    "slideshow": {
     "slide_type": "-"
    }
   },
   "outputs": [
    {
     "name": "stdout",
     "output_type": "stream",
     "text": [
      "Algorytm 1\n",
      "8.999999977277184e-06\n",
      "Algorytm 2\n",
      "9e-06\n",
      "Rozwiązanie dokładne\n",
      "9e-06\n",
      "Algorytm 1: Błąd bezwzględny   2.27e-14, Błąd względny   2.52e-09\n",
      "Algorytm 2: Błąd bezwzględny   0.00e+00, Błąd względny   0.00e+00\n"
     ]
    }
   ],
   "source": [
    "print('Algorytm 1')\n",
    "print(algorytm_1(p,q))\n",
    "print('Algorytm 2')\n",
    "print(algorytm_2(p,q))\n",
    "print('Rozwiązanie dokładne')\n",
    "print(exact_sol)\n",
    "print(\"Algorytm 1: Błąd bezwzględny %10.2e, Błąd względny %10.2e\"%(epsilon_1,eta_1))\n",
    "print(\"Algorytm 2: Błąd bezwzględny %10.2e, Błąd względny %10.2e\"%(epsilon_2,eta_2))"
   ]
  },
  {
   "cell_type": "markdown",
   "metadata": {
    "slideshow": {
     "slide_type": "slide"
    }
   },
   "source": [
    "# Metody Numeryczne\n",
    "\n",
    "## Ocena algorytmów numerycznych\n",
    "\n",
    "### dr hab. inż. Jerzy Baranowski, Prof. AGH."
   ]
  },
  {
   "cell_type": "markdown",
   "metadata": {
    "slideshow": {
     "slide_type": "subslide"
    }
   },
   "source": [
    "## Notacja O duże\n",
    "- Mówimy, że dla wielkości zależnej od parametru np. $F(n)$ zachodzi\n",
    "$$ \n",
    "F(n)=O(G(n))\n",
    "$$\n",
    "jeżeli istnieje taka stała $C$, że przy $n$ zmierzającym do nieskończoności (odpowiednio dużym), mamy\n",
    "$$F(n)≤C G(n)$$\n",
    "- Jeżeli interesuje nas $O(c)$, gdzie $c$ jest stałą, zależność ta ma zachodzić niezależnie od wielkości parametru.\n",
    "- Mówimy potocznie, gdy błąd jest równy $O(n^2)$, że błąd jest rzędu $n^2$\n",
    "  "
   ]
  },
  {
   "cell_type": "markdown",
   "metadata": {
    "slideshow": {
     "slide_type": "subslide"
    }
   },
   "source": [
    "## Ocena algorytmu\n",
    "- Naszym celem jest obliczenie pewnej wielkości $f(x)$, zależnej od danych wejściowych $x$\n",
    "- W przypadku obliczeń komputerowych zawsze mamy do czynienia z obliczaniem przybliżonym stąd algorytm obliczania $f(x)$ będziemy oznaczać jako $f^*(x)$\n",
    "- Dane w komputerze również są reprezentowane w sposób zaokrąglony, więc będziemy je oznaczać jako $x^*$"
   ]
  },
  {
   "cell_type": "markdown",
   "metadata": {
    "slideshow": {
     "slide_type": "subslide"
    }
   },
   "source": [
    "## Uwarunkowanie problemu\n",
    "\n",
    "- Mówimy, że problem $f(x)$ jest dobrze uwarunkowany, jeżeli mała zmiana $x$ powoduje małą zmianę w $f(x)$\n",
    "- Problem jest źle uwarunkowany, jeżeli mała zmiana $x$ powoduje dużą zmianę w $f(x)$\n",
    "- Miarą uwarunkowania jest stała $\\kappa$ (kappa), która (nieformalnie) określa największy iloraz zaburzeń $f(x)$  wywołanych przez najmniejsze zaburzenia $x$.\n",
    "- Stałą $\\kappa$ można wyliczyć tylko w niektórych probemach"
   ]
  },
  {
   "cell_type": "markdown",
   "metadata": {
    "slideshow": {
     "slide_type": "subslide"
    }
   },
   "source": [
    "## Dokładność algorytmu\n",
    "- Algorytm jest dokładny, jeżeli\n",
    "$$\n",
    "\\frac{\\Vert f^*(x)-f(x) \\Vert}{\\Vert f(x)\\Vert}=O(\\varepsilon_m)\n",
    "$$\n",
    "- Zagwarantowanie, że algorytm jest dokładny wg tej definicji jest niezwykle trudne, zwłaszcza dla źle uwarunkowanych problemów"
   ]
  },
  {
   "cell_type": "markdown",
   "metadata": {
    "slideshow": {
     "slide_type": "subslide"
    }
   },
   "source": [
    "## Stabilność algorytmu\n",
    "\n",
    "Mówimy, że algorytm jest stabilny, gdy dla każdego $x$, zachodzi\n",
    "$$\n",
    "\\frac{\\Vert f^*(x)-f(x^*) \\Vert}{\\Vert f(x^*)\\Vert}=O(\\varepsilon_m)\n",
    "$$\n",
    "dla takich $x^*$, że\n",
    "$$\\frac{\\Vert x-x^* \\Vert}{\\Vert x\\Vert}=O(\\varepsilon_m)$$\n",
    "Innymi słowy\n",
    "**Stabilny algorytm daje prawie dobrą odpowiedź na prawie dobre pytanie**"
   ]
  },
  {
   "cell_type": "markdown",
   "metadata": {
    "slideshow": {
     "slide_type": "subslide"
    }
   },
   "source": [
    "## Stabilność wsteczna algorytmu\n",
    "Algorytm jest stabilny wstecznie, jeżeli dla każdego $x$, zachodzi\n",
    "$$f^*(x)=f(x^*)$$\n",
    "dla takich $x^*$, że\n",
    "$$\\frac{\\Vert x-x^* \\Vert}{\\Vert x\\Vert}=O(\\varepsilon_m)$$\n",
    "Innymi słowy\n",
    "**Stabilny wstecznie algorytm daje prawidłową odpowiedź na prawie dobre pytanie**\n",
    "\n",
    "\n",
    "\n"
   ]
  },
  {
   "cell_type": "markdown",
   "metadata": {
    "slideshow": {
     "slide_type": "subslide"
    }
   },
   "source": [
    "## Dokładność algorytmów stabilnych wstecznie przy złym uwarunkowaniu\n",
    "Jeśli algorytm jest stabilny wstecznie, to jego błąd względny pogarsza się proporcjonalnie do stałej uwarunkowania tj. $O(\\kappa\\varepsilon_m)$"
   ]
  },
  {
   "cell_type": "markdown",
   "metadata": {
    "slideshow": {
     "slide_type": "slide"
    }
   },
   "source": [
    "# Metody Numeryczne\n",
    "\n",
    "## Problemy techniczne\n",
    "\n",
    "### dr hab. inż. Jerzy Baranowski, Prof. AGH."
   ]
  }
 ],
 "metadata": {
  "celltoolbar": "Slideshow",
  "kernelspec": {
   "display_name": "Python 3",
   "language": "python",
   "name": "python3"
  },
  "language_info": {
   "codemirror_mode": {
    "name": "ipython",
    "version": 3
   },
   "file_extension": ".py",
   "mimetype": "text/x-python",
   "name": "python",
   "nbconvert_exporter": "python",
   "pygments_lexer": "ipython3",
   "version": "3.7.6"
  },
  "rise": {
   "enable_chalkboard": true
  }
 },
 "nbformat": 4,
 "nbformat_minor": 2
}
