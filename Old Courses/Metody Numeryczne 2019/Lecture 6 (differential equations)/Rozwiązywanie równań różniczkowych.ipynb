{
 "cells": [
  {
   "cell_type": "markdown",
   "metadata": {
    "slideshow": {
     "slide_type": "slide"
    }
   },
   "source": [
    "# Metody Numeryczne\n",
    "\n",
    "## Rozwiązywanie równań różniczkowych\n",
    "\n",
    "\n",
    "\n",
    "### dr hab. inż. Jerzy Baranowski, Prof.AGH"
   ]
  },
  {
   "cell_type": "markdown",
   "metadata": {
    "slideshow": {
     "slide_type": "slide"
    }
   },
   "source": [
    "## Isaac Newton\n",
    "\n",
    "*Data aequatione quodcunque fluentes quantitiae involvente fluxiones invenire et vice versa* 24 października 1676\n",
    "\n",
    "Rozwiązywanie równań różniczkowych jest rzeczą pożyteczną"
   ]
  },
  {
   "cell_type": "markdown",
   "metadata": {
    "slideshow": {
     "slide_type": "slide"
    }
   },
   "source": [
    "## Równania różniczkowe\n",
    "Równanie różniczkowe\n",
    "$$ \n",
    "\\dot{x}=f(t,x)\n",
    "$$\n",
    "Rozwiązanie równania różniczkowego $x(t)$ to funkcja, która dla każdego $t$ spełnia\n",
    "$$ \n",
    "\\dot{x(t)}=f(t,x(t))\n",
    "$$"
   ]
  },
  {
   "cell_type": "markdown",
   "metadata": {
    "slideshow": {
     "slide_type": "subslide"
    }
   },
   "source": [
    "## Problem Cauchy'ego\n",
    "\n",
    "Wyznaczyć rozwiązanie równania dla $t\\geq t_0$ przy czym\n",
    "$$\n",
    "x(t_0)=x_0\n",
    "$$\n",
    "\n",
    "Inaczej problem początkowy.\n",
    "\n",
    "Wymiennie będziemy mówić o rozwiązywaniu i całkowaniu równań różniczkowych"
   ]
  },
  {
   "cell_type": "markdown",
   "metadata": {
    "slideshow": {
     "slide_type": "subslide"
    }
   },
   "source": [
    "## Metoda Eulera\n",
    "\n",
    "**Istitutiones Calculi Integralis I** 1768\n",
    "\n",
    "$$ \n",
    "\\dot{x}=f(t,x),\\quad x(t_0)=x_0, \\quad x(T)=?\n",
    "$$\n",
    "\n",
    "W zależności od tego ile razy $f$ jest różniczkowalne możemy rozwinąć $x(t)$ w szereg Taylora. \n",
    "W szczególności\n",
    "$$\n",
    "x(t_0+\\Delta t)=x_0+\\Delta t\\cdot f(t_0,x_0)+ \\frac{\\Delta t^2}{2}(f_t+f_x f)(t_0,x_0)+...\n",
    "$$\n",
    "\n"
   ]
  },
  {
   "cell_type": "markdown",
   "metadata": {
    "slideshow": {
     "slide_type": "subslide"
    }
   },
   "source": [
    "## Metoda Eulera cd..\n",
    "Podzielmy przedział $T$ na elementy (tzw. kroki)\n",
    "$$\n",
    "t_0,\\ t_1,\\ \\ldots,\\ t_{n-1},\\ t_n\n",
    "$$\n",
    "i rozwiązanie w każdym podprzedziale zastępujemy pierwszym wyrazem szeregu Taylora\n",
    "$$\n",
    "\\begin{aligned}\n",
    "x_1-x_0={}&(t_1-t_0)f(t_0,x_0)\\\\\n",
    "x_2-x_1={}&(t_2-t_1)f(t_1,x_1)\\\\\n",
    "{}&\\vdots\\\\\n",
    "x_n-x_{n-1}={}&(t_n-t_{n-1})f(t_{n-1},x_{n-1})\n",
    "\\end{aligned}\n",
    "$$\n",
    "Oznaczając $h_i=t_{i+1}-t_i$ mamy rekurencję\n",
    "$$\n",
    "x_{k+1}=x_k + h_k f(t_k,x_k)\n",
    "$$\n"
   ]
  },
  {
   "cell_type": "markdown",
   "metadata": {
    "slideshow": {
     "slide_type": "subslide"
    }
   },
   "source": [
    "## Metoda Eulera cd..\n",
    "Niech $f (t, x)$ będzie ciągła, $|f|\\leq A$  oraz $f$ spełnia warunek Lipshitza na zbiorze\n",
    "$$\n",
    "D=\\left\\{(t,x)\\colon t_0 \\leq t\\leq T, |x−x0|\\leq b \\right\\}\n",
    "$$\n",
    "Jeżeli $X − x_0 \\leq b/A$ , mamy:"
   ]
  },
  {
   "cell_type": "markdown",
   "metadata": {
    "slideshow": {
     "slide_type": "subslide"
    }
   },
   "source": [
    "1. Dla $|\\max_i h_i|\\rightarrow0$ rozwiązanie rekurencuyjne zmierza do ciągłej funckji $ \\phi(t)$.\n",
    "2. $ \\phi(t)$ jest ciągłym różniczkowalnym rozwiązaniem równania różniczkowego dla $t_0 \\leq t\\leq T$. \n",
    "3. Nie iestnieją inne rozwiązania równania na przedziale $t_0 \\leq t\\leq T$."
   ]
  },
  {
   "cell_type": "markdown",
   "metadata": {
    "slideshow": {
     "slide_type": "subslide"
    }
   },
   "source": [
    "## Metoda Eulera cd..\n",
    "Jeżeli w otoczeniu rozwiązania \n",
    "$$\n",
    "f|\\leq A,\\quad \\left|\\frac{\\partial f}{\\partial x}\\right|\\leq L,\\quad \\left|\\frac{\\partial f}{\\partial t}\\right|\\leq M\n",
    "$$\n",
    "Zachodzi oszacowanie\n",
    "$$\n",
    "\\mathrm{error}(t)\\leq\\frac{M+AL}{L}\\left(\\mathrm{e}^{L(t-t_0)}-1\\right)\\cdot|h|\n",
    "$$\n",
    "przy założeniu dostatecznie małego $|h|$"
   ]
  },
  {
   "cell_type": "markdown",
   "metadata": {
    "slideshow": {
     "slide_type": "subslide"
    }
   },
   "source": [
    "## Konsekwencje\n",
    "1. Błąd z kroku na krok jest rzędu $h$ (bo zgadza się szereg Taylora)\n",
    "2. Metoda jest zbieżna do rozwiązania.\n",
    "3. Błąd globalny (na całym przedziale) jest zależny od długości kroku i długości przedziału\n",
    "\n",
    "Własności te przenoszą się też na bardziej skomplikowane metody."
   ]
  },
  {
   "cell_type": "markdown",
   "metadata": {
    "slideshow": {
     "slide_type": "subslide"
    }
   },
   "source": [
    "## Jak to działa\n",
    "\n",
    "Pierwszy problem testowy to układ równań liniowych:\n",
    "\n",
    "$$\n",
    "\\dot{x}=\\begin{bmatrix}0&1\\\\-1&0\\end{bmatrix}x,\\quad x_0=\\begin{bmatrix}0\\\\1\\end{bmatrix}\n",
    "$$\n",
    "\n",
    "który ma rozwiązanie analityczne\n",
    "$$\n",
    "x^*(t)=\\begin{bmatrix}\\sin(t)\\\\\\cos(t)\\end{bmatrix}\n",
    "$$"
   ]
  },
  {
   "cell_type": "code",
   "execution_count": 1,
   "metadata": {
    "slideshow": {
     "slide_type": "subslide"
    }
   },
   "outputs": [],
   "source": [
    "import numpy as np\n",
    "import matplotlib.pyplot as plt\n",
    "\n",
    "test1=lambda t,x: np.array([x[1],-x[0]])"
   ]
  },
  {
   "cell_type": "markdown",
   "metadata": {
    "slideshow": {
     "slide_type": "subslide"
    }
   },
   "source": [
    "## Implementacja metody Eulera"
   ]
  },
  {
   "cell_type": "code",
   "execution_count": 2,
   "metadata": {},
   "outputs": [],
   "source": [
    "def euler(f, x0,t0,tk,n):\n",
    "    \n",
    "    h=(tk-t0)/n\n",
    "    x=np.empty((x0.size,n+1))\n",
    "    x[:,0]=x0[:]\n",
    "    for i in range(0,n):\n",
    "        x[:,i+1]=x[:,i]+h*f(i*h,x[:,i])\n",
    "    t=np.linspace(t0,tk,n+1)\n",
    "    return (t,x.transpose())"
   ]
  },
  {
   "cell_type": "markdown",
   "metadata": {
    "slideshow": {
     "slide_type": "subslide"
    }
   },
   "source": [
    "## Przykładowe rozwiązania"
   ]
  },
  {
   "cell_type": "code",
   "execution_count": 3,
   "metadata": {
    "slideshow": {
     "slide_type": "-"
    }
   },
   "outputs": [],
   "source": [
    "x0=np.array([0,1])\n",
    "t0=0\n",
    "tk=np.pi/2\n",
    "n=50\n",
    "(t,x)=euler(test1,x0,t0,tk,n)"
   ]
  },
  {
   "cell_type": "code",
   "execution_count": 4,
   "metadata": {
    "slideshow": {
     "slide_type": "skip"
    }
   },
   "outputs": [],
   "source": [
    "plt.ioff()\n",
    "\n",
    "plt.plot(t,x)\n",
    "plt.xlabel('t')\n",
    "plt.ylabel('x(t)')\n",
    "plt.gca().legend(('$x^{(1)}$','$x^{(2)}$'),loc=7)\n",
    "plt.grid()\n",
    "\n"
   ]
  },
  {
   "cell_type": "code",
   "execution_count": 5,
   "metadata": {
    "slideshow": {
     "slide_type": "subslide"
    }
   },
   "outputs": [
    {
     "data": {
      "image/png": "[encoded data removed]",
      "text/plain": [
       "<Figure size 432x288 with 1 Axes>"
      ]
     },
     "metadata": {
      "needs_background": "light"
     },
     "output_type": "display_data"
    },
    {
     "name": "stdout",
     "output_type": "stream",
     "text": [
      "h=0.031415926535897934\n"
     ]
    }
   ],
   "source": [
    "plt.show()\n",
    "print('h='+str((tk-t0)/n))"
   ]
  },
  {
   "cell_type": "markdown",
   "metadata": {
    "slideshow": {
     "slide_type": "subslide"
    }
   },
   "source": [
    "## Systematyczna ewaluacja\n",
    "Do oceny jakości metody badamy jak zmienia się błąds w funkcji liczby wywołań prawej strony równania."
   ]
  },
  {
   "cell_type": "code",
   "execution_count": 6,
   "metadata": {},
   "outputs": [],
   "source": [
    "errors=[]\n",
    "evals=[]\n",
    "for k in range(1,7):\n",
    "    _,x=euler(test1,x0,t0,tk,10**k)\n",
    "    errors.append(np.linalg.norm(x[-1,:]-np.array([[1,0]])))\n",
    "    evals.append(10**k)\n"
   ]
  },
  {
   "cell_type": "code",
   "execution_count": 7,
   "metadata": {
    "slideshow": {
     "slide_type": "skip"
    }
   },
   "outputs": [],
   "source": [
    "plt.loglog(evals,errors,\n",
    "           marker='s',ms=8,fillstyle='none',\n",
    "           linestyle='')\n",
    "plt.xlabel('Liczba wywołań prawej strony')\n",
    "plt.ylabel('$\\|x(t_k)-x^*(t_k)\\|$')\n",
    "plt.grid()"
   ]
  },
  {
   "cell_type": "code",
   "execution_count": 8,
   "metadata": {
    "slideshow": {
     "slide_type": "subslide"
    }
   },
   "outputs": [
    {
     "data": {
      "image/png": "[encoded data removed]",
      "text/plain": [
       "<Figure size 432x288 with 1 Axes>"
      ]
     },
     "metadata": {
      "needs_background": "light"
     },
     "output_type": "display_data"
    }
   ],
   "source": [
    "plt.show()"
   ]
  },
  {
   "cell_type": "markdown",
   "metadata": {
    "slideshow": {
     "slide_type": "subslide"
    }
   },
   "source": [
    "## Konkluzja metody Eulera\n",
    "\n",
    "Metoda jest bardzo prosta, ale nie nadaje się do dokładnych obliczeń. \n",
    "\n",
    "Milion kroków na odcinku $\\approx 1.5$s daje błąd (względny i bezwzględny) na poziomie jedynie $10^{-6}$."
   ]
  },
  {
   "cell_type": "markdown",
   "metadata": {
    "slideshow": {
     "slide_type": "slide"
    }
   },
   "source": [
    "## Wstęp do metod Rungego-Kutty\n",
    "\n",
    "Oczywistym jest potrzeba poszukiwania metod rozwiązania o większej dokładności. Metoda Eulera wywodzi się z całkowania, można by zastosować inne kwadratury."
   ]
  },
  {
   "cell_type": "markdown",
   "metadata": {
    "slideshow": {
     "slide_type": "slide"
    }
   },
   "source": [
    "Całka na odcinku $[t_0,t_k]$ jest przecież rozwiązaniem równania różniczkowego:\n",
    "$$\n",
    "\\dot{x}=g(t),\\quad x(t_0)=x_0\n",
    "$$\n",
    "czyli \n",
    "$$\n",
    "x(t_k)=x_0+\\int_{t_0}^{t_k}g(t)\\mathrm{d} t\n",
    "$$"
   ]
  },
  {
   "cell_type": "markdown",
   "metadata": {
    "slideshow": {
     "slide_type": "subslide"
    }
   },
   "source": [
    "Prostym pomysłem jest tzw. **metoda punktu środkowego**, określająca kwadraturę\n",
    "\n",
    "$$\n",
    "\\begin{aligned}\n",
    "x(t_0+h)\\approx {}&x_1 = x_0 + h g\\left(t_0+\\frac{h}{2}\\right)\\\\\n",
    "x(t_1+h)\\approx {}&x_2 = x_1 + h g\\left(t_1+\\frac{h}{2}\\right)\\\\\n",
    "\\vdots{}&\\\\\n",
    "x(t_k)\\approx {}&x_k = x_{k-1} + h g\\left(t_{k-1}+\\frac{h}{2}\\right)\n",
    "\\end{aligned}\n",
    "$$\n",
    "Przy czym można wykazać, że błąd tej kwadratury jest mniejszy niż $C h^2$."
   ]
  },
  {
   "cell_type": "markdown",
   "metadata": {
    "slideshow": {
     "slide_type": "subslide"
    }
   },
   "source": [
    "## Postać dla równania różniczkowego\n",
    "\n",
    "Runge (1895) zaproponował przeniesienie metody na  równania różniczkowe zwyczajne:\n",
    "\n",
    "$$\n",
    "x(t_0+h)=x_0+h f\n",
    "\\left(\n",
    "    t_0+\\frac{h}{2},\n",
    "    x\n",
    "        \\left(\n",
    "            t_0+\\frac{h}{2}\n",
    "        \\right)\n",
    "    \\right)\n",
    "$$\n",
    "Ale skąd wziąć wartość $x\\left(t_0+\\frac{h}{2}\\right)$?"
   ]
  },
  {
   "cell_type": "markdown",
   "metadata": {
    "slideshow": {
     "slide_type": "subslide"
    }
   },
   "source": [
    "## Obliczenia etapowe\n",
    "Propozycja Rungego, to wykonanie jednego małego kroku metody Eulera z krokiem $h/2$:\n",
    "$$\n",
    "    \\begin{aligned}\n",
    "        k_1={}&f(t_0,x_0)\\\\\n",
    "        k_2={}&f\n",
    "            \\left(\n",
    "                t_0+\\frac{h}{2},\n",
    "                x_0+\\frac{h}{2}k_1\n",
    "            \\right)\\\\\n",
    "        x_1={}&x_0+h k_2\n",
    "    \\end{aligned}\n",
    "$$"
   ]
  },
  {
   "cell_type": "markdown",
   "metadata": {
    "slideshow": {
     "slide_type": "subslide"
    }
   },
   "source": [
    "## Dlaczego ma być lepiej?\n",
    "\n",
    "Czy dodanie kroku w połowie nie będzie po prostu skróceniem kroku?\n",
    "\n",
    "Porównajmy rozwinięcia Taylora względem $h$:\n",
    "- Rozwiązanie dokładne\n",
    "$$\n",
    "\\begin{aligned}\n",
    "x(t_0+h)={}&x_0+h f(t_0,x_0)+\\frac{h^2}{2}(f_t+f_x f)(t_0,x_0)+\\\\\n",
    "        +{}&\\frac{h^3}{6}(f_{tt}+2f_{tx}f+ f_{xx} f^2 +f_{x}f_{t}+f^2_x f)(t_0,x_0)+\\ldots\n",
    "\\end{aligned}\n",
    "$$"
   ]
  },
  {
   "cell_type": "markdown",
   "metadata": {
    "slideshow": {
     "slide_type": "subslide"
    }
   },
   "source": [
    "- Rozwiązanie przybliżone\n",
    "$$\n",
    "\\begin{aligned}\n",
    "x_1={}&x_0+h f\n",
    "            \\left(\n",
    "                t_0+\\frac{h}{2},\n",
    "                x_0+\\frac{h}{2}f_0\n",
    "            \\right)=\\\\\n",
    "   ={}&x_0+hf(t_0,x_0)+   \\frac{h^2}{2}(f_t+f_x f)(t_0,x_0)+\\\\\n",
    "        +{}&\\frac{h^3}{8}(f_{tt}+2f_{tx}f+ f_{xx} f^2)(t_0,x_0)+\\ldots\n",
    "\\end{aligned}\n",
    "$$"
   ]
  },
  {
   "cell_type": "markdown",
   "metadata": {
    "slideshow": {
     "slide_type": "subslide"
    }
   },
   "source": [
    "## Różnica między rozwiązaniem dokładnym i przybliżonym\n",
    "Jak można zauważyć wyrazy rzędów pierwszego i drugiego są takie same:\n",
    "\n",
    "$$\n",
    "x(t_0+h)-x_1=\\frac{h^3}{24}\\left(f_{tt}+2f_{tx}f+ f_{xx} f^2 4(f_{x}f_{t}+f^2_x f)+\\ldots\n",
    "\\right)(t_0,x_0)$$\n",
    "Jeżeli więc wszystkie pochodne cząstkowe $f$ rzędu 2 są ograniczone, to\n",
    "\n",
    "$$\n",
    "\\|x(t_0+h)-x_1\\|\\leq K h^3\n",
    "$$"
   ]
  },
  {
   "cell_type": "markdown",
   "metadata": {
    "slideshow": {
     "slide_type": "subslide"
    }
   },
   "source": [
    "## Obliczeniowo"
   ]
  },
  {
   "cell_type": "code",
   "execution_count": 9,
   "metadata": {},
   "outputs": [],
   "source": [
    "def midpoint(f, x0,t0,tk,n):\n",
    "    \n",
    "    h=(tk-t0)/n\n",
    "    x=np.empty((max(x0.size,1),n+1))\n",
    "    x[:,0]=x0[:]\n",
    "    for i in range(0,n):\n",
    "        k_1=f(i*h,x[:,i])\n",
    "        k_2=f(i*h+h/2,x[:,i]+k_1*h/2)\n",
    "        x[:,i+1]=x[:,i]+h*k_2\n",
    "    t=np.linspace(t0,tk,n+1)\n",
    "    return (t,x.transpose())"
   ]
  },
  {
   "cell_type": "code",
   "execution_count": 10,
   "metadata": {
    "slideshow": {
     "slide_type": "subslide"
    }
   },
   "outputs": [],
   "source": [
    "errors_mp=[]\n",
    "evals_mp=[]\n",
    "for k in range(1,7):\n",
    "    _,x=midpoint(test1,x0,t0,tk,10**k)\n",
    "    errors_mp.append(np.linalg.norm(x[-1,:]-np.array([[1,0]])))\n",
    "    evals_mp.append(2*10**k)"
   ]
  },
  {
   "cell_type": "code",
   "execution_count": 11,
   "metadata": {
    "slideshow": {
     "slide_type": "skip"
    }
   },
   "outputs": [],
   "source": [
    "plt.loglog(evals,errors,evals_mp,errors_mp,\n",
    "           marker='s',ms=8,fillstyle='none',\n",
    "           linestyle='')\n",
    "plt.xlabel('Liczba wywołań prawej strony')\n",
    "plt.ylabel('$\\|x(t_k)-x^*(t_k)\\|$')\n",
    "plt.gca().legend(('Euler','Midpoint'),loc=0)\n",
    "plt.grid()"
   ]
  },
  {
   "cell_type": "code",
   "execution_count": 12,
   "metadata": {
    "slideshow": {
     "slide_type": "subslide"
    }
   },
   "outputs": [
    {
     "data": {
      "image/png": "[encoded data removed]",
      "text/plain": [
       "<Figure size 432x288 with 1 Axes>"
      ]
     },
     "metadata": {
      "needs_background": "light"
     },
     "output_type": "display_data"
    }
   ],
   "source": [
    "plt.show()"
   ]
  },
  {
   "cell_type": "markdown",
   "metadata": {
    "slideshow": {
     "slide_type": "slide"
    }
   },
   "source": [
    "## Metody Rungego-Kutty\n",
    "\n",
    "Zarówno Runge (1895) i Heun (1900) konstruowali bardziej zaawansowane metody dodając kolejne kroki Eulera. Kutta (1901) sformułował ogólny schemat tego, co nazywamy metodą Rungego-Kutty:\n",
    "\n",
    "**Definicja** Niech $s$ będzie liczbą całkowitą (liczba etapów), zaś $a_{ij}$, $b_{i}$ oraz $c_{i}$ rzeczywistymi współczynnikami, wtedy metoda \n",
    "\n",
    "$$\n",
    "\\begin{aligned} \n",
    "   k_{1} = {}& f(t_{0},x_{0}) \\\\\n",
    "   k_{2} = {}& f(t_{0}+c_{2}h,x_{0}+h a_{21}k_{1}) \\\\\n",
    "   k_{3} = {}& f(t_{0}+c_{3}h,x_{0}+h(a_{31}k_{1}+a_{32}k_{2})) \\\\\n",
    "\\vdots\\\\\n",
    "   k_{s} = {}& f(t_{0}+c_{s}h,x_{0}+h(a_{s1}k_{1}+\\ldots+a_{s,s-1}k_{s-1})) \\\\\n",
    "   x_{1}= {}& x_{0}+h(b_{1}k_{1}+\\ldots+b_{s}k_{s})\n",
    "\\end{aligned}\n",
    "$$\n",
    "jest nazywana $s$ etapową, otwartą metodą Rungego-Kutty.\n"
   ]
  },
  {
   "cell_type": "markdown",
   "metadata": {
    "slideshow": {
     "slide_type": "subslide"
    }
   },
   "source": [
    "## Rząd metody Rungego-Kutty\n",
    "**Definicja** Metoda Rungego-Kutty ma rząd $p$ jeżeli dla dostatecznie gładkich równań różniczkowych zachodzi:\n",
    "$$\n",
    "\\|x(t_0+h)-x_1\\|\\leq K h^{p+1}\n",
    "$$\n",
    "czyli, że szereg Taylora rozwiązania dokładnego i przybliżonego są sobie równe dla wyrazów rzędu $h^p$ i niższych."
   ]
  },
  {
   "cell_type": "markdown",
   "metadata": {
    "slideshow": {
     "slide_type": "subslide"
    }
   },
   "source": [
    "## Notacja\n",
    "W literaturze przyjęło się stosowanie następującej notacji dla metod Rungego-Kutty w formie tabel:\n",
    "$$\n",
    "\\begin{array}{c|c c c c c}\n",
    "0 & & & & &\\\\\n",
    "c_{2} & a_{21} & & & &\\\\\n",
    "c_{3} & a_{31}&a_{32} & & &\\\\\n",
    "\\vdots& \\vdots& \\vdots& \\ddots & &\\\\ \n",
    "c_{s} & a_{s1} & a_{s1} & \\ldots & a_{s1} &\\\\ \\hline\n",
    " & b_{1} & b_{2} & \\ldots &b_{s-1} & b_{s}\n",
    "\\end{array}\n",
    "$$"
   ]
  },
  {
   "cell_type": "markdown",
   "metadata": {
    "slideshow": {
     "slide_type": "subslide"
    }
   },
   "source": [
    "## Przykłady\n",
    "\n",
    "- Metoda punktu środkowego:\n",
    "$$\n",
    "\\begin{array}{c|c c}\n",
    "0 & & \\\\\n",
    "1/2 & 1/2 &\\\\ \\hline\n",
    " & 0 & 1 \n",
    "\\end{array}\n",
    "$$\n",
    "- Tzw. \"Metoda Rungego-Kutty 4 rzędu\"\n",
    "$$\n",
    "\\begin{array}{c|c c c c}\n",
    "0 & & &  &\\\\\n",
    "1/2 & 1/2  & & &\\\\\n",
    "1/2 & 0&1/2&  &\\\\\n",
    "1 & 0 & 0 &1 &\\\\ \\hline\n",
    " & 1/6 & 2/6 & 2/6 & 1/6\n",
    "\\end{array}\n",
    "$$\n"
   ]
  },
  {
   "cell_type": "markdown",
   "metadata": {
    "slideshow": {
     "slide_type": "subslide"
    }
   },
   "source": [
    "## Uwagi ogólne\n",
    "- Im wyższy rząd tym większe komplikacje w okreśłeniu współczynników\n",
    "- Na przykład dla 4 etapowej metody 4 rzędu konieczne jest rozwiązanie 8 równań wielomianowych, których rozwiązanie nie jest jednoznaczne. Formułuje się liczne założenia upraszczające.\n",
    "- Nie ma $s$ etapowych metod rzędu $s$ dla $s>4$.\n",
    "- W konstruowaniu nowych metod wykorzystuje się opracowaną przez Butchera (1964) teorię drzew.\n",
    "- Błąd globalny metod jest analogicznie konstruowany jak dla metody Eulera - proporcjonalny do błędu lokanego ($h^p$) przy czym stała zależy od długości przedziału całkowania i regularności rozwiązania"
   ]
  },
  {
   "cell_type": "markdown",
   "metadata": {
    "slideshow": {
     "slide_type": "slide"
    }
   },
   "source": [
    "## Długość kroku\n",
    "Rozwiązania równań rożniczkowych ewoluują w czasie, co wiąże się z okresami dużej i małej zmienności.\n",
    "\n",
    "Przykładowo weźmy równanie:\n",
    "$$\n",
    "\\dot{x}=-10x+10,\\quad x(0)=0\n",
    "$$\n",
    "Jego rozwiązanie ma postać\n",
    "$$\n",
    "x(t)=1-\\exp(-10t)\n",
    "$$"
   ]
  },
  {
   "cell_type": "code",
   "execution_count": 13,
   "metadata": {},
   "outputs": [],
   "source": [
    "test2=lambda t,x:-10*x+10"
   ]
  },
  {
   "cell_type": "markdown",
   "metadata": {
    "slideshow": {
     "slide_type": "subslide"
    }
   },
   "source": [
    "Rozpatrzmy rozwiązanie na przedziałach $(0,1)$ i $(1,10)$"
   ]
  },
  {
   "cell_type": "code",
   "execution_count": 14,
   "metadata": {
    "slideshow": {
     "slide_type": "subslide"
    }
   },
   "outputs": [],
   "source": [
    "errors_01=[]\n",
    "krok_01=[]\n",
    "errors_110=[]\n",
    "krok_110=[]\n",
    "x0=np.array(0,ndmin=2)\n",
    "for k in range(1,6):\n",
    "    _,x=midpoint(test2,np.array([0],ndmin=2),0,1,5*10**k)\n",
    "    errors_01.append(np.abs(x[-1]-1+np.exp(-10)))\n",
    "    krok_01.append(1/(5*10**k))\n",
    "    _,x=midpoint(test2,np.array([1-np.exp(-10)],ndmin=2),1,10,9*5*10**k)\n",
    "    errors_110.append(np.abs(x[-1]-1+np.exp(-100)))\n",
    "    krok_110.append(1/(5*10**k))"
   ]
  },
  {
   "cell_type": "code",
   "execution_count": 15,
   "metadata": {
    "slideshow": {
     "slide_type": "subslide"
    }
   },
   "outputs": [],
   "source": [
    "    \n",
    "plt.loglog(krok_01,errors_01,krok_110,errors_110,\n",
    "           marker='s',ms=8,fillstyle='none',\n",
    "           linestyle='')\n",
    "plt.xlabel('Długość kroku')\n",
    "plt.ylabel('$\\|x(t_k)-x^*(t_k)\\|$')\n",
    "plt.gca().legend(('$t\\in(0,1)$','$t\\in(1,10)$'),loc=0)\n",
    "plt.grid()"
   ]
  },
  {
   "cell_type": "code",
   "execution_count": 16,
   "metadata": {
    "slideshow": {
     "slide_type": "subslide"
    }
   },
   "outputs": [
    {
     "data": {
      "image/png": "[encoded data removed]",
      "text/plain": [
       "<Figure size 432x288 with 1 Axes>"
      ]
     },
     "metadata": {
      "needs_background": "light"
     },
     "output_type": "display_data"
    }
   ],
   "source": [
    "plt.show()"
   ]
  },
  {
   "cell_type": "markdown",
   "metadata": {},
   "source": [
    "W różnych momentach rozwiązania wystarczy dużo dłuższy krok by uzyskać tą samą dokładność rozwiązania\n",
    "\n"
   ]
  },
  {
   "cell_type": "markdown",
   "metadata": {
    "slideshow": {
     "slide_type": "slide"
    }
   },
   "source": [
    "## Jak zmieniać długość kroku\n",
    "- Ewidentnie w różnych chwilach to samo równanie z tym samym krokiem będzie miało inny błąd rozwiązania.\n",
    "\n",
    "- Aby decydować się o zmianie (wydłużeniu lub skróceniu) kroku musimy estymować ten błąd.\n",
    "\n",
    "- Zasada postępowania jest analogiczna jak w całkowaniu adaptacyjnym wyliczamy rozwiązanie na dwa sposoby (metodami różnych rzędów) i z różnicy między nimi estymujemy błąd.\n",
    "\n"
   ]
  },
  {
   "cell_type": "markdown",
   "metadata": {
    "slideshow": {
     "slide_type": "subslide"
    }
   },
   "source": [
    "## Wbudowane metody Rungego-Kutty typu $p(\\widehat{p})$\n",
    "\n",
    "Mówimy o metodach wbudowanych gdy, dla tabeli \n",
    "\n",
    "$$\n",
    "\\begin{array}{c|c c c c c}\n",
    "0 & & & & &\\\\\n",
    "c_{2} & a_{21} & & & &\\\\\n",
    "c_{3} & a_{31}&a_{32} & & &\\\\\n",
    "\\vdots& \\vdots& \\vdots& \\ddots & &\\\\ \n",
    "c_{s} & a_{s1} & a_{s1} & \\ldots & a_{s1} &\\\\ \\hline\n",
    " & b_{1} & b_{2} & \\ldots &b_{s-1} & b_{s}\\\\\n",
    " \\hline\n",
    " & \\widehat{b}_{1} & \\widehat{b}_{2} & \\ldots &\\widehat{b}_{s-1} & \\widehat{b}_{s}\n",
    "\\end{array}\n",
    "$$\n",
    "\n",
    "rozwiązanie $$x_1=x_0+h(b_1k_1+...+b_sk_s)$$\n",
    "jest rzędu $p$, zaś\n",
    "$$\\widehat{x}_1=x_0+h(\\widehat{b}_1k_1+...+\\widehat{b}_sk_s)$$\n",
    "jest rzędu $\\widehat{p}$."
   ]
  },
  {
   "cell_type": "markdown",
   "metadata": {
    "slideshow": {
     "slide_type": "subslide"
    }
   },
   "source": [
    "## Automatyczna kontrola długości kroku\n",
    "\n",
    "- Należy określić wymagania - tolerancję względną i bezwzględną na każdą ze zmiennych równania - odpowiednio $Atol_i$ i $Rtol_i$. \n",
    "- Analizujemy różnicę między rozwiązaniami $x_1-\\widehat{x}_1$\n",
    "\n",
    "- Chcemy aby każda ze zmiennych spełniała\n",
    "$$\n",
    "|x_1^{(i)}-\\widehat{x}_1^{(i)}|\\leq sc_i,\\quad sc_i=Atol_i+max(|x_0^{(i)}|,|x_1^{(i)}|)\\cdot Rtol_i\n",
    "$$\n",
    "\n",
    "- Typową miarą błędu jest\n",
    "\n",
    "$$\n",
    "\\mathrm{error}=\\sqrt{\\frac{1}{n}\\sum^n_{i=1}\\left(\\cfrac{x_1^{(i)}-\\widehat{x}_1^{(i)}}{sc_i}\\right)^2}\n",
    "$$"
   ]
  },
  {
   "cell_type": "markdown",
   "metadata": {
    "slideshow": {
     "slide_type": "subslide"
    }
   },
   "source": [
    "## Dobór kroku optymalnego\n",
    "- Niech $q=\\min(p,\\widehat{p})$. Nasze rozwiązania są ze sobą zgodne do $q$-ego wyrazu szeregu Taylora, więc błąd \n",
    "$$\n",
    "\\mathrm{error}\\approx C\\cdot h^{q+1}\n",
    "$$\n",
    "- Ponieważ, $\\mathrm{error}$ jest znormalizowany do naszych wymagań, to krok optymalny\n",
    "$$C\\cdot h_\\mathrm{opt}^{q+1}\\approx 1$$\n",
    "- Daje to wzór na krok optymalny\n",
    "$$\n",
    "h_\\mathrm{opt}=h\\cdot(\\mathrm{error})^{-\\frac{1}{q+1}}\n",
    "$$"
   ]
  },
  {
   "cell_type": "markdown",
   "metadata": {
    "slideshow": {
     "slide_type": "subslide"
    }
   },
   "source": [
    "## Zasada działania\n",
    "- Wykonujemy krok i obliczamy $\\mathrm{error}$, \n",
    "    - jeżeli jest on mniejszy od 1, to krok akceptujemy i stosujemy krok optymalny.\n",
    "    - jeżeli jest większy od 1, to odrzucamy go, wyliczamy nowe rozwiązanie z nowo wyliczonym krokiem optymalnym i sprawdzamy dalej\n",
    "- W praktyce dobór kroku optymalnego jest uzupełniony współczynnikami, które ograniczają nadmierny wzrost lub spadek kroku.\n",
    "- Które rozwiązanie wybrać? Mamy dwa - rzędu $p$ i $\\widehat{p}$. Zazwyczaj wybiera się rząd wyższy (tzw. lokalna ekstrapolacja) bo jest to lepsze przybliżenie rozwiązania (mimo tego, że estymata błędu jest niższego rzędu)."
   ]
  },
  {
   "cell_type": "markdown",
   "metadata": {
    "slideshow": {
     "slide_type": "subslide"
    }
   },
   "source": [
    "## Stały krok i obserwatory stanu\n",
    "Uzupełnić na 2020/2021"
   ]
  },
  {
   "cell_type": "markdown",
   "metadata": {
    "slideshow": {
     "slide_type": "subslide"
    }
   },
   "source": [
    "## Praktyczne metody\n",
    "- Na chwilę obecną metody bazujące na klasycznym RK4 to już historia. Możliwe jest dorobienie do nich estymatorów rzędu 3 ale nie jest to podejście popularne. \n",
    "\n",
    "- W obecnym rozwiązywaniu nieproblematycznych równań różniczkowych dominację mają schematy obliczeniowe opracowane przez Dormanda i Prince'a, a następnie modyfikowane przez Hairera i współpracowników. "
   ]
  },
  {
   "cell_type": "markdown",
   "metadata": {
    "slideshow": {
     "slide_type": "subslide"
    }
   },
   "source": [
    "### Dormand-Prince rzędu 5(4)\n",
    "- Najczęściej używana jest metoda Dormanda-Prince'a rzędu 5(4) - czasami zapisywana jako 4(5). Jest ona podstawową metodą w Matlabie (```ode45```) i Pythonie (method='RK45'). Siłą tej metody jest fakt, że została zoptymalizwana w celu poprawy efektywności lokalnej aproksymacji. Jest to metoda `pierwszego rzutu'"
   ]
  },
  {
   "cell_type": "markdown",
   "metadata": {
    "slideshow": {
     "slide_type": "subslide"
    }
   },
   "source": [
    "### Inne \n",
    "- Python oferuje nam oprócz tego metody 'DOP853' (od SciPy wersji 1.4.1), która jest metodą Dormanda-Prince'a rzędu 8 ze specjalnym dwuetapowym estymatorem błędu oraz metodę niskiego rzędu 'RK23' opracowaną przez Shampine'a (dostępna w Matlabie jako ```ode23```"
   ]
  },
  {
   "cell_type": "markdown",
   "metadata": {
    "slideshow": {
     "slide_type": "subslide"
    }
   },
   "source": [
    "## Przykład\n",
    "Tzw Brusselator - równanie reakcji autokatalitycznej https://en.wikipedia.org/wiki/Brusselator"
   ]
  },
  {
   "cell_type": "code",
   "execution_count": 17,
   "metadata": {},
   "outputs": [],
   "source": [
    "def brusselator(t,x):\n",
    "    f1=1+x[0]**2*x[1]-4*x[0]\n",
    "    f2=3*x[0]-x[0]**2*x[1]\n",
    "    return [f1,f2]\n",
    "\n"
   ]
  },
  {
   "cell_type": "code",
   "execution_count": 18,
   "metadata": {},
   "outputs": [],
   "source": [
    "from scipy.integrate import solve_ivp\n",
    "x0=[1.5,3]\n",
    "tspan=(0,20)\n",
    "sol=solve_ivp(brusselator,tspan,x0)"
   ]
  },
  {
   "cell_type": "code",
   "execution_count": 19,
   "metadata": {
    "slideshow": {
     "slide_type": "skip"
    }
   },
   "outputs": [],
   "source": [
    "plt.plot(sol.t,sol.y[0,:],sol.t,sol.y[1,:],marker='.')\n",
    "plt.xlabel('t')\n",
    "plt.ylabel('x(t)')\n",
    "plt.gca().legend(('$x^{(1)}$','$x^{(2)}$'),loc=7)\n",
    "plt.grid()"
   ]
  },
  {
   "cell_type": "code",
   "execution_count": 20,
   "metadata": {},
   "outputs": [
    {
     "data": {
      "image/png": "[encoded data removed]",
      "text/plain": [
       "<Figure size 432x288 with 1 Axes>"
      ]
     },
     "metadata": {
      "needs_background": "light"
     },
     "output_type": "display_data"
    }
   ],
   "source": [
    "plt.show()"
   ]
  },
  {
   "cell_type": "code",
   "execution_count": 25,
   "metadata": {
    "slideshow": {
     "slide_type": "skip"
    }
   },
   "outputs": [
    {
     "data": {
      "text/plain": [
       "(2, 346)"
      ]
     },
     "execution_count": 25,
     "metadata": {},
     "output_type": "execute_result"
    }
   ],
   "source": [
    "sol=solve_ivp(brusselator,tspan,x0,method='DOP853',rtol=1e-13,atol=1e-16)\n",
    "reference=sol.y[:,-1]\n",
    "sol.y.shape"
   ]
  },
  {
   "cell_type": "code",
   "execution_count": 26,
   "metadata": {
    "slideshow": {
     "slide_type": "skip"
    }
   },
   "outputs": [],
   "source": [
    "error853=[]\n",
    "feval853=[]\n",
    "error45=[]\n",
    "feval45=[]\n",
    "error23=[]\n",
    "feval23=[]\n",
    "for k in np.arange(-10, -2, .5):\n",
    "    sol1=solve_ivp(brusselator,tspan,x0,method='DOP853',rtol=10**k,atol=10**k)\n",
    "    sol2=solve_ivp(brusselator,tspan,x0,method='RK45',rtol=10**k,atol=10**k)\n",
    "    sol3=solve_ivp(brusselator,tspan,x0,method='RK23',rtol=10**k,atol=10**k)\n",
    "    error853.append(np.linalg.norm(sol1.y[:,-1]-reference))\n",
    "    feval853.append(sol1.nfev)\n",
    "    error45.append(np.linalg.norm(sol2.y[:,-1]-reference))\n",
    "    feval45.append(sol2.nfev)\n",
    "    error23.append(np.linalg.norm(sol3.y[:,-1]-reference))\n",
    "    feval23.append(sol3.nfev)\n"
   ]
  },
  {
   "cell_type": "code",
   "execution_count": 23,
   "metadata": {
    "slideshow": {
     "slide_type": "skip"
    }
   },
   "outputs": [],
   "source": [
    "plt.loglog(feval23,error23,feval45,error45,feval853,error853,\n",
    "           marker='s',ms=8,fillstyle='none',\n",
    "           linestyle='')\n",
    "plt.xlabel('Liczba wywołań prawej strony')\n",
    "plt.ylabel('$\\|x(t_k)-x^*(t_k)\\|$')\n",
    "plt.gca().legend(('RK23','RK45','DOP853'),loc=0)\n",
    "plt.grid()"
   ]
  },
  {
   "cell_type": "markdown",
   "metadata": {
    "slideshow": {
     "slide_type": "slide"
    }
   },
   "source": [
    "### Porównanie trzech popularnych metod dla Brusselatora"
   ]
  },
  {
   "cell_type": "code",
   "execution_count": 24,
   "metadata": {},
   "outputs": [
    {
     "data": {
      "image/png": "[encoded data removed]",
      "text/plain": [
       "<Figure size 432x288 with 1 Axes>"
      ]
     },
     "metadata": {
      "needs_background": "light"
     },
     "output_type": "display_data"
    }
   ],
   "source": [
    "plt.show()"
   ]
  },
  {
   "cell_type": "markdown",
   "metadata": {
    "slideshow": {
     "slide_type": "subslide"
    }
   },
   "source": [
    "## Minusy rozwiązania zmiennokrokowego\n",
    "\n",
    "Potencjalną wadą rozwiązania zmiennokrokowego jest to, że metoda robi kroki tam gdzie chce.\n",
    "\n"
   ]
  },
  {
   "cell_type": "code",
   "execution_count": null,
   "metadata": {
    "slideshow": {
     "slide_type": "-"
    }
   },
   "outputs": [],
   "source": [
    "sol=solve_ivp(brusselator,tspan,x0)"
   ]
  },
  {
   "cell_type": "code",
   "execution_count": 35,
   "metadata": {
    "slideshow": {
     "slide_type": "skip"
    }
   },
   "outputs": [],
   "source": [
    "plt.plot(sol.t,sol.y[0,:],sol.t,sol.y[1,:],ls='none',marker='.')\n",
    "plt.xlabel('t')\n",
    "plt.ylabel('x(t)')\n",
    "plt.gca().legend(('$x^{(1)}$','$x^{(2)}$'),loc=0)\n",
    "plt.gca().set(xlim=(0, 7.5))\n",
    "plt.grid()"
   ]
  },
  {
   "cell_type": "code",
   "execution_count": 36,
   "metadata": {},
   "outputs": [
    {
     "data": {
      "image/png": "[encoded data removed]",
      "text/plain": [
       "<Figure size 432x288 with 1 Axes>"
      ]
     },
     "metadata": {
      "needs_background": "light"
     },
     "output_type": "display_data"
    }
   ],
   "source": [
    "plt.show()"
   ]
  },
  {
   "cell_type": "markdown",
   "metadata": {},
   "source": [
    "Sztucznie zagęszczając kroki tracimy przewagę wynikającą ze zmniejszenia czasu obliczeń."
   ]
  },
  {
   "cell_type": "markdown",
   "metadata": {
    "slideshow": {
     "slide_type": "subslide"
    }
   },
   "source": [
    "## Gęste wyjście\n",
    "\n",
    "Propozycją rozwiązania tego problemu jest tzw. gęste wyjście (*dense output*).\n",
    "\n",
    "Idea polega na skonstruowaniu wielomianów interpolacyjnych, dla których błąd metody między krokami będzie tego samego rzędu co błąd metody (lub niewiele goszym).\n",
    "\n",
    "Zazwyczaj interpoluje się wartości i pochodne w krańcach przedziału (warunki na 3 rząd) i uzupełnia dodatkowymi punktami z jego środka."
   ]
  },
  {
   "cell_type": "markdown",
   "metadata": {
    "slideshow": {
     "slide_type": "subslide"
    }
   },
   "source": [
    "## Implementacja w Pythonie"
   ]
  },
  {
   "cell_type": "code",
   "execution_count": null,
   "metadata": {},
   "outputs": [],
   "source": [
    "sol=solve_ivp(brusselator,tspan,x0,dense_output=True)\n",
    "t=np.linspace(0,7.5,1000)\n",
    "y=sol.sol(t)\n",
    "plt.plot(t,y[0,:],t,y[1,:])"
   ]
  },
  {
   "cell_type": "code",
   "execution_count": null,
   "metadata": {
    "slideshow": {
     "slide_type": "skip"
    }
   },
   "outputs": [],
   "source": [
    "plt.xlabel('t')\n",
    "plt.ylabel('x(t)')\n",
    "plt.gca().legend(('$x^{(1)}$','$x^{(2)}$'),loc=0)\n",
    "plt.gca().set(xlim=(0, 7.5))\n",
    "plt.grid()"
   ]
  },
  {
   "cell_type": "code",
   "execution_count": 42,
   "metadata": {},
   "outputs": [
    {
     "data": {
      "image/png": "[encoded data removed]",
      "text/plain": [
       "<Figure size 432x288 with 1 Axes>"
      ]
     },
     "metadata": {
      "needs_background": "light"
     },
     "output_type": "display_data"
    }
   ],
   "source": [
    "plt.show()"
   ]
  },
  {
   "cell_type": "markdown",
   "metadata": {
    "slideshow": {
     "slide_type": "slide"
    }
   },
   "source": [
    "## Problemy sztywne\n",
    "Zacznijmy od przykładu Robertsona opisującego równanie reakcji chemicznej:"
   ]
  },
  {
   "cell_type": "code",
   "execution_count": 53,
   "metadata": {},
   "outputs": [],
   "source": [
    "def robertson(t,x):\n",
    "    f1=-0.04*x[0]+10**4*x[1]*x[2]\n",
    "    f2=0.04*x[0]-10**4*x[1]*x[2]-3*10**7*x[1]**2\n",
    "    f3=3*10**7*x[1]**2\n",
    "    return [f1,f2,f3]\n",
    "x0=[1,0,0]"
   ]
  },
  {
   "cell_type": "code",
   "execution_count": 75,
   "metadata": {
    "slideshow": {
     "slide_type": "subslide"
    }
   },
   "outputs": [
    {
     "name": "stdout",
     "output_type": "stream",
     "text": [
      "1820\n"
     ]
    }
   ],
   "source": [
    "sol=solve_ivp(robertson,(0,0.3),x0,method='RK45')\n",
    "print(sol.nfev)"
   ]
  },
  {
   "cell_type": "code",
   "execution_count": 76,
   "metadata": {
    "slideshow": {
     "slide_type": "skip"
    }
   },
   "outputs": [],
   "source": [
    "plt.plot(sol.t,sol.y[1,:],marker='.')\n",
    "plt.xlabel('t')\n",
    "plt.ylabel('$x^{2}(t)$')\n",
    "plt.grid()"
   ]
  },
  {
   "cell_type": "code",
   "execution_count": 77,
   "metadata": {},
   "outputs": [
    {
     "data": {
      "image/png": "[encoded data removed]",
      "text/plain": [
       "<Figure size 432x288 with 1 Axes>"
      ]
     },
     "metadata": {
      "needs_background": "light"
     },
     "output_type": "display_data"
    }
   ],
   "source": [
    "plt.show()"
   ]
  },
  {
   "cell_type": "markdown",
   "metadata": {
    "slideshow": {
     "slide_type": "subslide"
    }
   },
   "source": [
    "## Zwiększenie tolerancji"
   ]
  },
  {
   "cell_type": "code",
   "execution_count": 72,
   "metadata": {
    "slideshow": {
     "slide_type": "-"
    }
   },
   "outputs": [
    {
     "name": "stdout",
     "output_type": "stream",
     "text": [
      "1496\n"
     ]
    }
   ],
   "source": [
    "sol=solve_ivp(robertson,(0,0.3),x0,method='RK45',rtol=1e-12,atol=1e-12)\n",
    "print(sol.nfev)"
   ]
  },
  {
   "cell_type": "code",
   "execution_count": 73,
   "metadata": {
    "slideshow": {
     "slide_type": "skip"
    }
   },
   "outputs": [],
   "source": [
    "plt.plot(sol.t,sol.y[1,:],marker='.')\n",
    "plt.xlabel('t')\n",
    "plt.ylabel('$x^{(2)}(t)$')\n",
    "plt.grid()"
   ]
  },
  {
   "cell_type": "code",
   "execution_count": 74,
   "metadata": {},
   "outputs": [
    {
     "data": {
      "image/png": "[encoded data removed]",
      "text/plain": [
       "<Figure size 432x288 with 1 Axes>"
      ]
     },
     "metadata": {
      "needs_background": "light"
     },
     "output_type": "display_data"
    }
   ],
   "source": [
    "plt.show()"
   ]
  },
  {
   "cell_type": "markdown",
   "metadata": {
    "slideshow": {
     "slide_type": "subslide"
    }
   },
   "source": [
    "## Zastosowanie metody do równań sztywnych"
   ]
  },
  {
   "cell_type": "code",
   "execution_count": 85,
   "metadata": {
    "slideshow": {
     "slide_type": "-"
    }
   },
   "outputs": [
    {
     "name": "stdout",
     "output_type": "stream",
     "text": [
      "91\n"
     ]
    }
   ],
   "source": [
    "sol=solve_ivp(robertson,(0,0.3),x0,method='Radau')\n",
    "print(sol.nfev)"
   ]
  },
  {
   "cell_type": "code",
   "execution_count": 86,
   "metadata": {
    "slideshow": {
     "slide_type": "skip"
    }
   },
   "outputs": [],
   "source": [
    "plt.plot(sol.t,sol.y[1,:],marker='.')\n",
    "plt.xlabel('t')\n",
    "plt.ylabel('$x^{(2)}(t)$')\n",
    "plt.grid()"
   ]
  },
  {
   "cell_type": "code",
   "execution_count": 87,
   "metadata": {},
   "outputs": [
    {
     "data": {
      "image/png": "[encoded data removed]",
      "text/plain": [
       "<Figure size 432x288 with 1 Axes>"
      ]
     },
     "metadata": {
      "needs_background": "light"
     },
     "output_type": "display_data"
    }
   ],
   "source": [
    "plt.show()"
   ]
  },
  {
   "cell_type": "markdown",
   "metadata": {
    "slideshow": {
     "slide_type": "subslide"
    }
   },
   "source": [
    "## Dlaczego to działa?\n",
    "Weźmy proste równanie różniczkowe,\n",
    "$$\n",
    "\\dot{x}=\\lambda x\n",
    "$$\n",
    "Rozwiązania tego równania są stabilne dla $\\mathrm{Re}\\lambda<0$\n",
    "\n",
    "Jego rozwiązanie metodą Eulera ma postać\n",
    "$$\n",
    "x_{k+1}=(1+h\\lambda)x_k\n",
    "$$\n",
    "To rozwiązanie jest stabilne, jeżeli $|1+h\\lambda|<1$ czyli dla $h\\lambda$ leżących w kole jednostkowym na płaszczyźnie zespolonej o środku w punkcie $(-1,j0)$. "
   ]
  },
  {
   "cell_type": "markdown",
   "metadata": {
    "slideshow": {
     "slide_type": "subslide"
    }
   },
   "source": [
    "## Stabilność metod odwrotnych\n",
    "Metoda Eulera w tył (uwikłana) bazuje na analogicznej kwadraturze.\n",
    "\n",
    "Dla niej rozwiązanie równania różniczkowego ma postać:\n",
    "$$\n",
    "x_{k+1}=x_k+hf(t_{k+1},x_{k+1})\n",
    "$$\n",
    "Co dla naszego równania ma postać\n",
    "\n",
    "$$\n",
    "x_{k+1}=\\frac{1}{1-h\\lambda}x_k\n",
    "$$\n",
    "Warunkiem stabilności jest więc $|1-h\\lambda|>1$ czyli $h\\lambda$ musi leżeć **na zewnątrz** koła jednostkowego o środku w $(1,j0)$, czyli automatycznie dla stabilnych równań ciągłych stabilność będzie zachowana."
   ]
  },
  {
   "cell_type": "markdown",
   "metadata": {
    "slideshow": {
     "slide_type": "subslide"
    }
   },
   "source": [
    "## Odwrotne metody Rungego-Kutty\n",
    "- Metody te, to metody w których macierze nie są już trójkątne dolne, i etapy mogą zależeć od siebie nawzajem.\n",
    "- Charakteryzują się wysoką stabilnością.\n",
    "- Wymagają rozwiązywania w każdej iteracji ukłądu równań nieliniowych - duży koszt numeryczny, dodatkowe źródła błędów."
   ]
  },
  {
   "cell_type": "markdown",
   "metadata": {
    "slideshow": {
     "slide_type": "subslide"
    }
   },
   "source": [
    "## Skąd się bierze sztywność równań?\n",
    "- Złe wyskalowanie.\n",
    "- Układ zawiera składowe na różnych stałych czasowych.\n",
    "- Osobliwości w równaniach lub układy bliskie osobliwym."
   ]
  },
  {
   "cell_type": "markdown",
   "metadata": {
    "slideshow": {
     "slide_type": "subslide"
    }
   },
   "source": [
    "## Równania sztywne w Pythonie\n",
    "\n",
    "\n",
    "```solve_ivp``` oferuje nam dwie metody:\n",
    "- 'Radau' - opartą o zmodyfikowaną kwadraturę Gaussa - jest to metoda RK typu odwrotnego\n",
    "- 'BDF' - metoda zupełnie innego typu wykorzystująca wariant algorytmu Geara, bazuje na różnicach wstecznych i zmienianiu rzędu metody od 1-5 (zaimplementowana w Matlabie jako ```ode15s```"
   ]
  },
  {
   "cell_type": "code",
   "execution_count": null,
   "metadata": {},
   "outputs": [],
   "source": []
  }
 ],
 "metadata": {
  "celltoolbar": "Slideshow",
  "kernelspec": {
   "display_name": "Python 3",
   "language": "python",
   "name": "python3"
  },
  "language_info": {
   "codemirror_mode": {
    "name": "ipython",
    "version": 3
   },
   "file_extension": ".py",
   "mimetype": "text/x-python",
   "name": "python",
   "nbconvert_exporter": "python",
   "pygments_lexer": "ipython3",
   "version": "3.7.3"
  }
 },
 "nbformat": 4,
 "nbformat_minor": 2
}
