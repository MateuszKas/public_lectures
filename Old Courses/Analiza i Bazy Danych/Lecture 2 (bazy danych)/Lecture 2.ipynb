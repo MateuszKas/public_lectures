{
 "cells": [
  {
   "cell_type": "code",
   "execution_count": 1,
   "metadata": {
    "slideshow": {
     "slide_type": "skip"
    }
   },
   "outputs": [
    {
     "data": {
      "text/html": [
       "<style>\n",
       ".rendered_html table, .rendered_html th, .rendered_html tr, .rendered_html td {\n",
       "     font-size: 80%;\n",
       "}\n",
       "</style>\n"
      ],
      "text/plain": [
       "<IPython.core.display.HTML object>"
      ]
     },
     "metadata": {},
     "output_type": "display_data"
    }
   ],
   "source": [
    "%%HTML\n",
    "<style>\n",
    ".rendered_html table, .rendered_html th, .rendered_html tr, .rendered_html td {\n",
    "     font-size: 80%;\n",
    "}\n",
    "</style>"
   ]
  },
  {
   "cell_type": "markdown",
   "metadata": {
    "slideshow": {
     "slide_type": "slide"
    }
   },
   "source": [
    "# Analiza i bazy danych\n",
    "## Bazy danych\n",
    "### mgr inż. Waldemar Bauer"
   ]
  },
  {
   "cell_type": "markdown",
   "metadata": {
    "slideshow": {
     "slide_type": "subslide"
    }
   },
   "source": [
    "## Narzędzia używane na zajęciach\n",
    "| | | |  \n",
    "|-|-|-|\n",
    "<div style=\"width: 200px;\">![](fig/python-logo-1.png)</div>|<div style=\"width: 200px;\">![](fig/postgresql-logo.png)</div>|<div style=\"width: 200px;\">![](fig/sqla_logo.png)<div>\n",
    "| | | |\n"
   ]
  },
  {
   "cell_type": "markdown",
   "metadata": {
    "slideshow": {
     "slide_type": "subslide"
    }
   },
   "source": [
    "## Dlaczego używamy baz danych\n",
    "\n",
    "- Organizują dane w ustandaryzowany sposób\n",
    "- System organizacji danych odpowiada ludzkiej logice\n",
    "- Umożliwia szybkie przeszukiwani, łączenie i filtrowanie danych\n",
    "- Ułatwia dzielnie się danymi przez ich użytkowników"
   ]
  },
  {
   "cell_type": "markdown",
   "metadata": {
    "slideshow": {
     "slide_type": "subslide"
    }
   },
   "source": [
    "## Definicja bazy danych\n",
    "\n",
    "__Nieformalnie__: baza danych to dane i specjalny program umożliwiający ich\n",
    "gromadzenie i przetwarzanie.\n",
    "\n",
    "__Formalne__: Baza danych jest zbiorem powiązanych informacji zorganizowanych w\n",
    "strukturę umożliwiającą łatwe przetwarzanie.\n",
    "\n",
    "__Definicja prawna__: Zależna od organizacji lub kraju"
   ]
  },
  {
   "cell_type": "markdown",
   "metadata": {},
   "source": [
    "## Rodzaje baz danych  \n",
    "\n",
    "__Bazy proste__:\n",
    "- Kartotekowe\n",
    "- Hierarchiczne\n",
    "\n",
    "__Bazy złożone__:\n",
    "- Relacyjne\n",
    "- Obiektowe\n",
    "- Relacyjno-obiektowe\n",
    "- Strumieniowe\n",
    "- Temporalne\n",
    "- Nierelacyjne (NoSQL)\n"
   ]
  },
  {
   "cell_type": "markdown",
   "metadata": {
    "slideshow": {
     "slide_type": "subslide"
    }
   },
   "source": [
    "## Przetwarzanie danych w bazie danych \n",
    "\n",
    "- Wprowadzanie danych,\n",
    "- Zapisywanie i przechowywanie danych,\n",
    "- Wyszukiwanie i prezentacja danych,\n",
    "- Wstawianie i usuwanie danych,\n",
    "- Aktualizacje danych,\n",
    "- Przetwarzanie arytmetyczne, statystyczne, algebraiczne i logiczne,\n",
    "- Operacje oparte na algebrze relacji,\n",
    "- Kodowanie i dekodowanie danych\n"
   ]
  },
  {
   "cell_type": "markdown",
   "metadata": {},
   "source": [
    "## Cele systemu bazodanowego\n",
    "\n",
    "- Centralizacja\n",
    "- Dostęp selektywny\n",
    "- Utrzymanie spójności danych\n",
    "- Normalizacja\n",
    "- Dostęp wielokrotny\n",
    "- Widoki\n",
    "- Dostęp równoległy\n",
    "- Niezależność danych\n",
    "- Optymalizacja"
   ]
  },
  {
   "cell_type": "markdown",
   "metadata": {
    "slideshow": {
     "slide_type": "subslide"
    }
   },
   "source": [
    "## Database Management System (DMS)\n",
    "\n",
    "- Zestaw programów do zarządzania bazą danych\n",
    "\n",
    "- Systemy open source: PostgreSQL, MySQL, Hadoop, Spark, Firebird,...\n",
    "\n",
    "- Systemy handlowe: Oracle, IBM DB, MS SQL Server,...\n",
    "\n",
    "- Systemy biurowe: OOBase, MS Access,...\n",
    " \n"
   ]
  },
  {
   "cell_type": "markdown",
   "metadata": {
    "slideshow": {
     "slide_type": "subslide"
    }
   },
   "source": [
    "## Funkcjonalności DMS\n",
    "\n",
    "- Umożliwienie zaprojektowania i wdrożenia nowej bazy danych przy użyciu narzędzi i Data Definition Language (DDL).\n",
    "\n",
    "- Umożliwienie selektywnego dostępu do danych przy użyciu języka zapytań (query).\n",
    "\n",
    "- Wykonanie określonych operacji na danych przy użyciu języka manipulacji danych (Data Manipulation Language, DML).\n",
    "\n",
    "- Obsługa przechowywania dużych zestawów danych, zapewnienie niezawodności i wydajności obsługi operacji na danych zapisanych na dysku.\n",
    "\n",
    "- Zapewnienie integralności danych (na poziomie tabeli, na poziomie bazy danych)."
   ]
  },
  {
   "cell_type": "markdown",
   "metadata": {
    "slideshow": {
     "slide_type": "subslide"
    }
   },
   "source": [
    "## Funkcjonalności DMS - cd.\n",
    "\n",
    "- Ochrona dostępu do danych - różne obszary i poziomy dostępu (prowadzenie kont użytkowników, przydzielanie uprawnień, tworzenie widoków).\n",
    "\n",
    "- Zapewnianie dostępu dla wielu użytkowników i synchronizacja dostępu w przypadku dostępu kooperacyjnego.\n",
    "\n",
    "- Zapewnienie możliwości komunikacji z innymi systemami.\n",
    "\n",
    "- Dostarczenie opisu i dokumentacji (schemat i struktura).\n",
    "\n",
    "- Optymalizacja pracy (minimalizacja czasu dostępu lub obsługi zadań), optymalizacja dostępu dla poszczególnych użytkowników, optymalizacja zarządzania zasobami i organizacją bazy danych."
   ]
  },
  {
   "cell_type": "markdown",
   "metadata": {
    "slideshow": {
     "slide_type": "subslide"
    }
   },
   "source": [
    "## Realcyjny model bazy danych\n",
    "\n",
    "- Twórca Edgar Frank Codd, 1970, IBM\n",
    "\n",
    "- Model organizacji danych bazujący na matematycznej teorii mnogości, w szczególności na pojęciu relacji.\n",
    "\n",
    "- Dane są przedstawione w postaci relacyjnej.\n",
    "\n",
    "- Relacje jest reprezentowan przez tabelę."
   ]
  },
  {
   "cell_type": "markdown",
   "metadata": {
    "slideshow": {
     "slide_type": "subslide"
    }
   },
   "source": [
    "## 12 Postulatów Codda \n",
    "\n",
    "0. System musi być kwalifikowany jako relacyjny, jako baza danych i jako system zarządzania\n",
    "\n",
    "1. Postulat informacyjny - dane są reprezentowane jedynie poprzez wartości atrybutów w wierszach tabel,\n",
    "\n",
    "1. Postulat dostępu - każda wartość w bazie danych jest dostępna poprzez podanie nazwy tabeli, atrybutu oraz wartości klucza podstawowego,\n",
    "\n",
    "1. Postulat dotyczący wartości NULL - dostępna jest specjalna wartość NULL dla reprezentacji wartości nieokreślonej jak i nieadekwatnej, inna od wszystkich i podlegająca przetwarzaniu"
   ]
  },
  {
   "cell_type": "markdown",
   "metadata": {
    "slideshow": {
     "slide_type": "subslide"
    }
   },
   "source": [
    "## 12 Postulatów Codda cd\n",
    "\n",
    "4. Postulat dotyczący katalogu - wymaga się, aby system obsługiwał wbudowany katalog relacyjny z bieżącym dostępem dla uprawnionych użytkowników używających języka zapytań,\n",
    "\n",
    "4. Postulat języka danych - system musi dostarczać pełnego języka przetwarzania danych, który może być używany w trybie interaktywnym jak i w obrębie programów aplikacyjnych, obsługuje operacje definiowania danych, operacje manipulowania danymi, ograniczenia związane z bezpieczeństwem i integralnością oraz operacje zarządzania transakcjami,\n",
    "\n",
    "4. Postulat modyfikowalności widoków - system musi umożliwiać modyfikowanie widoków,\n",
    "\n",
    "4. Postulat modyfikowalności danych - system musi umożliwiać operacje modyfikacji danych, musi obsługiwać operatory INSERT, UPDATE oraz DELETE,"
   ]
  },
  {
   "cell_type": "markdown",
   "metadata": {
    "slideshow": {
     "slide_type": "subslide"
    }
   },
   "source": [
    "## 12 Postulatów Codda cd\n",
    "8. Postulat fizycznej niezależności danych - zmiany fizycznej reprezentacji danych i organizacji dostępu nie wpływają na aplikacje,\n",
    "\n",
    "8. Postulat logicznej niezależności danych - zmiany wartości w tabelach nie wpływają na aplikacje,\n",
    "\n",
    "8. Postulat niezależności ograniczeń - ograniczenia są definiowane w bazie i nie zależą od aplikacji,\n",
    "\n",
    "8. Postulat niezależności dystrybucyjnej - działanie aplikacji nie zależy od modyfikacji i dystrybucji bazy,\n",
    "\n",
    "8. Postulat bezpieczeństwa względem operacji niskiego poziomu - operacje niskiego poziomu nie mogą naruszać modelu relacyjnego i więzów spójności."
   ]
  },
  {
   "cell_type": "markdown",
   "metadata": {
    "slideshow": {
     "slide_type": "subslide"
    }
   },
   "source": [
    "## Tabela w bazie danych\n",
    "\n",
    "- najprostrzy sposób przechowywania danych\n",
    "- W modelu relacyjnym bazy danych tabela jest kolekcją danych reprezenrtowanych przez wiersze i kolumny\n",
    "- Tabla w prost może służyć do przedstawienia realcji\n",
    "- Jednak sama tabela może zawierać duplikaty które nie dopuszczale są w realicyjnym modelu, dlatego stosuje się __klucze głowne__ (*ang.* primary key)\n",
    "\n",
    "|id|imie|nazwisko|wiek|\n",
    "|-|-|-|-|\n",
    "|1|Adel|Orion|21|\n",
    "|2|Marek|Papier|22|\n",
    "|3|Zuzanna| Iskra|24|\n",
    "|4|Adel|Orion|21|\n"
   ]
  },
  {
   "cell_type": "markdown",
   "metadata": {
    "slideshow": {
     "slide_type": "subslide"
    }
   },
   "source": [
    "## Krotka\n",
    "\n",
    "- Pojedynczy wpis w tabeli (wiersz) nazywa się krotką lub rekordem\n",
    "- Krotka w tabeli reprezentuje zestaw połączonych ze sobą danych\n",
    "\n",
    "|id|imie|nazwisko|wiek|\n",
    "|-|-|-|-|\n",
    "|3|Zuzanna| Iskra|24|\n"
   ]
  },
  {
   "cell_type": "markdown",
   "metadata": {
    "slideshow": {
     "slide_type": "subslide"
    }
   },
   "source": [
    "## Atrybut\n",
    "\n",
    "- Tabela składa się z kilku rekordów (wierszy), każdy rekord można podzielić na kilka części zwanych atrybutami (kolumna)\n",
    "\n",
    "- Kiedy atrybut jest częścią relacji (tabeli), jest zdefiniowany tak, aby przechowywał tylko określony typ wartości, zwany __domeną atrybutu__\n",
    "\n",
    "|Imię|\n",
    "|-|\n",
    "|Anna|\n",
    "|Marta|\n",
    "|Wojtek|\n",
    "|Marcin|\n"
   ]
  },
  {
   "cell_type": "markdown",
   "metadata": {
    "slideshow": {
     "slide_type": "subslide"
    }
   },
   "source": [
    "## Rodzaje zmiennych w SQL\n",
    "\n",
    "- Nie wszystkie typy danych są obsługiwane przez serwery relacyjnych baz danych. Dla przykład baza danych Oracle nie nie obsługuje DATETIME.\n",
    "\n",
    "- Niektóre systemy bazodanowe posiadają własne dedykowane typy danych.  Na przykład Microsoft SQL Serwer posida typ *money* i *smallmoney*, nie obsługiwany przez inne bazy danych"
   ]
  },
  {
   "cell_type": "markdown",
   "metadata": {
    "slideshow": {
     "slide_type": "subslide"
    }
   },
   "source": [
    "## Zmienne liczbowe\n",
    "|Nazwa|Rozmiar|Opis|Zakres|\n",
    "|-|-|-|-|\n",
    "|smallint|2B|małe liczby całkowite|\t\\[-32768, +32767\\]|\n",
    "|integer|4B|liczby całkowite|\\[-2147483648, +2147483647\\]|\n",
    "|bigint|8B|\tduże liczby calkowite|\\[-9223372036854775808, 9223372036854775807\\]|\n",
    "|decimal|zmienny|użytkownik deklaruje dokładność| do 131072 liczb przed kropką dzisiętną;<br> do 16383 liczb za kropką dzisiętną|\n",
    "|numeric|zmienny|użytkownik deklaruje dokładność| do 131072 liczb przed kropką dzisiętną;<br> do 16383 liczb za kropką dzisiętną|\n",
    "|real|4B|zmienna precyzja|6 miejsc po przecinku|\n",
    "|double precision|8B|zmienna precyzja| 15 miejsc po przecinku|\n",
    "|serial|4B|\tautoinkrementowany int|\t1 do 2147483647|\n",
    "|bigserial|8B|duży autoinkrementowany int|\t1 do 9223372036854775807|"
   ]
  },
  {
   "cell_type": "markdown",
   "metadata": {
    "slideshow": {
     "slide_type": "subslide"
    }
   },
   "source": [
    "## Zmienne reprezentujące czas\n",
    "\n",
    "|Nazwa|Rozmiar|Zakres|Rozdzielczość|\n",
    "|-|-|-|-|\n",
    "|Timestamp without timezone|8B|\tod 4713 BC do 294276 AD|1μs/14 cyfr|\n",
    "|Timestamp with timezone|8B| od 4713 BC do 294276 AD|1μs/14 cyfr|\n",
    "|date|4B| od 4713 BC do 294276 AD|\tjeden dzień|\n",
    "|Time without timezone|8B| od 00:00:00 do 24:00:00|1μs/14 cyfr|\n",
    "|Time with timezone|12B| od\t00:00:00 + 1459 do 24:00:00-1459|1μs/14 cyfr|\n",
    "|Interval|12B|od -178000000 do 178000000 lat|1μs/14 cyfr|"
   ]
  },
  {
   "cell_type": "markdown",
   "metadata": {
    "slideshow": {
     "slide_type": "subslide"
    }
   },
   "source": [
    "## Zmienne łańcuchów znaków\n",
    "\n",
    "|Nazwa|\tOpis|\n",
    "|-|-|\n",
    "|varchar(n)|Pozwala zadeklarować zmienną długość z ograniczeniem|\n",
    "|Char(n)| Zadeklarowan długość|\t\n",
    "|Text|\tNieograniczona długość|"
   ]
  },
  {
   "cell_type": "markdown",
   "metadata": {
    "slideshow": {
     "slide_type": "subslide"
    }
   },
   "source": [
    "## Zmienne binarne\n",
    "|Nazwa|Opis|\n",
    "|-|-|\n",
    "|BINARY| Stała długość 8000B|\n",
    "|VARBINARY| Zmienna długość do 8000B|\n",
    "|VARBINARY(max)| Zmienna długość do max|\n",
    "|IMAGE|Zmienna długość do 2GB|"
   ]
  },
  {
   "cell_type": "markdown",
   "metadata": {
    "slideshow": {
     "slide_type": "subslide"
    }
   },
   "source": [
    "## Zmienne specjalne\n",
    "\n",
    "|Nazwa|Opis|\n",
    "|-|-|\n",
    "|CLOB| Obikety do 2GB|\n",
    "|BLOB| Obikety binarne do 2GB|\n",
    "|XML| do tekstów XML|\n",
    "|JSON| do tekstów JSON|"
   ]
  },
  {
   "cell_type": "markdown",
   "metadata": {
    "slideshow": {
     "slide_type": "subslide"
    }
   },
   "source": [
    "## Zmienna NULL\n",
    "\n",
    "- Wartość NUll jest specjalną zmienną\n",
    "\n",
    "- Reprezentuje brakujące wartości \n",
    "\n",
    "- Pole o wartości NULL jest polem bez wartości. \n",
    "\n",
    "- Bardzo ważne jest, aby zrozumieć, że wartość NULL różni się od wartości zerowej lub pola zawierającego spacje\n",
    "\n",
    "|id|imie|nazwisko|wiek|adres|\n",
    "|-|-|-|-|-|\n",
    "|1|Adel|Orion|21|Szkolna|\n",
    "|2|Marek|Papier|22|Null|\n",
    "|3|Zuzanna| Iskra|24| |\n",
    "|4|Adel|Orion|21|Borowa|"
   ]
  },
  {
   "cell_type": "markdown",
   "metadata": {
    "slideshow": {
     "slide_type": "subslide"
    }
   },
   "source": [
    "## Relacja\n",
    "\n",
    "- W ujęciu formalnym realcja n-członową (n-arną) nazywamy dowolny podzbiór iloczynu kartezjańskiego pewnych zbiorów.\n",
    "\n",
    "- Iloczyn kartezjański – dla danych zbiorów A i B zbiór wszystkich takich par uporządkowanych (a, b), że a należy do zbioru A i b należy do zbioru B. Iloczyn kartezjański zbiorów A i B oznacza się symbolem A$\\times$B.\n",
    "\n",
    "<center>$A\\times B = \\{(a,b)|a\\in A \\land\tb\\in B\\}$</center>"
   ]
  },
  {
   "cell_type": "markdown",
   "metadata": {
    "slideshow": {
     "slide_type": "subslide"
    }
   },
   "source": [
    "## Przykład\n",
    "\n",
    "Niech dane będą zbiory A = {x,y}, B = {1,2,3}, C = {+,-}, iloczyn kartezjański $A\\times B\\times C$ wynosi:\n",
    "<center>$A\\times B\\times C = \\\\\\{(x,1,+),(x,1,-),(x,2,+),(x,2,-),(x,3,+),(x,3,-),\\\\(y,1,+),(y,1,-),(y,2,+),(y,2,-),(y,3,+),(y,3,-)\\}$</center>"
   ]
  },
  {
   "cell_type": "markdown",
   "metadata": {
    "slideshow": {
     "slide_type": "subslide"
    }
   },
   "source": [
    "## Rrelacje w bazach danych\n",
    "\n",
    "- Relacje w bazie danych są powiązaniami między tabelami, które są tworzone na podstawie instrukcji łączenia (__join__) w celu odtworzenia danych.\n",
    "\n",
    "- Podstawowe relacje w bazach danych to:\n",
    "    - Jeden do jednego\t\n",
    "    - Jeden do wielu\t\n",
    "    - Wiele do wielu\t\n",
    "    "
   ]
  },
  {
   "cell_type": "markdown",
   "metadata": {
    "slideshow": {
     "slide_type": "subslide"
    }
   },
   "source": [
    "## Relacja jeden do jednego\n",
    "\n",
    "- Obydwie tabele mogą zawierać tylko jeden rekord po każdej stronie relacji.\n",
    "\n",
    "- Każda wartość klucza podstawowego dotyczy tylko jednego lub nie dotyczy żadnego rekordu w tabeli powiązanej.\n",
    "\n",
    "- Relacje \"jeden do jednego\" są w większości wymuszane przez reguły biznesowe i nie wynikają w sposób naturalny z danych. "
   ]
  },
  {
   "cell_type": "markdown",
   "metadata": {
    "slideshow": {
     "slide_type": "subslide"
    }
   },
   "source": [
    "## Relacja jeden do wielu\n",
    "\n",
    "- Tabela klucza podstawowego zawiera tylko jeden rekord, który dotyczy żadnego, jednego lub wielu rekordów w powiązanej tabeli.\n",
    "\n",
    "-  Jest to typ relacji najczęściej występujący w relacyjnych bazach danych."
   ]
  },
  {
   "cell_type": "markdown",
   "metadata": {
    "slideshow": {
     "slide_type": "subslide"
    }
   },
   "source": [
    "## Relacja wiele do wielu\n",
    "\n",
    "- Każdemu rekordowi z pierwszej tabeli może odpowiadać wiele rekordów z drugiej tabeli i każdemu z rekordów z drugiej tabeli może odpowiadać wiele rekordów z pierwszej tabeli.\n",
    "\n",
    "- Systemy relacyjne nie mogą bezpośrednio obsługiwać takiej relacji.\n",
    "\n",
    "- Aby ta relacja mogła istnieć potrzebujemy utworzyć trzecią tabelę nazywaną tabelą powiązań.\n",
    "\n",
    "\n"
   ]
  }
 ],
 "metadata": {
  "celltoolbar": "Slideshow",
  "kernelspec": {
   "display_name": "Python 3",
   "language": "python",
   "name": "python3"
  },
  "language_info": {
   "codemirror_mode": {
    "name": "ipython",
    "version": 3
   },
   "file_extension": ".py",
   "mimetype": "text/x-python",
   "name": "python",
   "nbconvert_exporter": "python",
   "pygments_lexer": "ipython3",
   "version": "3.7.0"
  }
 },
 "nbformat": 4,
 "nbformat_minor": 2
}
