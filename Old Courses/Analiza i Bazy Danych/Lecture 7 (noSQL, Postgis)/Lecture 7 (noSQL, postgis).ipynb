{
 "cells": [
  {
   "cell_type": "code",
   "execution_count": 1,
   "metadata": {
    "slideshow": {
     "slide_type": "skip"
    }
   },
   "outputs": [
    {
     "data": {
      "text/html": [
       "<style>\n",
       ".rendered_html table, .rendered_html th, .rendered_html tr, .rendered_html td {\n",
       "     font-size: 90%;\n",
       "}\n",
       "</style>\n"
      ],
      "text/plain": [
       "<IPython.core.display.HTML object>"
      ]
     },
     "metadata": {},
     "output_type": "display_data"
    }
   ],
   "source": [
    "%%HTML\n",
    "<style>\n",
    ".rendered_html table, .rendered_html th, .rendered_html tr, .rendered_html td {\n",
    "     font-size: 90%;\n",
    "}\n",
    "</style>"
   ]
  },
  {
   "cell_type": "markdown",
   "metadata": {
    "slideshow": {
     "slide_type": "slide"
    }
   },
   "source": [
    "# Analiza i bazy danych\n",
    "\n",
    "## NoSQL, PostGis\n",
    "\n",
    "### mgr inż. Waldemar Bauer"
   ]
  },
  {
   "cell_type": "markdown",
   "metadata": {
    "slideshow": {
     "slide_type": "slide"
    }
   },
   "source": [
    "# Wady realcyjnego modelu baz danych\n",
    "\n",
    "- Zorientowany na rekordy .\n",
    "\n",
    "- Konieczność wcześniejszego określenia schematu bazy danych.\n",
    "\n",
    "- Nie można wstawiać danych nie pasujących do schematu, nie wolno dodawać nowych atrybutów.\n",
    "\n",
    "- Za słaby do reprezentacji wiedzy: tylko jedna konstrukcja (tabela), atomowe atrybuty.\n"
   ]
  },
  {
   "cell_type": "markdown",
   "metadata": {
    "slideshow": {
     "slide_type": "slide"
    }
   },
   "source": [
    "# NoSQL\n",
    "\n",
    "- Jest to pojęcie definiujące podejście do przechowywania danych w nierelacyjnych bazę danych.\n",
    "\n",
    "- Akronim pochodzi od słów „non SQL” choć często mówi się „not only SQL”. \n",
    "\n",
    "- Ten typ baz danych nie tyle eliminuje klasyczny, relacyjny model, co doskonale go uzupełnia.\n",
    "\n",
    "- Bazy NoSQL nie spełniają ACID za to starają się zaimplementować **BASE**"
   ]
  },
  {
   "cell_type": "markdown",
   "metadata": {
    "slideshow": {
     "slide_type": "slide"
    }
   },
   "source": [
    "# **BASE** (Basically Available, Soft state, Eventual consistency)\n",
    "\n",
    "\n",
    "- (B)asically (A)vailable: podstawowe operacje odczytu i zapisu są dostępne w jak największym stopniu (przy użyciu wszystkich węzłów klastra bazy danych), ale bez jakichkolwiek gwarancji spójności (zapis może nie zostać utrzymany po zakończeniu konfliktów, odczyt może nie uzyskać najnowszego zapisu)\n",
    "- (S)oft state: brak zapewnienia spójności, po pewnym czasie istnieje tylko prawdopodobieństwo tego, że poznamy dokałdny stan \n",
    "- (E)ventual consistency: jeśli system działa i czekamy wystarczająco długo na dowolny zestaw danych wejściowych, w końcu go przeczytamy"
   ]
  },
  {
   "cell_type": "markdown",
   "metadata": {
    "slideshow": {
     "slide_type": "slide"
    }
   },
   "source": [
    "# NoSQL początki\n",
    "\n",
    "- Nierelacyjne bazy danych opracowana w latach 60. XX wieku, \n",
    "- Stosowane były do wyspecjalizowanych repozytoriów, na przykład w hierarchicznych usługach katalogowych. \n",
    "\n",
    "- NoSQL powstał ponieważ  umożliwia tworzenie prostych projektów, horyzontalne skalowanie do klastrów maszyny (co jest problemem dla relacyjnych baz danych) i lepszą kontrolę nad dostępnością. "
   ]
  },
  {
   "cell_type": "markdown",
   "metadata": {
    "slideshow": {
     "slide_type": "slide"
    }
   },
   "source": [
    "# NoSQL skalowalność horyzontalna\n",
    "\n",
    "**Zgodnie z teorią CAP** Erica Brewera, dotyczącej wydajności skalowania baz danych, każda baza danych może mieć co najwyżej dwie cechy z poniższej listy:\n",
    "\n",
    "- Spójność (ang. Consistency),\n",
    "- Dostępność (ang. Availibility),\n",
    "- Tolerancja partycjonowania (ang. Partition Tolerance).\n",
    "\n",
    "W bazach NoSQL celowo rezygnuje się ze spójności na rzecz większej wydajności i tolerancji na partycje "
   ]
  },
  {
   "cell_type": "markdown",
   "metadata": {
    "slideshow": {
     "slide_type": "slide"
    }
   },
   "source": [
    "# Rodzaje baz danych NoSQL\n",
    "\n",
    "Przykładowe technologie:\n",
    "\n",
    "- bazy danych typu klucz-wartość – Redis, Couchbase Server, DynamoDB,\n",
    "- bazy danych dokumentów – MongoDB, CouchDB,\n",
    "- kolumnowe bazy danych – Apache Cassandra,\n",
    "- systemy pamięci podręcznej – Redis, Memcache,\n",
    "- grafowe bazy danych – Neo4J, ArangoDB, FaunaDB, OrientDB."
   ]
  },
  {
   "cell_type": "markdown",
   "metadata": {
    "slideshow": {
     "slide_type": "slide"
    }
   },
   "source": [
    "# Zalety baz danych NoSQL\n",
    "\n",
    "Przewaga NoSQL nad SQL polega na tym, że:\n",
    "\n",
    "- są bardziej przystosowane dp przetwarzania Big Data,\n",
    "- modele danych – brak predefiniowanych relacji powoduje ich większą elastyczność,\n",
    "- potrafią przetwarzać dane niestrukturalne,\n",
    "- tańsze i prostsze w utrzymaniu,\n",
    "- skalowalne (łatwe skalowanie horyzontalne)."
   ]
  },
  {
   "cell_type": "markdown",
   "metadata": {
    "slideshow": {
     "slide_type": "slide"
    }
   },
   "source": [
    "# Wady baz danych NoSQL\n",
    "- dla danych, w których występują relacje zalecane są nadal standardowe RDBMS,\n",
    "- normalizacja w bazach relacyjnych pozwala na uniknięciu redundancji,\n",
    "- relacyjne bazy danych rokują większą integralności i spójność danych,\n",
    "- brak standardu języka zapytań,\n",
    "- brak mechanizmów transkacyjnych –  ACID "
   ]
  },
  {
   "cell_type": "markdown",
   "metadata": {
    "slideshow": {
     "slide_type": "subslide"
    }
   },
   "source": [
    "# GIS (Geographic Information System)\n",
    "\n",
    "System informacyjny służący do wprowadzania, gromadzenia, przetwarzania oraz wizualizacji danych geograficznych.\n",
    "\n",
    "Każdy system GIS składa się z: bazy danych geograficznych, sprzętu komputerowego, oprogramowania oraz twórców i użytkowników GIS. W przypadku, gdy system informacji geograficznej gromadzi dane opracowane w formie mapy wielkoskalowej (tj. w skalach 1:5000 i większych), może być nazywany systemem informacji o terenie (ang. land information system, LIS)."
   ]
  },
  {
   "cell_type": "markdown",
   "metadata": {
    "slideshow": {
     "slide_type": "slide"
    }
   },
   "source": [
    "# PostGis\n",
    "\n",
    "PostGIS to  rozszerzenie PostgreSQL,  dodające  możliwość zapisywania  danych geograficznych wprost do bazy danych. \n",
    "\n",
    "Program wydany jest na licencji GNU GPL. Projekt nadal rozwijany przezProject Steering Committee.\n",
    "\n",
    "Umożliwia:\n",
    "- tworzenie prostej topologii,\n",
    "- sprawdza poprawnośćdanych przestrzennych, \n",
    "- transformacje układów współrzędnych, \n",
    "- analizy danych przestrzennych,\n",
    "- przechowywanie i analizę danych rastrowych."
   ]
  },
  {
   "cell_type": "markdown",
   "metadata": {},
   "source": [
    "# PostGis typy danych\n",
    "\n",
    "- **geometry** - układ odniesienia do płaszczyzny \n",
    "- **geographic** - układ   odniesienia   do   elipsoidy,   współrzędne   podajemy w stopniach, minutach i sekundach kątowych (WGS84)\n",
    "- **raster** - przechowuje dane rastrow GIS"
   ]
  }
 ],
 "metadata": {
  "celltoolbar": "Slideshow",
  "kernelspec": {
   "display_name": "Python 3",
   "language": "python",
   "name": "python3"
  },
  "language_info": {
   "codemirror_mode": {
    "name": "ipython",
    "version": 3
   },
   "file_extension": ".py",
   "mimetype": "text/x-python",
   "name": "python",
   "nbconvert_exporter": "python",
   "pygments_lexer": "ipython3",
   "version": "3.7.6"
  }
 },
 "nbformat": 4,
 "nbformat_minor": 2
}
