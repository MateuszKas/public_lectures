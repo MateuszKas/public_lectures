{
 "cells": [
  {
   "cell_type": "code",
   "execution_count": 1,
   "metadata": {
    "slideshow": {
     "slide_type": "skip"
    }
   },
   "outputs": [
    {
     "data": {
      "text/html": [
       "<style>\n",
       ".rendered_html table, .rendered_html th, .rendered_html tr, .rendered_html td {\n",
       "     font-size: 100%;\n",
       "}\n",
       "</style>\n"
      ],
      "text/plain": [
       "<IPython.core.display.HTML object>"
      ]
     },
     "metadata": {},
     "output_type": "display_data"
    }
   ],
   "source": [
    "%%HTML\n",
    "<style>\n",
    ".rendered_html table, .rendered_html th, .rendered_html tr, .rendered_html td {\n",
    "     font-size: 100%;\n",
    "}\n",
    "</style>"
   ]
  },
  {
   "cell_type": "markdown",
   "metadata": {
    "slideshow": {
     "slide_type": "slide"
    }
   },
   "source": [
    "# Analiza i bazy danych\n",
    "## Bazy danych\n",
    "### mgr inż. Waldemar Bauer"
   ]
  },
  {
   "cell_type": "markdown",
   "metadata": {
    "slideshow": {
     "slide_type": "slide"
    }
   },
   "source": [
    "## Klucze w bazach danych\n",
    "\n",
    "- Klucze są podstawową koncepcją w teorii relacyjnych baz danych.\n",
    "- Umożliwiją identyfikację krotek w bazie danych.\n",
    "- Umożliwiją tworzenie relacji (asocjacji) w bazach danych.\n",
    "- Dobór klucza odbywa się na etapie normalizacji bazy dancyh"
   ]
  },
  {
   "cell_type": "markdown",
   "metadata": {
    "slideshow": {
     "slide_type": "subslide"
    }
   },
   "source": [
    "## Rodzje kluczy \n",
    "\n",
    "1. Prosty - klucz składający się z jednej kolumny\n",
    "1. Złożony - klucz składający się z wielu kolumn\n",
    "1. Naturalny - klucz wynikający bezpośrednio ze struktury danych\n",
    "1. Sztuczny - klucz wprowadzony do danych by łątwiej identyfikować krotki\n"
   ]
  },
  {
   "cell_type": "markdown",
   "metadata": {
    "slideshow": {
     "slide_type": "subslide"
    }
   },
   "source": [
    "## Rodzje kluczy cd.\n",
    "\n",
    "3. Superklucz (superkey)– to kolumna lub zestaw kolumn jednoznacznie identyfikujących każda krotkę tabeli. \n",
    "    - Super klucz może zawierać kolumny, które samodzielnie mogą nie identyfikować każdej z krotek. \n",
    "    - Zawiera minimalny zestaw atrybutów unikatowo identyfikujących krotkę.\n",
    "\n",
    "2. Klucz kandydujący (candidate key, nadklucz, klucz potencjalny) - zbiór super kluczy. \n",
    "    - W praktyce to kolumna lub kolumny, które są rozważane w  użycie w charakterze klucza głównego jest rozważane przez projektanta baz danych."
   ]
  },
  {
   "cell_type": "markdown",
   "metadata": {
    "slideshow": {
     "slide_type": "subslide"
    }
   },
   "source": [
    "## Rodzje kluczy cd. \n",
    "\n",
    "5. Klucz główny (primary key) -  to klucz, który został wybrany, aby unikatowo identyfikować krotki tabeli.\n",
    "5. Klucz obcy  (forage key) -  kolumna lub zestaw kolumn w jednej tabeli, która pasuje do klucza kandydującego drugiej lub tej samej tabeli. \n",
    " - Klucze obce służą do tworzenia asocjacji (relacji) pomiędzy tabelami. \n",
    " - Dowolne dane w kolumnie (kolumnach) klucza głównego tabeli A muszą mieć swoje odpowiedniki w odpowiadającej kolumnie (kolumnach) tabeli B.  \n",
    " \n",
    "Zjawisko posiadania odpowiedników klucza głównego w obrębie różnych tabel\n",
    "nazywamy __integracją referencyjną__."
   ]
  },
  {
   "cell_type": "markdown",
   "metadata": {
    "slideshow": {
     "slide_type": "slide"
    }
   },
   "source": [
    "## Anomalie baz danych\n",
    "\n",
    "- Redundancja — ta sama informacja jest niepotrzebnie przechowywana w kilku krotkach.\n",
    "- Anomalia modyfikacji — informacja zostanie zmodyfikowana w pewnych krotkach, a w innych nie.\n",
    "- Anomalia usuwania — usuwanie części informacji powoduje utratę innej informacji.\n",
    "- Anomalia dołączania — do wprowadzenie pewnej encji jest wymagane wprowadzenie encji w których nie mamy danych  w innych tabelach \n",
    "\n",
    "__Rozwiązanie__ Normalizacji Bazy danych"
   ]
  },
  {
   "cell_type": "markdown",
   "metadata": {
    "slideshow": {
     "slide_type": "slide"
    }
   },
   "source": [
    "## Normalizacja baz danych\n",
    "\n",
    "__Postać normalna__ – postać relacji w bazie danych, w której nie występuje redundancja (nadmiarowość), czyli powtarzanie się tych samych informacji. \n",
    "\n",
    "Doprowadzenia relacji do postaci normalnej nazywa się normalizacją lub dekompozycją bazy danych.\n",
    "\n",
    "Obecnie zdefiniowanych jest 6 poziomów postaci normalnych.\n",
    "\n",
    "Najczęściej stosownymi w praktyce są poziomy 3 i 3,5 (BCNF)."
   ]
  },
  {
   "cell_type": "markdown",
   "metadata": {
    "slideshow": {
     "slide_type": "slide"
    }
   },
   "source": [
    "## Podstawowe operacje algebraiczne w bazach danych \n",
    "- Selekcja (SELECT)\n",
    "- Projekcja (PROJECT)\n",
    "- Połączenie (JOIN)\n",
    "    - Iloczyn kartezjański\n",
    "- Operacje na zbiorach\n",
    "    - suma (UNION)\n",
    "    - część wspólna (INTERSECTION)\n",
    "    - różnica (MINUS, DIFFERENCE)\n"
   ]
  },
  {
   "cell_type": "markdown",
   "metadata": {
    "slideshow": {
     "slide_type": "slide"
    }
   },
   "source": [
    "## Podstawowe mechanizmy działania baz danych\n",
    "\n",
    "- Widoki\n",
    "- Indeksy\n",
    "- Procedury składowane\n",
    "- Wyzwalacz (Trigger)\n",
    "- Transkacje\n"
   ]
  },
  {
   "cell_type": "markdown",
   "metadata": {
    "slideshow": {
     "slide_type": "slide"
    }
   },
   "source": [
    "## Widoki\n",
    "\n",
    "- Widok (perspektywa) to logiczny byt (obiekt), osadzony na serwerze baz danych.\n",
    "\n",
    "- Widoki są zapisywane w bazie danych jako zapytania z nazwami i można ich używać do zapisywania często używanych, złożonych zapytań.\n",
    "\n",
    "- Typy widoków:\n",
    "    - złożone\n",
    "    - proste"
   ]
  },
  {
   "cell_type": "markdown",
   "metadata": {
    "slideshow": {
     "slide_type": "subslide"
    }
   },
   "source": [
    "## Idea działania widoków\n",
    "\n",
    "![https://www.essentialsql.com/what-is-a-relational-database-view](fig/AnatomyOfAView.png)\n"
   ]
  },
  {
   "cell_type": "markdown",
   "metadata": {
    "slideshow": {
     "slide_type": "subslide"
    }
   },
   "source": [
    "## Typy widoków\n",
    "\n",
    "|Widok prosty|Widok złożony|\n",
    "|-|-|\n",
    "|Utworzone na bazie jednej tabeli|Utworzone na bazie wielu tabeli|\n",
    "|Nie zawierają procedur|Mogą zawierać procedury|\n",
    "|Obrazują jedną Tabele| Mogą obrazować wiele tabel|"
   ]
  },
  {
   "cell_type": "markdown",
   "metadata": {
    "slideshow": {
     "slide_type": "subslide"
    }
   },
   "source": [
    "## Zalety widoków\n",
    "\n",
    "- Umożliwia łatwe zastosowanie regół biznesowych\n",
    "- Zapewnia spójność w dostępie do danych \n",
    "- Zabezpiecznia dane przed dostępem osób nieuprawnionych\n",
    "- Upraszcza wykonywanie zapytań często powtarzających się\n",
    "- Zajmują niewiele miejsca"
   ]
  },
  {
   "cell_type": "markdown",
   "metadata": {
    "slideshow": {
     "slide_type": "subslide"
    }
   },
   "source": [
    "## Wady widoków\n",
    "\n",
    "- Mogą być niewydajne \n",
    "- Często silniki baz danych nie obsługują widoków dynamicznych"
   ]
  },
  {
   "cell_type": "markdown",
   "metadata": {
    "slideshow": {
     "slide_type": "slide"
    }
   },
   "source": [
    "## Indeksy \n",
    "\n",
    "- Pozwalają uzyskać szybszy dostęp do danych\n",
    "- Indeksy zakłada się na kolumnę w tabeli lub kilka kolumn naraz\n",
    "- Użytkownik z reguły nie posiada dostępu do indeksu\n",
    "- Update tabeli z indeksem jest wolniejszy niż bez indeksu "
   ]
  },
  {
   "cell_type": "markdown",
   "metadata": {
    "slideshow": {
     "slide_type": "subslide"
    }
   },
   "source": [
    "##  Model fizyczny indeksu\n",
    "\n",
    "- uporządkowany plik rekordów indeksu (ang. data entry) o stałej długości\n",
    "- rekord indeksu zawiera dwa pola\n",
    "    - klucz reprezentujący jedną z wartości występujących w atrybutach indeksowych relacji\n",
    "    - wskaźnik do bloku danych zawierający krotkę, której atrybut indeksowy równy jest kluczowi\n"
   ]
  },
  {
   "cell_type": "markdown",
   "metadata": {
    "slideshow": {
     "slide_type": "subslide"
    }
   },
   "source": [
    "##  Indeks B+-drzewo\n",
    "\n",
    "- Zrównoważona struktura drzewiasta\n",
    "    - wierzchołki wewnętrzne służą do wspomagania wyszukiwania\n",
    "    - wierzchołki liści zawierają rekordy indeksu ze wskaźnikami do rekordów danych\n",
    "- Dodawanie rekordów indeksów pozostawia strukturę zrównoważoną\n",
    "- Wyszukanie rekordu wymaga przejścia od korzenia do liścia \n",
    "\n",
    "W bazach przestrzennych wykorzystuje się K-drzewa"
   ]
  },
  {
   "cell_type": "markdown",
   "metadata": {
    "slideshow": {
     "slide_type": "slide"
    }
   },
   "source": [
    "## Procedury składowane\n",
    "\n",
    "- Można ją utorzsamiać z funkcją z dowolnego języka programowania \n",
    "- Wykonywana jest po stronie serwera bazodanowego\n",
    "- Może spowodować zwrost wydajności systemu \n",
    "- Może porządkować interfejs komunikacji apliakcja-bazadanych "
   ]
  },
  {
   "cell_type": "markdown",
   "metadata": {
    "slideshow": {
     "slide_type": "subslide"
    }
   },
   "source": [
    "## Procedury zalety i wady\n",
    "\n",
    "- Zalety:\n",
    "    - uporządkowanie/centralizacja operacji na bazie danych\n",
    "    - wprowadzanie reguł bezpieczeństwa (klient ma prawo wykonać procedurę, a nie wykonać dowolne zapytanie)\n",
    "    - zmniejszenie liczby interakcji z bazą danych\n",
    "- Wady:\n",
    "    - brak mechanizmu przeładowania \n",
    "    - działanie procedury jest natychmiast widoczne w bazie\n",
    "    - przy wielu procedurach użytkowanie bazy może być nieczytelne"
   ]
  },
  {
   "cell_type": "markdown",
   "metadata": {
    "slideshow": {
     "slide_type": "slide"
    }
   },
   "source": [
    "## Wyzwalacz (ang. trigger) \n",
    "\n",
    "- specjalny typ  procedury wykonywana automatycznie jako reakcja na pewne zdarzenia w tabeli bazy danych\n",
    "- Rodzaje wyzwalaczy:\n",
    "    - BEFORE \n",
    "    - AFTER \n",
    "    - INSTEAD OF\n",
    "- Operacje po których może zostać uruchominy wyzwalacz:\n",
    "    - INSERT\n",
    "    - UPDATE \n",
    "    - DELETE\n",
    "    - TRUNCATE"
   ]
  },
  {
   "cell_type": "markdown",
   "metadata": {
    "slideshow": {
     "slide_type": "subslide"
    }
   },
   "source": [
    "## Zalety wyzwalaczy  \n",
    "\n",
    "- Kompleksowa kontrola\n",
    "- Wykonanie reguł biznesowych\n",
    "- Automatyczne uzupełnianie danych"
   ]
  },
  {
   "cell_type": "markdown",
   "metadata": {
    "slideshow": {
     "slide_type": "subslide"
    }
   },
   "source": [
    "## Wady wyzwalaczy  \n",
    "\n",
    "- Przy dużej ilości mogą być trudne do analizy\n",
    "- Możliwość stworzenia pętli wyzwoleń"
   ]
  }
 ],
 "metadata": {
  "celltoolbar": "Slideshow",
  "kernelspec": {
   "display_name": "Python 3",
   "language": "python",
   "name": "python3"
  },
  "language_info": {
   "codemirror_mode": {
    "name": "ipython",
    "version": 3
   },
   "file_extension": ".py",
   "mimetype": "text/x-python",
   "name": "python",
   "nbconvert_exporter": "python",
   "pygments_lexer": "ipython3",
   "version": "3.7.6"
  }
 },
 "nbformat": 4,
 "nbformat_minor": 2
}
