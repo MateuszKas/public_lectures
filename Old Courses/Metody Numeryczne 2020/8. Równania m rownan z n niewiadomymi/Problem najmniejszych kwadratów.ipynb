{
 "cells": [
  {
   "cell_type": "markdown",
   "metadata": {
    "slideshow": {
     "slide_type": "slide"
    }
   },
   "source": [
    "# Metody Numeryczne\n",
    "\n",
    "## Problem najmniejszych kwadratów\n",
    "\n",
    "\n",
    "\n",
    "### dr hab. inż. Jerzy Baranowski, Prof.AGH"
   ]
  },
  {
   "cell_type": "markdown",
   "metadata": {
    "slideshow": {
     "slide_type": "slide"
    }
   },
   "source": [
    "# Residuum\n",
    "\n",
    "- Ang. Residual\n",
    "- Użyteczna wielkość do oceny jakości rozwiązania równania liniowego\n",
    "$$\n",
    "r=b-Ax\n",
    "$$\n",
    "- Często wykorzystujemy również normę residuum\n",
    "$$\n",
    "\\Vert r\\Vert_2=\\sqrt{r^*r}\n",
    "$$"
   ]
  },
  {
   "cell_type": "markdown",
   "metadata": {
    "slideshow": {
     "slide_type": "subslide"
    }
   },
   "source": [
    "# Przykład motywacyjny\n",
    "\n",
    "Dopasowanie wielomianu do 11 punktów róownoodległych\n",
    "\n",
    "\n",
    "$$\n",
    "p(x)=c_0+c_1 x+c_2 x^2 +\\ldots +c_{m-1} x^{m-1} \n",
    "$$\n",
    "\n",
    "$$\n",
    "\\begin{bmatrix}\n",
    "1&x_1&x_1^2&&x_1^{m-1}\\\\\n",
    "1&x_2&x_2^2&\\dots&x_2^{m-1}\\\\\n",
    "1&x_3&x_3^2&&x_3^{m-1}\\\\\n",
    "&\\vdots&&\\ddots&\\vdots\\\\\n",
    "1&x_m&x_m^2&\\dots&x_m^{m-1}\n",
    "\\end{bmatrix}\n",
    "\\begin{bmatrix}\n",
    "c_0\\\\c_1\\\\c_2\\\\\\vdots\\\\ c_{m-1}\n",
    "\\end{bmatrix}\n",
    "=\n",
    "\\begin{bmatrix}\n",
    "y_1\\\\y_2\\\\y_3\\\\\\vdots\\\\ y_{m}\n",
    "\\end{bmatrix}\n",
    "$$"
   ]
  },
  {
   "cell_type": "code",
   "execution_count": 1,
   "metadata": {
    "slideshow": {
     "slide_type": "skip"
    }
   },
   "outputs": [],
   "source": [
    "import numpy as np\n",
    "import numpy.linalg as nplin\n",
    "import scipy\n",
    "import matplotlib.pyplot as plt\n",
    "import scipy.sparse.linalg\n"
   ]
  },
  {
   "cell_type": "code",
   "execution_count": 2,
   "metadata": {
    "slideshow": {
     "slide_type": "subslide"
    }
   },
   "outputs": [
    {
     "data": {
      "text/plain": [
       "(-1.0, 5.0)"
      ]
     },
     "execution_count": 2,
     "metadata": {},
     "output_type": "execute_result"
    },
    {
     "data": {
      "image/png": "[encoded data removed]",
      "text/plain": [
       "<Figure size 432x288 with 1 Axes>"
      ]
     },
     "metadata": {
      "needs_background": "light"
     },
     "output_type": "display_data"
    }
   ],
   "source": [
    "x=[i for i in range(-5,6)]\n",
    "y=np.array([0,0,0,1,1,1,0,0,0,0,0]).astype(float)\n",
    "A=np.vander(x,11)\n",
    "c=nplin.solve(A,y)\n",
    "p_int=np.poly1d(c)\n",
    "X=np.linspace(-5,5,1000)\n",
    "plt.plot(X,p_int(X))\n",
    "plt.scatter(x,y)\n",
    "axes = plt.gca()\n",
    "axes.set_ylim([-1,5])"
   ]
  },
  {
   "cell_type": "markdown",
   "metadata": {
    "slideshow": {
     "slide_type": "subslide"
    }
   },
   "source": [
    "# Wielomian niższego stopnia\n",
    "Szukamy wielomianu \n",
    "\n",
    "\n",
    "$$\n",
    "p(x)=c_0+c_1 x+c_2 x^2 +\\ldots +c_{n-1} x^{n-1} \n",
    "$$\n",
    "\n",
    "który będzie minimalizował\n",
    "$$\n",
    "\\sum_{i=1}^m|p(x_i)-y_i|^2\n",
    "$$"
   ]
  },
  {
   "cell_type": "markdown",
   "metadata": {},
   "source": [
    "czyli kwadrat normy residuum układu\n",
    "$$\n",
    "\\begin{bmatrix}\n",
    "1&x_1&x_1^2&&x_1^{n-1}\\\\\n",
    "1&x_2&x_2^2&\\dots&x_2^{n-1}\\\\\n",
    "1&x_3&x_3^2&&x_3^{n-1}\\\\\n",
    "&\\vdots&&\\ddots&\\vdots\\\\\n",
    "1&x_m&x_m^2&\\dots&x_m^{n-1}\n",
    "\\end{bmatrix}\n",
    "\\begin{bmatrix}\n",
    "c_0\\\\c_1\\\\\\vdots\\\\ c_{n-1}\n",
    "\\end{bmatrix}\n",
    "=\n",
    "\\begin{bmatrix}\n",
    "y_1\\\\y_2\\\\y_3\\\\\\vdots\\\\ y_{m}\n",
    "\\end{bmatrix}\n",
    "$$"
   ]
  },
  {
   "cell_type": "code",
   "execution_count": 3,
   "metadata": {
    "slideshow": {
     "slide_type": "subslide"
    }
   },
   "outputs": [
    {
     "data": {
      "text/plain": [
       "(-1.0, 5.0)"
      ]
     },
     "execution_count": 3,
     "metadata": {},
     "output_type": "execute_result"
    },
    {
     "data": {
      "image/png": "[encoded data removed]",
      "text/plain": [
       "<Figure size 432x288 with 1 Axes>"
      ]
     },
     "metadata": {
      "needs_background": "light"
     },
     "output_type": "display_data"
    }
   ],
   "source": [
    "x=[i for i in range(-5,6)]\n",
    "y=np.array([0,0,0,1,1,1,0,0,0,0,0])\n",
    "plt.scatter(x,y)\n",
    "A=np.vander(x,8)\n",
    "c,res,r,s=nplin.lstsq(A,y,rcond=-1)\n",
    "p_int=np.poly1d(c)\n",
    "X=np.linspace(-5,5,100)\n",
    "plt.plot(X,p_int(X))\n",
    "axes = plt.gca()\n",
    "axes.set_ylim([-1,5])"
   ]
  },
  {
   "cell_type": "markdown",
   "metadata": {
    "slideshow": {
     "slide_type": "subslide"
    }
   },
   "source": [
    "# Układ równań z macierzą prostokątną\n",
    "- Układ równań z macierzą prostokątną zazwyczaj jest sprzeczny.\n",
    "- Możemy go rozwiązać poprzez minimalizację normy residuum\n",
    "- Jest to tzw. Problem najmniejszych kwadratów"
   ]
  },
  {
   "cell_type": "markdown",
   "metadata": {
    "slideshow": {
     "slide_type": "subslide"
    }
   },
   "source": [
    "## Rozwiązanie problemu - interpretacja geometryczna\n",
    "\n",
    "Chcemy znaleźć rozwiązanie układu równań\n",
    "$$\n",
    "A x=b\n",
    "$$\n",
    "gdzie $A\\in R^{m\\times n},\\ b\\in R^m$ oraz $x\\in R^n$. Geometrycznie chcemy skonstruować wektor $b$ z kolumn macierzy $A$.\n",
    "\n",
    "Jeżeli $b$ nie jest liniowo zależne od kolumn $A$ nie jest to możliwe. Oznacza to, że wektor $b$ składa się więc z części, którą można przedstawić za pomocą kolumn macierzy $A$ oraz z części, dla której to nie jest możliwe.\n",
    "\n",
    "\n"
   ]
  },
  {
   "cell_type": "markdown",
   "metadata": {
    "slideshow": {
     "slide_type": "subslide"
    }
   },
   "source": [
    "## Interpretacja geometryczna - ciąg dalszy\n",
    "\n",
    "Część, której nie da się przedstawić to właśnie residuum -  $r=b-Ax$. W takiej sytuacji musi ono być ortogonalne do kolumn macierzy $A$, czyli\n",
    "\n",
    "\n",
    "$$\n",
    "A^* r=0\n",
    "$$\n",
    "Lub równoważnie\n",
    "$$\n",
    "A^*Ax=A^*b\n",
    "$$\n"
   ]
  },
  {
   "cell_type": "markdown",
   "metadata": {
    "slideshow": {
     "slide_type": "subslide"
    }
   },
   "source": [
    "## Rozwiązanie problemu -  interpretacja optymalizacyjna\n",
    "\n",
    "Szukamy minimum ze względu na $x$\n",
    "$$ \\min_x \\|r\\|^2$$\n",
    "\n",
    "Przekształcamy\n",
    "\n",
    "$$\n",
    "\\begin{aligned}\n",
    "\\|r\\|^2={}&r^* r \\\\={}& (Ax-b)^*(Ax-b)\\\\={}&(x^*A^*-b^*)(Ax-b)\\\\\n",
    "={}& x^*A^*Ax-x^*A^*b-b^*A x-b^*b\\\\\n",
    "={}& x^*A^*Ax-2x^*A^*b-b^*b\n",
    "\\end{aligned}\n",
    "$$"
   ]
  },
  {
   "cell_type": "markdown",
   "metadata": {
    "slideshow": {
     "slide_type": "subslide"
    }
   },
   "source": [
    "## Interpretacja optymalizacyjna - ciąg dalszy\n",
    "\n",
    "Funkcja wielu zmiennych ma minimum, gdy jej wektor pochodnych cząstkowych (gradient) jest równy 0 i jej macierz drugich pochodnych (Hesjan) jest dodatnio określona.\n",
    "\n",
    "$$\n",
    "\\nabla \\left(x^*A^*Ax-2x^*A^*b-b^*b \\right)= 2 A^*Ax -2A^*b\n",
    "$$\n",
    "$$\n",
    "A^*Ax -2A^*b = 0\n",
    "$$\n",
    "$$\n",
    "A^*Ax=A^*b\n",
    "$$\n",
    "\n",
    "$$\n",
    "\\nabla^2 \\left(x^*A^*Ax-2x^*A^*b-b^*b \\right) = 2A^*A\n",
    "$$\n",
    "Macierz postaci $ A^*A$ jest zawsze symetryczna, i jeżeli ma pełny rząd, to jest dodatnio określona (jeśli nie to tylko pół-dodatnio)"
   ]
  },
  {
   "cell_type": "markdown",
   "metadata": {
    "slideshow": {
     "slide_type": "subslide"
    }
   },
   "source": [
    "# Praktyczne wyznaczanie x\n",
    "\n",
    "- Rozwiązanie układu równań normalnych\n",
    "$$\n",
    "A^*Ax=A^*b\n",
    "$$\n",
    "za pomocą rozkładu Choleskiego\n",
    "- za pomocą SVD\n",
    "$$\n",
    "\\begin{aligned}\n",
    "A={}&U\\Sigma V^*\\\\\n",
    "V\\Sigma U^*U\\Sigma V^*x={}&V\\Sigma U^*b\\\\\n",
    "\\Sigma V^*x={}& U^*b\\\\\n",
    "\\Sigma y={}& U^*b\\\\\n",
    "x={}&Vy\n",
    "\\end{aligned}\n",
    "$$"
   ]
  },
  {
   "cell_type": "markdown",
   "metadata": {
    "slideshow": {
     "slide_type": "subslide"
    }
   },
   "source": [
    "## Praktyczne wyznaczanie x\n",
    "\n",
    "Jest jeszcze jedna metoda - rozkład QR\n",
    "\n",
    "Rozkład QR ma postać $A=QR$, gdzie $Q$ jest unitarna a $R$ trójkątna górna. Wtedy\n",
    "\n",
    "$$\n",
    "\\begin{aligned}\n",
    "A={}&QR\\\\\n",
    "R^*Q^*QRx={}&R^*Q^*b\\\\\n",
    "Rx={}&Q^*b\n",
    "\\end{aligned}\n",
    "$$\n"
   ]
  },
  {
   "cell_type": "code",
   "execution_count": null,
   "metadata": {},
   "outputs": [],
   "source": []
  }
 ],
 "metadata": {
  "celltoolbar": "Slideshow",
  "kernelspec": {
   "display_name": "Python 3 (ipykernel)",
   "language": "python",
   "name": "python3"
  },
  "language_info": {
   "codemirror_mode": {
    "name": "ipython",
    "version": 3
   },
   "file_extension": ".py",
   "mimetype": "text/x-python",
   "name": "python",
   "nbconvert_exporter": "python",
   "pygments_lexer": "ipython3",
   "version": "3.9.5"
  }
 },
 "nbformat": 4,
 "nbformat_minor": 4
}
