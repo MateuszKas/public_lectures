{
 "cells": [
  {
   "cell_type": "markdown",
   "metadata": {
    "slideshow": {
     "slide_type": "slide"
    }
   },
   "source": [
    "# Metody Numeryczne\n",
    "\n",
    "## Rozkład QR\n",
    "\n",
    "### dr hab. inż. Jerzy Baranowski, Prof.AGH"
   ]
  },
  {
   "cell_type": "markdown",
   "metadata": {
    "slideshow": {
     "slide_type": "subslide"
    }
   },
   "source": [
    "## Podprzestrzenie macierzy $A$\n",
    "\n",
    "Kolumny macierzy $A$ określają nam podprzestrzenie wszystkich wektorów, które można z nich skonstruoować:\n",
    "$$\n",
    "\\langle a_1\\rangle \\subseteq \\langle a_1,a_2\\rangle \\subseteq\\langle a_1,a_2,a_3\\rangle\\subseteq\\dots\\subseteq\\langle A\\rangle\n",
    "$$\n",
    "\n"
   ]
  },
  {
   "cell_type": "markdown",
   "metadata": {
    "slideshow": {
     "slide_type": "subslide"
    }
   },
   "source": [
    "## Rozkład QR\n",
    "Idea rozkładu QR to znalezienie ciągu wektorów ortonormalnych $q_1,\\ q_2,\\ q_3,\\ \\ldots$, które będą określać te same podprzestrzenie. \n",
    "\n",
    "Chcemy aby ciąg $q_1,\\ q_2,\\ q_3,\\ \\ldots$ miał własność\n",
    "$$\n",
    "\\langle q_1,\\ q_2,\\ \\ldots\\ q_j\\rangle = \\langle a_1,\\ a_2,\\ \\ldots\\ a_j\\rangle,\\ j=1,\\ldots n\n",
    "$$\n",
    "\n",
    "Przy czym $A\\in C^{m\\times n}$, gdzie $m>n$, ma pełny rząd."
   ]
  },
  {
   "cell_type": "markdown",
   "metadata": {
    "slideshow": {
     "slide_type": "subslide"
    }
   },
   "source": [
    "## Rozkład QR\n",
    "Jest to równoważne następującej postaci:\n",
    "\n",
    "$$\n",
    "\\left[\n",
    "\\begin{array}{c|c|c|c}\n",
    "&& \\\\\n",
    "&& \\\\\n",
    "a_1 & a_2 & \\dots &a_n  \\\\\n",
    "&& \\\\\n",
    "&&\n",
    "\\end{array}\n",
    "\\right]\n",
    "=\n",
    "\\left[\n",
    "\\begin{array}{c|c|c|c}\n",
    "&& \\\\\n",
    "&& \\\\\n",
    "q_1 & q_2 & \\dots &q_n  \\\\\n",
    "&& \\\\\n",
    "&&\n",
    "\\end{array}\n",
    "\\right]\n",
    "\\begin{bmatrix}\n",
    "r_{11}&r_{12}&\\dots&r_{1n}\\\\\n",
    "&r_{22}&&\\vdots\\\\\n",
    "&&\\ddots&\\vdots\\\\\n",
    "&&&r_{nn}\n",
    "\\end{bmatrix}\n",
    "$$"
   ]
  },
  {
   "cell_type": "markdown",
   "metadata": {
    "slideshow": {
     "slide_type": "subslide"
    }
   },
   "source": [
    "## Istnienie i jednoznaczność\n",
    "\n",
    "Każda macierz ma rozkład QR\n",
    "\n",
    "Każda macierz pełnego rzędu ma jednoznacznie określony rozkład QR, taki, że $r_{ii}>0$"
   ]
  },
  {
   "cell_type": "markdown",
   "metadata": {
    "slideshow": {
     "slide_type": "subslide"
    }
   },
   "source": [
    "## Ortogonalizacja Grama-Schmidta - konstrukcja wektorów ortogonalnych\n",
    "Idea jest następująca -  w kroku $j$ chcemy znaleźć wektor $q_j\\in \\langle a_1,\\ a_2,\\ \\ldots\\ a_j\\rangle$, który jest ortogonalny do wszystkich wektorów $q_1,\\ q_2,\\ \\ldots\\ q_{j-1}$.\n",
    "\n",
    "Taki wektor możemy skonstruować korzystając z rzutowania kolumny $a_j$ na poprzedzające wektory tj.\n",
    "$$\n",
    "v_j = a_j-(q^*_1 a_j)q_1-(q^*_2 a_j)q_2-\\ldots-(q^*_{n-1} a_j)q_{n-1}\n",
    "$$\n",
    "$v_j$ jest ortogonalny do $q_1,\\ q_2,\\ \\ldots\\ q_{j-1}$ ale nie jest ortonormalny - uzyskamy to przez podzielenie go przez jego normę $$q_j=v_j/\\|v_j\\|$$\n",
    "\n",
    "Współczynniki $r_{ij}$ dostaniemy obliczając stosowne iloczyny skalarne."
   ]
  },
  {
   "cell_type": "code",
   "execution_count": 28,
   "metadata": {
    "slideshow": {
     "slide_type": "skip"
    }
   },
   "outputs": [],
   "source": [
    "import numpy as np\n",
    "import numpy.linalg as nplin\n",
    "import scipy\n",
    "import matplotlib.pyplot as plt\n",
    "import scipy.sparse.linalg"
   ]
  },
  {
   "cell_type": "code",
   "execution_count": 29,
   "metadata": {
    "slideshow": {
     "slide_type": "subslide"
    }
   },
   "outputs": [],
   "source": [
    "def class_gram_schmidt(A):\n",
    "    m,n = A.shape\n",
    "    V=A.copy().astype(float)\n",
    "    Q=A.copy().astype(float)\n",
    "    R=np.zeros([n,n])\n",
    "    for j in range(0,n):\n",
    "        for i in range(0,j):\n",
    "            R[i,j]=Q[:,i].T@A[:,j]\n",
    "            V[:,j]=V[:,j]-R[i,j]*Q[:,i]\n",
    "        R[j,j]=np.linalg.norm(V[:,j])\n",
    "        Q[:,j]=V[:,j]/R[j,j]    \n",
    "    return Q,R"
   ]
  },
  {
   "cell_type": "code",
   "execution_count": 30,
   "metadata": {
    "slideshow": {
     "slide_type": "subslide"
    }
   },
   "outputs": [
    {
     "name": "stdout",
     "output_type": "stream",
     "text": [
      "[[3.74165739 1.33630621]\n",
      " [0.         1.79284291]]\n",
      "[[ 0.26726124  0.35856858]\n",
      " [ 0.53452248  0.71713717]\n",
      " [ 0.80178373 -0.5976143 ]]\n",
      "[[1. 1.]\n",
      " [2. 2.]\n",
      " [3. 0.]]\n"
     ]
    }
   ],
   "source": [
    "A=np.array([[1,1],[2,2],[3,0]])\n",
    "Q,R=class_gram_schmidt(A)\n",
    "print(R)\n",
    "print(Q)\n",
    "print(Q@R)"
   ]
  },
  {
   "cell_type": "markdown",
   "metadata": {
    "slideshow": {
     "slide_type": "subslide"
    }
   },
   "source": [
    "## Usprawnienie ortogonalizacji Grama-Schmidta\n",
    "Możliwe jest przekształcenie metody z wykorzystaniem koncepcji rzutów ortogonalnych. \n",
    "\n",
    "Bardziej stabilne numerycznie od dokonania rzutów na kolumny, jest dokonywanie rzutów na komplementarne podprzestrzenie (zamiast na tą wyznaczoną przez wektor $q_j$ na całą resztę).\n",
    "\n",
    "Wzory są analitycznie równoważne, ale ze względu na zmienioną kolejność działań bardziej stabilne numerycznie."
   ]
  },
  {
   "cell_type": "code",
   "execution_count": 31,
   "metadata": {
    "slideshow": {
     "slide_type": "subslide"
    }
   },
   "outputs": [],
   "source": [
    "def mod_gram_schmidt(A):\n",
    "    m,n = A.shape\n",
    "    V=A.copy().astype(float)\n",
    "    Q=A.copy().astype(float)\n",
    "    R=np.zeros([n,n])\n",
    "    for i in range(0,n):\n",
    "        R[i,i]=np.linalg.norm(V[:,i])\n",
    "        Q[:,i]=V[:,i]/R[i,i]\n",
    "        for j in range(i+1,n):\n",
    "            R[i,j]=Q[:,i].T@V[:,j]\n",
    "            V[:,j]=V[:,j]-R[i,j]*Q[:,i]\n",
    "    return Q,R"
   ]
  },
  {
   "cell_type": "code",
   "execution_count": 32,
   "metadata": {
    "slideshow": {
     "slide_type": "subslide"
    }
   },
   "outputs": [
    {
     "name": "stdout",
     "output_type": "stream",
     "text": [
      "[[3.74165739 1.33630621]\n",
      " [0.         1.79284291]]\n",
      "[[ 0.26726124  0.35856858]\n",
      " [ 0.53452248  0.71713717]\n",
      " [ 0.80178373 -0.5976143 ]]\n",
      "[[1. 1.]\n",
      " [2. 2.]\n",
      " [3. 0.]]\n"
     ]
    }
   ],
   "source": [
    "Q,R=mod_gram_schmidt(A)\n",
    "print(R)\n",
    "print(Q)\n",
    "print(Q@R)"
   ]
  },
  {
   "cell_type": "markdown",
   "metadata": {
    "slideshow": {
     "slide_type": "subslide"
    }
   },
   "source": [
    "## Porównanie metod\n",
    "\n",
    "Wersja zmodyfikowana, generuje mniej błędów zaokrągleń. \n",
    "\n",
    "Zobaczymy to na przykładzie losowo wygenerowanej macierzy kwadratowej z wykładniczo zanikającymi wartościami singularnymi (od $\\frac{1}{2}$ do $2^{-80}$). Przeanalizujemy jak zachowują się elementy na przekątnej macierzy $R$, które w tym przypadku powinny być bliskie wartościom singularnym.\n",
    "\n",
    "\n",
    "\n",
    "\n"
   ]
  },
  {
   "cell_type": "code",
   "execution_count": 33,
   "metadata": {
    "slideshow": {
     "slide_type": "skip"
    }
   },
   "outputs": [
    {
     "data": {
      "text/plain": [
       "<matplotlib.legend.Legend at 0x7ff33139bf90>"
      ]
     },
     "execution_count": 33,
     "metadata": {},
     "output_type": "execute_result"
    },
    {
     "data": {
      "image/png": "[encoded data removed]",
      "text/plain": [
       "<Figure size 432x288 with 1 Axes>"
      ]
     },
     "metadata": {
      "needs_background": "light"
     },
     "output_type": "display_data"
    }
   ],
   "source": [
    "np.random.seed(42)\n",
    "U,_ = np.linalg.qr(np.random.rand(80,80))\n",
    "V,_ = np.linalg.qr(np.random.rand(80,80))\n",
    "S = np.diag(2.**(-1*np.array([*range(1,81)])))\n",
    "A=U@S@V\n",
    "\n",
    "\n",
    "QC,RC = class_gram_schmidt(A)\n",
    "QM,RM = mod_gram_schmidt(A)\n",
    "\n",
    "fig,ax = plt.subplots(1,1)\n",
    "ax.semilogy(np.diag(RC),linestyle='None',marker='o',fillstyle='none',label='Klasyczny GS')\n",
    "ax.semilogy(np.diag(RM),linestyle='None',marker='x',label='Zmodyfikowany GS')\n",
    "\n",
    "ax.semilogy([0,80],np.sqrt(2.**(-52)*np.array([1.,1.])),linestyle='--',color='black')\n",
    "ax.semilogy([0,80],(2.**(-52)*np.array([1.,1.])),linestyle='--',color='black')\n",
    "plt.legend()"
   ]
  },
  {
   "cell_type": "code",
   "execution_count": 34,
   "metadata": {},
   "outputs": [
    {
     "data": {
      "image/png": "[encoded data removed]",
      "text/plain": [
       "<Figure size 432x288 with 1 Axes>"
      ]
     },
     "execution_count": 34,
     "metadata": {},
     "output_type": "execute_result"
    }
   ],
   "source": [
    "fig"
   ]
  },
  {
   "cell_type": "markdown",
   "metadata": {
    "slideshow": {
     "slide_type": "subslide"
    }
   },
   "source": [
    "## Złożoność obliczeniowa\n",
    "\n",
    "W celu przeprowadzenia faktoryzacji QR w oparciu o faktoryzację Grama-Schmidta konieczne jest wykonanie $O(2mn^2)$ obliczeń."
   ]
  },
  {
   "cell_type": "markdown",
   "metadata": {
    "slideshow": {
     "slide_type": "subslide"
    }
   },
   "source": [
    "## Triangularyzacja Hausholdera\n",
    "\n",
    "Ortogonalizację Grama-Shmidta można traktować, jako sekwencję operacji mnożenia przez macierze trójkątne tak, aby uzyskać macierz z ortogonalnymi kolumnami:\n",
    "$$\n",
    "A\\underbrace{R_1R_2\\dots R_n}_{R^{-1}}=Q\n",
    "$$\n",
    "\n",
    "Alternatywne podejście to triangularyzacja Hausholdera, która przeprowadza sekwencję mnożenia przez macierze unitarne w celu uzyskania macierzy trójkątnej:\n",
    "\n",
    "$$\n",
    "\\underbrace{Q_n\\dots Q_2 Q_1}_{Q^{*}}A=R\n",
    "$$\n"
   ]
  },
  {
   "cell_type": "markdown",
   "metadata": {
    "slideshow": {
     "slide_type": "subslide"
    }
   },
   "source": [
    "## Triangularyzacja\n",
    "\n",
    "$$\n",
    "\\begin{bmatrix}\n",
    "\\times&\\times&\\times\\\\\n",
    "\\times&\\times&\\times\\\\\n",
    "\\times&\\times&\\times\\\\\n",
    "\\times&\\times&\\times\\\\\n",
    "\\times&\\times&\\times\n",
    "\\end{bmatrix}\n",
    "\\xrightarrow{Q_1}\n",
    "\\begin{bmatrix}\n",
    "\\times&\\times&\\times\\\\\n",
    "0&\\times&\\times\\\\\n",
    "0&\\times&\\times\\\\\n",
    "0&\\times&\\times\\\\\n",
    "0&\\times&\\times\n",
    "\\end{bmatrix}\n",
    "\\xrightarrow{Q_2}\n",
    "\\begin{bmatrix}\n",
    "\\times&\\times&\\times\\\\\n",
    "&\\times&\\times\\\\\n",
    "&0&\\times\\\\\n",
    "&0&\\times\\\\\n",
    "&0&\\times\n",
    "\\end{bmatrix}\n",
    "\\xrightarrow{Q_3}\n",
    "\\begin{bmatrix}\n",
    "\\times&\\times&\\times\\\\\n",
    "&\\times&\\times\\\\\n",
    "&&\\times\\\\\n",
    "&&0\\\\\n",
    "&&0\n",
    "\\end{bmatrix}\n",
    "$$\n",
    "\n",
    "Macierze $Q$ konstruujemy z użyciem tzw. odbić Hausholdera"
   ]
  },
  {
   "cell_type": "code",
   "execution_count": 35,
   "metadata": {
    "slideshow": {
     "slide_type": "subslide"
    }
   },
   "outputs": [],
   "source": [
    "def hauss_QR(A):\n",
    "    A=A.astype(float)\n",
    "    m,n = A.shape\n",
    "    V=np.zeros([m,n])\n",
    "    Q=np.zeros([m,m])\n",
    "    for k in range(0,n):\n",
    "        e1=np.zeros(m-k)\n",
    "        e1[0]=1\n",
    "        x=A[k:m,k]\n",
    "        V[k:m,k]=np.sign(x[0])*np.linalg.norm(x)*e1+x\n",
    "        V[k:m,k]=V[k:m,k]/np.linalg.norm(V[k:m,k])\n",
    "        pom=V[k:m,[k]].T@A[k:m,k:n]\n",
    "        A[k:m,k:n]=A[k:m,k:n]-2*V[k:m,[k]]@pom\n",
    "    I=np.identity(m)\n",
    "    for k in range(n-1,-1,-1):\n",
    "        pom=2*V[k:m,[k]]@V[k:m,[k]].T\n",
    "        I[k:m,:]=I[k:m,:]-pom@I[k:m,:]\n",
    "    return -I[:,:n],-A[:n,:]\n"
   ]
  },
  {
   "cell_type": "code",
   "execution_count": 36,
   "metadata": {
    "slideshow": {
     "slide_type": "subslide"
    }
   },
   "outputs": [
    {
     "name": "stdout",
     "output_type": "stream",
     "text": [
      "[[3.74165739e+00 1.33630621e+00]\n",
      " [4.44089210e-16 1.79284291e+00]]\n",
      "[[ 0.26726124  0.35856858]\n",
      " [ 0.53452248  0.71713717]\n",
      " [ 0.80178373 -0.5976143 ]]\n",
      "[[ 1.00000000e+00  1.00000000e+00]\n",
      " [ 2.00000000e+00  2.00000000e+00]\n",
      " [ 3.00000000e+00 -2.22044605e-16]]\n"
     ]
    }
   ],
   "source": [
    "A=np.array([[1,1],[2,2],[3,0]])\n",
    "Q,R=hauss_QR(A)\n",
    "print(R)\n",
    "print(Q)\n",
    "print(Q@R)"
   ]
  },
  {
   "cell_type": "markdown",
   "metadata": {
    "slideshow": {
     "slide_type": "subslide"
    }
   },
   "source": [
    "## Złożoność obliczeniowa\n",
    "\n",
    "Wykonanie rozkładu QR za pomocą triangularyzacji Hausholdera wymaga wykonania $O\\left(2mn^2-\\frac{2}{3}n^3\\right)$ obliczeń."
   ]
  },
  {
   "cell_type": "markdown",
   "metadata": {
    "slideshow": {
     "slide_type": "subslide"
    }
   },
   "source": [
    "## Stabilność\n",
    "\n",
    "Rozkład QR wykonywany zmodyfikowanym algorytmem Grama-Schmidta lub Triangularyzacją Hausholdera jest stabilny wstecznie."
   ]
  },
  {
   "cell_type": "markdown",
   "metadata": {
    "slideshow": {
     "slide_type": "subslide"
    }
   },
   "source": [
    "## Porównanie z LU dla układów z macierzą kwadratową\n",
    "\n",
    "Jeżeli $m=n$ to rozkład QR wymaga od nas $O(4/3 m^3)$ obliczeń, czyli jest dwa razy wolniejszy od LU.\n",
    "\n",
    "Nie posiada jednak słabości dla specyficznych macierzy jaką ma LU.\n",
    "\n",
    "Dla macierzy postaci $$\n",
    "\\begin{bmatrix}\n",
    "  1  &  0  &  0  &  0  &  0  &  0  &  1 \\\\\n",
    " -1  &  1  &  0  &  0  &  0  &  0  &  1 \\\\\n",
    " -1  & -1  &  1  &  0  &  0  &  0  &  1 \\\\\n",
    " -1  & -1  & -1  &  1  &  0  &  0  &  1 \\\\\n",
    " -1  & -1  & -1  & -1  &  1  &  0  &  1 \\\\\n",
    " -1  & -1  & -1  & -1  & -1  &  1  &  1 \\\\\n",
    " -1  & -1  & -1  & -1  & -1  & -1  &  1 \n",
    "\\end{bmatrix}\n",
    "$$\n",
    "stosunek wielkości elementów macierzy $A$ do elementów macierzy $U$ rośnie wykładniczo.\n",
    "\n"
   ]
  },
  {
   "cell_type": "code",
   "execution_count": 37,
   "metadata": {
    "slideshow": {
     "slide_type": "subslide"
    }
   },
   "outputs": [
    {
     "name": "stdout",
     "output_type": "stream",
     "text": [
      "[[ 1.  0.  0.  0.  0.  0.  1.]\n",
      " [ 0.  1.  0.  0.  0.  0.  2.]\n",
      " [ 0.  0.  1.  0.  0.  0.  4.]\n",
      " [ 0.  0.  0.  1.  0.  0.  8.]\n",
      " [ 0.  0.  0.  0.  1.  0. 16.]\n",
      " [ 0.  0.  0.  0.  0.  1. 32.]\n",
      " [ 0.  0.  0.  0.  0.  0. 64.]]\n"
     ]
    }
   ],
   "source": [
    "n=7\n",
    "A=np.diag(np.ones(n))-np.tril(np.ones((n,n)),-1)\n",
    "A[:,[-1]]=np.ones([n,1])\n",
    "p, l, u = scipy.linalg.lu(A)\n",
    "print(u)"
   ]
  },
  {
   "cell_type": "markdown",
   "metadata": {
    "slideshow": {
     "slide_type": "subslide"
    }
   },
   "source": [
    "## Uwarunkowanie i growth factor"
   ]
  },
  {
   "cell_type": "code",
   "execution_count": 38,
   "metadata": {
    "slideshow": {
     "slide_type": "-"
    }
   },
   "outputs": [
    {
     "name": "stdout",
     "output_type": "stream",
     "text": [
      "44.80225124630292\n",
      "6.338253001141147e+29\n"
     ]
    }
   ],
   "source": [
    "n=100\n",
    "A=np.diag(np.ones(n))-np.tril(np.ones((n,n)),-1)\n",
    "A[:,[-1]]=np.ones([n,1])\n",
    "\n",
    "p, l, u = scipy.linalg.lu(A)\n",
    "\n",
    "print(np.linalg.cond(A))\n",
    "print(np.max(u))"
   ]
  },
  {
   "cell_type": "markdown",
   "metadata": {
    "slideshow": {
     "slide_type": "subslide"
    }
   },
   "source": [
    "## Porównanie z QR"
   ]
  },
  {
   "cell_type": "code",
   "execution_count": 39,
   "metadata": {
    "slideshow": {
     "slide_type": "-"
    }
   },
   "outputs": [
    {
     "name": "stdout",
     "output_type": "stream",
     "text": [
      "39.859225145093376\n",
      "6.3850493682325406e-15\n"
     ]
    }
   ],
   "source": [
    "\n",
    "b=np.random.rand(n)\n",
    "x=scipy.linalg.solve_triangular(u,scipy.linalg.solve_triangular(l,b,lower=True))\n",
    "q,r=np.linalg.qr(A)\n",
    "x2 = scipy.linalg.solve_triangular(r,q.T@b)\n",
    " \n",
    "print(np.linalg.norm(A@x-b))\n",
    "print(np.linalg.norm(A@x2-b))"
   ]
  },
  {
   "cell_type": "markdown",
   "metadata": {
    "slideshow": {
     "slide_type": "slide"
    }
   },
   "source": [
    "# Metody Numeryczne\n",
    "\n",
    "## Porównanie metod rozwiązywania problemu najmniejszych kwadratów\n",
    "\n",
    "### dr hab. inż. Jerzy Baranowski, Prof.AGH"
   ]
  },
  {
   "cell_type": "markdown",
   "metadata": {
    "slideshow": {
     "slide_type": "subslide"
    }
   },
   "source": [
    "## Przykład - dopasowanie wielomianu stopnia 14 w 100 punktach"
   ]
  },
  {
   "cell_type": "code",
   "execution_count": 40,
   "metadata": {
    "slideshow": {
     "slide_type": "-"
    }
   },
   "outputs": [
    {
     "data": {
      "image/png": "[encoded data removed]",
      "text/plain": [
       "<Figure size 432x288 with 1 Axes>"
      ]
     },
     "metadata": {
      "needs_background": "light"
     },
     "output_type": "display_data"
    }
   ],
   "source": [
    "m=100\n",
    "n=15\n",
    "t=np.array([i for i in range(0,m)])/(m-1)\n",
    "A=np.vander(t,15)\n",
    "b=np.exp(np.sin(4*t))\n",
    "plt.plot(t,b)\n",
    "b=b/2006.787453080206\n",
    "plt.show()"
   ]
  },
  {
   "cell_type": "markdown",
   "metadata": {
    "slideshow": {
     "slide_type": "subslide"
    }
   },
   "source": [
    "## ``lstsq`` w numpy"
   ]
  },
  {
   "cell_type": "code",
   "execution_count": 41,
   "metadata": {},
   "outputs": [
    {
     "data": {
      "text/plain": [
       "0.9999995505673052"
      ]
     },
     "execution_count": 41,
     "metadata": {},
     "output_type": "execute_result"
    }
   ],
   "source": [
    "c,res,r,s=nplin.lstsq(A,b,rcond=-1)\n",
    "w_lstsq=c[0]\n",
    "w_lstsq"
   ]
  },
  {
   "cell_type": "markdown",
   "metadata": {
    "slideshow": {
     "slide_type": "subslide"
    }
   },
   "source": [
    "## QR"
   ]
  },
  {
   "cell_type": "code",
   "execution_count": 42,
   "metadata": {},
   "outputs": [
    {
     "data": {
      "text/plain": [
       "0.9999995178826113"
      ]
     },
     "execution_count": 42,
     "metadata": {},
     "output_type": "execute_result"
    }
   ],
   "source": [
    "Q,R=nplin.qr(A)\n",
    "c=nplin.solve(R,Q.T@b)\n",
    "w_qr=c[0]\n",
    "w_qr"
   ]
  },
  {
   "cell_type": "markdown",
   "metadata": {
    "slideshow": {
     "slide_type": "subslide"
    }
   },
   "source": [
    "## SVD"
   ]
  },
  {
   "cell_type": "code",
   "execution_count": 43,
   "metadata": {},
   "outputs": [
    {
     "data": {
      "text/plain": [
       "0.9999995505595789"
      ]
     },
     "execution_count": 43,
     "metadata": {},
     "output_type": "execute_result"
    }
   ],
   "source": [
    "U,s,V=nplin.svd(A,full_matrices=False)\n",
    "S=np.diag(s)\n",
    "c=V.T@nplin.solve(S,U.T@b)\n",
    "w_svd=c[0]\n",
    "w_svd"
   ]
  },
  {
   "cell_type": "markdown",
   "metadata": {
    "slideshow": {
     "slide_type": "subslide"
    }
   },
   "source": [
    "## Równania normalne\n"
   ]
  },
  {
   "cell_type": "code",
   "execution_count": 44,
   "metadata": {},
   "outputs": [
    {
     "data": {
      "text/plain": [
       "-0.6281511821641284"
      ]
     },
     "execution_count": 44,
     "metadata": {},
     "output_type": "execute_result"
    }
   ],
   "source": [
    "c=nplin.solve(A.T@A,A.T@b)\n",
    "w_norm=c[0]\n",
    "w_norm"
   ]
  },
  {
   "cell_type": "markdown",
   "metadata": {
    "slideshow": {
     "slide_type": "subslide"
    }
   },
   "source": [
    "## Podsumowanie błędów\n"
   ]
  },
  {
   "cell_type": "code",
   "execution_count": 45,
   "metadata": {},
   "outputs": [
    {
     "name": "stdout",
     "output_type": "stream",
     "text": [
      "Metoda lstsq: Błąd bezwzględny i względny   4.49e-07\n",
      "Rozkład QR: Błąd bezwzględny i względny   4.82e-07\n",
      "Rozkład SVD: Błąd bezwzględny i względny   4.49e-07\n",
      "Równania normalne: Błąd bezwzględny i względny   1.63e+00\n"
     ]
    }
   ],
   "source": [
    "epsilon_lstsq=np.abs(1-w_lstsq)\n",
    "epsilon_qr=np.abs(1-w_qr)\n",
    "epsilon_svd=np.abs(1-w_svd)\n",
    "epsilon_norm=np.abs(1-w_norm)\n",
    "\n",
    "print(\"Metoda lstsq: Błąd bezwzględny i względny %10.2e\"%(epsilon_lstsq))\n",
    "print(\"Rozkład QR: Błąd bezwzględny i względny %10.2e\"%(epsilon_qr))\n",
    "print(\"Rozkład SVD: Błąd bezwzględny i względny %10.2e\"%(epsilon_svd))\n",
    "print(\"Równania normalne: Błąd bezwzględny i względny %10.2e\"%(epsilon_norm))"
   ]
  },
  {
   "cell_type": "markdown",
   "metadata": {
    "slideshow": {
     "slide_type": "subslide"
    }
   },
   "source": [
    "## Dlaczego tak się dzieje?"
   ]
  },
  {
   "cell_type": "code",
   "execution_count": 46,
   "metadata": {},
   "outputs": [
    {
     "name": "stdout",
     "output_type": "stream",
     "text": [
      "Uwarunkowanie macierzy A:   2.27e+10\n",
      "Uwarunkowanie macierzy A*A:   1.10e+18\n"
     ]
    }
   ],
   "source": [
    "print(\"Uwarunkowanie macierzy A: %10.2e\"%(nplin.cond(A)))\n",
    "print(\"Uwarunkowanie macierzy A*A: %10.2e\"%(nplin.cond(A.T@A)))"
   ]
  }
 ],
 "metadata": {
  "celltoolbar": "Slideshow",
  "kernelspec": {
   "display_name": "Python 3 (ipykernel)",
   "language": "python",
   "name": "python3"
  },
  "language_info": {
   "codemirror_mode": {
    "name": "ipython",
    "version": 3
   },
   "file_extension": ".py",
   "mimetype": "text/x-python",
   "name": "python",
   "nbconvert_exporter": "python",
   "pygments_lexer": "ipython3",
   "version": "3.9.5"
  }
 },
 "nbformat": 4,
 "nbformat_minor": 4
}
