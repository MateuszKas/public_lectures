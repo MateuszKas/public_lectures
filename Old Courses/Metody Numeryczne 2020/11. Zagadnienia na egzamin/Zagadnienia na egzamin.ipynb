{
 "cells": [
  {
   "cell_type": "markdown",
   "metadata": {
    "slideshow": {
     "slide_type": "slide"
    }
   },
   "source": [
    "# Metody Numeryczne\n",
    "\n",
    "## Zagadnienia na egzamin\n",
    "\n",
    "\n",
    "\n",
    "### dr hab. inż. Jerzy Baranowski, Prof.AGH"
   ]
  },
  {
   "cell_type": "markdown",
   "metadata": {
    "slideshow": {
     "slide_type": "slide"
    }
   },
   "source": [
    "## Przebieg egzaminu\n",
    "\n",
    "Egzamin składa się z dwóch części:\n",
    "\n",
    "1. Test na UPEL\n",
    "2. Odpowiedź ustna\n",
    "\n",
    "Zgodnie z sylabusem:\n",
    "\n",
    "- *Zaliczenie laboratorium jest warunkiem dopuszczenia do części pisemnej egzaminu,*\n",
    "- *uzyskanie co najmniej 50% punktów z części testowej egzaminu jest warunkiem dopuszczenia do części ustnej.*"
   ]
  },
  {
   "cell_type": "markdown",
   "metadata": {
    "slideshow": {
     "slide_type": "subslide"
    }
   },
   "source": [
    "## Część testowa\n",
    "\n",
    "1. Zadania obliczeniowe do wykonania w pythonie\n",
    "2. Bez punktów ujemnych \n",
    "3. 10 pytań\n",
    "4. $\\approx$ 10 min na odpowiedź.\n",
    "5. Każde pytanie będzie w wielu wariantach "
   ]
  },
  {
   "cell_type": "markdown",
   "metadata": {
    "slideshow": {
     "slide_type": "slide"
    }
   },
   "source": [
    "## Część ustna\n",
    "1. Parami\n",
    "2. Zgodnie z listą dostarczoną przez starostę.\n",
    "3. Szacujmy 5-10 minut na osobę.\n",
    "4. Od 1 do 3 pytań\n"
   ]
  },
  {
   "cell_type": "markdown",
   "metadata": {
    "slideshow": {
     "slide_type": "subslide"
    }
   },
   "source": [
    "## Przebieg egzaminu ustnego\n",
    "![](img/ustny.png)"
   ]
  },
  {
   "cell_type": "markdown",
   "metadata": {
    "slideshow": {
     "slide_type": "slide"
    }
   },
   "source": [
    "## Zagadnienia na egzamin\n",
    "\n",
    "- Nie będą wymagane szczegółowe wzory na żadną z metod.\n",
    "- Mogą być za to pytania o rząd zbieżności lub złożoność"
   ]
  },
  {
   "cell_type": "markdown",
   "metadata": {
    "slideshow": {
     "slide_type": "subslide"
    }
   },
   "source": [
    "## Reprezentacja liczb\n",
    "- kod binarny\n",
    "- kod U2\n",
    "- format stałoprzecinkowy\n",
    "- format zmiennoprzecinkowy\n",
    "- działania zmiennoprzecinkowe\n",
    "- formaty pojedynczej i podwójnej precyzji"
   ]
  },
  {
   "cell_type": "markdown",
   "metadata": {
    "slideshow": {
     "slide_type": "subslide"
    }
   },
   "source": [
    "## Błędy numeryczne\n",
    "- rodzaje błędów\n",
    "- źródła błędów\n",
    "- zaokrąglanie\n",
    "- cyfry znaczące\n",
    "- liczby maszynowe i epsilon maszynowy\n",
    "- błąd reprezentacji\n",
    "- przenoszenie się błędów\n",
    "- błąd nieunikniony"
   ]
  },
  {
   "cell_type": "markdown",
   "metadata": {
    "slideshow": {
     "slide_type": "subslide"
    }
   },
   "source": [
    "## Ocena algorytmów numerycznych\n",
    "- \"O\" duże\n",
    "- Uwarunkowanie problemu\n",
    "- Stała uwarunkowania\n",
    "- Dokładność algorytmu\n",
    "- Stabilność algorytmu\n",
    "- Stabilność wsteczna algorytmu\n",
    "- Złożonośc i jej rodzaje"
   ]
  },
  {
   "cell_type": "markdown",
   "metadata": {
    "slideshow": {
     "slide_type": "subslide"
    }
   },
   "source": [
    "## Interpolacja i aproksymacja\n",
    "- Interpolacja\n",
    "- Jednoznacznośc interpolacji\n",
    "- Wzór Lagrange'a (zasada działania)\n",
    "- Wzór barycentryczny (obie formy, zasada działania)\n",
    "- Efekt Rungego\n",
    "- Węzły Czebyszewa\n",
    "- Zbieżność interpolacji Czebyszewa dla różnych funkcji (rząd zbieżności)\n",
    "- Elipsa Bernsteina\n",
    "- Efekt Gibbsa\n",
    "- Szeregi wielomianów\n",
    "- Wielomiany ortogonalne\n",
    "- Wyliczanie szeregu Czebyszewa z wielomianu interpolacyjnego\n",
    "- Dobór stopnia interpolacji\n",
    "- Najlepsza aproksymacja wielomianowa\n",
    "- Stała Lebesgue'a i jakość aproksymacji\n",
    "- Aproksymacja Caratheodory’ego–Fejer’a\n",
    "\n"
   ]
  },
  {
   "cell_type": "markdown",
   "metadata": {
    "slideshow": {
     "slide_type": "subslide"
    }
   },
   "source": [
    "## Układy równań liniowych\n",
    "- Geometryczna interpretacja układu równań\n",
    "- Normy wektorów i macierzy\n",
    "- Rozkład na wartości singularne\n",
    "- Uwarunkowaie macierzy (układu równań)\n",
    "- Rozkład LU (z przestawieniami i bez)\n",
    "- Rozkłąd Choleskiego\n",
    "- Rozkład QR\n",
    "- Ortogonalizacja Grama-Schmidta\n",
    "- Triangularyzacja Hausholdera\n",
    "- Problem najmniejszych kwadratów (metody rozwiązywania)\n",
    "- Macierze rzadkie\n",
    "- Klasyczne algorytmy iteracyjne\n",
    "- Algorytm GMRES\n",
    "- Macierze dodatnio określone\n",
    "- Metoda gradientu sprzężonego (zasada działania)"
   ]
  },
  {
   "cell_type": "markdown",
   "metadata": {
    "slideshow": {
     "slide_type": "subslide"
    }
   },
   "source": [
    "## Równania nieliniowe i wielomiany\n",
    "- metoda iteracji prostej (zasada zbieżności, przykład)\n",
    "- zasada odwzorowań zwężających\n",
    "- metody bisekcji, siecznych, regula falski\n",
    "- Twierdzenie Abela\n",
    "- Wartości własne i ich związek z pierwiastkami\n",
    "- Macierz Frobeniusa\n",
    "- Dekompozycje macierzy i postać Schura\n",
    "- Macierz Hessenberga i przekształcanie do niej\n",
    "- iteracja prosta i iloraz Rayleigha"
   ]
  },
  {
   "cell_type": "markdown",
   "metadata": {
    "slideshow": {
     "slide_type": "subslide"
    }
   },
   "source": [
    "## Równania nieliniowe i wielomiany\n",
    "\n",
    "- Algorytm QR (Zasada działania i rząd zbieżności)\n",
    "- Algorytm divide and conquer\n",
    "- aproksymacja wielomianowa i szereg Czebyszewa \n",
    "- interpolacyjne wyznaczanie pierwiastków funkcji\n",
    "- układy równań nieliniowych\n",
    "- metoda Newtona i warianty\n",
    "- Metoda Broydena\n",
    "- Funkcja celu i poszukiwanie kierunkowe\n",
    "- Metody homotopii (ogólna idea)"
   ]
  },
  {
   "cell_type": "markdown",
   "metadata": {
    "slideshow": {
     "slide_type": "subslide"
    }
   },
   "source": [
    "## Całkowanie numeryczne\n",
    "- Całkowanie w czasie rzeczywistym \n",
    "- Metody Eulera, trapezów\n",
    "- Kwadratury interpolacyjne\n",
    "- Rząd wielomianowy kwadratury\n",
    "- Warianty kwadratury Gaussa\n",
    "- Wyznaczanie wag i węzłów kwadratury Clenshawa-Curtisa\n",
    "- Wyznaczanie wag i węzłów kwadratury Gaussa-Legendre'a\n",
    "- Kwadratury adaptacyjne (zasada działania)"
   ]
  }
 ],
 "metadata": {
  "celltoolbar": "Slideshow",
  "kernelspec": {
   "display_name": "Python 3",
   "language": "python",
   "name": "python3"
  },
  "language_info": {
   "codemirror_mode": {
    "name": "ipython",
    "version": 3
   },
   "file_extension": ".py",
   "mimetype": "text/x-python",
   "name": "python",
   "nbconvert_exporter": "python",
   "pygments_lexer": "ipython3",
   "version": "3.7.6"
  }
 },
 "nbformat": 4,
 "nbformat_minor": 2
}
