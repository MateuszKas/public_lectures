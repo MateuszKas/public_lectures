{
 "cells": [
  {
   "cell_type": "code",
   "execution_count": 1,
   "metadata": {},
   "outputs": [
    {
     "data": {
      "text/html": [
       "<style>\n",
       ".rendered_html table, .rendered_html th, .rendered_html tr, .rendered_html td {\n",
       "     font-size: 100%;\n",
       "}\n",
       "</style>\n"
      ],
      "text/plain": [
       "<IPython.core.display.HTML object>"
      ]
     },
     "metadata": {},
     "output_type": "display_data"
    }
   ],
   "source": [
    "%%HTML\n",
    "<style>\n",
    ".rendered_html table, .rendered_html th, .rendered_html tr, .rendered_html td {\n",
    "     font-size: 100%;\n",
    "}\n",
    "</style>"
   ]
  },
  {
   "cell_type": "markdown",
   "metadata": {
    "slideshow": {
     "slide_type": "slide"
    }
   },
   "source": [
    "# Metody Numeryczne\n",
    "\n",
    "## Rozkład Choleskiego\n",
    "\n",
    "\n",
    "\n",
    "### dr hab. inż. Jerzy Baranowski, Prof.AGH\n"
   ]
  },
  {
   "cell_type": "markdown",
   "metadata": {
    "slideshow": {
     "slide_type": "slide"
    }
   },
   "source": [
    "## Macierz symetryczna\n",
    "\n",
    "Rzeczywista macierz $A\\in R^{m\\times m}$ jest symetryczna jeżeli ma te same elementy nad i pod diagonalą tj. $a_{ij}=a_{ji}$ więc $A=A^\\mathsf{T}$.\n",
    "\n",
    "Dla takiej macierzy zachodzi:\n",
    "$$\n",
    "x^\\mathsf{T}Ay=y^\\mathsf{T}Ax,\\ \\forall x,y\\in R^m\n",
    "$$\n",
    "\n",
    "\n",
    "\n"
   ]
  },
  {
   "cell_type": "markdown",
   "metadata": {
    "slideshow": {
     "slide_type": "subslide"
    }
   },
   "source": [
    "## Macierz hermitowska\n",
    "Zespolona macierz $A\\in C^{m\\times m}$ jest hermitowska, jeżeli elementy pod diagonalą są sprzężone do tych nad diagonalą tj. $a_{ij}=\\bar{a}_{ji}$ więc $A=A^*$. \n",
    "\n",
    "Elementy na przekątnej macierzy hermitowskiej muszą być rzeczywiste\n",
    "\n",
    "Dla takiej macierzy zachodzi:\n",
    "$$\n",
    "x^*Ay=\\left(y^*Ax\\right)^*,\\ \\forall x,y\\in C^m\n",
    "$$\n",
    "oraz dla każdego $x\\in C^m$ iloczyn $x^*Ax$ jest rzeczywisty\n",
    "\n",
    "\n"
   ]
  },
  {
   "cell_type": "markdown",
   "metadata": {
    "slideshow": {
     "slide_type": "subslide"
    }
   },
   "source": [
    "## Macierz dodatnio określona\n",
    "\n",
    "Jeżeli dla hermitowskiej (symetrycznej) macierzy $A$ i każdego $x\\in C^m$ takiego, że $x\\neq0$ zachodzi\n",
    "$$\n",
    "x^*Ax>0\n",
    "$$\n",
    "to mówimy, że macierz $A$ jest **dodatniono określona**."
   ]
  },
  {
   "cell_type": "markdown",
   "metadata": {
    "slideshow": {
     "slide_type": "subslide"
    }
   },
   "source": [
    "## Terminologia\n",
    "Są nieścisłości w terminologii (i to nie tylko po polsku)\n",
    "\n",
    "|                             | Wariant 1                  | Wariant 2                     |\n",
    "|-----------------------------|----------------------------|-------------------------------|\n",
    "| $x^*Ax>0$, $\\forall x\\neq0$ | $A$ dodatnio określona     | $A$ ściśle dodatnio określona |\n",
    "| $x^*Ax\\geq0$, $\\forall x$   | $A$ pół-dodatnio określona | $A$dodatnio określona         |\n",
    "\n",
    "Po angielsku występują nazwy *semi-positive definite*, *positive definite* i *strictly positive definite*.\n"
   ]
  },
  {
   "cell_type": "markdown",
   "metadata": {
    "slideshow": {
     "slide_type": "subslide"
    }
   },
   "source": [
    "## Własności\n",
    "- Wartości własne macierzy hermitowskiej są zawsze rzeczywiste\n",
    "- Wartości własne macierzy dodatnio określonej są zawsze dodatnie (i odwrotnie)\n",
    "- Wartości singularne macierzy symetrycznej są (z dokładnością do znaku) jej wartościami własnymi.\n",
    "- Minory wiodące macierzy dodatnio określonej są dodatnie"
   ]
  },
  {
   "cell_type": "markdown",
   "metadata": {
    "slideshow": {
     "slide_type": "subslide"
    }
   },
   "source": [
    "## Zastosowania\n",
    "\n",
    "Macierze dodatnio określone często występują w zastosowaniach:\n",
    " - statystyka (macierze kowariancji i korelacji)\n",
    " - mechanika i elektrotechnika (energia)\n",
    " - optymalizacji (macierz drugich pochodnych minimalizowanej funkcji)\n",
    " - badaniu stabilności (funkcjonały Lapunowa)"
   ]
  },
  {
   "cell_type": "markdown",
   "metadata": {
    "slideshow": {
     "slide_type": "slide"
    }
   },
   "source": [
    "## Symetryczna eliminacja Gaussa ($a_{11}=1$)\n",
    "Zacznijmy od lewej \n",
    "$$\n",
    "A=\\begin{bmatrix}\n",
    "1&w^*\\\\w&K\n",
    "\\end{bmatrix}\n",
    "=\n",
    "\\begin{bmatrix}\n",
    "1&0\\\\w&I\n",
    "\\end{bmatrix}\n",
    "\\begin{bmatrix}\n",
    "1&w^*\\\\0&K-ww^*\n",
    "\\end{bmatrix}\n",
    "$$\n",
    "Analogicznie z drugiej strony\n",
    "$$\n",
    "\\begin{bmatrix}\n",
    "1&w^*\\\\0&K-ww^*\n",
    "\\end{bmatrix}=\n",
    "\\begin{bmatrix}\n",
    "1&0\\\\0&K-ww^*\n",
    "\\end{bmatrix}\n",
    "\\begin{bmatrix}\n",
    "1&w*\\\\0&I\n",
    "\\end{bmatrix}\n",
    "$$\n",
    "Czyli\n",
    "$$\n",
    "A=\\begin{bmatrix}\n",
    "1&w^*\\\\w&K\n",
    "\\end{bmatrix}\n",
    "=\n",
    "\\begin{bmatrix}\n",
    "1&0\\\\w&I\n",
    "\\end{bmatrix}\n",
    "\\begin{bmatrix}\n",
    "1&0\\\\0&K-ww^*\n",
    "\\end{bmatrix}\n",
    "\\begin{bmatrix}\n",
    "1&w*\\\\0&I\n",
    "\\end{bmatrix}\n",
    "$$\n",
    "\n"
   ]
  },
  {
   "cell_type": "markdown",
   "metadata": {
    "slideshow": {
     "slide_type": "subslide"
    }
   },
   "source": [
    "## Rozkład Choleskiego\n",
    "Niech $a_{11}>0$ i $\\alpha=\\sqrt{a_{11}}$ \n",
    "$$\n",
    "\\begin{aligned}\n",
    "A={}&\\begin{bmatrix}\n",
    "a_{11}&w^*\\\\w&K\n",
    "\\end{bmatrix}\\\\\n",
    "={}&\\begin{bmatrix}\n",
    "\\alpha&0\\\\w/\\alpha&I\n",
    "\\end{bmatrix}\\begin{bmatrix}\n",
    "1&0\\\\0&K-ww^*/a_{11}\n",
    "\\end{bmatrix}\\begin{bmatrix}\n",
    "\\alpha&w*/\\alpha\\\\0&I\n",
    "\\end{bmatrix}=R^*_1 A_1 R_1\n",
    "\\end{aligned}\n",
    "$$\n",
    "Konsekwentnie\n",
    "$$\n",
    "A=\\underbrace{R^*_1R^*_2\\dots R^*_m}_{R^*}\\underbrace{R_1R_2\\dots R_m}_{R}\n",
    "$$\n",
    "czyli\n",
    "$$\n",
    "A=R^*R,\\ r_{jj}>0\n",
    "$$\n"
   ]
  },
  {
   "cell_type": "markdown",
   "metadata": {
    "slideshow": {
     "slide_type": "subslide"
    }
   },
   "source": [
    "## Dlaczego to działa?\n",
    "\n",
    "Wszystko zadziała, jeżeli lewy górny element macierzy $K-ww^*/a_{11}$ będzie dodatni. On jest dodatni, ponieważ macierz $K-ww^*/a_{11}$ jest dodatnio określona, jeżeli $A$ jest dodanio określona.\n",
    "\n",
    "W konsekwencji zachodzi twierdzenie\n",
    "\n",
    "*Każda macierz dodatnio określona ma jednoznacznie określony rozkład Choleskiego*"
   ]
  },
  {
   "cell_type": "markdown",
   "metadata": {
    "slideshow": {
     "slide_type": "subslide"
    }
   },
   "source": [
    "## Algorytm\n",
    "$R=A$\n",
    "\n",
    "$\\mathbf{for}$ $k=1$ $\\mathbf{to}$ $m$\n",
    "{\n",
    "\n",
    "$\\mathbf{for}$ $j=k+1$ $\\mathbf{to}$ $m$\n",
    "{\n",
    "\n",
    "$R_{j,j:m}=R_{j,j:m}-R_{j,j:m}R_{kj}/R_{k,k}$\n",
    "\n",
    "}\n",
    "\n",
    "$R_{k,k:m}=R_{k,k:m}/\\sqrt{R_{k,k}}$\n",
    "\n",
    "}     \n",
    "\n",
    "Złożonośc obliczeniowa to $O\\left(\\frac{1}{3}m^3\\right)$ czyli dwa razy szybciej niż eliminacja Gaussa"
   ]
  },
  {
   "cell_type": "markdown",
   "metadata": {
    "slideshow": {
     "slide_type": "subslide"
    }
   },
   "source": [
    "## Uwarunkowanie\n",
    "\n",
    "Rozkład Choleskiego jest stabilny wstecznie. Wszystkie problemy występujące przy rozkładzie LU go nie dotyczą, ze względu na dodatnio-określoność."
   ]
  },
  {
   "cell_type": "markdown",
   "metadata": {
    "slideshow": {
     "slide_type": "slide"
    }
   },
   "source": [
    "## Przykład zastosowania - proces gaussowski\n",
    "\n",
    "Procesy gaussowskie to zaawansowane nieparametryczne modele statystyczne.\n",
    "\n",
    "Za ich pomocą można modelować w zasadzie dowolne funkcje, przy założeniu, że wartości w punktach podlegają pewnemu rozkładowi Gaussa. \n",
    "\n",
    "Kowariancja między poszczególnymi punktami jest określona za pomocą tzw. funkcji jądra\n",
    "$$ k(x,y) $$ zaś macierz kowariancji to wartości tych funkcji w poszczególnych punktach\n",
    "\n",
    "$$K(X,X) = [k(x_i,x_j)]_{ij}$$"
   ]
  },
  {
   "cell_type": "code",
   "execution_count": 16,
   "metadata": {
    "slideshow": {
     "slide_type": "skip"
    }
   },
   "outputs": [],
   "source": [
    "import numpy as np\n",
    "import scipy\n",
    "import matplotlib.pyplot as plt\n",
    "import scipy.sparse.linalg\n",
    "\n",
    "def kernel_func(x,y):\n",
    "    return np.exp(-0.5*15*np.abs(x-y)**2)\n",
    "def cov_matrix(X,Y):\n",
    "    K=np.zeros([len(X),len(Y)])\n",
    "    for i,x in enumerate(X):\n",
    "        for j,y in enumerate(Y):\n",
    "            K[i,j]=kernel_func(x,y)\n",
    "    return K;"
   ]
  },
  {
   "cell_type": "code",
   "execution_count": 17,
   "metadata": {
    "slideshow": {
     "slide_type": "subslide"
    }
   },
   "outputs": [
    {
     "data": {
      "image/png": "[encoded data removed]",
      "text/plain": [
       "<Figure size 432x288 with 1 Axes>"
      ]
     },
     "metadata": {
      "needs_background": "light"
     },
     "output_type": "display_data"
    }
   ],
   "source": [
    "x=np.linspace(-1,1,10)\n",
    "y=np.exp(x)*np.sin(5*x)\n",
    "\n",
    "fig,ax = plt.subplots(1,1)\n",
    "ax.plot(x,y,marker='o',linestyle='none',c='black')\n",
    "ax.set_xlabel('x')\n",
    "ax.set_xlabel('y')\n",
    "\n",
    "plt.show()"
   ]
  },
  {
   "cell_type": "markdown",
   "metadata": {
    "slideshow": {
     "slide_type": "subslide"
    }
   },
   "source": [
    "## Przewidywanie wartości w punktach z użyciem procesu gaussowskiego\n",
    "Mamy wartości $\\mathbf{y}$ w zbiorze punktów $X$, pomiary mają szum $\\sigma$ chcemy dokonać predykcji $\\mathbf{f}$ w punktach $X_*$ wraz z oceną niepewności tej predykcji.\n",
    "\n",
    "Określa nam to łączny wielowymiarowy rozkład normalny\n",
    "$$\n",
    "\\begin{bmatrix}\n",
    "\\mathbf{y}\\\\ \\mathbf{f}\n",
    "\\end{bmatrix}\n",
    "\\sim\n",
    "\\mathcal{N}\n",
    "\\left(\n",
    "\\mathbf{0},\\begin{bmatrix}\n",
    "K(X,X)+\\sigma^2 I& K(X,X^*)\\\\K(X^*,X)&K(X^*,X^*)\n",
    "\\end{bmatrix}\n",
    "\\right)\n",
    "$$\n",
    "z którego możemy dostać rozkład warunkowy predykcji $$\\mathbf{f}|X,\\mathbf{y},X_*\\sim\\mathcal{N}(\\bar{\\mathbf{f}},\\mathrm{cov}(\\mathbf{f}))$$\n",
    "gdzie\n",
    "$$\n",
    "\\begin{aligned}\n",
    "\\bar{\\mathbf{f}}={}&K(X^*,X)[K(X,X)+\\sigma^2]^{-1}\\mathbf{y}\\\\\n",
    "\\mathrm{cov}(\\mathbf{f})={}&K(X^*,X^*)-K(X_*,X)[K(X,X)+\\sigma^2I]^{-1}K(X,X_*)\n",
    "\\end{aligned}\n",
    "$$\n"
   ]
  },
  {
   "cell_type": "code",
   "execution_count": 26,
   "metadata": {
    "slideshow": {
     "slide_type": "subslide"
    }
   },
   "outputs": [],
   "source": [
    "x_gw=np.linspace(-1,1,100)\n",
    "sigma2=0.01\n",
    "Kxx=cov_matrix(x,x)\n",
    "Kxxgw=cov_matrix(x,x_gw)\n",
    "L=np.linalg.cholesky(Kxx+sigma2*np.identity(len(x)))\n",
    "alpha=scipy.linalg.solve_triangular(\n",
    "    L.T,scipy.linalg.solve_triangular(L,y,lower=True))\n",
    "f=np.zeros(len(x_gw))\n",
    "Vf=np.zeros(len(x_gw))\n",
    "for i in range(len(x_gw)):\n",
    "    k_gw=Kxxgw[:,i]\n",
    "    v=scipy.linalg.solve_triangular(L,k_gw,lower=True)\n",
    "    f[i]=k_gw.T@alpha\n",
    "    Vf[i]=1-v.T@v\n"
   ]
  },
  {
   "cell_type": "code",
   "execution_count": 27,
   "metadata": {},
   "outputs": [
    {
     "data": {
      "image/png": "[encoded data removed]",
      "text/plain": [
       "<Figure size 432x288 with 1 Axes>"
      ]
     },
     "metadata": {
      "needs_background": "light"
     },
     "output_type": "display_data"
    }
   ],
   "source": [
    "fig,ax = plt.subplots(1,1)\n",
    "ax.plot(x,y,marker='o',linestyle='none',c='black')\n",
    "ax.plot(x_gw,f,c='black')\n",
    "ax.fill_between(x_gw,f-2*np.sqrt(np.abs(Vf)),f+2*np.sqrt(np.abs(Vf)),color='gray')\n",
    "ax.set_xlabel('x')\n",
    "ax.set_xlabel('y')\n",
    "\n",
    "plt.show()"
   ]
  },
  {
   "cell_type": "code",
   "execution_count": null,
   "metadata": {},
   "outputs": [],
   "source": []
  }
 ],
 "metadata": {
  "celltoolbar": "Slideshow",
  "kernelspec": {
   "display_name": "Python 3",
   "language": "python",
   "name": "python3"
  },
  "language_info": {
   "codemirror_mode": {
    "name": "ipython",
    "version": 3
   },
   "file_extension": ".py",
   "mimetype": "text/x-python",
   "name": "python",
   "nbconvert_exporter": "python",
   "pygments_lexer": "ipython3",
   "version": "3.7.10"
  }
 },
 "nbformat": 4,
 "nbformat_minor": 4
}
