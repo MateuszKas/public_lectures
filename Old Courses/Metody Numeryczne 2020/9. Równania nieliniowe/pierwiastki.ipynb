{
 "cells": [
  {
   "cell_type": "markdown",
   "metadata": {},
   "source": [
    "# Pierwiastki wielomianów\n",
    "## Metody Numeryczne\n",
    "### dr hab. Jerzy Baranowski, prof. AGH"
   ]
  },
  {
   "cell_type": "markdown",
   "metadata": {
    "slideshow": {
     "slide_type": "slide"
    }
   },
   "source": [
    "## Twierdzenie Abela\n",
    "- Dla każdego $m\\geq5$ istnieje wielomian $p(x)$ stopnia $m$ o wymiernych współczynnikach, który ma pierwiastek rzeczywisty $p(r)=0$, o takiej własności, że $r$ nie może zostać zapisane w formie wyrażenia zawierającego liczby wymierne, dodawanie, odejmowanie, mnożenie, dzielenie i pierwiastki różnych stopni.\n",
    "- **Konsekwencja**: pierwiastki wielomianu można wyznaczyć wyłącznie iteracyjnie\n"
   ]
  },
  {
   "cell_type": "markdown",
   "metadata": {
    "slideshow": {
     "slide_type": "subslide"
    }
   },
   "source": [
    "## Wartości i wektory własne macierzy\n",
    "\n",
    "Niech $A$ będzie zespoloną macierzą kwadratową. Niezerowy wektor zespolony $w$ jest wektorem własnym $A$, zaś $\\lambda\\in C$  jest odpowiadającą mu wartością własną, jeżeli\n",
    "\n",
    "$$\n",
    "Aw=\\lambda w\n",
    "$$\n"
   ]
  },
  {
   "cell_type": "markdown",
   "metadata": {
    "slideshow": {
     "slide_type": "subslide"
    }
   },
   "source": [
    "## Interpretacja geometryczna"
   ]
  },
  {
   "cell_type": "code",
   "execution_count": 1,
   "metadata": {
    "slideshow": {
     "slide_type": "skip"
    }
   },
   "outputs": [
    {
     "data": {
      "text/plain": [
       "Text(1.7, 1, '$Aw= \\\\begin{bmatrix}  2 \\\\\\\\ 4  \\\\end{bmatrix}$')"
      ]
     },
     "execution_count": 1,
     "metadata": {},
     "output_type": "execute_result"
    },
    {
     "data": {
      "image/png": "[encoded data removed]",
      "text/plain": [
       "<Figure size 504x288 with 1 Axes>"
      ]
     },
     "metadata": {
      "needs_background": "light"
     },
     "output_type": "display_data"
    }
   ],
   "source": [
    "import numpy as np\n",
    "import matplotlib.pyplot as plt\n",
    "from matplotlib import rcParams\n",
    "rcParams['text.usetex'] = True\n",
    "rcParams['text.latex.preamble'] = r'\\usepackage{amsmath}'\n",
    "\n",
    "\n",
    "lam=2\n",
    "A=np.array([[0, 1],[-2,3]])\n",
    "x=np.array([[1],[2]])\n",
    "Ax=A@x\n",
    "fig,ax=plt.subplots(1,1,figsize=(7, 4))\n",
    "ax.set_ylim(0,4)\n",
    "ax.set_xlim(0,4)\n",
    "\n",
    "ax.annotate(\"\", xy=(Ax[0],Ax[1]), xytext=(0, 0),arrowprops=dict(arrowstyle=\"->\",color='red'))\n",
    "ax.annotate(\"\", xy=(x[0],x[1]), xytext=(0, 0),arrowprops=dict(arrowstyle=\"->\"))\n",
    "ax.set_aspect('equal', adjustable='box')\n",
    "ax.set_xlabel('$x_1$',size=16)\n",
    "ax.set_ylabel('$x_2$',size=16,rotation=0)\n",
    "ax.set_xticks([0,1,2])\n",
    "ax.set_yticks([0,2,4])\n",
    "ax.set_xticklabels(['0',r'$w_1$',r'$\\lambda w_1$'],size=12)\n",
    "ax.set_yticklabels(['0',r'$w_2$',r'$\\lambda w_2$'],size=12)\n",
    "ax.text(s=r'$w$',x=0.3,y=1.25,size=16)\n",
    "ax.text(s=r'$Aw$',x=.7,y=2.4,color='red',size=16)\n",
    "ax.annotate(r\"$A= \\begin{bmatrix} 0 & 1 \\\\ -2 & 3  \\end{bmatrix}$\",(1.9, 3),size=16)\n",
    "ax.annotate(r\"$w= \\begin{bmatrix}  1 \\\\ 2  \\end{bmatrix},\\lambda=2$\",(1.95, 2),size=16)\n",
    "ax.annotate(r\"$Aw= \\begin{bmatrix}  2 \\\\ 4  \\end{bmatrix}$\",(1.7, 1),size=16,color='red')\n"
   ]
  },
  {
   "cell_type": "code",
   "execution_count": 2,
   "metadata": {
    "slideshow": {
     "slide_type": "-"
    }
   },
   "outputs": [
    {
     "data": {
      "image/png": "[encoded data removed]",
      "text/plain": [
       "<Figure size 504x288 with 1 Axes>"
      ]
     },
     "execution_count": 2,
     "metadata": {},
     "output_type": "execute_result"
    }
   ],
   "source": [
    "fig"
   ]
  },
  {
   "cell_type": "markdown",
   "metadata": {
    "slideshow": {
     "slide_type": "subslide"
    }
   },
   "source": [
    "## Wielomian charakterystyczny\n",
    "\n",
    "Wielomian charakterystyczny macierzy $A$ o wymiarach $m \\times m$, to wielomian stopnia $m$ o postaci\n",
    "\n",
    "$$\n",
    "p(z)=\\mathrm{det}(zI-A)\n",
    "$$\n",
    "\n",
    "Wartości własne są pierwiastkami wielomianu charakterystycznego macierzy $A$\n"
   ]
  },
  {
   "cell_type": "markdown",
   "metadata": {
    "slideshow": {
     "slide_type": "subslide"
    }
   },
   "source": [
    "## Macierz Frobeniusa\n",
    "### Macierz stowarzyszona (*Companion matrix*)\n",
    "\n",
    "Wielomian charakterystyczny macierzy \n",
    "$$\n",
    "\\begin{bmatrix}\n",
    "&1&&\\\\\n",
    "&&\\ddots&\\\\\n",
    "&&&1\\\\\n",
    "-a_0&-a_1&\\dots&-a_{n-1}\n",
    "\\end{bmatrix}\n",
    "$$\n",
    "Jest równy\n",
    "$$\n",
    "p(z)=z^n+a_{n-1}z^{n-1}+\\dots+a_1z+a_0\n",
    "$$\n",
    "**Konsekwencja**: Poszukiwanie pierwiastków wielomianu jest równoważne poszukiwaniu wartości własnych pewnej macierzy"
   ]
  },
  {
   "cell_type": "markdown",
   "metadata": {
    "slideshow": {
     "slide_type": "subslide"
    }
   },
   "source": [
    "## Dodatkowe cechy wartości własnych\n",
    "\n",
    "- Wartości własne macierzy trójkątnej leżą na jej przekątnej.\n",
    "- Ślad macierzy jest równy sumie wartości własnych.\n",
    "- Wyznacznik macierzy jest równy iloczynowi wartości własnych.\n",
    "- Dla każdej macierzy nieosobliwej $P$ wartości własne macierzy $A$ i $PAP^{-1}$ są sobie równe.\n"
   ]
  },
  {
   "cell_type": "markdown",
   "metadata": {
    "slideshow": {
     "slide_type": "subslide"
    }
   },
   "source": [
    "## Dekompozycje macierzy\n",
    "\n",
    "- Każdą macierz, która ma różne wartości własne można przedstawić w postaci\n",
    "$$ A=X\\Lambda X^{-1}$$\n",
    "gdzie $X$ to macierz wektorów własnych, a $\\Lambda$ to macierz diagonalna wartości własnych.\n",
    "- Każda macierz **normalna** (tj. $A^*A=AA^*$) może zostać przedstawiona w postaci\n",
    "$$ A =Q\\Lambda Q^*$$\n",
    "gdzie $Q$ jest macierzą unitarną.\n"
   ]
  },
  {
   "cell_type": "markdown",
   "metadata": {
    "slideshow": {
     "slide_type": "subslide"
    }
   },
   "source": [
    "## Postać Shura\n",
    "\n",
    "- Każdą macierz kwadratową można przedstawić w formie rozkładu Schura, tj. \n",
    "$$A=QTQ^*$$\n",
    "gdzie $Q$ jest macierzą unitarną, zaś $T$ jest macierzą trójkątną górną.\n",
    "- Rozkład Schura jest podstawą wszystkich algorytmów wyliczania wartości własnych\n",
    "\n"
   ]
  },
  {
   "cell_type": "markdown",
   "metadata": {
    "slideshow": {
     "slide_type": "subslide"
    }
   },
   "source": [
    "## Zasada konstrukcji rozkładu Schura\n",
    "\n",
    "Konstruujemy ciąg przekształceń za pomocą macierzy unitarnych (z obu stron), tak aby iloczyn\n",
    "$$\n",
    " \\underbrace{Q_j^*\\dots Q_2^*Q_1^*}_{Q^*}A\\underbrace{Q_1Q_2\\dots Q_j}_{Q}\n",
    "$$\n",
    "zmierzał do macierzy trójkątnej $T$ gdy $j\\rightarrow\\infty$."
   ]
  },
  {
   "cell_type": "markdown",
   "metadata": {
    "slideshow": {
     "slide_type": "subslide"
    }
   },
   "source": [
    "## Algebraiczna transformacja do postaci Schura nie istnieje\n",
    "\n",
    "- po pierwsze - konsekwencja twierdzenia Abela\n",
    "- po drugie, musimy skonstruoować transfromację z obu stron\n",
    "\n",
    "$$\n",
    "\\underset{A}\n",
    "{\\begin{bmatrix}\n",
    "\\times&\\times&\\times&\\times&\\times\\\\[1ex]\n",
    "\\times&\\times&\\times&\\times&\\times\\\\[1ex]\n",
    "\\times&\\times&\\times&\\times&\\times\\\\[1ex]\n",
    "\\times&\\times&\\times&\\times&\\times\\\\[1ex]\n",
    "\\times&\\times&\\times&\\times&\\times\n",
    "\\end{bmatrix}}\n",
    "\\xrightarrow{Q_1^*\\cdot}\n",
    "\\underset{Q_1^*A}{\n",
    "\\begin{bmatrix}\n",
    "\\times&\\times&\\times&\\times&\\times\\\\[1ex]\n",
    "\\mathbf{0}&\\boldsymbol{\\times}&\\boldsymbol{\\times}&\\boldsymbol{\\times}&\\boldsymbol{\\times}\\\\[1ex]\n",
    "\\mathbf{0}&\\boldsymbol{\\times}&\\boldsymbol{\\times}&\\boldsymbol{\\times}&\\boldsymbol{\\times}\\\\[1ex]\n",
    "\\mathbf{0}&\\boldsymbol{\\times}&\\boldsymbol{\\times}&\\boldsymbol{\\times}&\\boldsymbol{\\times}\\\\[1ex]\n",
    "\\mathbf{0}&\\boldsymbol{\\times}&\\boldsymbol{\\times}&\\boldsymbol{\\times}&\\boldsymbol{\\times}\\\\[1ex]\n",
    "\\end{bmatrix}}\n",
    "\\xrightarrow{\\cdot Q_1}\n",
    "\\underset{Q_1^*AQ_1}{\n",
    "\\begin{bmatrix}\n",
    "\\boldsymbol{\\times}&\\boldsymbol{\\times}&\\boldsymbol{\\times}&\\boldsymbol{\\times}&\\boldsymbol{\\times}\\\\[1ex]\n",
    "\\boldsymbol{\\times}&\\boldsymbol{\\times}&\\boldsymbol{\\times}&\\boldsymbol{\\times}&\\boldsymbol{\\times}\\\\[1ex]\n",
    "\\boldsymbol{\\times}&\\boldsymbol{\\times}&\\boldsymbol{\\times}&\\boldsymbol{\\times}&\\boldsymbol{\\times}\\\\[1ex]\n",
    "\\boldsymbol{\\times}&\\boldsymbol{\\times}&\\boldsymbol{\\times}&\\boldsymbol{\\times}&\\boldsymbol{\\times}\\\\[1ex]\n",
    "\\boldsymbol{\\times}&\\boldsymbol{\\times}&\\boldsymbol{\\times}&\\boldsymbol{\\times}&\\boldsymbol{\\times}\\\\[1ex]\n",
    "\\end{bmatrix}}\n",
    "$$"
   ]
  },
  {
   "cell_type": "markdown",
   "metadata": {
    "slideshow": {
     "slide_type": "subslide"
    }
   },
   "source": [
    "## Dwie fazy wyznaczania rozkładu macierzy\n",
    "\n",
    "Praktyczne algorytmy wyliczania wartości własnych wykorzystują dwuetapowe podejście.\n",
    "$$\n",
    "\\underset{A\\neq A^*}\n",
    "{\\begin{bmatrix}\n",
    "\\times&\\times&\\times&\\times&\\times\\\\[1ex]\n",
    "\\times&\\times&\\times&\\times&\\times\\\\[1ex]\n",
    "\\times&\\times&\\times&\\times&\\times\\\\[1ex]\n",
    "\\times&\\times&\\times&\\times&\\times\\\\[1ex]\n",
    "\\times&\\times&\\times&\\times&\\times\n",
    "\\end{bmatrix}}\n",
    "\\xrightarrow{\\mathrm{Faza\\ 1}}\n",
    "\\underset{H}{\n",
    "\\begin{bmatrix}\n",
    "\\times&\\times&\\times&\\times&\\times\\\\[1ex]\n",
    "\\times&\\times&\\times&\\times&\\times\\\\[1ex]\n",
    "&\\times&\\times&\\times&\\times\\\\[1ex]\n",
    "&&\\times&\\times&\\times\\\\[1ex]\n",
    "&&&\\times&\\times\n",
    "\\end{bmatrix}}\n",
    "\\xrightarrow{\\mathrm{Faza\\ 2}}\n",
    "\\underset{T}{\n",
    "\\begin{bmatrix}\n",
    "\\times&\\times&\\times&\\times&\\times\\\\[1ex]\n",
    "&\\times&\\times&\\times&\\times\\\\[1ex]\n",
    "&&\\times&\\times&\\times\\\\[1ex]\n",
    "&&&\\times&\\times\\\\[1ex]\n",
    "&&&&\\times\n",
    "\\end{bmatrix}}\n",
    "$$\n",
    "lub\n",
    "$$\n",
    "\\underset{A = A^*}\n",
    "{\\begin{bmatrix}\n",
    "\\times&\\times&\\times&\\times&\\times\\\\[1ex]\n",
    "\\times&\\times&\\times&\\times&\\times\\\\[1ex]\n",
    "\\times&\\times&\\times&\\times&\\times\\\\[1ex]\n",
    "\\times&\\times&\\times&\\times&\\times\\\\[1ex]\n",
    "\\times&\\times&\\times&\\times&\\times\n",
    "\\end{bmatrix}}\n",
    "\\xrightarrow{\\mathrm{Faza\\ 1}}\n",
    "\\underset{H}{\n",
    "\\begin{bmatrix}\n",
    "\\times&\\times&&&\\\\[1ex]\n",
    "\\times&\\times&\\times&&\\\\[1ex]\n",
    "&\\times&\\times&\\times&\\\\[1ex]\n",
    "&&\\times&\\times&\\times\\\\[1ex]\n",
    "&&&\\times&\\times\n",
    "\\end{bmatrix}}\n",
    "\\xrightarrow{\\mathrm{Faza\\ 2}}\n",
    "\\underset{D}{\n",
    "\\begin{bmatrix}\n",
    "\\times&&&&\\\\[1ex]\n",
    "&\\times&&&\\\\[1ex]\n",
    "&&\\times&&\\\\[1ex]\n",
    "&&&\\times&\\\\[1ex]\n",
    "&&&&\\times\n",
    "\\end{bmatrix}}\n",
    "$$\n"
   ]
  },
  {
   "cell_type": "markdown",
   "metadata": {
    "slideshow": {
     "slide_type": "subslide"
    }
   },
   "source": [
    "## Transformacja da macierzy Hessenberga\n",
    "\n",
    "- Macierz Hessenberga, to macierz, która ma wszystkie elementy poniżej pierwszej subdiagonali równe zero. Dla macierzy symetrycznych jest to macierz trójprzekątniowa.\n",
    "\n",
    "- Transformację do macierzy Hessenberga można wyznaczyć dokładnie (nieiteracyjnie) poprzez $m$ przekształceń unitarnych (z lewej i prawej strony) \n"
   ]
  },
  {
   "cell_type": "markdown",
   "metadata": {
    "slideshow": {
     "slide_type": "subslide"
    }
   },
   "source": [
    "## Przebieg transformacji\n",
    "\n",
    "$$\n",
    "\\underset{A}\n",
    "{\\begin{bmatrix}\n",
    "\\times&\\times&\\times&\\times&\\times\\\\[1ex]\n",
    "\\times&\\times&\\times&\\times&\\times\\\\[1ex]\n",
    "\\times&\\times&\\times&\\times&\\times\\\\[1ex]\n",
    "\\times&\\times&\\times&\\times&\\times\\\\[1ex]\n",
    "\\times&\\times&\\times&\\times&\\times\n",
    "\\end{bmatrix}}\n",
    "\\xrightarrow{Q_1^*\\cdot}\n",
    "\\underset{Q_1^*A}{\n",
    "\\begin{bmatrix}\n",
    "\\times&\\times&\\times&\\times&\\times\\\\[1ex]\n",
    "\\boldsymbol{\\times}&\\boldsymbol{\\times}&\\boldsymbol{\\times}&\\boldsymbol{\\times}&\\boldsymbol{\\times}\\\\[1ex]\n",
    "\\mathbf{0}&\\boldsymbol{\\times}&\\boldsymbol{\\times}&\\boldsymbol{\\times}&\\boldsymbol{\\times}\\\\[1ex]\n",
    "\\mathbf{0}&\\boldsymbol{\\times}&\\boldsymbol{\\times}&\\boldsymbol{\\times}&\\boldsymbol{\\times}\\\\[1ex]\n",
    "\\mathbf{0}&\\boldsymbol{\\times}&\\boldsymbol{\\times}&\\boldsymbol{\\times}&\\boldsymbol{\\times}\\\\[1ex]\n",
    "\\end{bmatrix}}\n",
    "\\xrightarrow{\\cdot Q_1}\n",
    "\\underset{Q_1^*AQ_1}{\n",
    "\\begin{bmatrix}\n",
    "\\times&\\boldsymbol{\\times}&\\boldsymbol{\\times}&\\boldsymbol{\\times}&\\boldsymbol{\\times}\\\\[1ex]\n",
    "\\times&\\boldsymbol{\\times}&\\boldsymbol{\\times}&\\boldsymbol{\\times}&\\boldsymbol{\\times}\\\\[1ex]\n",
    "&\\boldsymbol{\\times}&\\boldsymbol{\\times}&\\boldsymbol{\\times}&\\boldsymbol{\\times}\\\\[1ex]\n",
    "&\\boldsymbol{\\times}&\\boldsymbol{\\times}&\\boldsymbol{\\times}&\\boldsymbol{\\times}\\\\[1ex]\n",
    "&\\boldsymbol{\\times}&\\boldsymbol{\\times}&\\boldsymbol{\\times}&\\boldsymbol{\\times}\\\\[1ex]\n",
    "\\end{bmatrix}}\n",
    "$$\n",
    "\n",
    "$$\n",
    "\\underset{Q_1^*AQ_1}\n",
    "{\\begin{bmatrix}\n",
    "\\times&\\times&\\times&\\times&\\times\\\\[1ex]\n",
    "\\times&\\times&\\times&\\times&\\times\\\\[1ex]\n",
    "&\\times&\\times&\\times&\\times\\\\[1ex]\n",
    "&\\times&\\times&\\times&\\times\\\\[1ex]\n",
    "&\\times&\\times&\\times&\\times\n",
    "\\end{bmatrix}}\n",
    "\\xrightarrow{Q_2^*\\cdot}\n",
    "\\underset{Q_2^*Q_1^*AQ_1}{\n",
    "\\begin{bmatrix}\n",
    "\\times&\\times&\\times&\\times&\\times\\\\[1ex]\n",
    "\\times&\\times&\\times&\\times&\\times\\\\[1ex]\n",
    "&\\boldsymbol{\\times}&\\boldsymbol{\\times}&\\boldsymbol{\\times}&\\boldsymbol{\\times}\\\\[1ex]\n",
    "&\\mathbf{0}&\\boldsymbol{\\times}&\\boldsymbol{\\times}&\\boldsymbol{\\times}\\\\[1ex]\n",
    "&\\mathbf{0}&\\boldsymbol{\\times}&\\boldsymbol{\\times}&\\boldsymbol{\\times}\\\\[1ex]\n",
    "\\end{bmatrix}}\n",
    "\\xrightarrow{\\cdot Q_2}\n",
    "\\underset{Q_2^*Q_1^*AQ_1Q_2}{\n",
    "\\begin{bmatrix}\n",
    "\\times&{\\times}&\\boldsymbol{\\times}&\\boldsymbol{\\times}&\\boldsymbol{\\times}\\\\[1ex]\n",
    "\\times&{\\times}&\\boldsymbol{\\times}&\\boldsymbol{\\times}&\\boldsymbol{\\times}\\\\[1ex]\n",
    "&{\\times}&\\boldsymbol{\\times}&\\boldsymbol{\\times}&\\boldsymbol{\\times}\\\\[1ex]\n",
    "&&\\boldsymbol{\\times}&\\boldsymbol{\\times}&\\boldsymbol{\\times}\\\\[1ex]\n",
    "&&\\boldsymbol{\\times}&\\boldsymbol{\\times}&\\boldsymbol{\\times}\\\\[1ex]\n",
    "\\end{bmatrix}}\n",
    "$$\n",
    "Finalnie $m-2$ kroków\n",
    "$$\n",
    " \\underbrace{Q_{m-2}^*\\dots Q_2^*Q_1^*}_{Q^*}A\\underbrace{Q_1Q_2\\dots Q_{m-2}}_{Q}=H\n",
    "$$"
   ]
  },
  {
   "cell_type": "markdown",
   "metadata": {
    "slideshow": {
     "slide_type": "subslide"
    }
   },
   "source": [
    "## Złożoność obliczeniowa i stabilność\n",
    "\n",
    "Transformacja do postaci Hessenberga dla dowolnej macierzy ma złożoność $O\\left(\\frac{10}{3}m^3\\right)$.\n",
    "\n",
    "Dla macierzy symetrycznych możliwa jest redukcja do $O\\left(\\frac{4}{3}m^3\\right)$.\n",
    "\n",
    "Algorytm transformacji do macierzy Hessenberga, podobnie jak rozkład QR jest stabilny wstecznie.\n"
   ]
  },
  {
   "cell_type": "markdown",
   "metadata": {
    "slideshow": {
     "slide_type": "subslide"
    }
   },
   "source": [
    "## Iloraz Rayleigha\n",
    "\n",
    "$$ r(x)=\\cfrac{x^*Ax}{x^*x}$$\n",
    "\n",
    "Łatwo zauważyć, że jeśli $x$ jest wektorem własnym to $r(x)=\\lambda$, gdzie $\\lambda$ to odpowiadająca mu wartość własna. \n",
    "Jeżeli $\\Vert x\\Vert=1$ to $r(x)=x^\\mathsf{T}Ax$\n",
    "\n",
    "Iloraz Rayleigha jest kwadratowo dokładną estymatą wartości własnej (tzn. że szereg Taylora różnicy estymaty wektora własnego od tego zawiera wyrazy tylko rzędów 2 lub wyższych).\n",
    "\n",
    "** Uwaga ** Dla uproszczenia będziemy dalej rozważać macierze o rzeczywistych, różnych wartościach własnych o orgogonalnych wektorach własnych. To nie zmienia dużo dla zrozumienia metod."
   ]
  },
  {
   "cell_type": "markdown",
   "metadata": {
    "slideshow": {
     "slide_type": "subslide"
    }
   },
   "source": [
    "## Iteracja potęgowa\n",
    "Niech macierz $A$ ma wektory własne $q_1,\\ q_2,\\ \\ldots, q_m$ i $m$ różnych wartości własnych. Wtedy ciąg wektorów \n",
    "$$\n",
    "\\frac{v_0}{\\|v_0\\|},\\ \\frac{A v_0}{\\|A v_0\\|},\\ \\frac{A^2 v_0}{\\|A^2 v_0\\|} ,\\ \\frac{A^3 v_0}{\\|A^3 v_0\\|},\\ldots\n",
    "$$\n",
    "jest zbieżny do wektora własnego odpowiadającego największej co do modułu wartości własnej.\n",
    "\n",
    "Dzieje się tak ponieważ, wektor $v_0$ możemy przedstawić jako kombinację wektorów własnych\n",
    "$$\n",
    "v_0=a_1q_1+a_2q_2+\\ldots+a_mq_m\n",
    "$$\n",
    "więc\n",
    "$$\n",
    "\\begin{aligned}\n",
    "v_k={}& c_kA^k v_0\\\\\n",
    "={}& c_k(a_1\\lambda_1^kq_1+a_2\\lambda_2^kq_2+\\dots+a_m\\lambda_m^mq_m)\\\\\n",
    "={}& c_k \\lambda_1^k (a_1q_1+a_2(\\lambda_2/\\lambda_1)^kq_2+\\dots+a_m(\\lambda_m/\\lambda_1)^kq_m)\n",
    "\\end{aligned}\n",
    "$$\n"
   ]
  },
  {
   "cell_type": "code",
   "execution_count": 3,
   "metadata": {
    "slideshow": {
     "slide_type": "subslide"
    }
   },
   "outputs": [],
   "source": [
    "def power_iteration(A,v0,maxiter=100):\n",
    "    v=[v0/np.linalg.norm(v0)]\n",
    "    lam=[v[0].T@A@v[0]]\n",
    "    for k in range(1,maxiter):\n",
    "        w=A@v[k-1]\n",
    "        v.append(w/np.linalg.norm(w))\n",
    "        lam.append((v[k].T@A@v[k])[0][0])\n",
    "        if np.linalg.norm(lam[k]-lam[k-1])<np.spacing(1):\n",
    "            return (v,lam)\n",
    "    return (v,lam)\n"
   ]
  },
  {
   "cell_type": "code",
   "execution_count": 48,
   "metadata": {
    "slideshow": {
     "slide_type": "subslide"
    }
   },
   "outputs": [],
   "source": [
    "l1=1.1\n",
    "l2=1\n",
    "\n",
    "Q,_ = np.linalg.qr(np.random.random([2,2]))\n",
    "\n",
    "A=Q@np.diag([l1,l2])@Q.T\n",
    "\n",
    "v,lam=power_iteration(A,np.array([[3],[1]]),1000)"
   ]
  },
  {
   "cell_type": "code",
   "execution_count": 49,
   "metadata": {},
   "outputs": [
    {
     "name": "stdout",
     "output_type": "stream",
     "text": [
      "156\n",
      "1.0999999999999954\n"
     ]
    }
   ],
   "source": [
    "print(len(lam))\n",
    "print(lam[-1])"
   ]
  },
  {
   "cell_type": "markdown",
   "metadata": {
    "slideshow": {
     "slide_type": "subslide"
    }
   },
   "source": [
    "## Zbieżność iteracji potęgowej\n",
    "- Iteracja potęgowa zbiega tylko do wektora związanego z największą wartością własną\n",
    "- Iteracja potęgowa ma zbieżność liniową, z kroku na krok poprawa następuje proporcjonalnie do ilorazu największej wartości własnej i kolejnej.\n",
    "- Problem gdy wartości własne są bliskie sobie"
   ]
  },
  {
   "cell_type": "markdown",
   "metadata": {
    "slideshow": {
     "slide_type": "subslide"
    }
   },
   "source": [
    "## Iteracja odwrotna\n",
    "Dla każdej rzeczywistej liczby $\\mu\\in R$, która nie jest warością własną macierzy $A$ wektory własne macierzy $(A-\\mu I)^{-1}$ są takie same jak wektory własne macierzy $A$ zaś odpowiadające im wartości własne to $(\\lambda_j-\\mu)^{-1}$ gdzie ${\\lambda_j}$ to wartości własne macierzy $A$.\n",
    "\n",
    "Pozwala nam to na ominięcie podstawowego problemu iteracji potęgowej. Jeżeli $\\mu$ jest bliskie wartości własnej $\\lambda_J$, wtedy $(\\lambda_J-\\mu)^{-1}$ będzie dużo większe od $(\\lambda_j-\\mu)^{-1}$ dla wszystkich $j\\neq J$. \n",
    "\n",
    "Iteracja potęgowa zastosowana do $(A-\\mu I)^{-1}$ będzie szybko zbiegać do $q_J$. Nazywamy to **iteracją odwrotną**.\n"
   ]
  },
  {
   "cell_type": "code",
   "execution_count": 22,
   "metadata": {
    "slideshow": {
     "slide_type": "subslide"
    }
   },
   "outputs": [],
   "source": [
    "def inverse_iteration(A,v0,mu,maxiter=100):\n",
    "    v=[v0/np.linalg.norm(v0)]\n",
    "    lam=[v[0].T@A@v[0]]\n",
    "    I=np.identity(len(A))\n",
    "    for k in range(1,maxiter):\n",
    "        w=np.linalg.solve(A-mu*I,v[k-1])\n",
    "        v.append(w/np.linalg.norm(w))\n",
    "        lam.append((v[k].T@A@v[k])[0][0])\n",
    "        if np.linalg.norm(lam[k]-lam[k-1])<np.spacing(1):\n",
    "            return (v,lam)\n",
    "    return (v,lam)"
   ]
  },
  {
   "cell_type": "code",
   "execution_count": 52,
   "metadata": {
    "slideshow": {
     "slide_type": "subslide"
    }
   },
   "outputs": [
    {
     "name": "stdout",
     "output_type": "stream",
     "text": [
      "27\n",
      "1.0000000000000004\n"
     ]
    }
   ],
   "source": [
    "\n",
    "v,lam=inverse_iteration(A,np.array([[3],[1]]),0.9,1000)\n",
    "print(len(lam))\n",
    "print(lam[-1])"
   ]
  },
  {
   "cell_type": "markdown",
   "metadata": {
    "slideshow": {
     "slide_type": "subslide"
    }
   },
   "source": [
    "## Połączenie obu podejść\n",
    "\n",
    "Iloraz Rayleigha pozwala na wyznaczenie wartości własnej znając wektor własny, a iteracja odwrotna pozwala na wyznaczenie wektora własnego znając estymatę wartości własnej.\n",
    "\n",
    "Rozwiązaniem jest tzw. **iteracja ilorazu Rayleigha**, która polega na naprzemiennym stosowaniu obydwu algorytmów"
   ]
  },
  {
   "cell_type": "code",
   "execution_count": 35,
   "metadata": {
    "slideshow": {
     "slide_type": "subslide"
    }
   },
   "outputs": [],
   "source": [
    "def rayleigh_quotient_iteration(A,v0,maxiter=100):\n",
    "    v=[v0/np.linalg.norm(v0)]\n",
    "    lam=[(v0.T@A@v0)[0][0]]\n",
    "    I=np.identity(len(A))\n",
    "    for k in range(1,maxiter):\n",
    "        try:\n",
    "            w=np.linalg.solve(A-lam[k-1]*I,v[k-1])\n",
    "        except np.linalg.LinAlgError as err:\n",
    "            if 'Singular matrix' in str(err):\n",
    "                return (v,lam)\n",
    "        # your error handling block\n",
    "            else:\n",
    "                raise(np.linalg.LinAlgError)\n",
    "        v.append(w/np.linalg.norm(w))\n",
    "        lam.append((v[k].T@A@v[k])[0][0])\n",
    "        if np.linalg.norm(lam[k]-lam[k-1])<10*np.spacing(1):\n",
    "            return (v,lam)\n",
    "    return (v,lam)"
   ]
  },
  {
   "cell_type": "code",
   "execution_count": 56,
   "metadata": {
    "slideshow": {
     "slide_type": "subslide"
    },
    "tags": []
   },
   "outputs": [
    {
     "name": "stdout",
     "output_type": "stream",
     "text": [
      "9\n",
      "1.0\n"
     ]
    }
   ],
   "source": [
    "\n",
    "v,lam=rayleigh_quotient_iteration(A,np.array([[0],[.1]]),1000)\n",
    "print(len(lam))\n",
    "print(lam[-1])"
   ]
  },
  {
   "cell_type": "markdown",
   "metadata": {
    "slideshow": {
     "slide_type": "subslide"
    }
   },
   "source": [
    "## Zbieżność iteracji ilorazu Rayleigha\n",
    "Jest to jeden z najszybciej zbieżnych algorytmów numerycznych.\n",
    "Zarówno wartości jak i wektory własne zbiegają w sposób sześcienny dla odpowiednio bliskich przybliżeń."
   ]
  },
  {
   "cell_type": "code",
   "execution_count": 57,
   "metadata": {},
   "outputs": [
    {
     "name": "stdout",
     "output_type": "stream",
     "text": [
      "4\n",
      "5.214319743377534\n"
     ]
    }
   ],
   "source": [
    "A=np.array([[2,1,1],[1,3,1],[1,1,4]])\n",
    "v,lam=rayleigh_quotient_iteration(A,np.array([[.4],[.5],[.75]]),1000)\n",
    "print(len(lam))\n",
    "print(lam[-1])"
   ]
  },
  {
   "cell_type": "code",
   "execution_count": 58,
   "metadata": {},
   "outputs": [
    {
     "data": {
      "text/plain": [
       "[5.07, 5.214317795426072, 5.214319743377535, 5.214319743377534]"
      ]
     },
     "execution_count": 58,
     "metadata": {},
     "output_type": "execute_result"
    }
   ],
   "source": [
    "lam"
   ]
  },
  {
   "cell_type": "markdown",
   "metadata": {
    "slideshow": {
     "slide_type": "subslide"
    }
   },
   "source": [
    "## Agorytm QR\n",
    "\n",
    "Bezpośrednie poszukiwanie wartości własnych iteracją ilorazu Rayleigha jest utrudnione ze względu na zależność od wektora początkowego. Stąd pomysł, żeby szukać w różnych kierunkach jednocześnie - najlepiej ortogonalnych. \n",
    "\n",
    "Do konstrukcji poszukiwań zastosujemy rozkład QR, dla macierzy $A$\n",
    "\n",
    "$$\n",
    "\\begin{aligned}\n",
    "A_0={}&A\\\\\n",
    "Q_kR_k={}&A_{k-1}\\\\\n",
    "A_k={}&R_kQ_k\n",
    "\\end{aligned}\n",
    "$$\n",
    "Iteracyjnie rozkładamy macierz na rozkład QR a następnie składamy ją w odwrotnej kolejności.\n",
    "\n",
    "Taki algorytm jest zbieżny do postaci Shura ale wolno.\n"
   ]
  },
  {
   "cell_type": "code",
   "execution_count": 39,
   "metadata": {
    "slideshow": {
     "slide_type": "skip"
    }
   },
   "outputs": [],
   "source": [
    "def matprint(mat, fmt=\"g\"):\n",
    "    col_maxes = [max([len((\"{:\"+fmt+\"}\").format(x)) for x in col]) for col in mat.T]\n",
    "    for x in mat:\n",
    "        for i, y in enumerate(x):\n",
    "            print((\"{:\"#+str(col_maxes[i])\n",
    "                    +fmt+\"}\").format(y), end=\"  \")\n",
    "        print(\"\")\n",
    "      "
   ]
  },
  {
   "cell_type": "code",
   "execution_count": 40,
   "metadata": {
    "slideshow": {
     "slide_type": "subslide"
    }
   },
   "outputs": [],
   "source": [
    "def qr_no_shift(INP,maxit=1001):\n",
    "    A1=INP.copy()\n",
    "    for k in range(1,maxit):\n",
    "        Q,R=np.linalg.qr(A1);\n",
    "        A1=R@Q;\n",
    "        if np.sum(np.abs(np.diag(A1,-1))) < np.spacing(1):\n",
    "            return (A1,k)\n",
    "    return (A1,k);"
   ]
  },
  {
   "cell_type": "code",
   "execution_count": 41,
   "metadata": {
    "slideshow": {
     "slide_type": "subslide"
    }
   },
   "outputs": [
    {
     "name": "stdout",
     "output_type": "stream",
     "text": [
      "         5       -0.59        0.25        0.57       -0.25       -0.51        -1.4        0.11        0.54  \n",
      "     -0.59         4.4          -1        -1.1          -2       -0.11         1.3       -0.43       -0.21  \n",
      "      0.25          -1         5.6        0.13        0.47        -1.2        -1.3        -1.2        -1.9  \n",
      "      0.57        -1.1        0.13           6       -0.27      -0.036       -0.77         0.4       -0.23  \n",
      "     -0.25          -2        0.47       -0.27         6.4      -0.072       0.094       -0.44        0.75  \n",
      "     -0.51       -0.11        -1.2      -0.036      -0.072         4.3      -0.042       -0.15        -1.2  \n",
      "      -1.4         1.3        -1.3       -0.77       0.094      -0.042         3.7        -1.4        0.77  \n",
      "      0.11       -0.43        -1.2         0.4       -0.44       -0.15        -1.4         3.7       -0.74  \n",
      "      0.54       -0.21        -1.9       -0.23        0.75        -1.2        0.77       -0.74         5.9  \n"
     ]
    }
   ],
   "source": [
    "D = np.diag([*range(1,10)])\n",
    "P = np.random.random(D.shape)\n",
    "#macierz symetryczna\n",
    "Q,_ = np.linalg.qr(P)\n",
    "A = Q @ D @ Q.T\n",
    "\n",
    "matprint(A,'10.2g')\n"
   ]
  },
  {
   "cell_type": "code",
   "execution_count": 42,
   "metadata": {
    "slideshow": {
     "slide_type": "subslide"
    }
   },
   "outputs": [
    {
     "name": "stdout",
     "output_type": "stream",
     "text": [
      "         9     2.2e-15     2.7e-16    -8.2e-16    -7.8e-17    -1.3e-16     1.1e-15     3.9e-16    -9.2e-16  \n",
      "   1.7e-16           8    -9.5e-16     1.2e-15    -7.8e-16     2.1e-17     3.8e-16    -5.6e-16    -4.2e-16  \n",
      "   2.7e-32     2.8e-17           7    -6.5e-16    -3.3e-16      -5e-16     1.5e-18    -3.2e-16    -6.7e-16  \n",
      "   3.1e-52     9.2e-37    -1.1e-20           6    -3.5e-17    -3.8e-16     1.2e-17       7e-16     4.9e-16  \n",
      "   1.7e-76    -7.4e-61    -6.7e-44    -5.3e-24           5     5.1e-18    -6.9e-16    -5.7e-16    -3.9e-16  \n",
      " -6.8e-104    -1.8e-88     5.8e-72     2.1e-52    -3.9e-30           4    -5.6e-16    -8.5e-17    -1.4e-16  \n",
      " -5.2e-141      1e-125   -4.3e-109    -1.9e-89     1.2e-65       2e-37           3     1.3e-16     4.7e-16  \n",
      " -1.3e-192   -3.7e-177    1.7e-160    4.7e-141   -2.1e-119     8.8e-90    -1.7e-52           2    -5.3e-16  \n",
      " -2.7e-281     -6e-266    3.5e-249      5e-230    1.6e-206    7.8e-178   -2.4e-141     1.8e-89           1  \n",
      "Całkowita liczba iteracji (klasyczny algorytm QR): 295\n"
     ]
    }
   ],
   "source": [
    "# %% no shift\n",
    "A_pom,totalit = qr_no_shift(A)\n",
    "matprint(A_pom,'10.2g')\n",
    "print('Całkowita liczba iteracji (klasyczny algorytm QR): '+str(totalit))"
   ]
  },
  {
   "cell_type": "markdown",
   "metadata": {
    "slideshow": {
     "slide_type": "subslide"
    }
   },
   "source": [
    "## Praktyczna postać algorytmu QR\n",
    "\n",
    "Praktyczny algorytm QR:\n",
    "- Rozpoczyna od macierzy w postaci Hessenberga;\n",
    "- Wykorzystuje iterację ilorazu Rayleigha dla przyspieszenia zbieżności;\n",
    "- W momencie pojawienia się wartości bliskich zeru pod przekątną macierz jest rozdzielana na podproblemy.\n"
   ]
  },
  {
   "cell_type": "markdown",
   "metadata": {
    "slideshow": {
     "slide_type": "subslide"
    }
   },
   "source": [
    "## Przesunięcia\n",
    "\n",
    "Wykorzystujemy w każdej iteracji przybliżenie wartości własnej z ilorazu Rayleigha $\\mu_k$\n",
    "\n",
    "$$\n",
    "\\begin{aligned}\n",
    "Q_kR_k={}&A_{k-1}-\\mu_kI\\\\\n",
    "A_k={}&R_kQ_k+\\mu_kI\n",
    "\\end{aligned}\n",
    "$$\n",
    "Czyli robimy to samo co w klasycznym QR, ale przesuwamy wartości własne macierzy przed faktoryzacją i z powrotem do złożenia macierzy.\n",
    "\n",
    "Macierze $Q$ zbiegają do macierzy wektorów własnych, zaś przekątna macierzy $R$ do ilorazów Rayileigha. Dzięki temu jako element $\\mu_k$ wybieramy element z przekątnej."
   ]
  },
  {
   "cell_type": "code",
   "execution_count": 43,
   "metadata": {
    "slideshow": {
     "slide_type": "subslide"
    }
   },
   "outputs": [],
   "source": [
    "from scipy.linalg import hessenberg\n",
    "\n",
    "def QR_deflation(INP):\n",
    "    totalit=0\n",
    "    A_rob=hessenberg(INP)\n",
    "    m = INP.shape[0]\n",
    "    for k in range(0,m-1):\n",
    "        A_rob[0:m-k,0:m-k],it=qr_shift(A_rob[0:m-k,0:m-k])\n",
    "        totalit+=it\n",
    "    return A_rob, totalit\n",
    "\n",
    "def qr_shift(INP,maxit=101):\n",
    "    A1=INP.copy()\n",
    "    for k in range(1,maxit):\n",
    "        mu=A1[-1,-1];\n",
    "        Q,R=np.linalg.qr(A1-mu*np.eye(A1.shape[0]));\n",
    "        A1= R @ Q+mu*np.eye(A1.shape[0]);\n",
    "        if np.abs(A1[-1,-2]) < np.spacing(1):\n",
    "            if np.linalg.norm(A1-A1.T) < np.spacing(1):\n",
    "                A1[-2,-1]=0;\n",
    "            A1[-1,-2]=0;\n",
    "            return (A1,k)\n",
    "    return (A1,k)\n"
   ]
  },
  {
   "cell_type": "code",
   "execution_count": 44,
   "metadata": {
    "slideshow": {
     "slide_type": "subslide"
    }
   },
   "outputs": [
    {
     "name": "stdout",
     "output_type": "stream",
     "text": [
      "         1     1.1e-15     5.1e-16     6.3e-16     4.4e-16     8.5e-17      -6e-16    -1.3e-16    -1.1e-16  \n",
      "         0           9    -2.1e-15    -1.8e-15     6.4e-16    -7.4e-16     8.3e-16     4.3e-16    -7.6e-16  \n",
      "         0           0           2    -1.6e-16     1.4e-15     6.6e-16     4.4e-16    -8.4e-16    -4.2e-16  \n",
      "         0           0           0           3     2.4e-16     3.6e-16    -4.3e-16     4.1e-16    -7.2e-16  \n",
      "         0           0           0           0           4     3.9e-16     5.3e-16    -1.2e-15     6.4e-16  \n",
      "         0           0           0           0           0           8     5.5e-16    -4.1e-16    -3.7e-16  \n",
      "         0           0           0           0           0           0           7     8.6e-17     3.2e-16  \n",
      "         0           0           0           0           0           0           0           5    -2.6e-16  \n",
      "         0           0           0           0           0           0           0           0           6  \n",
      "Całkowita liczba iteracji (QR z przesunięciami i deflacją): 32\n"
     ]
    }
   ],
   "source": [
    "A_rob,totalit = QR_deflation(A)\n",
    "matprint(A_rob,'10.2g')\n",
    "print('Całkowita liczba iteracji (QR z przesunięciami i deflacją): '+str(totalit))"
   ]
  },
  {
   "cell_type": "markdown",
   "metadata": {
    "slideshow": {
     "slide_type": "subslide"
    }
   },
   "source": [
    "## Inne algorytmy wyznaczania wartości własnych\n",
    "\n",
    "- Divide-and-conquer - do wyznaczania wektorów i wartości własnych 2 razy szybszy od Algorytmu QR\n",
    "- Algorytm Jacobiego - potencjalnie zrównoleglalny, podział na operacje na 2 wierszach i 2 kolumnach jednocześnie\n",
    "- Algorytm bisekcji - służy do wyszukiwania części wartości własnych (np. największych 10%) macierzy symetrycznych"
   ]
  },
  {
   "cell_type": "markdown",
   "metadata": {
    "slideshow": {
     "slide_type": "subslide"
    }
   },
   "source": [
    "## Wykorzystanie wartości własnych do rozwiązywania równań nieliniowych\n",
    "\n",
    "Jeżeli możemy przybliżyć funkcję za pomocą interpolacji, to jej zera również powinny być dokładnie przybliżone.\n",
    "\n",
    "\n"
   ]
  },
  {
   "cell_type": "markdown",
   "metadata": {
    "slideshow": {
     "slide_type": "subslide"
    }
   },
   "source": [
    "## Schemat postępowania\n",
    "\n",
    "1. Wyznaczyć stopień wielomianu interpolacyjnego\n",
    "2. Wyznaczyć współczynniki szeregu Czebyszewa odpowiadającego wielomianowi\n",
    "\n",
    "$$ w(x)=\\sum_{i=0}^nc_iT_i(x) $$\n",
    "\n",
    "3. Wyznaczyć pierwiastki wielomianu, które są wartościami własnymi tzw. macierzy koleżeńskiej (collegue matrix)\n",
    "\n",
    "$$\n",
    "C=\\left[\\begin{matrix}0&1&&&&\\\\[1ex]\n",
    "\\frac{1}{2}&0&\\frac{1}{2}&&&\\\\[1ex]\n",
    "&\\frac{1}{2}&0&\\frac{1}{2}&&\\\\[1ex]\n",
    "&&\\ddots&\\ddots&\\ddots&\\\\[1ex]\n",
    "&&&&&\\frac{1}{2}\\\\[1ex]\n",
    "&&&&\\frac{1}{2}&0\n",
    "\\end{matrix}\\right]\n",
    "-\\cfrac{1}{2c_n}\n",
    "\\begin{bmatrix}\n",
    "&&&&&\\\\[1ex]\n",
    "&&&&&\\\\[1ex]\n",
    "&&&&&\\\\[1ex]\n",
    "&&&&&\\\\[1ex]\n",
    "&&&&&\\\\[1ex]\n",
    "&&&&&\\\\[1ex]\n",
    "c_0&c_1&c_2&\\ldots&c_{n-2}&c_{n-1}\n",
    "\\end{bmatrix}\n",
    "$$\n",
    "\n",
    "4. Wybrać te wartości własne, które są liczbami z przedziału interpolacji"
   ]
  },
  {
   "cell_type": "code",
   "execution_count": null,
   "metadata": {},
   "outputs": [],
   "source": []
  },
  {
   "cell_type": "code",
   "execution_count": null,
   "metadata": {},
   "outputs": [],
   "source": []
  }
 ],
 "metadata": {
  "celltoolbar": "Slideshow",
  "kernelspec": {
   "display_name": "Python 3",
   "language": "python",
   "name": "python3"
  },
  "language_info": {
   "codemirror_mode": {
    "name": "ipython",
    "version": 3
   },
   "file_extension": ".py",
   "mimetype": "text/x-python",
   "name": "python",
   "nbconvert_exporter": "python",
   "pygments_lexer": "ipython3",
   "version": "3.7.10"
  }
 },
 "nbformat": 4,
 "nbformat_minor": 2
}
