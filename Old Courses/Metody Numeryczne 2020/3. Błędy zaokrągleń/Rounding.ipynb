{
 "cells": [
  {
   "cell_type": "code",
   "execution_count": 1,
   "metadata": {
    "slideshow": {
     "slide_type": "skip"
    }
   },
   "outputs": [
    {
     "data": {
      "text/html": [
       "<style>\n",
       ".rendered_html table, .rendered_html th, .rendered_html tr, .rendered_html td {\n",
       "     font-size: 100%;\n",
       "}\n",
       "</style>\n"
      ],
      "text/plain": [
       "<IPython.core.display.HTML object>"
      ]
     },
     "metadata": {},
     "output_type": "display_data"
    }
   ],
   "source": [
    "%%HTML\n",
    "<style>\n",
    ".rendered_html table, .rendered_html th, .rendered_html tr, .rendered_html td {\n",
    "     font-size: 100%;\n",
    "}\n",
    "</style>\n"
   ]
  },
  {
   "cell_type": "code",
   "execution_count": 2,
   "metadata": {
    "slideshow": {
     "slide_type": "skip"
    }
   },
   "outputs": [],
   "source": [
    "import numpy as np"
   ]
  },
  {
   "cell_type": "markdown",
   "metadata": {
    "slideshow": {
     "slide_type": "slide"
    }
   },
   "source": [
    "# Metody Numeryczne\n",
    "\n",
    "## Błędy zaokrągleń\n",
    "\n",
    "### dr hab. inż. Jerzy Baranowski, Prof. AGH."
   ]
  },
  {
   "cell_type": "markdown",
   "metadata": {
    "slideshow": {
     "slide_type": "subslide"
    }
   },
   "source": [
    "## Błędy zaokrągleń\n",
    "Kolejne nieusuwalne w pełni źródło błędów, nad którym mamy mniejszą kontrolę niż nad błędem metody"
   ]
  },
  {
   "cell_type": "markdown",
   "metadata": {
    "slideshow": {
     "slide_type": "subslide"
    }
   },
   "source": [
    "## Zaokrąglenie i cyfry znaczące\n",
    "Liczba $\\tilde{y}=\\mathrm{rd}(y)$ jest poprawnie zaokrąglona do *d* miejsc po przecinku, jeżeli \n",
    "\n",
    "$$\n",
    "\\varepsilon=|y-\\tilde{y}|\\leq\\frac{1}{2}\\cdot10^{-d}\n",
    "$$\n",
    "*k*-tą cyfrę dziesiętną liczby $\\tilde{y}$ nazwiemy znaczącą gdy\n",
    "$$|y-\\tilde{y}|\\leq\\frac{1}{2}\\cdot10^{-k}$$\n",
    "oraz \n",
    "$$|\\tilde{y}|\\geq10^{-k}\n",
    "$$"
   ]
  },
  {
   "cell_type": "markdown",
   "metadata": {
    "slideshow": {
     "slide_type": "subslide"
    }
   },
   "source": [
    "## Rzeczywiste obliczenia zmiennoprzecinkowe\n",
    "$$\n",
    "\\begin{align}\n",
    "\\mathrm{fl}(x+y)={}&\\mathrm{rd}(x+y)\\\\\n",
    "\\mathrm{fl}(x-y)={}&\\mathrm{rd}(x-y)\\\\\n",
    "\\mathrm{fl}(x\\cdot y)={}&\\mathrm{rd}(x\\cdot y)\\\\\n",
    "\\mathrm{fl}(x/y)={}&\\mathrm{rd}(x/y)\\\\\n",
    "\\end{align}\n",
    "$$"
   ]
  },
  {
   "cell_type": "markdown",
   "metadata": {
    "slideshow": {
     "slide_type": "subslide"
    }
   },
   "source": [
    "## Liczby maszynowe\n",
    "- Liczba maszynowa, to taka liczba jaką można przedstawić w komputerze. Zbiór tych liczb oznaczamy A\n",
    "- Dokładność maszynową (epsilon maszynowy) – eps, $\\varepsilon_m$,  definiujemy:\n",
    "$$\n",
    "\\mathrm{eps}=\\min\\{x\\in{A}\\colon \\mathrm{fl}(1+x)>1,\\ x>0\\}\n",
    "$$\n",
    "Innymi słowy, jest to najmniejsza liczba, którą możemy dodać do 1, aby uzyskać coś większego od 1. "
   ]
  },
  {
   "cell_type": "markdown",
   "metadata": {
    "slideshow": {
     "slide_type": "subslide"
    }
   },
   "source": [
    "## Epsilon maszynowy w różnych formatach\n",
    "\n",
    "Zależy on od liczby bitów na część ułamkową\n",
    "- Single precision $\\varepsilon_m=2^{-24}\\approx 5.96\\cdot10^{-8}$\n",
    "- Double precision $\\varepsilon_m=2^{-52}\\approx 1.11\\cdot10^{-16}$\n",
    "\n",
    "### Przykład"
   ]
  },
  {
   "cell_type": "code",
   "execution_count": 3,
   "metadata": {},
   "outputs": [
    {
     "data": {
      "text/plain": [
       "(True, False)"
      ]
     },
     "execution_count": 3,
     "metadata": {},
     "output_type": "execute_result"
    }
   ],
   "source": [
    "a=10**(-15)\n",
    "b=10**(-17)\n",
    "1+a>1,1+b>1"
   ]
  },
  {
   "cell_type": "markdown",
   "metadata": {
    "slideshow": {
     "slide_type": "subslide"
    }
   },
   "source": [
    "## Maksymalny błąd reprezentacji\n",
    "Dla każdej liczby rzeczywistej $x$ istnieje taka liczba $\\varepsilon$, taka że $|\\varepsilon|<\\varepsilon_m$, że\n",
    "$\\mathrm{fl}(x)=x(1+\\varepsilon)$\n",
    "\n",
    "Oznacza to, że **błąd względny między liczbą rzeczywistą, a jej najbliższą reprezentacją zmiennoprzecinkową jest zawsze mniejszy od $\\varepsilon_m$**"
   ]
  },
  {
   "cell_type": "markdown",
   "metadata": {
    "slideshow": {
     "slide_type": "subslide"
    }
   },
   "source": [
    "## Przykład \n",
    "Rozważmy liczby $x$, $y$ i $z$ takie, że\n",
    "$$\n",
    "x+y-z=0\n",
    "$$\n",
    "Porównajmy siatkę $[0,4]$ z krokiem $0.01$ co do wartości niespełnienia równania.\n",
    "\n",
    "\n"
   ]
  },
  {
   "cell_type": "markdown",
   "metadata": {
    "slideshow": {
     "slide_type": "subslide"
    }
   },
   "source": [
    "*Rysunek dzięki uprzejmości Prof. Danielle Navarro, (Twitter: @djnavarro)*\n",
    "<img src=\"img/floating_point_01.png\" alt=\"drawing\" width=\"900\"/>\n"
   ]
  },
  {
   "cell_type": "markdown",
   "metadata": {
    "slideshow": {
     "slide_type": "subslide"
    }
   },
   "source": [
    "## Lemat Wilkinsona\n",
    "Błedy zaokrągleń powstałe podczas wykonywania działań zmiennoprzecinkowych są równoważne zastępczemu zaburzeniu liczb, na których wykonujemy działania \n",
    "\n",
    "$$\n",
    "\\begin{align}\n",
    "\\mathrm{fl}(x+y)={}&(x+y)(1+\\varepsilon_1)\\\\\n",
    "\\mathrm{fl}(x-y)={}&(x-y)(1+\\varepsilon_2)\\\\\n",
    "\\mathrm{fl}(x\\cdot y)={}&(x\\cdot y)(1+\\varepsilon_3)\\\\\n",
    "\\mathrm{fl}(x/y)={}&(x/y)(1+\\varepsilon_4)\\\\\n",
    "|\\varepsilon_i|<{}&\\varepsilon_m\n",
    "\\end{align}\n",
    "$$\n",
    "(dla każdej pary liczb $x,\\ y$ zaburzenia zastępcze $\\varepsilon_i$ są inne)"
   ]
  },
  {
   "cell_type": "markdown",
   "metadata": {
    "slideshow": {
     "slide_type": "subslide"
    }
   },
   "source": [
    "## Konsekwencja lematu Wilkinsona\n",
    "Prawa łączności i rozdzielności operacji matematycznych są ogólnie nieprawdziwe dla obliczeń zmiennoprzecinkowych\n",
    "\n",
    "### Przykład"
   ]
  },
  {
   "cell_type": "code",
   "execution_count": 4,
   "metadata": {},
   "outputs": [
    {
     "name": "stdout",
     "output_type": "stream",
     "text": [
      "[2.3371258e-05, 33.67843, -33.67781]\n"
     ]
    }
   ],
   "source": [
    "a=np.float32(0.23371258*10**(-4))\n",
    "b=np.float32(0.33678429*10**(2))\n",
    "c=np.float32(-0.33677811*10**(2))\n",
    "print([a,b,c])"
   ]
  },
  {
   "cell_type": "markdown",
   "metadata": {},
   "source": [
    "Chcemy obliczyć ``a+b+c``"
   ]
  },
  {
   "cell_type": "markdown",
   "metadata": {
    "slideshow": {
     "slide_type": "subslide"
    }
   },
   "source": [
    "## Obliczenia"
   ]
  },
  {
   "cell_type": "code",
   "execution_count": 5,
   "metadata": {
    "slideshow": {
     "slide_type": "-"
    }
   },
   "outputs": [
    {
     "name": "stdout",
     "output_type": "stream",
     "text": [
      "0.0006413522\n"
     ]
    }
   ],
   "source": [
    "## Podejście 1\n",
    "d=b+c\n",
    "wynik_1=a+d\n",
    "print(wynik_1)"
   ]
  },
  {
   "cell_type": "code",
   "execution_count": 6,
   "metadata": {
    "slideshow": {
     "slide_type": "-"
    }
   },
   "outputs": [
    {
     "name": "stdout",
     "output_type": "stream",
     "text": [
      "0.00064086914\n"
     ]
    }
   ],
   "source": [
    "## Podejście 2\n",
    "e=a+b\n",
    "wynik_2=e+c\n",
    "print(wynik_2)"
   ]
  },
  {
   "cell_type": "markdown",
   "metadata": {
    "slideshow": {
     "slide_type": "subslide"
    }
   },
   "source": [
    "## Co tu się porobiło?\n",
    "![](img/wat.png)"
   ]
  },
  {
   "cell_type": "markdown",
   "metadata": {
    "slideshow": {
     "slide_type": "subslide"
    }
   },
   "source": [
    "## Konsekwencje obliczen zmiennoprzecinkowych"
   ]
  },
  {
   "cell_type": "code",
   "execution_count": 7,
   "metadata": {
    "slideshow": {
     "slide_type": "-"
    }
   },
   "outputs": [
    {
     "name": "stdout",
     "output_type": "stream",
     "text": [
      "0.7658294 -15\n",
      "0.52622545 6\n",
      "-0.5262158 6\n"
     ]
    }
   ],
   "source": [
    "m_a, e_a = np.frexp(a)\n",
    "print(m_a,e_a)\n",
    "m_b,e_b = np.frexp(b)\n",
    "print(m_b,e_b)\n",
    "m_c,e_c = np.frexp(c)\n",
    "print(m_c,e_c)"
   ]
  },
  {
   "cell_type": "markdown",
   "metadata": {},
   "source": [
    "Wykładnik ``a`` od wykładników ``b`` i ``c`` różni się o 21. Oznacza to, że z 23 bitów mantysy liczby ``a`` po sprowadzeniu do wspólnego wykładnika z ``b`` zostaną nam tylko 2 najbardziej znaczące. "
   ]
  },
  {
   "cell_type": "markdown",
   "metadata": {
    "slideshow": {
     "slide_type": "subslide"
    }
   },
   "source": [
    "## Konsekwencje cd..\n",
    "Jeżeli dodajemy małą liczbę do dużej, zawsze musimy się liczyć z zaokrągleniem i to normalne. W tym przypadku jednak dwie duże liczby ``b`` i ``c`` są przeciwnych znaków i bliskie co do wartości bezwzględnej. Wynik tego działania:"
   ]
  },
  {
   "cell_type": "code",
   "execution_count": 8,
   "metadata": {},
   "outputs": [
    {
     "name": "stdout",
     "output_type": "stream",
     "text": [
      "0.6328125 -10\n",
      "0.00064086914\n"
     ]
    }
   ],
   "source": [
    "m_d,e_d = np.frexp(d)\n",
    "print(m_d,e_d)\n",
    "print(wynik_2)"
   ]
  },
  {
   "cell_type": "markdown",
   "metadata": {},
   "source": [
    "W konsekwencji dodając ``a`` do ``d`` na zaokrągleniu stracimy jedynie 5 bitów mantysy ``a``."
   ]
  },
  {
   "cell_type": "markdown",
   "metadata": {
    "slideshow": {
     "slide_type": "subslide"
    }
   },
   "source": [
    "## O ile się pomyliliśmy (w stosunku do dokładniejszych obliczeń)"
   ]
  },
  {
   "cell_type": "code",
   "execution_count": 9,
   "metadata": {},
   "outputs": [
    {
     "name": "stdout",
     "output_type": "stream",
     "text": [
      "Metoda 1: Błąd bezwzględny   1.91e-08, Błąd względny   2.97e-05\n",
      "Metoda 2: Błąd bezwzględny   5.02e-07, Błąd względny   7.83e-04\n"
     ]
    }
   ],
   "source": [
    "a_dbl=(0.23371258*10**(-4))\n",
    "b_dbl=(0.33678429*10**(2))\n",
    "c_dbl=(-0.33677811*10**(2))\n",
    "d_dbl=b_dbl+c_dbl\n",
    "wynik_dbl=a_dbl+d_dbl\n",
    "epsilon_1=np.abs((wynik_1)-wynik_dbl)\n",
    "eta_1=epsilon_1/np.abs(wynik_dbl)\n",
    "print(\"Metoda 1: Błąd bezwzględny %10.2e, Błąd względny %10.2e\"%(epsilon_1,eta_1))\n",
    "epsilon_2=np.abs((wynik_2)-wynik_dbl)\n",
    "eta_2=epsilon_2/np.abs(wynik_dbl)\n",
    "print(\"Metoda 2: Błąd bezwzględny %10.2e, Błąd względny %10.2e\"%(epsilon_2,eta_2))\n",
    "\n"
   ]
  },
  {
   "cell_type": "markdown",
   "metadata": {
    "slideshow": {
     "slide_type": "slide"
    }
   },
   "source": [
    "# Przenoszenie się błędów zaokrągleń\n",
    "Korzystając z rachunku różniczkowego (różniczkowa analiza błędów) możemy podać wzór na przenoszenie się błędów.\n",
    "\n",
    "Niech $y=\\varphi(x_1,\\ x_2,,\\ldots\\ x_n)$ będzie wielkością, którą chcemy obliczyć a $x_i$ są zaokrąglone z błędem $\\varepsilon_{x_i}$. Błąd względny wyliczania $y$ wynosi w przybliżeniu:\n",
    "\n",
    "$$\n",
    "\\varepsilon_y = \\sum_{i=0}^n \\frac{x_i}{\\varphi(\\mathbf{x})}\n",
    "\\cdot \\frac{\\partial\\varphi(\\mathbf{x})}{\\partial x_i}\\cdot\\varepsilon_{x_i}\n",
    "$$\n",
    "\n"
   ]
  },
  {
   "cell_type": "markdown",
   "metadata": {
    "slideshow": {
     "slide_type": "subslide"
    }
   },
   "source": [
    "# Nieunikniony błąd obliczeń\n",
    "Ze względu na zaokrąglenia pewnych błędów nigdy nie unikniemy. Nieunikniony błąd wartości składa się z błędu wyliczenia wartości (przeniesienia błędów) oraz samego błędu zaokrąglenia:\n",
    "\n",
    "$$\n",
    "\\frac{\\Delta y}{y} = \\epsilon_y + \\mathrm{eps}\n",
    "$$"
   ]
  },
  {
   "cell_type": "markdown",
   "metadata": {
    "slideshow": {
     "slide_type": "subslide"
    }
   },
   "source": [
    "## Przykład\n",
    "Wyliczanie pierwiastka równania kwadratowego $$y^2+2py-q=0$$ o mniejszej wartości bezwzględnej:\n",
    "$$ y=-p+\\sqrt{p^2+q} $$\n",
    "można policzyć, że \n",
    "$$\n",
    "\\varepsilon_y=-\\frac{p}{\\sqrt{p^2+q}}\\varepsilon_p+\\frac{p+\\sqrt{p^2+q}}{2\\sqrt{p^2+q}}\\varepsilon_q\n",
    "$$"
   ]
  },
  {
   "cell_type": "markdown",
   "metadata": {
    "slideshow": {
     "slide_type": "subslide"
    }
   },
   "source": [
    "## Analiza błędu nieuniknionego\n",
    "Ponieważ dla $q>0$ mamy\n",
    "\n",
    "$$\n",
    "\\left|\\frac{p}{\\sqrt{p^2+q}}\\right|\\leq1,\\quad \\left|\\frac{p+\\sqrt{p^2+q}}{2\\sqrt{p^2+q}}\\right|\\leq1\n",
    "$$\n",
    "to wtedy mamy (przyjmując, że nie zachodzi $p^2\\approx -q$)\n",
    "$$\n",
    "\\mathrm{eps}\\leq\\left|\\frac{\\Delta y}{y}\\right| = |\\epsilon_y + \\mathrm{eps}|\\leq 3 \\mathrm{eps}\n",
    "$$"
   ]
  },
  {
   "cell_type": "markdown",
   "metadata": {
    "slideshow": {
     "slide_type": "subslide"
    }
   },
   "source": [
    "## Porównanie algorytmów\n",
    "Rozpartrzmy dwa sposoby wyliczania $y$ dla $p$ i $q$ mniejszych od zera\n",
    "\n",
    "$$\n",
    "\\begin{aligned}\n",
    "s:={}&p^2\\\\\n",
    "t:={}&s+q\\\\\n",
    "u:={}&\\sqrt{t}\\\\\n",
    "y:={}&-p+u\n",
    "\\end{aligned}\n",
    "\\quad \\quad \\quad \\quad\n",
    "\\begin{aligned}\n",
    "s:={}&p^2\\\\\n",
    "t:={}&s+q\\\\\n",
    "u:={}&\\sqrt{t}\\\\\n",
    "v:={}&p+u\\\\\n",
    "y:={}&q/v\n",
    "\\end{aligned}\n",
    "$$\n"
   ]
  },
  {
   "cell_type": "markdown",
   "metadata": {
    "slideshow": {
     "slide_type": "subslide"
    }
   },
   "source": [
    "## Algorytm 1\n",
    "Podstawowym źródłem błędu będzie wzmocnienie błędu zaokrąglenia wyliczania pierwiastka z $t$ poprzez odejmowanie dwóch liczb przy wyliczaniu $y$\n",
    "$$\\varepsilon_y=\\frac{p\\sqrt{p^2+q}+p^2+q}{q}\\varepsilon=\\kappa\\varepsilon$$\n",
    "$\\kappa$ można oszacować z dołu, przez \n",
    "$$\n",
    "\\kappa>\\frac{2 p^2}{q} >0\n",
    "$$\n",
    "co oznacza, że dla małych $q$ błąd obliczeń będzie dużo większy niż błąd nieunikniony.\n"
   ]
  },
  {
   "cell_type": "markdown",
   "metadata": {
    "slideshow": {
     "slide_type": "subslide"
    }
   },
   "source": [
    "## Algorytm 2\n",
    "W tym algorytmie zakokrąglenie przez odejmowanie nie wystąpi\n",
    "\n",
    "$$\n",
    "\\varepsilon_y = -\\frac{\\sqrt{p^2+q}}{p+\\sqrt{p^2+q}}\\varepsilon = \\kappa\\varepsilon\n",
    "$$\n",
    "w tym przypadku zawsze $|\\kappa|<1$."
   ]
  },
  {
   "cell_type": "code",
   "execution_count": 10,
   "metadata": {
    "slideshow": {
     "slide_type": "subslide"
    }
   },
   "outputs": [],
   "source": [
    "def algorytm_1(p,q):\n",
    "    s=p**2\n",
    "    t=s+q\n",
    "    u=np.sqrt(t)\n",
    "    return u-p\n",
    "\n",
    "def algorytm_2(p,q):\n",
    "    s=p**2\n",
    "    t=s+q\n",
    "    u=np.sqrt(t)\n",
    "    v=p+u\n",
    "    return q/v"
   ]
  },
  {
   "cell_type": "markdown",
   "metadata": {
    "slideshow": {
     "slide_type": "subslide"
    }
   },
   "source": [
    "# Porównanie obliczeń"
   ]
  },
  {
   "cell_type": "code",
   "execution_count": 11,
   "metadata": {
    "slideshow": {
     "slide_type": "-"
    }
   },
   "outputs": [],
   "source": [
    "p=1000\n",
    "q=0.018000000081\n",
    "exact_sol=np.max(np.roots([1,2*p,-q]))"
   ]
  },
  {
   "cell_type": "code",
   "execution_count": 12,
   "metadata": {
    "slideshow": {
     "slide_type": "skip"
    }
   },
   "outputs": [],
   "source": [
    "epsilon_1=np.abs((algorytm_1(p,q))-exact_sol)\n",
    "eta_1=epsilon_1/np.abs(exact_sol)\n",
    "epsilon_2=np.abs((algorytm_2(p,q))-exact_sol)\n",
    "eta_2=epsilon_2/np.abs(exact_sol)"
   ]
  },
  {
   "cell_type": "code",
   "execution_count": 13,
   "metadata": {
    "slideshow": {
     "slide_type": "-"
    }
   },
   "outputs": [
    {
     "name": "stdout",
     "output_type": "stream",
     "text": [
      "Algorytm 1\n",
      "8.999999977277184e-06\n",
      "Algorytm 2\n",
      "9e-06\n",
      "Rozwiązanie dokładne\n",
      "9e-06\n",
      "Algorytm 1: Błąd bezwzględny   2.27e-14, Błąd względny   2.52e-09\n",
      "Algorytm 2: Błąd bezwzględny   0.00e+00, Błąd względny   0.00e+00\n"
     ]
    }
   ],
   "source": [
    "print('Algorytm 1')\n",
    "print(algorytm_1(p,q))\n",
    "print('Algorytm 2')\n",
    "print(algorytm_2(p,q))\n",
    "print('Rozwiązanie dokładne')\n",
    "print(exact_sol)\n",
    "print(\"Algorytm 1: Błąd bezwzględny %10.2e, Błąd względny %10.2e\"%(epsilon_1,eta_1))\n",
    "print(\"Algorytm 2: Błąd bezwzględny %10.2e, Błąd względny %10.2e\"%(epsilon_2,eta_2))"
   ]
  },
  {
   "cell_type": "markdown",
   "metadata": {
    "slideshow": {
     "slide_type": "slide"
    }
   },
   "source": [
    "# Metody Numeryczne\n",
    "\n",
    "## Ocena algorytmów numerycznych\n",
    "\n",
    "### dr hab. inż. Jerzy Baranowski, Prof. AGH."
   ]
  },
  {
   "cell_type": "markdown",
   "metadata": {
    "slideshow": {
     "slide_type": "subslide"
    }
   },
   "source": [
    "## Notacja O duże\n",
    "- Mówimy, że dla wielkości zależnej od parametru np. $F(n)$ zachodzi\n",
    "$$ \n",
    "F(n)=O(G(n))\n",
    "$$\n",
    "jeżeli istnieje taka stała $C$, że przy $n$ zmierzającym do nieskończoności (odpowiednio dużym), mamy\n",
    "$$F(n)≤C G(n)$$\n",
    "- Jeżeli interesuje nas $O(c)$, gdzie $c$ jest stałą, zależność ta ma zachodzić niezależnie od wielkości parametru.\n",
    "- Mówimy potocznie, gdy błąd jest równy $O(n^2)$, że błąd jest rzędu $n^2$\n",
    "  "
   ]
  },
  {
   "cell_type": "markdown",
   "metadata": {
    "slideshow": {
     "slide_type": "subslide"
    }
   },
   "source": [
    "## Ocena algorytmu\n",
    "- Naszym celem jest obliczenie pewnej wielkości $f(x)$, zależnej od danych wejściowych $x$\n",
    "- W przypadku obliczeń komputerowych zawsze mamy do czynienia z obliczaniem przybliżonym stąd algorytm obliczania $f(x)$ będziemy oznaczać jako $f^*(x)$\n",
    "- Dane w komputerze również są reprezentowane w sposób zaokrąglony, więc będziemy je oznaczać jako $x^*$"
   ]
  },
  {
   "cell_type": "markdown",
   "metadata": {
    "slideshow": {
     "slide_type": "subslide"
    }
   },
   "source": [
    "## Uwarunkowanie problemu\n",
    "\n",
    "- Mówimy, że problem $f(x)$ jest dobrze uwarunkowany, jeżeli mała zmiana $x$ powoduje małą zmianę w $f(x)$\n",
    "- Problem jest źle uwarunkowany, jeżeli mała zmiana $x$ powoduje dużą zmianę w $f(x)$\n",
    "- Miarą uwarunkowania jest stała $\\kappa$ (kappa), która (nieformalnie) określa największy iloraz zaburzeń $f(x)$  wywołanych przez najmniejsze zaburzenia $x$.\n",
    "- Stałą $\\kappa$ można wyliczyć tylko w niektórych probemach"
   ]
  },
  {
   "cell_type": "markdown",
   "metadata": {
    "slideshow": {
     "slide_type": "subslide"
    }
   },
   "source": [
    "## Dokładność algorytmu\n",
    "- Algorytm jest dokładny, jeżeli\n",
    "$$\n",
    "\\frac{\\Vert f^*(x)-f(x) \\Vert}{\\Vert f(x)\\Vert}=O(\\varepsilon_m)\n",
    "$$\n",
    "- Zagwarantowanie, że algorytm jest dokładny wg tej definicji jest niezwykle trudne, zwłaszcza dla źle uwarunkowanych problemów"
   ]
  },
  {
   "cell_type": "markdown",
   "metadata": {
    "slideshow": {
     "slide_type": "subslide"
    }
   },
   "source": [
    "## Stabilność algorytmu\n",
    "\n",
    "Mówimy, że algorytm jest stabilny, gdy dla każdego $x$, zachodzi\n",
    "$$\n",
    "\\frac{\\Vert f^*(x)-f(x^*) \\Vert}{\\Vert f(x^*)\\Vert}=O(\\varepsilon_m)\n",
    "$$\n",
    "dla takich $x^*$, że\n",
    "$$\\frac{\\Vert x-x^* \\Vert}{\\Vert x\\Vert}=O(\\varepsilon_m)$$\n",
    "Innymi słowy\n",
    "**Stabilny algorytm daje prawie dobrą odpowiedź na prawie dobre pytanie**"
   ]
  },
  {
   "cell_type": "markdown",
   "metadata": {
    "slideshow": {
     "slide_type": "subslide"
    }
   },
   "source": [
    "## Stabilność wsteczna algorytmu\n",
    "Algorytm jest stabilny wstecznie, jeżeli dla każdego $x$, zachodzi\n",
    "$$f^*(x)=f(x^*)$$\n",
    "dla takich $x^*$, że\n",
    "$$\\frac{\\Vert x-x^* \\Vert}{\\Vert x\\Vert}=O(\\varepsilon_m)$$\n",
    "Innymi słowy\n",
    "**Stabilny wstecznie algorytm daje prawidłową odpowiedź na prawie dobre pytanie**\n",
    "\n",
    "\n",
    "\n"
   ]
  },
  {
   "cell_type": "markdown",
   "metadata": {
    "slideshow": {
     "slide_type": "subslide"
    }
   },
   "source": [
    "## Dokładność algorytmów stabilnych wstecznie przy złym uwarunkowaniu\n",
    "Jeśli algorytm jest stabilny wstecznie, to jego błąd względny pogarsza się proporcjonalnie do stałej uwarunkowania tj. $O(\\kappa\\varepsilon_m)$"
   ]
  },
  {
   "cell_type": "markdown",
   "metadata": {
    "slideshow": {
     "slide_type": "slide"
    }
   },
   "source": [
    "## Złożoność obliczeniowa algorytmu\n",
    "- O złożoności obliczeniowej mówimy jako o liczbie zasobów potrzebnych do wyliczenia algorytmu.\n",
    "- Złożoność określamy zazwyczaj jako funkcję pewnych wielkości wejściowych np. liczby zmiennych lub liczby ograniczeń\n",
    "- Istnieją różne rodzaje\n"
   ]
  },
  {
   "cell_type": "markdown",
   "metadata": {
    "slideshow": {
     "slide_type": "subslide"
    }
   },
   "source": [
    "## Złożoność arytmetyczna\n",
    "Liczba operacji arytmetycznych (zazwyczaj mnożeń) potrzebnych do rozwiązania problemu. Zazwyczaj dotyczy to problemów algebry numerycznej gdzie jesteśmy w stanie oszacować liczbę działań.\n",
    "\n",
    "Przykładowo rozwiązanie układu równań liniowych za pomocą metody eliminacji Gaussa to $O(2/3 n^3)$ gdzie $n$ to liczba zmiennych"
   ]
  },
  {
   "cell_type": "markdown",
   "metadata": {
    "slideshow": {
     "slide_type": "subslide"
    }
   },
   "source": [
    "## Złożoność czasowa\n",
    "Ile potrzeba czasu na wyliczenie algorytmu. Zazwyczaj przy założeniu stałego czasu obliczeń równoważna złożoności arytmetycznej. Przy bardziej skomplikowanych problemach (gdzie pojawia się zarządzanie pamięcią) może się różnić. \n",
    "\n",
    "Nie używa się czasu wprost."
   ]
  },
  {
   "cell_type": "markdown",
   "metadata": {
    "slideshow": {
     "slide_type": "subslide"
    }
   },
   "source": [
    "## Złożoność pamięciowa \n",
    "Ilość pamięci potrzebnej do realizacji obliczeń"
   ]
  },
  {
   "cell_type": "markdown",
   "metadata": {
    "slideshow": {
     "slide_type": "subslide"
    }
   },
   "source": [
    "## Bardziej złożone problemy\n",
    "\n",
    "Przy rozwiązywaniu równań różniczkowych lub optymalizacji za miarę złożoności określa się liczbę wywołań prawej strony równania różniczkowego lub funkcji celu."
   ]
  },
  {
   "cell_type": "code",
   "execution_count": null,
   "metadata": {},
   "outputs": [],
   "source": []
  }
 ],
 "metadata": {
  "celltoolbar": "Slideshow",
  "kernelspec": {
   "display_name": "Python 3",
   "language": "python",
   "name": "python3"
  },
  "language_info": {
   "codemirror_mode": {
    "name": "ipython",
    "version": 3
   },
   "file_extension": ".py",
   "mimetype": "text/x-python",
   "name": "python",
   "nbconvert_exporter": "python",
   "pygments_lexer": "ipython3",
   "version": "3.7.6"
  },
  "rise": {
   "enable_chalkboard": true
  }
 },
 "nbformat": 4,
 "nbformat_minor": 2
}
