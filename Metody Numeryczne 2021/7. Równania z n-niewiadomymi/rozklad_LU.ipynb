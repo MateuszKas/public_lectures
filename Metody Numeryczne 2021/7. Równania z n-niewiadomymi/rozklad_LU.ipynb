{
 "cells": [
  {
   "cell_type": "code",
   "execution_count": 1,
   "metadata": {},
   "outputs": [
    {
     "data": {
      "text/html": [
       "<style>\n",
       ".rendered_html table, .rendered_html th, .rendered_html tr, .rendered_html td {\n",
       "     font-size: 100%;\n",
       "}\n",
       "</style>\n"
      ],
      "text/plain": [
       "<IPython.core.display.HTML object>"
      ]
     },
     "metadata": {},
     "output_type": "display_data"
    }
   ],
   "source": [
    "%%HTML\n",
    "<style>\n",
    ".rendered_html table, .rendered_html th, .rendered_html tr, .rendered_html td {\n",
    "     font-size: 100%;\n",
    "}\n",
    "</style>"
   ]
  },
  {
   "cell_type": "markdown",
   "metadata": {
    "slideshow": {
     "slide_type": "slide"
    }
   },
   "source": [
    "# Metody Numeryczne\n",
    "\n",
    "## Równania liniowe – rozkład LU\n",
    "\n",
    "\n",
    "\n",
    "### dr hab. inż. Jerzy Baranowski, Prof.AGH"
   ]
  },
  {
   "cell_type": "code",
   "execution_count": 2,
   "metadata": {
    "slideshow": {
     "slide_type": "skip"
    }
   },
   "outputs": [],
   "source": [
    "import matplotlib.pyplot as plt\n",
    "import numpy as np\n",
    "%matplotlib inline\n",
    "def normalize_vector(v):\n",
    "    v=np.array(v)\n",
    "    return v/np.linalg.norm(v)\n",
    "import matplotlib as mpl\n",
    "plt.style.context('seaborn-white')\n",
    "mpl.rcParams['figure.dpi']= 200"
   ]
  },
  {
   "cell_type": "markdown",
   "metadata": {
    "slideshow": {
     "slide_type": "subslide"
    }
   },
   "source": [
    "## Jakie układy równań jest łatwo rozwiązać?\n",
    "\n",
    "$$\\LARGE\n",
    "\\mathbf{A}=\n",
    "\\begin{bmatrix}\n",
    "a_{11}&a_{12}&a_{13}&\\dots&a_{1n}\\\\\n",
    "0&a_{22}&a_{23}&\\dots&a_{2n}\\\\\n",
    "0&0&a_{23}&\\dots&a_{3n}\\\\\n",
    "\\vdots&\\vdots&\\vdots&\\ddots&\\vdots\\\\\n",
    "0 & 0 & 0 & \\dots & a_{nn}\n",
    "\\end{bmatrix}\n",
    "$$"
   ]
  },
  {
   "cell_type": "markdown",
   "metadata": {
    "slideshow": {
     "slide_type": "subslide"
    }
   },
   "source": [
    "## Układ równań z macierzą trójkątną\n",
    "\n",
    "- Bardzo proste wzory (tzw. podstawienie wsteczne, ang. backward substitution)\n",
    "\n",
    "$$\n",
    "\\begin{aligned}\n",
    "x_n ={}& \\frac{b_n}{a_{nn}}\\\\\n",
    "x_{n-1} ={}& \\frac{b_{n-1}-x_n a_{n-1,n}}{a_{n-1,n-1}}\\\\\n",
    "x_{n-2} ={}& \\frac{b_{n-2}-x_{n-2} a_{n-2,n-1}-x_n a_{n-2,n}}{a_{n-2,n-2}}\\\\\n",
    "{}&\\vdots\\\\\n",
    "x_1={}&\\cfrac{b_1 - \\sum\\limits_{k=2}^n x_k a_{2k} }{a_{11}}\n",
    "\\end{aligned}\n",
    "$$\n",
    "\n",
    "- Mała złożoność $O(n^2)$\n",
    "- Stabilność wsteczna"
   ]
  },
  {
   "cell_type": "markdown",
   "metadata": {
    "slideshow": {
     "slide_type": "subslide"
    }
   },
   "source": [
    "## Modyfikacja układu równań - dekompozycja\n",
    "\n",
    "W praktyce, aby rozwiązać układ równań stosujemy dekompozycję macierzy\n",
    "\n",
    "$$ \\mathbf{A}=\\mathbf{CD} $$\n",
    "\n",
    "Układ ma wtedy postać\n",
    "\n",
    "$$\n",
    "\\mathbf{A} \\mathbf{x}= \\mathbf{CD} \\mathbf{x} = \\mathbf{b}\n",
    "$$\n",
    "i rozwiązanie wyznaczamy jako\n",
    "$$\n",
    "\\left\\{\n",
    "\\begin{aligned}\n",
    "\\mathbf{D} \\mathbf{x}= \\mathbf{y}\\\\\n",
    "\\mathbf{C} \\mathbf{y}= \\mathbf{b}\\\\\n",
    "\\end{aligned}    \n",
    "\\right.\n",
    "$$\n",
    "Jeżeli $\\mathbf{D}$ i $\\mathbf{C}$ są trójkątne, lub w inny sposób łatwe do odwrócenia układ równań można łatwo rozwiązać\n"
   ]
  },
  {
   "cell_type": "markdown",
   "metadata": {
    "slideshow": {
     "slide_type": "subslide"
    }
   },
   "source": [
    "## Rozkład LU\n",
    "\n",
    "Najpopularniejszym sposobem rozwiązywania układów równań liniowych jest rozkład LU\n",
    "\n",
    "$$\n",
    "\\Huge \\mathbf{A} = \\mathbf{LU}\n",
    "$$\n",
    "\n",
    "gdzie, $\\mathbf{L}$ jest macierzą trójkątną dolną (z 1 na przekątnej), $\\mathbf{U}$ jest trójkątna górna"
   ]
  },
  {
   "cell_type": "markdown",
   "metadata": {
    "slideshow": {
     "slide_type": "subslide"
    }
   },
   "source": [
    "## Eliminacja gaussa\n",
    "\n",
    "Rozkład LU konstruuje się przez eliminację Gaussa\n",
    "$$\\require{color}$$\n",
    "\n",
    "$$\n",
    "\\underbrace{\\mathbf{L}_{n-1}\\dots \\mathbf{L}_2 \\mathbf{L}_1}_{\\mathbf{L}^{-1}}\\mathbf{A}=\\mathbf{U}\n",
    "$$\n",
    "\n",
    "$$\n",
    "\\mathbf{L}=\\mathbf{L}^{-1}_{1}\\mathbf{L}^{-1}_{2}\\dots \\mathbf{L}^{-1}_{n-1}\n",
    "$$\n",
    "\n",
    "$$\n",
    "\\begin{array}{ccccccc}\n",
    "\\underset\n",
    "{\\mathbf{A}}\n",
    "{\n",
    "\\begin{bmatrix}\n",
    "\\times&\\times&\\times&\\times\\\\\n",
    "\\times&\\times&\\times&\\times\\\\\n",
    "\\times&\\times&\\times&\\times\\\\\n",
    "\\times&\\times&\\times&\\times\\\\\n",
    "\\end{bmatrix}}\n",
    "&\n",
    " \\xrightarrow{\\mathbf{L_1}} \n",
    "&\n",
    "\\underset\n",
    "{\\mathbf{\\mathbf{L_1}\\mathbf{A}}}\n",
    "{\n",
    "\\begin{bmatrix}\n",
    "\\times&\\times&\\times&\\times\\\\\n",
    "\\textcolor{red}{0}&\\textcolor{red}{\\times}&\\textcolor{red}{\\times}&\\textcolor{red}{\\times}\\\\\n",
    "\\textcolor{red}{0}&\\textcolor{red}{\\times}&\\textcolor{red}{\\times}&\\textcolor{red}{\\times}\\\\\n",
    "\\textcolor{red}{0}&\\textcolor{red}{\\times}&\\textcolor{red}{\\times}&\\textcolor{red}{\\times}\\\\\n",
    "\\end{bmatrix}}\n",
    "&\n",
    " \\xrightarrow{\\mathbf{L_2}} \n",
    "&\n",
    "\\underset\n",
    "{\\mathbf{\\mathbf{L_2}\\mathbf{L_1}\\mathbf{A}}}\n",
    "{ \n",
    "\\begin{bmatrix}\n",
    "\\times&\\times&\\times&\\times\\\\\n",
    "&\\times&\\times&\\times\\\\\n",
    "&\\textcolor{red}{0}&\\textcolor{red}{\\times}&\\textcolor{red}{\\times}\\\\\n",
    "&\\textcolor{red}{0}&\\textcolor{red}{\\times}&\\textcolor{red}{\\times}\\\\\n",
    "\\end{bmatrix}}\n",
    "&\n",
    "\\xrightarrow{\\mathbf{L_3}} \n",
    "&\n",
    "\\underset\n",
    "{\\mathbf{\\mathbf{L_3}\\mathbf{L_2}\\mathbf{L_1}\\mathbf{A}}}\n",
    "{ \n",
    "\\begin{bmatrix}\n",
    "\\times&\\times&\\times&\\times\\\\\n",
    "&\\times&\\times&\\times\\\\\n",
    "&&\\times&\\times\\\\\n",
    "&&\\textcolor{red}{0}&\\textcolor{red}{\\times}\\\\\n",
    "\\end{bmatrix}}\n",
    "\\end{array}\n",
    " $$"
   ]
  },
  {
   "cell_type": "markdown",
   "metadata": {
    "slideshow": {
     "slide_type": "subslide"
    }
   },
   "source": [
    "## Konstrukcja macierzy $\\mathbf{L}_k$\n",
    "\n",
    "$$\n",
    "\\LARGE\n",
    "\\mathbf{L}_k = \\begin{bmatrix}\n",
    "1&&&&&\\\\\n",
    "&\\ddots&&&&\\\\\n",
    "&&1&&&\\\\\n",
    "&&-\\ell_{k+1,k}&1&&\\\\\n",
    "&&\\vdots&&\\ddots&\\\\\n",
    "&&-\\ell_{n,k}&&&1\n",
    "\\end{bmatrix}\n",
    "$$\n",
    "\n",
    "Gdzie \n",
    "$$\n",
    "\\ell_{jk} = \\frac{\\alpha_{jk}}{\\alpha_{kk}},\\ k<j\\leq n\n",
    "$$\n",
    "przy czym $\\alpha_{jk}$ są elementami macierzy $\\mathbf{L_{k-1}}\\dots\\mathbf{L_1}\\mathbf{A}$"
   ]
  },
  {
   "cell_type": "markdown",
   "metadata": {
    "slideshow": {
     "slide_type": "subslide"
    }
   },
   "source": [
    "## Macierz L\n",
    "\n",
    "Na szczęście nie trzeba odwracać żadnych macierzy\n",
    "\n",
    "$$\\LARGE\n",
    "\\mathbf{L}=\\mathbf{L}^{-1}_{1}\\mathbf{L}^{-1}_{2}\\dots \\mathbf{L}^{-1}_{n-1}=\n",
    "\\begin{bmatrix}\n",
    "1&&&&\\\\\n",
    "\\ell_{21}&1&&&\\\\\n",
    "\\ell_{31}&\\ell_{32}&1&&\\\\\n",
    "\\vdots&\\vdots&\\ddots&\\ddots&\\\\\n",
    "\\ell_{n1}&\\ell_{n2}&\\ldots&\\ell_{n,n-1}&1\n",
    "\\end{bmatrix}\n",
    "$$"
   ]
  },
  {
   "cell_type": "markdown",
   "metadata": {
    "slideshow": {
     "slide_type": "subslide"
    }
   },
   "source": [
    "## Naiwny algorytm LU"
   ]
  },
  {
   "cell_type": "code",
   "execution_count": 3,
   "metadata": {},
   "outputs": [],
   "source": [
    "def naiveLU(A):\n",
    "    n=len(A)\n",
    "    U=A.copy()\n",
    "    L=np.identity(n)\n",
    "    for k in range(n-1):\n",
    "        for j in range(k+1,n):\n",
    "            L[j,k]=U[j,k]/U[k,k]\n",
    "            U[j,k:n]=U[j,k:n]-L[j,k]*U[k,k:n]\n",
    "    return L,U"
   ]
  },
  {
   "cell_type": "code",
   "execution_count": 4,
   "metadata": {
    "slideshow": {
     "slide_type": "subslide"
    }
   },
   "outputs": [
    {
     "name": "stdout",
     "output_type": "stream",
     "text": [
      "[[ 0.00000000e+00  0.00000000e+00  0.00000000e+00  0.00000000e+00]\n",
      " [ 0.00000000e+00  0.00000000e+00  0.00000000e+00  0.00000000e+00]\n",
      " [ 0.00000000e+00 -5.24753851e-17 -1.11022302e-16  2.22044605e-16]\n",
      " [ 0.00000000e+00  1.11022302e-16  0.00000000e+00 -2.22044605e-16]]\n"
     ]
    }
   ],
   "source": [
    "A = np.random.rand(4,4)\n",
    "l,u = naiveLU(A)\n",
    "print(l@u - A)"
   ]
  },
  {
   "cell_type": "markdown",
   "metadata": {
    "slideshow": {
     "slide_type": "subslide"
    }
   },
   "source": [
    "## Niestabilność naiwnej metody\n",
    "\n",
    "- Jeżeli w macierzy będą 0 w niewłaściwych miejscach to eliminacja będzie niemożliwa\n",
    "- Jeżeli zamiast zer będą bardzo małe liczby jest duży potencjał na błędy numeryczne."
   ]
  },
  {
   "cell_type": "markdown",
   "metadata": {
    "slideshow": {
     "slide_type": "subslide"
    }
   },
   "source": [
    "## Przykład\n",
    "\n",
    "$$\\mathbf{A} = \\begin{bmatrix}10^{-20}&1\\\\1&1\\end{bmatrix}$$\n",
    "\n"
   ]
  },
  {
   "cell_type": "code",
   "execution_count": 5,
   "metadata": {},
   "outputs": [
    {
     "name": "stdout",
     "output_type": "stream",
     "text": [
      "[[ 0.  0.]\n",
      " [ 0. -1.]]\n"
     ]
    }
   ],
   "source": [
    "A = np.array([[1e-20,1],[1,1]])\n",
    "l,u = naiveLU(A)\n",
    "\n",
    "\n",
    "print(l@u-A)\n"
   ]
  },
  {
   "cell_type": "markdown",
   "metadata": {
    "slideshow": {
     "slide_type": "subslide"
    }
   },
   "source": [
    "## Analitycznie \n",
    "\n",
    " $$\\mathbf{L} = \\begin{bmatrix}1&0\\\\10^{20}&1\\end{bmatrix}\\quad \\mathbf{U} = \\begin{bmatrix}10^{-20}&1\\\\0&1-10^{20}\\end{bmatrix}$$\n",
    "\n",
    "## Numerycznie\n"
   ]
  },
  {
   "cell_type": "code",
   "execution_count": 6,
   "metadata": {},
   "outputs": [
    {
     "name": "stdout",
     "output_type": "stream",
     "text": [
      "[[1.e+00 0.e+00]\n",
      " [1.e+20 1.e+00]]\n",
      "[[ 1.e-20  1.e+00]\n",
      " [ 0.e+00 -1.e+20]]\n",
      "-1e+20\n"
     ]
    }
   ],
   "source": [
    "print(l)\n",
    "print(u)\n",
    "print(1-1e20)"
   ]
  },
  {
   "cell_type": "markdown",
   "metadata": {
    "slideshow": {
     "slide_type": "subslide"
    }
   },
   "source": [
    "## Pivoting (przestawianie)\n",
    "\n",
    "Wybieramy wiersz zaczynający się od największego elementu i zamieniamy go z bieżącym\n",
    "\n",
    "$$\n",
    "\\begin{bmatrix}\n",
    "\\times&\\times&\\times&\\times&\\times\\\\\n",
    "&\\times&\\times&\\times&\\times\\\\\n",
    "&\\times&\\times&\\times&\\times\\\\\n",
    "&\\textcolor{red}{\\alpha_{ik}}&\\textcolor{red}{\\times}&\\textcolor{red}{\\times}&\\textcolor{red}{\\times}\\\\\n",
    "&\\times&\\times&\\times&\\times\n",
    "\\end{bmatrix}\n",
    "\\xrightarrow{\\mathbf{P}_1}\n",
    "\\begin{bmatrix}\n",
    "\\times&\\times&\\times&\\times&\\times\\\\\n",
    "&\\textcolor{red}{\\alpha_{ik}}&\\textcolor{red}{\\times}&\\textcolor{red}{\\times}&\\textcolor{red}{\\times}\\\\\n",
    "&\\times&\\times&\\times&\\times\\\\\n",
    "&\\textcolor{red}{\\times}&\\textcolor{red}{\\times}&\\textcolor{red}{\\times}&\\textcolor{red}{\\times}\\\\\n",
    "&\\times&\\times&\\times&\\times\n",
    "\\end{bmatrix}\n",
    "\\xrightarrow{\\mathbf{L}_1}\n",
    "\\begin{bmatrix}\n",
    "\\times&\\times&\\times&\\times&\\times\\\\\n",
    "&{\\alpha_{ik}}&\\times&\\times&\\times\\\\\n",
    "&\\textcolor{red}{0}&\\textcolor{red}{\\times}&\\textcolor{red}{\\times}&\\textcolor{red}{\\times}\\\\\n",
    "&\\textcolor{red}{0}&\\textcolor{red}{\\times}&\\textcolor{red}{\\times}&\\textcolor{red}{\\times}\\\\\n",
    "&\\textcolor{red}{0}&\\textcolor{red}{\\times}&\\textcolor{red}{\\times}&\\textcolor{red}{\\times}\n",
    "\\end{bmatrix}\n",
    "$$\n",
    "\n",
    "$$\n",
    "\\mathbf{L}_{n-1}\\mathbf{P}_{n-1}\\dots \\mathbf{L}_2\\mathbf{P}_2 \\mathbf{L}_1\\mathbf{P}_1\\mathbf{A}=\\mathbf{U}\n",
    "$$\n",
    "\n",
    "Ze względu na własności $\\mathbf{P}$ zachodzi:\n",
    "\n",
    "$$\n",
    "\\Huge \\mathbf{PA=LU}\n",
    "$$\n",
    "\n",
    "\n"
   ]
  },
  {
   "cell_type": "code",
   "execution_count": 7,
   "metadata": {
    "slideshow": {
     "slide_type": "skip"
    }
   },
   "outputs": [],
   "source": [
    "from IPython.display import clear_output"
   ]
  },
  {
   "cell_type": "code",
   "execution_count": 8,
   "metadata": {
    "slideshow": {
     "slide_type": "skip"
    }
   },
   "outputs": [],
   "source": [
    "def pivotingLU(A,displayU=False):\n",
    "    n=len(A)\n",
    "    U=A.copy().astype(float)\n",
    "    L=np.identity(n)\n",
    "    P=np.identity(n)\n",
    "    for k in range(n-1):\n",
    "        max_ind = np.argmax(np.abs(U[k:n,k]))+k\n",
    "        \n",
    "\n",
    "        U[[k,max_ind],k:n]=U[[max_ind,k],k:n]\n",
    "        if displayU:\n",
    "            input(\"Press Enter to continue...\")\n",
    "            clear_output()\n",
    "            print('numer przestawionego wiersza:{}'.format(max_ind+1))           \n",
    "            lista_macierzy=['P_{}L_{}'.format(k+1,k) for l in range(k)]\n",
    "            nazwa_macierzy='macierz :'+\"\".join(lista_macierzy)+'P_1A'\n",
    "            print(nazwa_macierzy)\n",
    "            print(U)\n",
    "\n",
    "        L[[k,max_ind],:k]=L[[max_ind,k],:k]\n",
    "        P[[k,max_ind],:]=P[[max_ind,k],:]\n",
    "        \n",
    "        for j in range(k+1,n):\n",
    "            L[j,k]=U[j,k]/U[k,k]\n",
    "            pom = U[j,k:n]-L[j,k]*U[k,k:n]\n",
    "            U[j,k:n]=pom\n",
    "    if displayU:\n",
    "        input(\"Press Enter to continue...\")\n",
    "        clear_output()\n",
    "        lista_macierzy=['P_{}L_{}'.format(k+1,k) for l in range(k)]\n",
    "        nazwa_macierzy='macierz :L{}'.format(n-1)+\"\".join(lista_macierzy)+'P_1A'\n",
    "        print(nazwa_macierzy)\n",
    "        print(U)    \n",
    "\n",
    "    return L,U,P"
   ]
  },
  {
   "cell_type": "code",
   "execution_count": 10,
   "metadata": {
    "slideshow": {
     "slide_type": "subslide"
    }
   },
   "outputs": [
    {
     "name": "stdout",
     "output_type": "stream",
     "text": [
      "macierz :L3P_3L_2P_3L_2P_1A\n",
      "[[ 8.          7.          9.          5.        ]\n",
      " [ 0.          1.75        2.25        4.25      ]\n",
      " [ 0.          0.         -0.85714286 -0.28571429]\n",
      " [ 0.          0.          0.          0.66666667]]\n"
     ]
    }
   ],
   "source": [
    "A=np.array([[2,1,1,0],[4,3,3,1],[8, 7,9,5],[6,7,9,8]])\n",
    "print('macierz A:')\n",
    "print(A)\n",
    "l,u,p = pivotingLU(A,True)"
   ]
  },
  {
   "cell_type": "code",
   "execution_count": 11,
   "metadata": {
    "slideshow": {
     "slide_type": "subslide"
    }
   },
   "outputs": [
    {
     "name": "stdout",
     "output_type": "stream",
     "text": [
      "macierz U:\n",
      "[[ 8.          7.          9.          5.        ]\n",
      " [ 0.          1.75        2.25        4.25      ]\n",
      " [ 0.          0.         -0.85714286 -0.28571429]\n",
      " [ 0.          0.          0.          0.66666667]]\n",
      "macierz L:\n",
      "[[ 1.          0.          0.          0.        ]\n",
      " [ 0.75        1.          0.          0.        ]\n",
      " [ 0.5        -0.28571429  1.          0.        ]\n",
      " [ 0.25       -0.42857143  0.33333333  1.        ]]\n",
      "macierz P:\n",
      "[[0. 0. 1. 0.]\n",
      " [0. 0. 0. 1.]\n",
      " [0. 1. 0. 0.]\n",
      " [1. 0. 0. 0.]]\n"
     ]
    }
   ],
   "source": [
    "print('macierz U:')\n",
    "print(u)\n",
    "print('macierz L:')\n",
    "print(l)\n",
    "print('macierz P:')\n",
    "print(p)"
   ]
  },
  {
   "cell_type": "code",
   "execution_count": 12,
   "metadata": {
    "slideshow": {
     "slide_type": "subslide"
    }
   },
   "outputs": [
    {
     "name": "stdout",
     "output_type": "stream",
     "text": [
      "PA-LU:\n",
      "[[ 0.00000000e+00  0.00000000e+00  0.00000000e+00  0.00000000e+00]\n",
      " [ 0.00000000e+00  0.00000000e+00  0.00000000e+00  0.00000000e+00]\n",
      " [ 0.00000000e+00  0.00000000e+00  0.00000000e+00  0.00000000e+00]\n",
      " [ 0.00000000e+00  0.00000000e+00  0.00000000e+00 -1.11022302e-16]]\n"
     ]
    }
   ],
   "source": [
    "print('PA-LU:')\n",
    "print(p@A-l@u)"
   ]
  },
  {
   "cell_type": "markdown",
   "metadata": {
    "slideshow": {
     "slide_type": "subslide"
    }
   },
   "source": [
    "## Uwagi o LU\n",
    "- Złożoność obliczeniowa rozkładu LU to $O\\left(\\frac{2}{3}n^3\\right)$\n",
    "- LU z pivotingiem jest stabilna wstecznie (stała uwarunkowania mnoży rząd błędu) dla wszystkich praktycznych macierzy\n",
    "- stała uwarunkowania układu równań:\n",
    "$$\n",
    "\\kappa=\\frac{\\sigma_1}{\\sigma_n}\n",
    "$$\n",
    "\n",
    "- Istnieją macierze, w których elementy A i U mają różne rzędy wielkości (U dużo większy), takie macierze muszą mieć bardzo specyficzną strukturę i praktycznie nie występują w zastosowaniach"
   ]
  },
  {
   "cell_type": "markdown",
   "metadata": {
    "slideshow": {
     "slide_type": "subslide"
    }
   },
   "source": [
    "## Co z macierzą odwrotną?\n",
    "- Rzadko, ale czasami potrzebujemy macierzy odwrotnej\n",
    "- Wyznaczenie takiej macierzy jest równoważne rozwiązaniu n układów równań\n",
    "\n",
    "$$\n",
    "\\mathbf{A} \\mathbf{x}^{(i)}=\\mathbf{e}_i \n",
    "$$\n",
    "- Złożoność wprost to $O\\left(\\frac{2}{3}n^3 + 2n\\cdot n^2\\right)=O\\left(\\frac{8}{3}n^3 \\right)$\n",
    "- Możemy skorzystać z faktu, że mamy sporo zer w układzie równań i zredukować odrobinę złożoność - do $O(2n^3)$"
   ]
  }
 ],
 "metadata": {
  "celltoolbar": "Slideshow",
  "interpreter": {
   "hash": "2aef54ff7841393ed835415854959bb765beebdf8119930641811dd1a62e5070"
  },
  "kernelspec": {
   "display_name": "Python 3 (ipykernel)",
   "language": "python",
   "name": "python3"
  },
  "language_info": {
   "codemirror_mode": {
    "name": "ipython",
    "version": 3
   },
   "file_extension": ".py",
   "mimetype": "text/x-python",
   "name": "python",
   "nbconvert_exporter": "python",
   "pygments_lexer": "ipython3",
   "version": "3.9.5"
  },
  "latex_envs": {
   "LaTeX_envs_menu_present": true,
   "autoclose": false,
   "autocomplete": true,
   "bibliofile": "biblio.bib",
   "cite_by": "apalike",
   "current_citInitial": 1,
   "eqLabelWithNumbers": true,
   "eqNumInitial": 1,
   "hotkeys": {
    "equation": "Ctrl-E",
    "itemize": "Ctrl-I"
   },
   "labels_anchors": false,
   "latex_user_defs": false,
   "report_style_numbering": false,
   "user_envs_cfg": false
  }
 },
 "nbformat": 4,
 "nbformat_minor": 2
}
