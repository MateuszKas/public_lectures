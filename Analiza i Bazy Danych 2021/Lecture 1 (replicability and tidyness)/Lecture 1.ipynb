{
 "cells": [
  {
   "cell_type": "code",
   "execution_count": 6,
   "metadata": {
    "slideshow": {
     "slide_type": "skip"
    }
   },
   "outputs": [
    {
     "data": {
      "text/html": [
       "<style>\n",
       ".rendered_html table, .rendered_html th, .rendered_html tr, .rendered_html td {\n",
       "     font-size: 90%;\n",
       "}\n",
       "</style>\n"
      ],
      "text/plain": [
       "<IPython.core.display.HTML object>"
      ]
     },
     "metadata": {},
     "output_type": "display_data"
    }
   ],
   "source": [
    "%%HTML\n",
    "<style>\n",
    ".rendered_html table, .rendered_html th, .rendered_html tr, .rendered_html td {\n",
    "     font-size: 90%;\n",
    "}\n",
    "</style>"
   ]
  },
  {
   "cell_type": "markdown",
   "metadata": {
    "slideshow": {
     "slide_type": "slide"
    }
   },
   "source": [
    "# Analiza i bazy danych\n",
    "\n",
    "## Wstęp\n",
    "\n",
    "### dr hab. inż. Jerzy Baranowski, Prof. AGH"
   ]
  },
  {
   "cell_type": "markdown",
   "metadata": {
    "slideshow": {
     "slide_type": "subslide"
    }
   },
   "source": [
    "## Informacje ogólne\n",
    "- Katedra Automatyki i Robotyki, C3, p. 214\n",
    "- Konsultacje \n",
    "    - Piątki 11:00-12:00\n",
    "- jb@agh.edu.pl\n",
    "- wykłady dostępne tutaj: https://github.com/KAIR-ISZ/public_lectures"
   ]
  },
  {
   "cell_type": "markdown",
   "metadata": {
    "slideshow": {
     "slide_type": "subslide"
    }
   },
   "source": [
    "### Organizacja przedmiotu\n",
    "- Wspólny przedmiot dla 5 i 7 semestru\n",
    "- Wykład:\n",
    " - 18 godzin lekcyjnych z analizy danych, \n",
    " - 10 godzin lekcyjnych z baz danych. \n",
    " - wykłady na żywo w H24, powtórki na Youtube,\n",
    "- Zaliczenie:  \n",
    " - sprawozdania + testy z wykładów"
   ]
  },
  {
   "cell_type": "markdown",
   "metadata": {
    "slideshow": {
     "slide_type": "subslide"
    }
   },
   "source": [
    "## Wspólne laboratoria:\n",
    "\n",
    "1. Przygotowanie środowiska analizy danych\n",
    "2. TIER protocol\n",
    "3. Podstawowe zapytania do bazy danych\n",
    "4. Podzapytania i funkcje grupujące\n",
    "5. Zapytania do danych tekstowych\n",
    "6. Eksploracja danych\n",
    "7. Modele liniowe\n"
   ]
  },
  {
   "cell_type": "markdown",
   "metadata": {
    "slideshow": {
     "slide_type": "subslide"
    }
   },
   "source": [
    "## Laboratoria dla 5 semestru\n",
    "\n",
    "8. Szeregi czasowe\n",
    "9. Klasyfikatory\n",
    "10. NLP\n",
    "11. Przestrzenne bazy danych\n",
    "12. Projektowanie baz danych\n",
    "13. Testy w analizie danych\n",
    "14. Raporty i wizualizacja danych"
   ]
  },
  {
   "cell_type": "markdown",
   "metadata": {
    "slideshow": {
     "slide_type": "subslide"
    }
   },
   "source": [
    "## Co my tu robimy?\n",
    "**Big data** - zbiory danych, których nie da się ogarnąć bazą danych.\n",
    "\n",
    "W ramach tego przedmiotu zajmujemy się resztą, czyli danymi w plikach (csv, ...) lub w bazach danych. "
   ]
  },
  {
   "cell_type": "markdown",
   "metadata": {
    "slideshow": {
     "slide_type": "slide"
    }
   },
   "source": [
    "## Analiza danych\n",
    "\"Analiza danych jest interdyscyplinarną praktyką opartą na metodach z inżynierii danych, statystyki opisowej, eksploracji danych, uczenia maszynowego i analiz predykcyjnych. Podobnie jak badania operacyjne, analiza danych koncentruje się na wdrażaniu decyzji opartych na danych i zarządzaniu ich konsekwencjami\" - *Practical Data Science with R* N. Zumel, J. Mount\n"
   ]
  },
  {
   "cell_type": "markdown",
   "metadata": {
    "slideshow": {
     "slide_type": "slide"
    }
   },
   "source": [
    "## Podejście projektowe\n",
    "![](img/lifecycle.png)\n",
    "*Practical Data Science with R* - N. Zumel, J. Mount"
   ]
  },
  {
   "cell_type": "markdown",
   "metadata": {
    "slideshow": {
     "slide_type": "slide"
    }
   },
   "source": [
    "# Najpopularniejsze narzędzie analizy danych\n",
    "\n",
    "<img src=\"img/excel365.svg\" alt=\"drawing\" width=\"600\"/>\n"
   ]
  },
  {
   "cell_type": "markdown",
   "metadata": {
    "slideshow": {
     "slide_type": "slide"
    }
   },
   "source": [
    "### Analiza w excelu zgubiła 16 tys wyników testów na COVID\n",
    "![](img/excel_covid.png)\n"
   ]
  },
  {
   "cell_type": "markdown",
   "metadata": {
    "slideshow": {
     "slide_type": "subslide"
    }
   },
   "source": [
    "## Inne ciekawe przygody w Excelu\n",
    "\n",
    "- JPMorgan Chase - 6.5 miliarda dolarów przez kopiuj wklej\n",
    "- Eastman Kodak - odprawy zawyżone o 11 milionów dolarów, konsekwencja spadek cen akcji\n",
    "- US Federal National Mortgage Association - 1.136 miliarda dolarów niezgodności\n",
    "- Fidelity Investment - pomyłka w znaku na 1.3 miliarda dolarów\n",
    "- Human Genome Project - konieczność zmian nazw genów, w ok. 20% badań z genetyki Excel zamieniał część genów z sekwencji na daty\n",
    "\n",
    "\n"
   ]
  },
  {
   "cell_type": "markdown",
   "metadata": {
    "slideshow": {
     "slide_type": "slide"
    }
   },
   "source": [
    "## Narzędzia do analizy danych\n",
    "\n",
    "- Oprogramowanie, które zapewnia narzędzia analizy potrzebne w ramach tego kursu:\n",
    " - R + Tidyverse\n",
    " - **Python + pandas + Matplotlib + statsmodels** (+ może coś później)\n",
    "- Oczywiście są inne rzeczy:\n",
    " - STATA\n",
    " - Statistica\n",
    " - SAS\n",
    " - IBM Watson  \n",
    " \n",
    "ale nie będziemy o nich rozmawiać.\n"
   ]
  },
  {
   "cell_type": "markdown",
   "metadata": {
    "slideshow": {
     "slide_type": "slide"
    }
   },
   "source": [
    "## Kryzys replikacji \n",
    "\n",
    "\"Kryzys replikacji (lub kryzys odtwarzalności, eng *replication crisis*) jest ciągłym kryzysem metodologicznym, w którym stwierdzono, że wiele badań naukowych jest trudnych lub niemożliwych do odtworzenia lub odtworzenia. Kryzys replikacji ma największy wpływ na nauki społeczne i przyrodnicze.\" - Wikipedia, za Schooler, J. W. (2014). \n",
    "*Metascience could rescue the 'replication crisis'* . Nature\n"
   ]
  },
  {
   "cell_type": "markdown",
   "metadata": {
    "slideshow": {
     "slide_type": "subslide"
    }
   },
   "source": [
    "## Konsekwencja\n",
    "Jeżeli nie da się powtórzyć wyników badań naukowych, które są publikowalne, to kto wie ile raportów wewnętrznych jest absolutnie niepowtarzalnych i nieodtwarzalnych?"
   ]
  },
  {
   "cell_type": "markdown",
   "metadata": {
    "slideshow": {
     "slide_type": "subslide"
    }
   },
   "source": [
    "## Project TIER\n",
    "\n",
    "Project TIER (*Teaching Integrity in Empirical Research*) ma na celu promowanie włączenia zasad związanych z przejrzystością i powtarzalnością do szkolenia analityków danych. Wymyślony dla nauk społecznych ale stosowalny wszędzie. \n",
    "\n",
    "https://www.projecttier.org/\n",
    "\n",
    "Jest to zbiór pryncypiów, określających jak powinien wyglądać proces pracy nad projektem analizy danych tak aby był on replikowalny przez innych (lub też przez autora po latach).\n"
   ]
  },
  {
   "cell_type": "markdown",
   "metadata": {
    "slideshow": {
     "slide_type": "subslide"
    }
   },
   "source": [
    "## Jak to działa?\n",
    "TIER Protocol proponuje rozpatrywanie każdego projektu analizy danych w formie trzech etapów:\n",
    "1. Przed danymi (*pre-data*)\n",
    "2. Pracę z danymi (*data work*)\n",
    "3. Podsumowanie (*wrap-up*)"
   ]
  },
  {
   "cell_type": "markdown",
   "metadata": {
    "slideshow": {
     "slide_type": "subslide"
    }
   },
   "source": [
    "## Pre-data\n",
    "Najprostsza faza. Wymaga jedynie\n",
    "1. Utworzenia struktury katalogów\n",
    "\n",
    "2. Utworzenia pustych dokumentów.\n"
   ]
  },
  {
   "cell_type": "markdown",
   "metadata": {
    "slideshow": {
     "slide_type": "subslide"
    }
   },
   "source": [
    "## Struktura katalogów\n",
    "![](img/TIER-folder.png)\n",
    "\n"
   ]
  },
  {
   "cell_type": "markdown",
   "metadata": {
    "slideshow": {
     "slide_type": "subslide"
    }
   },
   "source": [
    "## Puste dokumenty\n",
    "Należy utworzyć\n",
    "- plik readme,\n",
    "- przewodnik metadanych,\n",
    "- dodatek danych.\n",
    "\n",
    "i na początek je zatytułować."
   ]
  },
  {
   "cell_type": "markdown",
   "metadata": {
    "slideshow": {
     "slide_type": "subslide"
    }
   },
   "source": [
    "## Data work\n",
    "Porządkuje przede wszystkim to co robimy przed rozpoczęciem zasadniczej analizy:\n",
    "1. Udokumentowanie oryginalnych danych.\n",
    "2. Przygotowanie kodu przetwarzającego dane.\n",
    "3. Utworzenie załącznika danych (data appendix).\n",
    "4. Przygotowanie kodu realizującego wymagane rezultaty."
   ]
  },
  {
   "cell_type": "markdown",
   "metadata": {
    "slideshow": {
     "slide_type": "subslide"
    }
   },
   "source": [
    "## Udokumentowanie oryginalnych danych\n",
    "Jest niezwykle ważne aby trzymać zawsze kopię oryginalnych danych. Podobnie kluczowe jest przechowywanie metadanych, które pozwalają zrozumieć co w danych się dzieje. Jest to niezbędne dla odtworzenia procesu decyzyjnego. \n",
    "\n",
    "1. Zapisać niezmienioną formę danych w folderze z oryginalnymi danymi.\n",
    "2. Opisać plik danych w przewodniku metadanych (zgodnie ze specyfikacją protokołu).\n",
    "3. Utworzenie importowalnego pliku i opisanie jak on powstał w pliku readme. "
   ]
  },
  {
   "cell_type": "markdown",
   "metadata": {
    "slideshow": {
     "slide_type": "subslide"
    }
   },
   "source": [
    "## Przetwarzanie danych\n",
    "Ten krok ma na celu przygotowanie danych wykorzystywanych do analizy. Tutaj podejmowane są pierwsze decyzje wpływające na wynik analizy. Obejmuje to między innymi:\n",
    "- usuwanie błędów i różnic między danymi,\n",
    "- usuwanie niepotrzebnych danych,\n",
    "- łączenie danych z różnych źródeł,\n",
    "- transpozycje,\n",
    "- tworzenie nowych zmiennych,\n",
    "- imputacja brakujących wartości,\n",
    "- ..."
   ]
  },
  {
   "cell_type": "markdown",
   "metadata": {
    "slideshow": {
     "slide_type": "subslide"
    }
   },
   "source": [
    "## Przetwarzanie danych cd\n",
    "\n",
    "\n",
    "W tym kroku należy też zdecydować się na sposób organizacji przetwarzania danych w pliki. Musi on zostać następnie opisany w pliku readme.\n",
    "\n",
    "Kod i dane muszą być zapisane w odpowiednich katalogach."
   ]
  },
  {
   "cell_type": "markdown",
   "metadata": {
    "slideshow": {
     "slide_type": "subslide"
    }
   },
   "source": [
    "## Data appendix\n",
    "Dodatek do danych jest książką kodów i przewodnikiem użytkownika dla utworzonych plików do analizy danych. Często pomijany krok, który sprawia, że odtwarzanie pracy nie jest możliwe. Powinien powstać przed rozpoczęciem samej analizy.\n",
    "\n",
    "Dodatek do danych powinien zawierać informacje o każdej zmiennej w plikach danych analizy, w tym definicje i kodowanie (dla wszystkich zmiennych), statystyki podsumowujące i histogramy (dla zmiennych ilościowych) oraz tabele i wykresy względnej częstotliwości (dla zmiennych kategorialnych).\n",
    "\n",
    "Należy przygotować skrypty, które wygenerują wszystkie dane do dodatku. Kod i dokument zapisać w odpowiednich folderach.\n",
    "\n"
   ]
  },
  {
   "cell_type": "markdown",
   "metadata": {
    "slideshow": {
     "slide_type": "subslide"
    }
   },
   "source": [
    "## Zasadnicza analiza danych\n",
    "Bardzo istotne jest, aby jednoznacznie zidentyfikować pliki, które wygenerują interesujące nas rezultaty. W tych plikach dane nie powinny już być przetwarzane. Jeżeli konieczne jest dalsze przetwarzanie należī zmodyfikować fazę pre processingu.\n",
    "\n",
    "Struktura plików zależy oczywiście od skali i zakresu projektu. Niezależnie od tego, plik readme powinien opisywać w jakiej kolejności powinny być wywoływane skrypty by uzyskać rezultaty. "
   ]
  },
  {
   "cell_type": "markdown",
   "metadata": {
    "slideshow": {
     "slide_type": "subslide"
    }
   },
   "source": [
    "## Wrap up\n",
    "\n",
    "1. Skończyć plik readme\n",
    "2. Przeczytanie i poprawianie kodu.\n",
    "3. Sprawdzenie kompletności."
   ]
  },
  {
   "cell_type": "markdown",
   "metadata": {
    "slideshow": {
     "slide_type": "subslide"
    }
   },
   "source": [
    "## Plik readme\n",
    "Dotychczas sukcesywnie uzupełniany. Należy go zakończyć opisem struktury katalogów (jakie mamy pliki co one robią).\n",
    "\n",
    "Dodatkowo czytelna instrukcja krok po kroku pozwalająca zreplikować analizę."
   ]
  },
  {
   "cell_type": "markdown",
   "metadata": {
    "slideshow": {
     "slide_type": "subslide"
    }
   },
   "source": [
    "## Przeczytanie i poprawianie kodu\n",
    "W ramach projektu powstał kod, odpowiadający za dodatek do danych, pre-processing i calą analizę. Należy upewnić się czy się on uruchamia, czy jest on zrozumiały (komentarze). To jest dobry moment na jakąś drobną optymalizację oraz usuwanie niepotrzebnych rzeczy, które powstawały w trakcie analizy. (Pamiętajmy o repozytorium!).\n",
    "\n",
    "Należy też sprawdzić czy instrukcja z pliku readme działa, jeżeli nie trzeba poprawić ją albo kod."
   ]
  },
  {
   "cell_type": "markdown",
   "metadata": {
    "slideshow": {
     "slide_type": "subslide"
    }
   },
   "source": [
    "## Sprawdzenie kompletności\n",
    "\n",
    "1. Należy sprawdzić czy wszystkie pliki wymagane przez specyfikacje są we właściwych miejscach. Tu jest dobry moment by się upewnić czy raport z projektu znajduje się w katalogu z dokumentacją.\n",
    "2. Sprawdzić, czy zawartość plików jest zgodna ze specyfikacją protokołu.\n",
    "2. Usunąć wszystkie zbędne pliki."
   ]
  },
  {
   "cell_type": "markdown",
   "metadata": {
    "slideshow": {
     "slide_type": "slide"
    }
   },
   "source": [
    "# Tidy data"
   ]
  },
  {
   "cell_type": "markdown",
   "metadata": {
    "slideshow": {
     "slide_type": "subslide"
    }
   },
   "source": [
    "\n",
    "*Wszystkie szczęśliwe rodziny są do siebie podobne, każda nieszczęśliwa rodzina jest nieszczęśliwa na swój sposób.*\n",
    "Lew Tołstoj (z książki Anna Karenina. Tom 1)\n",
    "\n",
    "*Podobnie jak rodziny, uporządkowane zestawy danych są podobne, ale każdy nieporządny zestaw danych jest na swój sposób nieporządny* \n",
    "Hadley Wickham\n",
    "\n"
   ]
  },
  {
   "cell_type": "markdown",
   "metadata": {
    "slideshow": {
     "slide_type": "subslide"
    }
   },
   "source": [
    "## Definicja \"tidy data\"\n",
    "Uporządkowane dane to standardowy sposób mapowania znaczenia zbioru danych na jego strukturę. Zestaw danych jest nieporządny lub uporządkowany w zależności od tego, jak wiersze, kolumny i tabele są dopasowane do obserwacji, zmiennych i typów. W uporządkowanych danych:\n",
    "1. Każda zmienna tworzy kolumnę.\n",
    "2. Każda obserwacja tworzy rząd.\n",
    "3. Każdy typ jednostki obserwacyjnej tworzy tabelę."
   ]
  },
  {
   "cell_type": "markdown",
   "metadata": {
    "slideshow": {
     "slide_type": "slide"
    }
   },
   "source": [
    "## Porządkowanie danych\n",
    "\n",
    "Podstawowe źródła nieuporządkowania\n",
    "\n",
    "- Nagłówki kolumn to wartości, a nie nazwy zmiennych.\n",
    "- Wiele zmiennych jest przechowywanych w jednej kolumnie.\n",
    "- Zmienne są przechowywane zarówno w wierszach, jak i kolumnach.\n",
    "- Wiele rodzajów jednostek obserwacyjnych jest przechowywanych w tej samej tabeli. 􏰟 \n",
    "- Pojedyncza jednostka obserwacyjna jest przechowywana w wielu tabelach."
   ]
  },
  {
   "cell_type": "markdown",
   "metadata": {
    "slideshow": {
     "slide_type": "slide"
    }
   },
   "source": [
    "## Nagłówki kolumn to wartości, a nie nazwy zmiennych.\n",
    "\n",
    "| religion                | $<$\\\\$10k | \\\\$10\\-\\-20k | \\\\$20\\-\\-30k | \\\\$30\\-\\-40k | \\\\$40\\-\\-50k | \\\\$50\\-\\-75k |\n",
    "|-------------------------|-----------|--------------|--------------|--------------|--------------|--------------|\n",
    "| Agnostic                | 27        | 34           | 60           | 81           | 76           | 137          |\n",
    "| Atheist                 | 12        | 27           | 37           | 52           | 35           | 70           |\n",
    "| Buddhist                | 27        | 21           | 30           | 34           | 33           | 58           |\n",
    "| Catholic                | 418       | 617          | 732          | 670          | 638          | 1116         |\n",
    "| Don't know/refused    | 15        | 14           | 15           | 11           | 10           | 35           |\n",
    "\n",
    "Ten zestaw danych bada związek między dochodami a religią w Stanach Zjednoczonych. Kolumny kwantyzują przychód."
   ]
  },
  {
   "cell_type": "markdown",
   "metadata": {
    "slideshow": {
     "slide_type": "subslide"
    }
   },
   "source": [
    "## Uporządkowanie\n",
    "| religion | income             | freq |\n",
    "|----------|--------------------|------|\n",
    "| Agnostic | $<$\\\\$10k          | 27   |\n",
    "| Agnostic | \\\\$10\\-\\-20k       | 34   |\n",
    "| Agnostic | \\\\$20\\-\\-30k       | 60   |\n",
    "| Agnostic | \\\\$30\\-\\-40k       | 81   |\n",
    "| Agnostic | \\\\$40\\-\\-50k       | 76   |\n",
    "| Agnostic | \\\\$50\\-\\-75k       | 137  |\n",
    "| Agnostic | \\\\$75\\-\\-100k      | 122  |\n",
    "| Agnostic | \\\\$100\\-\\-150k     | 109  |\n",
    "| Agnostic | $>$150k            | 84   |\n",
    "| Agnostic | Don't know/refused | 96   |\n",
    "\n"
   ]
  },
  {
   "cell_type": "markdown",
   "metadata": {
    "slideshow": {
     "slide_type": "subslide"
    }
   },
   "source": [
    "| year | artist         | track                      | time | date\\.entered | wk1 | wk2 | wk3 |\n",
    "|------|----------------|----------------------------|------|---------------|-----|-----|-----|\n",
    "| 2000 | 2 Pac          | Baby Don't Cry             | 4:22 | 2000\\-02\\-26  | 87  | 82  | 72  |\n",
    "| 2000 | 2Ge\\+her       | The Hardest Part Of \\.\\.\\. | 3:15 | 2000\\-09\\-02  | 91  | 87  | 92  |\n",
    "| 2000 | 3 Doors Down   | Kryptonite                 | 3:53 | 2000\\-04\\-08  | 81  | 70  | 68  |\n",
    "| 2000 | 98\\\\verb\\|^\\|0 | Give Me Just One Nig\\.\\.\\. | 3:24 | 2000\\-08\\-19  | 51  | 39  | 34  |\n",
    "| 2000 | A\\*Teens       | Dancing Queen              | 3:44 | 2000\\-07\\-08  | 97  | 97  | 96  |\n",
    "\n",
    "Notowania Billboardu. Kolumny dla każdej piosenki odpowiadają za szupływ czasu."
   ]
  },
  {
   "cell_type": "markdown",
   "metadata": {
    "slideshow": {
     "slide_type": "subslide"
    }
   },
   "source": [
    "| year | artist       | time | track                      | date         | week | rank |\n",
    "|------|--------------|------|----------------------------|--------------|------|------|\n",
    "| 2000 | 2 Pac        | 4:22 | Baby Don't Cry             | 2000\\-02\\-26 | 1    | 87   |\n",
    "| 2000 | 2 Pac        | 4:22 | Baby Don't Cry             | 2000\\-03\\-04 | 2    | 82   |\n",
    "| 2000 | 2 Pac        | 4:22 | Baby Don't Cry             | 2000\\-03\\-11 | 3    | 72   |\n",
    "| 2000 | 2 Pac        | 4:22 | Baby Don't Cry             | 2000\\-03\\-18 | 4    | 77   |\n",
    "| 2000 | 2 Pac        | 4:22 | Baby Don't Cry             | 2000\\-03\\-25 | 5    | 87   |\n",
    "| 2000 | 2 Pac        | 4:22 | Baby Don't Cry             | 2000\\-04\\-01 | 6    | 94   |\n",
    "| 2000 | 2 Pac        | 4:22 | Baby Don't Cry             | 2000\\-04\\-08 | 7    | 99   |\n",
    "| 2000 | 2Ge\\+her     | 3:15 | The Hardest Part Of \\.\\.\\. | 2000\\-09\\-02 | 1    | 91   |\n",
    "| 2000 | 2Ge\\+her     | 3:15 | The Hardest Part Of \\.\\.\\. | 2000\\-09\\-09 | 2    | 87   |\n",
    "| 2000 | 2Ge\\+her     | 3:15 | The Hardest Part Of \\.\\.\\. | 2000\\-09\\-16 | 3    | 92   |\n",
    "| 2000 | 3 Doors Down | 3:53 | Kryptonite                 | 2000\\-04\\-08 | 1    | 81   |\n",
    "| 2000 | 3 Doors Down | 3:53 | Kryptonite                 | 2000\\-04\\-15 | 2    | 70   |\n",
    "| 2000 | 3 Doors Down | 3:53 | Kryptonite                 | 2000\\-04\\-22 | 3    | 68   |\n",
    "| 2000 | 3 Doors Down | 3:53 | Kryptonite                 | 2000\\-04\\-29 | 4    | 67   |\n",
    "| 2000 | 3 Doors Down | 3:53 | Kryptonite                 | 2000\\-05\\-06 | 5    | 66   |\n",
    "\n"
   ]
  },
  {
   "cell_type": "markdown",
   "metadata": {
    "slideshow": {
     "slide_type": "slide"
    }
   },
   "source": [
    "## Wiele zmiennych jest przechowywanych w jednej kolumnie.\n",
    "| country | year | m014   | m1524  | m2534  | m3544  | m4554 | m5564 | m65    | mu     | f014   |\n",
    "|---------|------|--------|--------|--------|--------|-------|-------|--------|--------|--------|\n",
    "| AD      | 2000 | 0      | 0      | 1      | 0      | 0     | 0     | 0      | \\-\\-\\- | \\-\\-\\- |\n",
    "| AE      | 2000 | 2      | 4      | 4      | 6      | 5     | 12    | 10     | \\-\\-\\- | 3      |\n",
    "| AF      | 2000 | 52     | 228    | 183    | 149    | 129   | 94    | 80     | \\-\\-\\- | 93     |\n",
    "| AG      | 2000 | 0      | 0      | 0      | 0      | 0     | 0     | 1      | \\-\\-\\- | 1      |\n",
    "| AL      | 2000 | 2      | 19     | 21     | 14     | 24    | 19    | 16     | \\-\\-\\- | 3      |\n",
    "| AM      | 2000 | 2      | 152    | 130    | 131    | 63    | 26    | 21     | \\-\\-\\- | 1      |\n",
    "| AN      | 2000 | 0      | 0      | 1      | 2      | 0     | 0     | 0      | \\-\\-\\- | 0      |\n",
    "| AO      | 2000 | 186    | 999    | 1003   | 912    | 482   | 312   | 194    | \\-\\-\\- | 247    |\n",
    "| AR      | 2000 | 97     | 278    | 594    | 402    | 419   | 368   | 330    | \\-\\-\\- | 121    |\n",
    "| AS      | 2000 | \\-\\-\\- | \\-\\-\\- | \\-\\-\\- | \\-\\-\\- | 1     | 1     | \\-\\-\\- | \\-\\-\\- | \\-\\-\\- |\n",
    "\n"
   ]
  },
  {
   "cell_type": "markdown",
   "metadata": {
    "slideshow": {
     "slide_type": "subslide"
    }
   },
   "source": [
    "## Melting\n",
    "| country | year | column | cases |\n",
    "|---------|------|--------|-------|\n",
    "| AD      | 2000 | m014   | 0     |\n",
    "| AD      | 2000 | m1524  | 0     |\n",
    "| AD      | 2000 | m2534  | 1     |\n",
    "| AD      | 2000 | m3544  | 0     |\n",
    "| AD      | 2000 | m4554  | 0     |\n",
    "| AD      | 2000 | m5564  | 0     |\n",
    "| AD      | 2000 | m65    | 0     |\n",
    "| AE      | 2000 | m014   | 2     |\n",
    "| AE      | 2000 | m1524  | 4     |\n",
    "| AE      | 2000 | m2534  | 4     |\n",
    "| AE      | 2000 | m3544  | 6     |\n",
    "| AE      | 2000 | m4554  | 5     |\n",
    "| AE      | 2000 | m5564  | 12    |\n",
    "| AE      | 2000 | m65    | 10    |\n",
    "| AE      | 2000 | f014   | 3     |\n",
    "\n"
   ]
  },
  {
   "cell_type": "markdown",
   "metadata": {
    "slideshow": {
     "slide_type": "subslide"
    }
   },
   "source": [
    "## Tidy\n",
    "\n",
    "| country | year | sex | age      | cases |\n",
    "|---------|------|-----|----------|-------|\n",
    "| AD      | 2000 | m   | 0\\-\\-14  | 0     |\n",
    "| AD      | 2000 | m   | 15\\-\\-24 | 0     |\n",
    "| AD      | 2000 | m   | 25\\-\\-34 | 1     |\n",
    "| AD      | 2000 | m   | 35\\-\\-44 | 0     |\n",
    "| AD      | 2000 | m   | 45\\-\\-54 | 0     |\n",
    "| AD      | 2000 | m   | 55\\-\\-64 | 0     |\n",
    "| AD      | 2000 | m   | 65\\+     | 0     |\n",
    "| AE      | 2000 | m   | 0\\-\\-14  | 2     |\n",
    "| AE      | 2000 | m   | 15\\-\\-24 | 4     |\n",
    "| AE      | 2000 | m   | 25\\-\\-34 | 4     |\n",
    "| AE      | 2000 | m   | 35\\-\\-44 | 6     |\n",
    "| AE      | 2000 | m   | 45\\-\\-54 | 5     |\n",
    "| AE      | 2000 | m   | 55\\-\\-64 | 12    |\n",
    "| AE      | 2000 | m   | 65\\+     | 10    |\n",
    "| AE      | 2000 | f   | 0\\-\\-14  | 3     |\n",
    "\n"
   ]
  },
  {
   "cell_type": "markdown",
   "metadata": {
    "slideshow": {
     "slide_type": "slide"
    }
   },
   "source": [
    "## Zmienne są przechowywane zarówno w wierszach, jak i kolumnach.\n",
    "\n",
    "**Przykład**:\n",
    "\n",
    "Dzienne dane pogodowe z Global Historical Climatology Network dla jednej stacji pogodowej (MX17004) w Meksyku przez pięć miesięcy w 2010 roku. Posiada zmienne w poszczególnych kolumnach (id, rok, miesiąc), rozłożone na kolumny (dzień, d1 – d31) i w poprzek rzędy (tmin, tmax) (temperatura minimalna i maksymalna). Miesiące z mniej niż 31 dni mają strukturalne brakujące wartości dla ostatniego dnia (dni) miesiąca. Kolumna element nie jest zmienną; przechowuje nazwy zmiennych."
   ]
  },
  {
   "cell_type": "markdown",
   "metadata": {
    "slideshow": {
     "slide_type": "subslide"
    }
   },
   "source": [
    "| id      | year | month | element | d1     | d2     | d3     | d4     | d5     | d6     | d7     | d8     |\n",
    "|---------|------|-------|---------|--------|--------|--------|--------|--------|--------|--------|--------|\n",
    "| MX17004 | 2010 | 1     | tmax    | \\-\\-\\- | \\-\\-\\- | \\-\\-\\- | \\-\\-\\- | \\-\\-\\- | \\-\\-\\- | \\-\\-\\- | \\-\\-\\- |\n",
    "| MX17004 | 2010 | 1     | tmin    | \\-\\-\\- | \\-\\-\\- | \\-\\-\\- | \\-\\-\\- | \\-\\-\\- | \\-\\-\\- | \\-\\-\\- | \\-\\-\\- |\n",
    "| MX17004 | 2010 | 2     | tmax    | \\-\\-\\- | 27\\.3  | 24\\.1  | \\-\\-\\- | \\-\\-\\- | \\-\\-\\- | \\-\\-\\- | \\-\\-\\- |\n",
    "| MX17004 | 2010 | 2     | tmin    | \\-\\-\\- | 14\\.4  | 14\\.4  | \\-\\-\\- | \\-\\-\\- | \\-\\-\\- | \\-\\-\\- | \\-\\-\\- |\n",
    "| MX17004 | 2010 | 3     | tmax    | \\-\\-\\- | \\-\\-\\- | \\-\\-\\- | \\-\\-\\- | 32\\.1  | \\-\\-\\- | \\-\\-\\- | \\-\\-\\- |\n",
    "| MX17004 | 2010 | 3     | tmin    | \\-\\-\\- | \\-\\-\\- | \\-\\-\\- | \\-\\-\\- | 14\\.2  | \\-\\-\\- | \\-\\-\\- | \\-\\-\\- |\n",
    "| MX17004 | 2010 | 4     | tmax    | \\-\\-\\- | \\-\\-\\- | \\-\\-\\- | \\-\\-\\- | \\-\\-\\- | \\-\\-\\- | \\-\\-\\- | \\-\\-\\- |\n",
    "| MX17004 | 2010 | 4     | tmin    | \\-\\-\\- | \\-\\-\\- | \\-\\-\\- | \\-\\-\\- | \\-\\-\\- | \\-\\-\\- | \\-\\-\\- | \\-\\-\\- |\n",
    "| MX17004 | 2010 | 5     | tmax    | \\-\\-\\- | \\-\\-\\- | \\-\\-\\- | \\-\\-\\- | \\-\\-\\- | \\-\\-\\- | \\-\\-\\- | \\-\\-\\- |\n",
    "| MX17004 | 2010 | 5     | tmin    | \\-\\-\\- | \\-\\-\\- | \\-\\-\\- | \\-\\-\\- | \\-\\-\\- | \\-\\-\\- | \\-\\-\\- | \\-\\-\\- |\n",
    "\n"
   ]
  },
  {
   "cell_type": "markdown",
   "metadata": {
    "slideshow": {
     "slide_type": "subslide"
    }
   },
   "source": [
    "## Melt\n",
    "| id      | date         | element | value |\n",
    "|---------|--------------|---------|-------|\n",
    "| MX17004 | 2010\\-01\\-30 | tmax    | 27\\.8 |\n",
    "| MX17004 | 2010\\-01\\-30 | tmin    | 14\\.5 |\n",
    "| MX17004 | 2010\\-02\\-02 | tmax    | 27\\.3 |\n",
    "| MX17004 | 2010\\-02\\-02 | tmin    | 14\\.4 |\n",
    "| MX17004 | 2010\\-02\\-03 | tmax    | 24\\.1 |\n",
    "| MX17004 | 2010\\-02\\-03 | tmin    | 14\\.4 |\n",
    "| MX17004 | 2010\\-02\\-11 | tmax    | 29\\.7 |\n",
    "| MX17004 | 2010\\-02\\-11 | tmin    | 13\\.4 |\n",
    "| MX17004 | 2010\\-02\\-23 | tmax    | 29\\.9 |\n",
    "| MX17004 | 2010\\-02\\-23 | tmin    | 10\\.7 |\n",
    "\n"
   ]
  },
  {
   "cell_type": "markdown",
   "metadata": {
    "slideshow": {
     "slide_type": "subslide"
    }
   },
   "source": [
    "## Tidy\n",
    "| id      | date         | tmax  | tmin  |\n",
    "|---------|--------------|-------|-------|\n",
    "| MX17004 | 2010\\-01\\-30 | 27\\.8 | 14\\.5 |\n",
    "| MX17004 | 2010\\-02\\-02 | 27\\.3 | 14\\.4 |\n",
    "| MX17004 | 2010\\-02\\-03 | 24\\.1 | 14\\.4 |\n",
    "| MX17004 | 2010\\-02\\-11 | 29\\.7 | 13\\.4 |\n",
    "| MX17004 | 2010\\-02\\-23 | 29\\.9 | 10\\.7 |\n",
    "| MX17004 | 2010\\-03\\-05 | 32\\.1 | 14\\.2 |\n",
    "| MX17004 | 2010\\-03\\-10 | 34\\.5 | 16\\.8 |\n",
    "| MX17004 | 2010\\-03\\-16 | 31\\.1 | 17\\.6 |\n",
    "| MX17004 | 2010\\-04\\-27 | 36\\.3 | 16\\.7 |\n",
    "| MX17004 | 2010\\-05\\-27 | 33\\.2 | 18\\.2 |\n",
    "\n"
   ]
  },
  {
   "cell_type": "markdown",
   "metadata": {
    "slideshow": {
     "slide_type": "slide"
    }
   },
   "source": [
    "## Wiele rodzajów jednostek obserwacyjnych jest przechowywanych w tej samej tabeli.  \n",
    "\n",
    "Dane Billboardu - zawierają zarówno szczegółowe dane piosenek jak też i zmienne w czasie dane o ich rankingu. Dobrym pomysłem jest rozbicie ich na dwie tabele."
   ]
  },
  {
   "cell_type": "markdown",
   "metadata": {
    "slideshow": {
     "slide_type": "subslide"
    }
   },
   "source": [
    "## Dane piosenek\n",
    "| id | artist              | track                      | time |\n",
    "|----|---------------------|----------------------------|------|\n",
    "| 1  | 2 Pac               | Baby Don't Cry             | 4:22 |\n",
    "| 2  | 2Ge\\+her            | The Hardest Part Of \\.\\.\\. | 3:15 |\n",
    "| 3  | 3 Doors Down        | Kryptonite                 | 3:53 |\n",
    "| 4  | 3 Doors Down        | Loser                      | 4:24 |\n",
    "| 5  | 504 Boyz            | Wobble Wobble              | 3:35 |\n",
    "| 6  | 98\\\\verb\\|^\\|0      | Give Me Just One Nig\\.\\.\\. | 3:24 |\n",
    "| 7  | A\\*Teens            | Dancing Queen              | 3:44 |\n",
    "| 8  | Aaliyah             | I Don't Wanna              | 4:15 |\n",
    "| 9  | Aaliyah             | Try Again                  | 4:03 |\n",
    "| 10 | Adams, Yolanda      | Open My Heart              | 5:30 |\n",
    "| 11 | Adkins, Trace       | More                       | 3:05 |"
   ]
  },
  {
   "cell_type": "markdown",
   "metadata": {
    "slideshow": {
     "slide_type": "subslide"
    }
   },
   "source": [
    "## Dane rankingowe\n",
    "| id | date         | rank |\n",
    "|----|--------------|------|\n",
    "| 1  | 2000\\-02\\-26 | 87   |\n",
    "| 1  | 2000\\-03\\-04 | 82   |\n",
    "| 1  | 2000\\-03\\-11 | 72   |\n",
    "| 1  | 2000\\-03\\-18 | 77   |\n",
    "| 1  | 2000\\-03\\-25 | 87   |\n",
    "| 1  | 2000\\-04\\-01 | 94   |\n",
    "| 1  | 2000\\-04\\-08 | 99   |\n",
    "| 2  | 2000\\-09\\-02 | 91   |\n",
    "| 2  | 2000\\-09\\-09 | 87   |\n",
    "| 2  | 2000\\-09\\-16 | 92   |\n",
    "| 3  | 2000\\-04\\-08 | 81   |\n",
    "| 3  | 2000\\-04\\-15 | 70   |\n"
   ]
  },
  {
   "cell_type": "markdown",
   "metadata": {
    "slideshow": {
     "slide_type": "slide"
    }
   },
   "source": [
    "## Jeden typ jednostek obserwacyjnych jest przechowywany w wielu tabelach.\n",
    "1. Wczytaj pliki do listy tabel.\n",
    "2. Dla każdej tabeli dodaj nową kolumnę, która rejestruje oryginalną nazwę pliku (ponieważ nazwa pliku jest często wartością ważnej zmiennej).\n",
    "3. Połącz wszystkie tabele w jedną tabelę."
   ]
  },
  {
   "cell_type": "markdown",
   "metadata": {
    "slideshow": {
     "slide_type": "slide"
    }
   },
   "source": [
    "## Narzędzia\n",
    "Wickham definiując Tidy data tworzył narzędzia do jego realizacji - pakiert ``dplyr`` w ``R``. Jest on częścią ``tidyverse``.\n",
    "\n",
    "Pakietem o podobnej filozofi i funkcjonalności jest Pandas (Python Data Analysis Library)\n"
   ]
  },
  {
   "cell_type": "markdown",
   "metadata": {
    "slideshow": {
     "slide_type": "slide"
    }
   },
   "source": [
    "## Data frame \n",
    "Niezależnie od środowiska podstawowym obiektem, na którym pracujemy jest data frame (lub coś w tym rodzaju). Obiekt zawierający tablicę danych i metody umożliwiające jej przetwarzanie."
   ]
  }
 ],
 "metadata": {
  "celltoolbar": "Slideshow",
  "kernelspec": {
   "display_name": "Python 3",
   "language": "python",
   "name": "python3"
  },
  "language_info": {
   "codemirror_mode": {
    "name": "ipython",
    "version": 3
   },
   "file_extension": ".py",
   "mimetype": "text/x-python",
   "name": "python",
   "nbconvert_exporter": "python",
   "pygments_lexer": "ipython3",
   "version": "3.7.10"
  }
 },
 "nbformat": 4,
 "nbformat_minor": 4
}
