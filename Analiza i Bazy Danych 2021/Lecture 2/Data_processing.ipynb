{
 "cells": [
  {
   "cell_type": "code",
   "execution_count": 262,
   "metadata": {},
   "outputs": [],
   "source": [
    "import pandas as pd\n",
    "import matplotlib.pyplot as plt\n",
    "plt.style.context('seaborn-white')\n",
    "\n",
    "# color declarations\n",
    "\n",
    "light=\"#FFFCDC\"\n",
    "light_highlight=\"#FEF590\"\n",
    "mid=\"#FDED2A\"\n",
    "mid_highlight=\"#e4d411\"\n",
    "dark=\"#F3E335\"\n",
    "dark_highlight=\"#C0B002\"\n",
    "green=\"#00FF00\"\n",
    "light_grey=\"#DDDDDD\"\n"
   ]
  },
  {
   "cell_type": "code",
   "execution_count": 236,
   "metadata": {},
   "outputs": [],
   "source": [
    "states_dict = {\n",
    "        'AK': 'Alaska',\n",
    "        'AL': 'Alabama',\n",
    "        'AR': 'Arkansas',\n",
    "        'AS': 'American Samoa',\n",
    "        'AZ': 'Arizona',\n",
    "        'CA': 'California',\n",
    "        'CO': 'Colorado',\n",
    "        'CT': 'Connecticut',\n",
    "        'DC': 'District of Columbia',\n",
    "        'DE': 'Delaware',\n",
    "        'FL': 'Florida',\n",
    "        'GA': 'Georgia',\n",
    "        'GU': 'Guam',\n",
    "        'HI': 'Hawaii',\n",
    "        'IA': 'Iowa',\n",
    "        'ID': 'Idaho',\n",
    "        'IL': 'Illinois',\n",
    "        'IN': 'Indiana',\n",
    "        'KS': 'Kansas',\n",
    "        'KY': 'Kentucky',\n",
    "        'LA': 'Louisiana',\n",
    "        'MA': 'Massachusetts',\n",
    "        'MD': 'Maryland',\n",
    "        'ME': 'Maine',\n",
    "        'MI': 'Michigan',\n",
    "        'MN': 'Minnesota',\n",
    "        'MO': 'Missouri',\n",
    "        'MP': 'Northern Mariana Islands',\n",
    "        'MS': 'Mississippi',\n",
    "        'MT': 'Montana',\n",
    "        'NA': 'National',\n",
    "        'NC': 'North Carolina',\n",
    "        'ND': 'North Dakota',\n",
    "        'NE': 'Nebraska',\n",
    "        'NH': 'New Hampshire',\n",
    "        'NJ': 'New Jersey',\n",
    "        'NM': 'New Mexico',\n",
    "        'NV': 'Nevada',\n",
    "        'NY': 'New York',\n",
    "        'OH': 'Ohio',\n",
    "        'OK': 'Oklahoma',\n",
    "        'OR': 'Oregon',\n",
    "        'PA': 'Pennsylvania',\n",
    "        'PR': 'Puerto Rico',\n",
    "        'RI': 'Rhode Island',\n",
    "        'SC': 'South Carolina',\n",
    "        'SD': 'South Dakota',\n",
    "        'TN': 'Tennessee',\n",
    "        'TX': 'Texas',\n",
    "        'UT': 'Utah',\n",
    "        'VA': 'Virginia',\n",
    "        'VI': 'Virgin Islands',\n",
    "        'VT': 'Vermont',\n",
    "        'WA': 'Washington',\n",
    "        'WI': 'Wisconsin',\n",
    "        'WV': 'West Virginia',\n",
    "        'WY': 'Wyoming'\n",
    "}"
   ]
  },
  {
   "cell_type": "code",
   "execution_count": 236,
   "metadata": {},
   "outputs": [],
   "source": [
    "states_dict2 = {state: abbrev for abbrev, state in states_dict.items()}\n",
    "\n",
    "def count_unique_index(df, by, asc=False):\n",
    "    \"\"\" Count combinations of column values\n",
    "    df - dataframe to be processed\n",
    "    by - list of columns to be checked\n",
    "    asc - is sorted list should be ascending (default false) \n",
    "    \n",
    "    Returns - dataframe of column combinations and their counts \n",
    "    \"\"\"\n",
    "    return df.groupby(by).size().reset_index().rename(columns={0:'count'}).sort_values('count',ascending=asc)"
   ]
  },
  {
   "cell_type": "code",
   "execution_count": 242,
   "metadata": {},
   "outputs": [
    {
     "data": {
      "text/plain": [
       "\u001b[0;31mSignature:\u001b[0m \u001b[0mcount_unique_index\u001b[0m\u001b[0;34m(\u001b[0m\u001b[0mdf\u001b[0m\u001b[0;34m,\u001b[0m \u001b[0mby\u001b[0m\u001b[0;34m,\u001b[0m \u001b[0masc\u001b[0m\u001b[0;34m=\u001b[0m\u001b[0;32mFalse\u001b[0m\u001b[0;34m)\u001b[0m\u001b[0;34m\u001b[0m\u001b[0;34m\u001b[0m\u001b[0m\n",
       "\u001b[0;31mDocstring:\u001b[0m\n",
       "Count combinations of column values\n",
       "df - dataframe to be processed\n",
       "by - list of columns to be checked\n",
       "asc - is sorted list should be ascending (default false) \n",
       "\n",
       "Returns - dataframe of column combinations and their counts \n",
       "\u001b[0;31mFile:\u001b[0m      ~/GitHub/lectures/Data anlaytics/Single parameters models/Kidney cancer/<ipython-input-236-fabec5cf7b40>\n",
       "\u001b[0;31mType:\u001b[0m      function\n"
      ]
     },
     "metadata": {},
     "output_type": "display_data"
    }
   ],
   "source": []
  },
  {
   "cell_type": "code",
   "execution_count": 245,
   "metadata": {},
   "outputs": [],
   "source": [
    "df_1=pd.read_table('cntypop.txt')"
   ]
  },
  {
   "cell_type": "code",
   "execution_count": 248,
   "metadata": {},
   "outputs": [],
   "source": [
    "counties=df_1.loc[:,'countyNm':' totPop'] # limit to first 3 columns\n",
    "counties.countyNm=counties.countyNm.str.capitalize().str.rstrip() # capitalize and remove trailing spaces\n",
    "counties['population']=counties.groupby(['countyNm', ' stateAb'])[' totPop'].transform(sum) #sum repearted instances of county-state\n",
    "counties=(counties.drop_duplicates(subset=['countyNm', ' stateAb']) # drop transformed duplicates\n",
    "                 .drop([' totPop'],axis='columns') # drop old population\n",
    "                 .reset_index(drop=True) # reset index\n",
    "                 [['countyNm', ' stateAb','population']])# reorder columns\n",
    "counties.columns=['county','state','population'] #rename columns\n"
   ]
  },
  {
   "cell_type": "code",
   "execution_count": 252,
   "metadata": {},
   "outputs": [],
   "source": [
    "df_2=pd.read_table('gd80to84.txt')\n",
    "df_2_tr=df_2.iloc[:,:-4]\n",
    "df_2_tr.columns=['state',  'county',  'dc', 'dcV', 'pop','popV', 'aadc', 'aadcV',  'dcC', 'dcCV','good']\n",
    "df_3=pd.read_table('gd85to89.txt')\n"
   ]
  },
  {
   "cell_type": "code",
   "execution_count": 253,
   "metadata": {},
   "outputs": [],
   "source": [
    "death_counts_decade=df_3.iloc[:,0:3] # limit to first 3 columns\n",
    "death_counts_decade=death_counts_decade.dropna() #remove empty rows\n",
    "death_counts_decade.dc=death_counts_decade.dc+df_2_tr.dc # sum death counts for both 5 years\n",
    "death_counts_decade.county=death_counts_decade.county.str.capitalize() # capitalize\n",
    "death_counts_decade.state=death_counts_decade.state.str.capitalize().map(states_dict2) #mapr state name to abbreviation\n"
   ]
  },
  {
   "cell_type": "code",
   "execution_count": 255,
   "metadata": {},
   "outputs": [],
   "source": [
    "# merging population and death data\n",
    "counties_dc=counties.merge(death_counts_decade,on=['state','county'],how='left')[['county', 'state','population', 'dc']]\n",
    "counties_dc.dc=counties_dc.dc.fillna(0) # missing county-state combinations filled with 0's\n",
    "counties_dc['obs_dr']=counties_dc.dc/10/counties_dc.population*1e5 # new column of empirical decade death rate per 100K people\n"
   ]
  },
  {
   "cell_type": "code",
   "execution_count": 256,
   "metadata": {},
   "outputs": [
    {
     "data": {
      "text/html": [
       "<div>\n",
       "<style scoped>\n",
       "    .dataframe tbody tr th:only-of-type {\n",
       "        vertical-align: middle;\n",
       "    }\n",
       "\n",
       "    .dataframe tbody tr th {\n",
       "        vertical-align: top;\n",
       "    }\n",
       "\n",
       "    .dataframe thead th {\n",
       "        text-align: right;\n",
       "    }\n",
       "</style>\n",
       "<table border=\"1\" class=\"dataframe\">\n",
       "  <thead>\n",
       "    <tr style=\"text-align: right;\">\n",
       "      <th></th>\n",
       "      <th>county</th>\n",
       "      <th>state</th>\n",
       "      <th>population</th>\n",
       "      <th>dc</th>\n",
       "      <th>obs_dr</th>\n",
       "    </tr>\n",
       "  </thead>\n",
       "  <tbody>\n",
       "    <tr>\n",
       "      <th>0</th>\n",
       "      <td>Autauga</td>\n",
       "      <td>AL</td>\n",
       "      <td>34222</td>\n",
       "      <td>3.0</td>\n",
       "      <td>0.876629</td>\n",
       "    </tr>\n",
       "    <tr>\n",
       "      <th>1</th>\n",
       "      <td>Baldwin</td>\n",
       "      <td>AL</td>\n",
       "      <td>98280</td>\n",
       "      <td>22.0</td>\n",
       "      <td>2.238502</td>\n",
       "    </tr>\n",
       "    <tr>\n",
       "      <th>2</th>\n",
       "      <td>Barbour</td>\n",
       "      <td>AL</td>\n",
       "      <td>25417</td>\n",
       "      <td>1.0</td>\n",
       "      <td>0.393437</td>\n",
       "    </tr>\n",
       "    <tr>\n",
       "      <th>3</th>\n",
       "      <td>Bibb</td>\n",
       "      <td>AL</td>\n",
       "      <td>16576</td>\n",
       "      <td>1.0</td>\n",
       "      <td>0.603282</td>\n",
       "    </tr>\n",
       "    <tr>\n",
       "      <th>4</th>\n",
       "      <td>Blount</td>\n",
       "      <td>AL</td>\n",
       "      <td>39248</td>\n",
       "      <td>8.0</td>\n",
       "      <td>2.038320</td>\n",
       "    </tr>\n",
       "  </tbody>\n",
       "</table>\n",
       "</div>"
      ],
      "text/plain": [
       "    county state  population    dc    obs_dr\n",
       "0  Autauga    AL       34222   3.0  0.876629\n",
       "1  Baldwin    AL       98280  22.0  2.238502\n",
       "2  Barbour    AL       25417   1.0  0.393437\n",
       "3     Bibb    AL       16576   1.0  0.603282\n",
       "4   Blount    AL       39248   8.0  2.038320"
      ]
     },
     "execution_count": 256,
     "metadata": {},
     "output_type": "execute_result"
    }
   ],
   "source": [
    "counties_dc.head()"
   ]
  },
  {
   "cell_type": "code",
   "execution_count": 283,
   "metadata": {},
   "outputs": [
    {
     "data": {
      "image/png": "[encoded data removed]",
      "text/plain": [
       "<Figure size 432x288 with 1 Axes>"
      ]
     },
     "metadata": {
      "needs_background": "light"
     },
     "output_type": "display_data"
    }
   ],
   "source": [
    "\n",
    "ax=counties_dc.plot.scatter(x='population',\n",
    "                         y='obs_dr',\n",
    "                         logx=True,\n",
    "                         color=mid,\n",
    "                         alpha=0.7,\n",
    "                         xlim=(1e1,1e7)\n",
    "                        )\n",
    "plt.xlabel('Population')\n",
    "plt.ylabel('Observed deathrate (per 100,000) ')\n",
    "plt.show()"
   ]
  },
  {
   "cell_type": "code",
   "execution_count": 284,
   "metadata": {},
   "outputs": [],
   "source": [
    "counties_dc.to_csv('counties_dc.csv')"
   ]
  },
  {
   "cell_type": "code",
   "execution_count": null,
   "metadata": {},
   "outputs": [],
   "source": []
  }
 ],
 "metadata": {
  "kernelspec": {
   "display_name": "Python 3",
   "language": "python",
   "name": "python3"
  },
  "language_info": {
   "codemirror_mode": {
    "name": "ipython",
    "version": 3
   },
   "file_extension": ".py",
   "mimetype": "text/x-python",
   "name": "python",
   "nbconvert_exporter": "python",
   "pygments_lexer": "ipython3",
   "version": "3.8.5"
  }
 },
 "nbformat": 4,
 "nbformat_minor": 4
}
