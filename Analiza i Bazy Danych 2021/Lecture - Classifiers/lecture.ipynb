{
 "cells": [
  {
   "cell_type": "markdown",
   "metadata": {},
   "source": [
    "# Analiza i bazy danych\n",
    "\n",
    "## Klasyfikatory\n",
    "\n",
    "### dr hab. inż. Jerzy Baranowski, Prof. AGH"
   ]
  },
  {
   "cell_type": "code",
   "execution_count": null,
   "metadata": {},
   "outputs": [],
   "source": []
  },
  {
   "cell_type": "markdown",
   "metadata": {},
   "source": [
    "1. Definicja problemu\n",
    "2. Rodzaje zadania: binarne/wieloklasowe\n",
    "3. Metryki oceny \n",
    "4. Confusion matrix\n",
    "5. ROC\n",
    "6. Klasyfikatory binarne\n",
    "7. Regresja logistyczna\n",
    "8. Regresja probitowa\n",
    "9. Regularyzacja\n",
    "10. Dobór parametru\n",
    "11. SVM\n",
    "12. Nieliniowe SVM\n",
    "13. Naiwny klasyfikator bayesowski\n",
    "14. k-NN\n",
    "15. Drzewa decyzyjne\n",
    "16. Lasy losowe\n",
    "17. Klasyfikatory wieloklasowe\n",
    "18. Softmax\n",
    "19. One-vs-all\n"
   ]
  },
  {
   "cell_type": "code",
   "execution_count": null,
   "metadata": {},
   "outputs": [],
   "source": []
  },
  {
   "cell_type": "markdown",
   "metadata": {},
   "source": [
    "## Definicja\n",
    "\n",
    "Niech $\\mathcal{X}$ będzie zbiorem obiektów, zaś $\\mathcal{Y}$ zbiorem klas (skończonym).\n",
    "\n",
    "Klasyfikatorem jest funkcja, która danemu obiektowi $ x\\in\\mathcal X$ przydziela klasę $y\\in \\mathcal{Y}$. \n",
    "\n",
    "W praktyce, operacji się nie dokonuje na obiektach $x$, ale przynależnych do nich wektorach cech $\\mathbf{x}$ należących do zbioru $X$. "
   ]
  },
  {
   "cell_type": "markdown",
   "metadata": {},
   "source": [
    "## Problemy binarne i wieloklasowe \n",
    "\n",
    "Problem binarny, to taki w którym zbiór $\\mathcal{Y}$ jest zbiorem dwuelementowym (najczęściej reprezentowanym przez $\\{0,\\ 1\\}$)\n",
    "\n",
    "Przykład - określenie *chory*-*zdrowy* na podstawie wektora danych\n",
    "\n",
    "Problem wieloklasowy umożliwia wiele klas.\n",
    "\n",
    "Przykład - rozpoznanie gatunku rośliny ze zdjęcia."
   ]
  },
  {
   "cell_type": "markdown",
   "metadata": {},
   "source": [
    "## Dummy variables\n",
    "\n",
    "Dla ułatwienia klasyfikacji (tak aby mieć wartości numeryczne) kolumnę z kategorią zamienia się na grupę kolumn (tyle ile klas), w których w danym wierszu tylko jedna może być równa 1.\n",
    "\n",
    "### Przykład"
   ]
  },
  {
   "cell_type": "code",
   "execution_count": 6,
   "metadata": {},
   "outputs": [],
   "source": [
    "import pandas as pd\n",
    "s = pd.DataFrame({'Race':['York','York','Poodle','Newfoundlaner']})"
   ]
  },
  {
   "cell_type": "code",
   "execution_count": 7,
   "metadata": {},
   "outputs": [
    {
     "data": {
      "text/html": [
       "<div>\n",
       "<style scoped>\n",
       "    .dataframe tbody tr th:only-of-type {\n",
       "        vertical-align: middle;\n",
       "    }\n",
       "\n",
       "    .dataframe tbody tr th {\n",
       "        vertical-align: top;\n",
       "    }\n",
       "\n",
       "    .dataframe thead th {\n",
       "        text-align: right;\n",
       "    }\n",
       "</style>\n",
       "<table border=\"1\" class=\"dataframe\">\n",
       "  <thead>\n",
       "    <tr style=\"text-align: right;\">\n",
       "      <th></th>\n",
       "      <th>Race</th>\n",
       "    </tr>\n",
       "  </thead>\n",
       "  <tbody>\n",
       "    <tr>\n",
       "      <th>0</th>\n",
       "      <td>York</td>\n",
       "    </tr>\n",
       "    <tr>\n",
       "      <th>1</th>\n",
       "      <td>York</td>\n",
       "    </tr>\n",
       "    <tr>\n",
       "      <th>2</th>\n",
       "      <td>Poodle</td>\n",
       "    </tr>\n",
       "    <tr>\n",
       "      <th>3</th>\n",
       "      <td>Newfoundlaner</td>\n",
       "    </tr>\n",
       "  </tbody>\n",
       "</table>\n",
       "</div>"
      ],
      "text/plain": [
       "            Race\n",
       "0           York\n",
       "1           York\n",
       "2         Poodle\n",
       "3  Newfoundlaner"
      ]
     },
     "execution_count": 7,
     "metadata": {},
     "output_type": "execute_result"
    }
   ],
   "source": [
    "s"
   ]
  },
  {
   "cell_type": "code",
   "execution_count": 8,
   "metadata": {},
   "outputs": [
    {
     "data": {
      "text/html": [
       "<div>\n",
       "<style scoped>\n",
       "    .dataframe tbody tr th:only-of-type {\n",
       "        vertical-align: middle;\n",
       "    }\n",
       "\n",
       "    .dataframe tbody tr th {\n",
       "        vertical-align: top;\n",
       "    }\n",
       "\n",
       "    .dataframe thead th {\n",
       "        text-align: right;\n",
       "    }\n",
       "</style>\n",
       "<table border=\"1\" class=\"dataframe\">\n",
       "  <thead>\n",
       "    <tr style=\"text-align: right;\">\n",
       "      <th></th>\n",
       "      <th>Race_Newfoundlaner</th>\n",
       "      <th>Race_Poodle</th>\n",
       "      <th>Race_York</th>\n",
       "    </tr>\n",
       "  </thead>\n",
       "  <tbody>\n",
       "    <tr>\n",
       "      <th>0</th>\n",
       "      <td>0</td>\n",
       "      <td>0</td>\n",
       "      <td>1</td>\n",
       "    </tr>\n",
       "    <tr>\n",
       "      <th>1</th>\n",
       "      <td>0</td>\n",
       "      <td>0</td>\n",
       "      <td>1</td>\n",
       "    </tr>\n",
       "    <tr>\n",
       "      <th>2</th>\n",
       "      <td>0</td>\n",
       "      <td>1</td>\n",
       "      <td>0</td>\n",
       "    </tr>\n",
       "    <tr>\n",
       "      <th>3</th>\n",
       "      <td>1</td>\n",
       "      <td>0</td>\n",
       "      <td>0</td>\n",
       "    </tr>\n",
       "  </tbody>\n",
       "</table>\n",
       "</div>"
      ],
      "text/plain": [
       "   Race_Newfoundlaner  Race_Poodle  Race_York\n",
       "0                   0            0          1\n",
       "1                   0            0          1\n",
       "2                   0            1          0\n",
       "3                   1            0          0"
      ]
     },
     "execution_count": 8,
     "metadata": {},
     "output_type": "execute_result"
    }
   ],
   "source": [
    "pd.get_dummies(s)"
   ]
  },
  {
   "cell_type": "markdown",
   "metadata": {},
   "source": [ "## Tworzenie klasyfikatora\n",
    "\n",
    "Jest to proces dwuetapowy\n",
    "\n",
    "1. Wybranie funkcji klasyfikującej (struktury)\n",
    "2. Uczenie klasyfikatora"
   ]
  },
 {
   "cell_type": "markdown",
   "metadata": {},
   "source": [
    "## Dobór klasyfikatora\n",
    "\n",
    "Jest wiele rodzajów klasyfikatorów. Charakteryzują się one:\n",
    "- zasadą działania\n",
    "- strukturą\n",
    "- parametrami (lub hiperparametrami) określającymi ich działanie"
     ]
  },
  {
   "cell_type": "markdown",
   "metadata": {},
   "source": [
    "## Ocena klasyfikacji\n",
    "\n",
    "Klasyfikator może dokonywać przydziału prawidłowo lub nie, na wiele sposobów. \n",
    "\n",
    "W klasfikacji binarnej możemy wyróżnić klasę pozytywną **P** i negatywną **N**. \n",
    "\n",
    "Możliwe są cztery wyniki klasyfikacji:\n",
    "- **TP** - *true positive* - prawidłowo rozpoznano stan pozytywny\n",
    "- **TN** - *true negative* - prawidłowo rozpoznano stan negatywny\n",
    "- **FP** - *false positive* - nieprawidłowo rozpoznano stan negatywny\n",
    "- **FN** - *false negative* - nieprawidłowo rozpoznano stan pozytywny",
    "## Uczenie klasyfikatora\n",
    "\n",
    "Jest to proces doboru parametrów (i hiperparametrów) klasyfikatora.\n",
    "\n",
    "Wykorzystuje się w tym celu tzw. zbiór uczący.\n",
    "\n",
    "Jest to zbiór par $(\\mathbf{x},y)$, czyli wektorów cech (czyli obiektów) i odpowiadających im prawidłowo przydzielonych klas."
   ]
  },
  {
   "cell_type": "markdown",
   "metadata": {},
   "source": [
    "## Metryki oceny\n",
    "\n",
    "- Czułość (*sensitivity*, *recall*, *hit rate*, *true positive rate* (**TPR**))\n",
    "\n",
    "$$ TPR = \\frac{TP}{P} = \\frac{TP}{TP+FN} $$\n",
    "\n",
    "- Swoistość (*specificity*, *selectivity*, *true negative rate* (**TNR**) )\n",
    "\n",
    "$$ TNR = \\frac{TP}{P} = \\frac{TP}{TP+FN} $$"
   ]
  }
 ],
 "metadata": {
  "interpreter": {
   "hash": "eac67c8cd09a973863c0eb8165917fbb7b741757d9f5fc8c47e28e31a1a3ab44"
  },
  "kernelspec": {
   "display_name": "Python 3.9.5 64-bit ('ABD2021': conda)",
   "language": "python",
   "name": "python3"
  },
  "language_info": {
   "codemirror_mode": {
    "name": "ipython",
    "version": 3
   },
   "file_extension": ".py",
   "mimetype": "text/x-python",
   "name": "python",
   "nbconvert_exporter": "python",
   "pygments_lexer": "ipython3",
   "version": "3.9.5"
  },
  "orig_nbformat": 4
 },
 "nbformat": 4,
 "nbformat_minor": 2
}
