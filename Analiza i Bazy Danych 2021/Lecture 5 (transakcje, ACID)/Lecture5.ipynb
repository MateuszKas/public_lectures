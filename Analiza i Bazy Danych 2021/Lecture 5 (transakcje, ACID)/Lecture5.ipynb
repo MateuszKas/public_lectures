{
 "cells": [
  {
   "cell_type": "markdown",
   "metadata": {
    "collapsed": true,
    "slideshow": {
     "slide_type": "slide"
    }
   },
   "source": [
    "# Analiza i bazy danych\n",
    "\n",
    "##  Transakcje i ACID \n",
    "### dr  inż. Waldemar Bauer"
   ]
  },
  {
   "cell_type": "markdown",
   "metadata": {
    "slideshow": {
     "slide_type": "slide"
    }
   },
   "source": [
    "## Współbieżność\n",
    "\n",
    "- możliwość wykonywania w jednym systemie jednocześnie wielu operacji \n",
    "- równoległe wykorzystanie zasobów\n",
    "- problemy współbieżności w bazach danych:\n",
    "    - zakleszczenia,\n",
    "    - zagłodzenia,\n",
    "    - faworyzacja wątków,\n",
    "    - niepoprawne odczyty danych,"
   ]
  },
  {
   "cell_type": "markdown",
   "metadata": {
    "slideshow": {
     "slide_type": "slide"
    }
   },
   "source": [
    "## Transakcja\n",
    "\n",
    "- Zbiór operacji na bazie danych które tworzą jednostkę logiczną, która jest niezależnie wykonywana w celu przeprowadzeniu bazy danych z jednego stanu w drugi.\n",
    "- Operajce powinny być wykonane tak by wykonały się wszystkie operacje jeżeli to nie nastąpi baza powinna wrócić do stanu przed transkacją\n",
    "- Mechanizm zapewniajacy współbieżność w systemach bazowanowych"
   ]
  },
  {
   "cell_type": "markdown",
   "metadata": {
    "slideshow": {
     "slide_type": "subslide"
    }
   },
   "source": [
    "## Etapy transakcji\n",
    "\n",
    "<img src='img/transaction_schema.png'>"
   ]
  },
  {
   "cell_type": "markdown",
   "metadata": {
    "slideshow": {
     "slide_type": "slide"
    }
   },
   "source": [
    "## Polecenia związane z trnsakcjami\n",
    "\n",
    "- BEGIN - rozpoczęcie transakcji.\n",
    "- COMMIT − zatwierdzenie zmian.\n",
    "- ROLLBACK − cofnięcie zmian.\n",
    "- SAVEPOINT − stworzenie punktu zapisu stanu bazy do wycofania transakcji.\n",
    "- RELEASE SAVEPOINT - skasowanie punktu pośredniego.\n",
    "- ROLLBACK TO SAVEPOINT - wycofanie transakcji do punktu zapisu."
   ]
  },
  {
   "cell_type": "markdown",
   "metadata": {
    "slideshow": {
     "slide_type": "slide"
    }
   },
   "source": [
    "## Przykładowa tabela\n",
    "\n",
    "| id \t|        name       \t|    surname    \t|   born_data  \t|\n",
    "|:--:\t|:-----------------:\t|:-------------:\t|:------------:\t|\n",
    "|  1 \t|     \"William\"     \t| \"Shakespeare\" \t| \"1564-04-26\" \t|\n",
    "|  2 \t|      \"Albert\"     \t|    \"Camus\"    \t| \"1913-11-07\" \t|\n",
    "|  3 \t|     \"Henryk \"     \t| \"Sienkiewicz\" \t| \"1846-05-05\" \t|\n",
    "|  4 \t|     \"Victor \"     \t|     \"Hugo\"    \t| \"1802-02-26\" \t|\n",
    "|  5 \t|   \"Edgar Allan\"   \t|     \"Poe\"     \t| \"1809-01-19\" \t|\n",
    "|  6 \t|      \"Oscar\"      \t|    \"Wilde\"    \t| \"1854-10-16\" \t|\n",
    "|  7 \t| \"Johann Wolfgang\" \t|    \"Goethe\"   \t| \"1749-08-28\" \t|\n",
    "|  8 \t|     \"Umberto \"    \t|      \"Eco     \t| \"1932-01-05\" \t|\n",
    "|  9 \t|      \"Edward\"     \t|   \"Stachura\"  \t| \"1937-08-18\" \t|\n",
    "| 10 \t| \"Krzysztof Kamil\" \t|  \"Baczyński\"  \t| \"1921-01-22\" \t|"
   ]
  },
  {
   "cell_type": "markdown",
   "metadata": {
    "slideshow": {
     "slide_type": "subslide"
    }
   },
   "source": [
    "## COMMIT\n",
    "\n",
    "```sql\n",
    "BEGIN;\n",
    "update authors set id=100  where id = 10;\n",
    "update authors set id=90  where id = 9;\n",
    "commit;\n",
    "```\n",
    "Results:\n",
    "\n",
    "| id \t|        name       \t|    surname    \t|   born_data  \t|\n",
    "|:--:\t|:-----------------:\t|:-------------:\t|:------------:\t|\n",
    "|  1 \t|     \"William\"     \t| \"Shakespeare\" \t| \"1564-04-26\" \t|\n",
    "|  2 \t|      \"Albert\"     \t|    \"Camus\"    \t| \"1913-11-07\" \t|\n",
    "|  3 \t|     \"Henryk \"     \t| \"Sienkiewicz\" \t| \"1846-05-05\" \t|\n",
    "|  4 \t|     \"Victor \"     \t|     \"Hugo\"    \t| \"1802-02-26\" \t|\n",
    "|  5 \t|   \"Edgar Allan\"   \t|     \"Poe\"     \t| \"1809-01-19\" \t|\n",
    "|  6 \t|      \"Oscar\"      \t|    \"Wilde\"    \t| \"1854-10-16\" \t|\n",
    "|  7 \t| \"Johann Wolfgang\" \t|    \"Goethe\"   \t| \"1749-08-28\" \t|\n",
    "|  8 \t|     \"Umberto \"    \t|      \"Eco     \t| \"1932-01-05\" \t|\n",
    "|  90 \t|      \"Edward\"     \t|   \"Stachura\"  \t| \"1937-08-18\" \t|\n",
    "| 100 \t| \"Krzysztof Kamil\" \t|  \"Baczyński\"  \t| \"1921-01-22\" \t|"
   ]
  },
  {
   "cell_type": "markdown",
   "metadata": {
    "slideshow": {
     "slide_type": "subslide"
    }
   },
   "source": [
    "##  ROLLBACK po COMMIT\n",
    "\n",
    "```sql\n",
    "BEGIN;\n",
    "update authors set id=10  where id = 100;\n",
    "update authors set id=9  where id = 90;\n",
    "\n",
    "commit;\n",
    "\n",
    "rollback;\n",
    "\n",
    "select * from authors where id in (100, 90) order by id ;\n",
    "\n",
    "```"
   ]
  },
  {
   "cell_type": "markdown",
   "metadata": {
    "slideshow": {
     "slide_type": "fragment"
    }
   },
   "source": [
    "### Wyniki:\n",
    "\n",
    "| id \t|        name       \t|    surname    \t|   born_data  \t|\n",
    "|:--:\t|:-----------------:\t|:-------------:\t|:------------:\t|\n",
    "| \t    |                    \t|               \t|           \t|"
   ]
  },
  {
   "cell_type": "markdown",
   "metadata": {
    "slideshow": {
     "slide_type": "subslide"
    }
   },
   "source": [
    "## Stan po operacjach\n",
    "```sql\n",
    "select * from authors order by id;\n",
    "```\n",
    "\n",
    "<center>\n",
    "    \n",
    "| id \t|        name       \t|    surname    \t|   born_data  \t|\n",
    "|:--:\t|:-----------------:\t|:-------------:\t|:------------:\t|\n",
    "|  1 \t|     \"William\"     \t| \"Shakespeare\" \t| \"1564-04-26\" \t|\n",
    "|  2 \t|      \"Albert\"     \t|    \"Camus\"    \t| \"1913-11-07\" \t|\n",
    "|  3 \t|     \"Henryk \"     \t| \"Sienkiewicz\" \t| \"1846-05-05\" \t|\n",
    "|  4 \t|     \"Victor \"     \t|     \"Hugo\"    \t| \"1802-02-26\" \t|\n",
    "|  5 \t|   \"Edgar Allan\"   \t|     \"Poe\"     \t| \"1809-01-19\" \t|\n",
    "|  6 \t|      \"Oscar\"      \t|    \"Wilde\"    \t| \"1854-10-16\" \t|\n",
    "|  7 \t| \"Johann Wolfgang\" \t|    \"Goethe\"   \t| \"1749-08-28\" \t|\n",
    "|  8 \t|     \"Umberto \"    \t|      \"Eco     \t| \"1932-01-05\" \t|\n",
    "|  9 \t|      \"Edward\"     \t|   \"Stachura\"  \t| \"1937-08-18\" \t|\n",
    "| 10 \t| \"Krzysztof Kamil\" \t|  \"Baczyński\"  \t| \"1921-01-22\" \t|\n",
    "\n",
    "</center>"
   ]
  },
  {
   "cell_type": "markdown",
   "metadata": {
    "slideshow": {
     "slide_type": "subslide"
    }
   },
   "source": [
    "##  ROLLBACK przed COMMIT\n",
    "\n",
    "```sql\n",
    "BEGIN;\n",
    "update authors set id=100  where id = 10;\n",
    "update authors set id=90  where id = 9;\n",
    "\n",
    "rollback;\n",
    "\n",
    "commit;\n",
    "\n",
    "select * from authors where id in (100, 90) order by id ;\n",
    "\n",
    "```"
   ]
  },
  {
   "cell_type": "markdown",
   "metadata": {
    "slideshow": {
     "slide_type": "fragment"
    }
   },
   "source": [
    "### Wyniki:\n",
    "\n",
    "| id \t|        name       \t|    surname    \t|   born_data  \t|\n",
    "|:--:\t|:-----------------:\t|:-------------:\t|:------------:\t|\n",
    "| \t    |                    \t|               \t|           \t|"
   ]
  },
  {
   "cell_type": "markdown",
   "metadata": {
    "slideshow": {
     "slide_type": "subslide"
    }
   },
   "source": [
    "## Stan po operacjach\n",
    "```sql\n",
    "select * from authors order by id;\n",
    "```\n",
    "\n",
    "<center>\n",
    "    \n",
    "| id \t|        name       \t|    surname    \t|   born_data  \t|\n",
    "|:--:\t|:-----------------:\t|:-------------:\t|:------------:\t|\n",
    "|  1 \t|     \"William\"     \t| \"Shakespeare\" \t| \"1564-04-26\" \t|\n",
    "|  2 \t|      \"Albert\"     \t|    \"Camus\"    \t| \"1913-11-07\" \t|\n",
    "|  3 \t|     \"Henryk \"     \t| \"Sienkiewicz\" \t| \"1846-05-05\" \t|\n",
    "|  4 \t|     \"Victor \"     \t|     \"Hugo\"    \t| \"1802-02-26\" \t|\n",
    "|  5 \t|   \"Edgar Allan\"   \t|     \"Poe\"     \t| \"1809-01-19\" \t|\n",
    "|  6 \t|      \"Oscar\"      \t|    \"Wilde\"    \t| \"1854-10-16\" \t|\n",
    "|  7 \t| \"Johann Wolfgang\" \t|    \"Goethe\"   \t| \"1749-08-28\" \t|\n",
    "|  8 \t|     \"Umberto \"    \t|      \"Eco     \t| \"1932-01-05\" \t|\n",
    "|  9 \t|      \"Edward\"     \t|   \"Stachura\"  \t| \"1937-08-18\" \t|\n",
    "| 10 \t| \"Krzysztof Kamil\" \t|  \"Baczyński\"  \t| \"1921-01-22\" \t|\n",
    "\n",
    "</center>"
   ]
  },
  {
   "cell_type": "markdown",
   "metadata": {
    "slideshow": {
     "slide_type": "subslide"
    }
   },
   "source": [
    "## Transaction SAVEPOINT\n",
    "\n",
    "```sql\n",
    "BEGIN;\n",
    "update authors set id=100  where id = 10;\n",
    "update authors set id=90  where id = 9;\n",
    "savepoint test_1;\n",
    "\n",
    "update authors set id=10  where id = 100;\n",
    "update authors set id=9  where id = 90;\n",
    "\n",
    "rollback to test_1;\n",
    "commit;\n",
    "\n",
    "select * from authors where id in (100, 90) order by id ;\n",
    "\n",
    "```\n",
    "### Results\n",
    "<center>\n",
    "    \n",
    "| id \t|        name       \t|    surname    \t|   born_data  \t|\n",
    "|:--:\t|:-----------------:\t|:-------------:\t|:------------:\t|\n",
    "|  90 \t|      \"Edward\"     \t|   \"Stachura\"  \t| \"1937-08-18\" \t|\n",
    "| 100 \t| \"Krzysztof Kamil\" \t|  \"Baczyński\"  \t| \"1921-01-22\" \t|\n",
    "\n",
    "</center>"
   ]
  },
  {
   "cell_type": "markdown",
   "metadata": {
    "slideshow": {
     "slide_type": "slide"
    }
   },
   "source": [
    "## Zasady ACID\n",
    "\n",
    "<center> <img src='img/acid_rule.png'> </center>"
   ]
  },
  {
   "cell_type": "markdown",
   "metadata": {
    "slideshow": {
     "slide_type": "slide"
    }
   },
   "source": [
    "## Atomowość\n",
    "\n",
    "- **''Wszystko albo nic''**\n",
    "- System atomowy musi gwarantować atomowość w każdej sytuacji.\n",
    "- Atomicity gwarantuje, że każda transakcja jest traktowana jako pojedyncza „jednostka”."
   ]
  },
  {
   "cell_type": "markdown",
   "metadata": {
    "slideshow": {
     "slide_type": "subslide"
    }
   },
   "source": [
    "## Atomowość przykład\n",
    "\n",
    "|  Begin  \t|   X = 200   \t|   Y = 300   \t|\n",
    "|:-------:\t|:-----------:\t|:-----------:\t|\n",
    "| Execute \t|   Read(X)   \t|   Read(Y)   \t|\n",
    "|         \t| X = X - 100 \t| Y = Y + 100 \t|\n",
    "|  Commit \t|   Write(X)  \t|   Write(Y)  \t|\n",
    "|  After  \t|   X = 100   \t|   Y = 400   \t|"
   ]
  },
  {
   "cell_type": "markdown",
   "metadata": {
    "slideshow": {
     "slide_type": "subslide"
    }
   },
   "source": [
    "## Spójność\n",
    "\n",
    "- Gwarancja, że każda transakcja w przyszłości zobaczy skutki innych transakcji wykonanych w przeszłości.\n",
    "- Gwarancja, że ograniczenia bazy danych nie są naruszane przez zatwierdzanie transakcji.\n",
    "- Zagwarantowanie, że operacje w transakcjach są wykonywane dokładnie, poprawnie i z poprawnością, zgodnie z regułami serwera bazy danych.\n",
    "- Nie gwarantuje to poprawności wykonanania transakcji"
   ]
  },
  {
   "cell_type": "markdown",
   "metadata": {
    "slideshow": {
     "slide_type": "subslide"
    }
   },
   "source": [
    "## Spójność przykład\n",
    "\n",
    "|  Begin  \t|   X = 200   \t|   Y = 300   \t| X + Y = 500 \t|\n",
    "|:-------:\t|:-----------:\t|:-----------:\t|-------------\t|\n",
    "| Execute \t|   Read(X)   \t|   Read(Y)   \t|             \t|\n",
    "|         \t| X = X - 100 \t| Y = Y + 100 \t|             \t|\n",
    "|  Commit \t|   Write(X)  \t|   Write(Y)  \t|             \t|\n",
    "|  After  \t|   X = 100   \t|   Y = 400   \t| X + Y = 500 \t|"
   ]
  },
  {
   "cell_type": "markdown",
   "metadata": {
    "slideshow": {
     "slide_type": "slide"
    }
   },
   "source": [
    "## Izolacja\n",
    "- Możliwość wykonania wielu transakcji jednocześnie, bez powodowania niespójności stanu bazy danych.\n",
    "- Transakcje odbywają się niezależnie.\n",
    "- Zmiany zachodzące w danej transakcji nie będą widoczne dla żadnej innej transakcji, dopóki ta konkretna zmiana w tej transakcji nie zostanie zapisana w pamięci lub nie zostanie zatwierdzona.\n",
    "- Ta właściwość zapewnia, że jednoczesne wykonanie transakcji spowoduje stan, który jest równoważny ze stanem, w którym zostały one wykonane seryjnie w określonej kolejności."
   ]
  },
  {
   "cell_type": "markdown",
   "metadata": {
    "slideshow": {
     "slide_type": "subslide"
    }
   },
   "source": [
    "## Po co nam izolacja?\n",
    "\n",
    "|         \t| Transaction 1 \t| Transaction 2 \t|\n",
    "|:-------:\t|:-------------:\t|:-------------:\t|\n",
    "|  Begin  \t|       Y       \t|      X,Y      \t|\n",
    "| Execute \t|    Read(Y)    \t|    Read(X)    \t|\n",
    "|         \t|    Y = Y-50   \t|    Read(Y)    \t|\n",
    "|         \t|               \t|   X = X + Y   \t|\n",
    "|  Commit \t|    Write(Y)   \t|    Write(X)   \t|\n",
    "|  After  \t|    Y = ???    \t|    X = ???    \t|"
   ]
  },
  {
   "cell_type": "markdown",
   "metadata": {
    "slideshow": {
     "slide_type": "subslide"
    }
   },
   "source": [
    "## Problemy izolacji\n",
    "- Dirty Reads - brudny odczyt\n",
    "- Lost updates - stracona aktualizacja\t\n",
    "- Non-repeatable Reads - niepowtarzalny odczyt\n",
    "- Phantom Reads - odczyt widmo\n"
   ]
  },
  {
   "cell_type": "markdown",
   "metadata": {
    "slideshow": {
     "slide_type": "subslide"
    }
   },
   "source": [
    "## Dirty Reads\n",
    "\n",
    "|              Transaction 1             \t|                   Transaction 2                  \t|\n",
    "|:--------------------------------------:\t|:------------------------------------------------:\t|\n",
    "|                 BEGIN;                 \t|                      BEGIN;                      \t|\n",
    "| SELECT name FROM authors WHERE id = 1; \t|                                                  \t|\n",
    "|            -- name = William           \t| UPDATE authors SET name = \"Willie\" WHERE id = 1; \t|\n",
    "|                                        \t|                 -- brak coomitu                \t|\n",
    "| SELECT name FROM authors WHERE id = 1; \t|                                                  \t|\n",
    "|            -- name = Willie            \t|                                                  \t|"
   ]
  },
  {
   "cell_type": "markdown",
   "metadata": {
    "slideshow": {
     "slide_type": "subslide"
    }
   },
   "source": [
    "## Non-repeatable Reads\n",
    "|              Transaction 1             \t|                   Transaction 2                  \t|\n",
    "|:--------------------------------------:\t|:------------------------------------------------:\t|\n",
    "|                 BEGIN;                 \t|                      BEGIN;                      \t|\n",
    "| SELECT name FROM authors WHERE id = 1; \t|                                                  \t|\n",
    "|            -- name = William           \t| UPDATE authors SET name = \"Willie\" WHERE id = 1; \t|\n",
    "|                                        \t|                      COMMIT;                     \t|\n",
    "| SELECT name FROM authors WHERE id = 1; \t|                                                  \t|\n",
    "|            -- name = Willie            \t|                                                  \t|"
   ]
  },
  {
   "cell_type": "markdown",
   "metadata": {
    "slideshow": {
     "slide_type": "subslide"
    }
   },
   "source": [
    "## Lost updates\n",
    "|                 Transaction 1                \t|                   Transaction 2                  \t|\n",
    "|:--------------------------------------------:\t|:------------------------------------------------:\t|\n",
    "|                    BEGIN;                    \t|                      BEGIN;                      \t|\n",
    "|    SELECT name FROM authors WHERE id = 1;    \t|      SELECT name FROM authors WHERE id = 1;      \t|\n",
    "|               -- name = William              \t|                 -- name = William                \t|\n",
    "|                                              \t| UPDATE authors SET name = \"Willie\" WHERE id = 1; \t|\n",
    "| UPDATE authors SET name = \"W.\" WHERE id = 1; \t|                                                  \t|\n",
    "|                    COMMIT                    \t|                                                  \t|\n",
    "|    SELECT name FROM authors WHERE id = 1;    \t|                                                  \t|\n",
    "|                  -- name = W                 \t|                      COMMIT                      \t|\n",
    "|                                              \t|      SELECT name FROM authors WHERE id = 1;      \t|\n",
    "|                                              \t|                 -- name = Willie                 \t|\n",
    "|    SELECT name FROM authors WHERE id = 1;    \t|                                                  \t|\n",
    "|               -- name = Willie               \t|                                                  \t|"
   ]
  },
  {
   "cell_type": "markdown",
   "metadata": {
    "slideshow": {
     "slide_type": "subslide"
    }
   },
   "source": [
    "## Phantom Reads\n",
    "|         Transaction 1         \t|                                      Transaction 2                                     \t|\n",
    "|:-----------------------------:\t|:--------------------------------------------------------------------------------------:\t|\n",
    "|             BEGIN;            \t|                                         BEGIN;                                         \t|\n",
    "| SELECT count(*) FROM authors; \t|                                                                                        \t|\n",
    "|          -- count= 10         \t| Insert into authors(name,surname,born_date) Values (\"A.\", \"Mickiewicz\", \"24.12.1798\"); \t|\n",
    "|                               \t|                                         COMMIT;                                        \t|\n",
    "| SELECT count(*) FROM authors; \t|                                                                                        \t|\n",
    "|          -- count= 11         \t|                                                                                        \t|"
   ]
  },
  {
   "cell_type": "markdown",
   "metadata": {
    "slideshow": {
     "slide_type": "subslide"
    }
   },
   "source": [
    "## Izolacja w bazach danych \n",
    "- Implementowana przez planowanie wykonania transakcji \n",
    "- Zakładanie blokad (protokół ścisłego blokowania dwufazowego - Strict 2PL)"
   ]
  },
  {
   "cell_type": "markdown",
   "metadata": {
    "slideshow": {
     "slide_type": "subslide"
    }
   },
   "source": [
    "## Poziomy izolacji\n",
    "\n",
    "| Poziomy izolacji  \t|                    Dirty reads                   \t|                   Lost updates                   \t|              Non-repeatable reads              \t|                  Phantoms reads                  \t|\n",
    "|------------------\t|:------------------------------------------------:\t|:------------------------------------------------:\t|:----------------------------------------------:\t|:------------------------------------------------:\t|\n",
    "| Read Uncommitted \t|    <span style=\"color:red\"> Możliwy </span>    \t|    <span style=\"color:red\"> Możliwy </span>    \t|   <span style=\"color:red\"> Możliwy </span>   \t|    <span style=\"color:red\"> Możliwy </span>    \t|\n",
    "| Read Committed   \t|  <span style=\"color:green\"> Brak</span>  \t|    <span style=\"color:red\"> Możliwy </span>    \t|   <span style=\"color:red\"> Możliwy </span>   \t|    <span style=\"color:red\"> Możłiwy </span>    \t|\n",
    "| Repeatable Read  \t| <span style=\"color:green\">  Brak  </span> \t| <span style=\"color:green\">  Brak  </span> \t| <span style=\"color:green\"> Brak </span> \t|    <span style=\"color:red\"> Możliwy </span>    \t|\n",
    "| Serializable     \t| <span style=\"color:green\">  Brak  </span> \t| <span style=\"color:green\">  Brak  </span> \t| <span style=\"color:green\"> Brak </span> \t| <span style=\"color:green\">  Brak  </span> \t|"
   ]
  }
 ],
 "metadata": {
  "celltoolbar": "Slideshow",
  "jupytext": {
   "formats": "ipynb"
  },
  "kernelspec": {
   "display_name": "Python 3",
   "language": "python",
   "name": "python3"
  },
  "language_info": {
   "codemirror_mode": {
    "name": "ipython",
    "version": 3
   },
   "file_extension": ".py",
   "mimetype": "text/x-python",
   "name": "python",
   "nbconvert_exporter": "python",
   "pygments_lexer": "ipython3",
   "version": "3.7.6"
  },
  "rise": {
   "autolaunch": true,
   "backimage": "img/tlo_agh.png"
  }
 },
 "nbformat": 4,
 "nbformat_minor": 2
}
