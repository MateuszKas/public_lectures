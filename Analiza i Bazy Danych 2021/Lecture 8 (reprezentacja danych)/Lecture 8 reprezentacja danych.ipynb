{
 "cells": [
  {
   "cell_type": "code",
   "execution_count": 1,
   "metadata": {
    "slideshow": {
     "slide_type": "skip"
    }
   },
   "outputs": [
    {
     "data": {
      "text/html": [
       "<style>\n",
       ".rendered_html table, .rendered_html th, .rendered_html tr, .rendered_html td {\n",
       "     font-size: 80%;\n",
       "}\n",
       "</style>\n"
      ],
      "text/plain": [
       "<IPython.core.display.HTML object>"
      ]
     },
     "metadata": {},
     "output_type": "display_data"
    }
   ],
   "source": [
    "%%HTML\n",
    "<style>\n",
    ".rendered_html table, .rendered_html th, .rendered_html tr, .rendered_html td {\n",
    "     font-size: 80%;\n",
    "}\n",
    "</style>"
   ]
  },
  {
   "cell_type": "markdown",
   "metadata": {
    "slideshow": {
     "slide_type": "slide"
    }
   },
   "source": [
    "# Analiza i bazy danych\n",
    "## Reprezentacja danych w bazach danych \n",
    "### dr inż. Waldemar Bauer"
   ]
  },
  {
   "cell_type": "markdown",
   "metadata": {
    "slideshow": {
     "slide_type": "slide"
    }
   },
   "source": [
    "## Planowanie aplikacji z wykorzystaniem baz danych\n",
    "\n",
    "- Założenia aplikacji\n",
    "- Model danych\n",
    "- Model systemu"
   ]
  },
  {
   "cell_type": "markdown",
   "metadata": {
    "slideshow": {
     "slide_type": "subslide"
    }
   },
   "source": [
    "## Rodzaje modeli\n",
    "\n",
    "- konceptualny\n",
    "- implementacyjny"
   ]
  },
  {
   "cell_type": "markdown",
   "metadata": {
    "slideshow": {
     "slide_type": "subslide"
    }
   },
   "source": [
    "## Cykl projektowania systemu informatycznego\n",
    "![](./fig/modelowanie.png)"
   ]
  },
  {
   "cell_type": "markdown",
   "metadata": {
    "slideshow": {
     "slide_type": "slide"
    }
   },
   "source": [
    "## Reprezentacja obiektów\n",
    "\n",
    "- Reprezentujemy zarówno obiekty materialne jak i niematerialne \n",
    "- Każdy obiekt opisuje zestaw atrybutów\n",
    "- Opis biektów musi być unikalny"
   ]
  },
  {
   "cell_type": "markdown",
   "metadata": {
    "slideshow": {
     "slide_type": "subslide"
    }
   },
   "source": [
    "## Model związków - encje\n",
    "\n",
    "- Model związków-encji (ang. entity-relationship model - ER)\n",
    "- Związek to relacja pomiędzy obiektami w świecie rzeczywistym\n",
    "- Encja to opis obiektu świata rzeczywistego\n",
    "- Encja opisuje zbiór obiektów opisany tymi samymi atrybutami\n",
    "- Konkretny obiekt reprezentowany przez encję nazywamy instancją"
   ]
  },
  {
   "cell_type": "markdown",
   "metadata": {
    "slideshow": {
     "slide_type": "subslide"
    }
   },
   "source": [
    "## Encja \n",
    "\n",
    "1. Każda encja posiada unikalną nazwę.\n",
    "\n",
    "2. Każda encja posiada zbiór cech (atrybutów).\n",
    "\n",
    "3. Encje wchodzą w związki z innymi encjami (wyjątkiem są encje reprezentujące dane słownikowe i konfiguracyjne).\n",
    "\n",
    "4. Dowolny obiekt może być reprezentowana tylko przez jedną encję.\n",
    "\n",
    "5. Reprezentacją encji w bazie danych jest tabela\n"
   ]
  },
  {
   "cell_type": "markdown",
   "metadata": {
    "slideshow": {
     "slide_type": "subslide"
    }
   },
   "source": [
    "## Związki\n",
    "\n",
    "1. Obrazuje relację (asocjację) pomiędzy powiązanymi obiektami\n",
    "2. Łączy encję\n",
    "3. Musi być jednoznaczny i logiczny"
   ]
  },
  {
   "cell_type": "markdown",
   "metadata": {
    "slideshow": {
     "slide_type": "slide"
    }
   },
   "source": [
    "## Klucze w bazach danych\n",
    "\n",
    "- Klucze są podstawową koncepcją w teorii relacyjnych baz danych.\n",
    "- Umożliwiją identyfikację krotek w bazie danych.\n",
    "- Umożliwiją tworzenie relacji (asocjacji) w bazach danych.\n",
    "- Dobór klucza odbywa się na etapie normalizacji bazy dancyh"
   ]
  },
  {
   "cell_type": "markdown",
   "metadata": {
    "slideshow": {
     "slide_type": "subslide"
    }
   },
   "source": [
    "## Rodzje kluczy \n",
    "\n",
    "1. Prosty - klucz składający się z jednej kolumny\n",
    "1. Złożony - klucz składający się z wielu kolumn\n",
    "1. Naturalny - klucz wynikający bezpośrednio ze struktury danych\n",
    "1. Sztuczny - klucz wprowadzony do danych by łątwiej identyfikować krotki np. numer porządkowy"
   ]
  },
  {
   "cell_type": "markdown",
   "metadata": {
    "slideshow": {
     "slide_type": "subslide"
    }
   },
   "source": [
    "## Rodzje kluczy cd.\n",
    "\n",
    "5. Superklucz (superkey)– to kolumna lub zestaw kolumn jednoznacznie identyfikujących każda krotkę tabeli. \n",
    "    - Super klucz może zawierać kolumny, które samodzielnie mogą nie identyfikować każdej z krotek. \n",
    "    - Zawiera minimalny zestaw atrybutów unikatowo identyfikujących krotkę.\n",
    "\n",
    "6. Klucz kandydujący (candidate key, nadklucz, klucz potencjalny) - zbiór super kluczy. \n",
    "    - W praktyce to kolumna lub kolumny, które są rozważane w  użycie w charakterze klucza głównego jest rozważane przez projektanta baz danych."
   ]
  },
  {
   "cell_type": "markdown",
   "metadata": {
    "slideshow": {
     "slide_type": "subslide"
    }
   },
   "source": [
    "## Rodzje kluczy cd. \n",
    "\n",
    "7. Klucz główny (primary key) -  to klucz, który został wybrany, aby unikatowo identyfikować krotki tabeli.\n",
    "8. Klucz obcy  (forage key) -  kolumna lub zestaw kolumn w jednej tabeli, która pasuje do klucza kandydującego drugiej lub tej samej tabeli. \n",
    " - Klucze obce służą do tworzenia asocjacji (relacji) pomiędzy tabelami. \n",
    " - Dowolne dane w kolumnie (kolumnach) klucza głównego tabeli A muszą mieć swoje odpowiedniki w odpowiadającej kolumnie (kolumnach) tabeli B.  \n",
    " \n",
    "Zjawisko posiadania odpowiedników klucza głównego w obrębie różnych tabel\n",
    "nazywamy __integracją referencyjną__."
   ]
  },
  {
   "cell_type": "markdown",
   "metadata": {
    "slideshow": {
     "slide_type": "slide"
    }
   },
   "source": [
    "## Rrelacje pomiędzy tabelami w bazie danych\n",
    "\n",
    "- Relacje w bazie danych są powiązaniami między tabelami, które są tworzone na podstawie instrukcji łączenia (__join__) w celu odtworzenia danych.\n",
    "\n",
    "- Podstawowe relacje w bazach danych to:\n",
    "    - Jeden do jednego\t\n",
    "    - Jeden do wielu\t\n",
    "    - Wiele do wielu\t\n",
    "    "
   ]
  },
  {
   "cell_type": "markdown",
   "metadata": {
    "slideshow": {
     "slide_type": "subslide"
    }
   },
   "source": [
    "## Relacja jeden do jednego\n",
    "\n",
    "- Obydwie tabele mogą zawierać tylko jeden rekord po każdej stronie relacji.\n",
    "\n",
    "- Każda wartość klucza podstawowego dotyczy tylko jednego lub nie dotyczy żadnego rekordu w tabeli powiązanej.\n",
    "\n",
    "- Relacje \"jeden do jednego\" są w większości wymuszane przez reguły biznesowe i nie wynikają w sposób naturalny z danych. "
   ]
  },
  {
   "cell_type": "markdown",
   "metadata": {
    "slideshow": {
     "slide_type": "subslide"
    }
   },
   "source": [
    "## Relacja jeden do wielu\n",
    "\n",
    "- Tabela klucza podstawowego zawiera tylko jeden rekord, który dotyczy żadnego, jednego lub wielu rekordów w powiązanej tabeli.\n",
    "\n",
    "-  Jest to typ relacji najczęściej występujący w relacyjnych bazach danych."
   ]
  },
  {
   "cell_type": "markdown",
   "metadata": {
    "slideshow": {
     "slide_type": "subslide"
    }
   },
   "source": [
    "## Relacja wiele do wielu\n",
    "\n",
    "- Każdemu rekordowi z pierwszej tabeli może odpowiadać wiele rekordów z drugiej tabeli i każdemu z rekordów z drugiej tabeli może odpowiadać wiele rekordów z pierwszej tabeli.\n",
    "\n",
    "- Systemy relacyjne nie mogą bezpośrednio obsługiwać takiej relacji.\n",
    "\n",
    "- Aby ta relacja mogła istnieć potrzebujemy utworzyć trzecią tabelę nazywaną tabelą powiązań.\n",
    "\n",
    "\n"
   ]
  }
 ],
 "metadata": {
  "celltoolbar": "Slideshow",
  "kernelspec": {
   "display_name": "Python 3",
   "language": "python",
   "name": "python3"
  },
  "language_info": {
   "codemirror_mode": {
    "name": "ipython",
    "version": 3
   },
   "file_extension": ".py",
   "mimetype": "text/x-python",
   "name": "python",
   "nbconvert_exporter": "python",
   "pygments_lexer": "ipython3",
   "version": "3.7.6"
  }
 },
 "nbformat": 4,
 "nbformat_minor": 2
}
