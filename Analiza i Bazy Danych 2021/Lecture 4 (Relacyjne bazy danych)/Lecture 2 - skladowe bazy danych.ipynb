{
 "cells": [
  {
   "cell_type": "code",
   "execution_count": 1,
   "metadata": {
    "slideshow": {
     "slide_type": "skip"
    }
   },
   "outputs": [
    {
     "data": {
      "text/html": [
       "<style>\n",
       ".rendered_html table, .rendered_html th, .rendered_html tr, .rendered_html td {\n",
       "     font-size: 80%;\n",
       "}\n",
       "</style>\n"
      ],
      "text/plain": [
       "<IPython.core.display.HTML object>"
      ]
     },
     "metadata": {},
     "output_type": "display_data"
    }
   ],
   "source": [
    "%%HTML\n",
    "<style>\n",
    ".rendered_html table, .rendered_html th, .rendered_html tr, .rendered_html td {\n",
    "     font-size: 80%;\n",
    "}\n",
    "</style>"
   ]
  },
  {
   "cell_type": "markdown",
   "metadata": {
    "slideshow": {
     "slide_type": "slide"
    }
   },
   "source": [
    "# Analiza i bazy danych\n",
    "## Tabela w relacyjnym modelu bazy danych\n",
    "### dr inż. Waldemar Bauer"
   ]
  },
  {
   "cell_type": "markdown",
   "metadata": {
    "slideshow": {
     "slide_type": "subslide"
    }
   },
   "source": [
    "## Tabela (relacja) w bazie danych\n",
    "- Jedyna struktura danych w modelu relacyjnym, tabela jest relacją\n",
    "- Najprostrzy sposób przechowywania danych\n",
    "- Każda tabela ma unikatową nazwę\n",
    "- W modelu relacyjnym bazy danych tabela jest kolekcją danych reprezenrtowanych przez wiersze i kolumny\n",
    "- Tabla w prost może służyć do przedstawienia realcji\n",
    "- Jednak sama tabela może zawierać duplikaty które nie dopuszczale są w realicyjnym modelu, dlatego stosuje się __klucze głowne__ (*ang.* primary key)\n",
    "\n",
    "|id|imie|nazwisko|wiek|\n",
    "|-|-|-|-|\n",
    "|1|Adel|Orion|21|\n",
    "|2|Marek|Papier|22|\n",
    "|3|Zuzanna| Iskra|24|\n",
    "|4|Adel|Orion|21|\n"
   ]
  },
  {
   "cell_type": "markdown",
   "metadata": {
    "slideshow": {
     "slide_type": "subslide"
    }
   },
   "source": [
    "## Krotka\n",
    "\n",
    "- Pojedynczy wpis w tabeli (wiersz) nazywa się krotką lub rekordem\n",
    "- Krotka w tabeli reprezentuje zestaw połączonych ze sobą danych\n",
    "\n",
    "|id|imie|nazwisko|wiek|\n",
    "|-|-|-|-|\n",
    "|3|Zuzanna| Iskra|24|\n"
   ]
  },
  {
   "cell_type": "markdown",
   "metadata": {
    "slideshow": {
     "slide_type": "subslide"
    }
   },
   "source": [
    "## Atrybut\n",
    "\n",
    "- Tabela składa się z kilku rekordów (wierszy), każdy rekord można podzielić na kilka części zwanych atrybutami (kolumna)\n",
    "- Kolumny w ramach tabel posiadają indywidualne nazwy\n",
    "\n",
    "- Kiedy atrybut jest częścią relacji (tabeli), jest zdefiniowany tak, aby przechowywał tylko określony typ wartości, zwany __domeną atrybutu__\n",
    "\n",
    "|Imię|\n",
    "|-|\n",
    "|Anna|\n",
    "|Marta|\n",
    "|Wojtek|\n",
    "|Marcin|\n"
   ]
  },
  {
   "cell_type": "markdown",
   "metadata": {
    "slideshow": {
     "slide_type": "subslide"
    }
   },
   "source": [
    "## Rodzaje zmiennych w SQL\n",
    "\n",
    "- Nie wszystkie typy danych są obsługiwane przez serwery relacyjnych baz danych. Dla przykład baza danych Oracle nie obsługuje DATETIME.\n",
    "\n",
    "- Niektóre systemy bazodanowe posiadają własne dedykowane typy danych.  Na przykład Microsoft SQL Serwer posida typ *money* i *smallmoney*, nie obsługiwany przez inne bazy danych"
   ]
  },
  {
   "cell_type": "markdown",
   "metadata": {
    "slideshow": {
     "slide_type": "subslide"
    }
   },
   "source": [
    "## Zmienne liczbowe\n",
    "|Nazwa|Rozmiar|Opis|Zakres|\n",
    "|-|-|-|-|\n",
    "|smallint|2B|małe liczby całkowite|\t\\[-32768, +32767\\]|\n",
    "|integer|4B|liczby całkowite|\\[-2147483648, +2147483647\\]|\n",
    "|bigint|8B|\tduże liczby calkowite|\\[-9223372036854775808, 9223372036854775807\\]|\n",
    "|decimal|zmienny|użytkownik deklaruje dokładność| do 131072 liczb przed kropką dzisiętną;<br> do 16383 liczb za kropką dzisiętną|\n",
    "|numeric|zmienny|użytkownik deklaruje dokładność| do 131072 liczb przed kropką dzisiętną;<br> do 16383 liczb za kropką dzisiętną|\n",
    "|real|4B|zmienna precyzja|6 miejsc po przecinku|\n",
    "|double precision|8B|zmienna precyzja| 15 miejsc po przecinku|\n",
    "|serial|4B|\tautoinkrementowany int|\t1 do 2147483647|\n",
    "|bigserial|8B|duży autoinkrementowany int|\t1 do 9223372036854775807|"
   ]
  },
  {
   "cell_type": "markdown",
   "metadata": {
    "slideshow": {
     "slide_type": "subslide"
    }
   },
   "source": [
    "## Zmienne reprezentujące czas\n",
    "\n",
    "|Nazwa|Rozmiar|Zakres|Rozdzielczość|\n",
    "|-|-|-|-|\n",
    "|Timestamp without timezone|8B|\tod 4713 BC do 294276 AD|1μs/14 cyfr|\n",
    "|Timestamp with timezone|8B| od 4713 BC do 294276 AD|1μs/14 cyfr|\n",
    "|date|4B| od 4713 BC do 294276 AD|\tjeden dzień|\n",
    "|Time without timezone|8B| od 00:00:00 do 24:00:00|1μs/14 cyfr|\n",
    "|Time with timezone|12B| od\t00:00:00 + 1459 do 24:00:00-1459|1μs/14 cyfr|\n",
    "|Interval|12B|od -178000000 do 178000000 lat|1μs/14 cyfr|"
   ]
  },
  {
   "cell_type": "markdown",
   "metadata": {
    "slideshow": {
     "slide_type": "subslide"
    }
   },
   "source": [
    "## Zmienne łańcuchów znaków\n",
    "\n",
    "|Nazwa|\tOpis|\n",
    "|-|-|\n",
    "|varchar(n)|Pozwala zadeklarować zmienną długość z ograniczeniem|\n",
    "|Char(n)| Zadeklarowan długość|\t\n",
    "|Text|\tNieograniczona długość|"
   ]
  },
  {
   "cell_type": "markdown",
   "metadata": {
    "slideshow": {
     "slide_type": "subslide"
    }
   },
   "source": [
    "## Zmienne binarne\n",
    "|Nazwa|Opis|\n",
    "|-|-|\n",
    "|BINARY| Stała długość 8000B|\n",
    "|VARBINARY| Zmienna długość do 8000B|\n",
    "|VARBINARY(max)| Zmienna długość do 2GB|\n",
    "|IMAGE|Zmienna długość do 2GB|"
   ]
  },
  {
   "cell_type": "markdown",
   "metadata": {
    "slideshow": {
     "slide_type": "subslide"
    }
   },
   "source": [
    "## Zmienne specjalne\n",
    "\n",
    "|Nazwa|Opis|\n",
    "|-|-|\n",
    "|CLOB| Obikety do 2GB|\n",
    "|BLOB| Obikety binarne do 2GB|\n",
    "|XML| do tekstów XML|\n",
    "|JSON| do tekstów JSON|"
   ]
  },
  {
   "cell_type": "markdown",
   "metadata": {
    "slideshow": {
     "slide_type": "subslide"
    }
   },
   "source": [
    "## Zmienna NULL\n",
    "\n",
    "- Wartość NUll jest specjalną zmienną\n",
    "\n",
    "- Reprezentuje brakujące wartości \n",
    "\n",
    "- Pole o wartości NULL jest polem bez wartości. \n",
    "\n",
    "- Bardzo ważne jest, aby zrozumieć, że wartość NULL różni się od wartości zerowej lub pola zawierającego spacje\n",
    "\n",
    "|id|imie|nazwisko|wiek|adres|\n",
    "|-|-|-|-|-|\n",
    "|1|Adel|Orion|21|Szkolna|\n",
    "|2|Marek|Papier|22|Null|\n",
    "|3|Zuzanna| Iskra|24| |\n",
    "|4|Adel|Orion|21|Borowa|"
   ]
  },
  {
   "cell_type": "markdown",
   "metadata": {
    "slideshow": {
     "slide_type": "slide"
    }
   },
   "source": [
    "## Ograniczenia w tabeli\n",
    "\n",
    "- Opis tabeli może wymuszać ograniczenia na poszczególnych kolumnach,\n",
    "- Ograniczenia muszą być spełnione przez dane dodawane do tabeli,\n",
    "- Ten rodzaj ograniczeń nazywamy ograniczeniami integralności, \n",
    "- Rodzaje ograniczenia:\n",
    "    - klucz podstawowy (PRIMARY KEY),\n",
    "    - klucz obcy (FOREIGN KEY),\n",
    "    - unikalność (UNIQUE),\n",
    "    - zawężenie domeny/dziedziny (CHECK),\n",
    "    - wartość pusta/niepusta (NULL/NOT NULL). "
   ]
  },
  {
   "cell_type": "markdown",
   "metadata": {
    "slideshow": {
     "slide_type": "slide"
    }
   },
   "source": [
    "## Przykład opisu tabeli w SQL\n",
    "```SQL\n",
    "CREATE TABLE Persons (\n",
    "    ID int PRIMARY KEY,\n",
    "    LastName varchar(255) NOT NULL,\n",
    "    FirstName varchar(255),\n",
    "    Age int CHECK (Age>=18)\n",
    ");\n",
    "```"
   ]
  },
  {
   "cell_type": "markdown",
   "metadata": {
    "slideshow": {
     "slide_type": "slide"
    }
   },
   "source": [
    "\n",
    "## Własności relacji podsumowanie\n",
    "\n",
    "- Każda relacja ma jednoznaczną nazwę w ramach bazy danych,\n",
    "- W ramach jednej relacji atrybuty mają jednoznaczne nazwy,\n",
    "- Wszystkie wartości w kolumnie są tego samego typu (zdefiniowane w tej samej dziedzinie),\n",
    "- Kolejność kolumn w relacji nie ma znaczenia,\n",
    "- W relacji nie istnieją powtarzające się krotki,\n",
    "- Kolejność krotek nie ma znaczenia,\n",
    "- wszystkie dane w tablei spełniają ograniczenia kolun do których należą,\n",
    "- Każde pole na przecięciu kolumna/wiersz ma wartość atomową.\n"
   ]
  },
  {
   "cell_type": "code",
   "execution_count": null,
   "metadata": {},
   "outputs": [],
   "source": []
  }
 ],
 "metadata": {
  "celltoolbar": "Slideshow",
  "kernelspec": {
   "display_name": "Python 3",
   "language": "python",
   "name": "python3"
  },
  "language_info": {
   "codemirror_mode": {
    "name": "ipython",
    "version": 3
   },
   "file_extension": ".py",
   "mimetype": "text/x-python",
   "name": "python",
   "nbconvert_exporter": "python",
   "pygments_lexer": "ipython3",
   "version": "3.7.6"
  }
 },
 "nbformat": 4,
 "nbformat_minor": 2
}
