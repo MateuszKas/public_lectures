{
 "cells": [
  {
   "cell_type": "code",
   "execution_count": 1,
   "metadata": {
    "slideshow": {
     "slide_type": "skip"
    }
   },
   "outputs": [
    {
     "data": {
      "text/html": [
       "<style>\n",
       ".rendered_html table, .rendered_html th, .rendered_html tr, .rendered_html td {\n",
       "     font-size: 80%;\n",
       "}\n",
       "</style>\n"
      ],
      "text/plain": [
       "<IPython.core.display.HTML object>"
      ]
     },
     "metadata": {},
     "output_type": "display_data"
    }
   ],
   "source": [
    "%%HTML\n",
    "<style>\n",
    ".rendered_html table, .rendered_html th, .rendered_html tr, .rendered_html td {\n",
    "     font-size: 80%;\n",
    "}\n",
    "</style>"
   ]
  },
  {
   "cell_type": "markdown",
   "metadata": {
    "slideshow": {
     "slide_type": "slide"
    }
   },
   "source": [
    "# Analiza i bazy danych\n",
    "## Informacje wstępne i DBMS\n",
    "### dr inż. Waldemar Bauer"
   ]
  },
  {
   "cell_type": "markdown",
   "metadata": {
    "slideshow": {
     "slide_type": "slide"
    }
   },
   "source": [
    "## Informacje ogólne\n",
    "\n",
    "- Katedra Automatyki i Robotyki, C3, p. 216 \n",
    "- Konsultacje środy 10:00 - 11:00\n",
    "- bauer@agh.edu.pl\n",
    "- wykłady dostępne pod adresem: https://github.com/KAIR-ISZ/public_lectures"
   ]
  },
  {
   "cell_type": "markdown",
   "metadata": {
    "slideshow": {
     "slide_type": "slide"
    }
   },
   "source": [
    "## Narzędzia używane na zajęciach\n",
    "| | | |  \n",
    "|-|-|-|\n",
    "<div style=\"width: 200px;\">![](./fig/python-logo-1.png)</div>|<div style=\"width: 200px;\">![](./fig/postgresql-logo.png)</div>|<div style=\"width: 200px;\">![](./fig/sqla_logo.png)<div>\n",
    "| | | |\n"
   ]
  },
  {
   "cell_type": "markdown",
   "metadata": {
    "slideshow": {
     "slide_type": "slide"
    }
   },
   "source": [
    "## Dlaczego używamy baz danych\n",
    "\n",
    "- Organizują dane w ustandaryzowany sposób\n",
    "- System organizacji danych odpowiada ludzkiej logice\n",
    "- Umożliwia szybkie przeszukiwani, łączenie i filtrowanie danych\n",
    "- Ułatwia dzielnie się danymi przez ich użytkowników"
   ]
  },
  {
   "cell_type": "markdown",
   "metadata": {
    "slideshow": {
     "slide_type": "slide"
    }
   },
   "source": [
    "## Definicja bazy danych\n",
    "\n",
    "__Nieformalnie__: baza danych to dane i specjalny program umożliwiający ich\n",
    "gromadzenie i przetwarzanie.\n",
    "\n",
    "__Formalne__: Baza danych jest zbiorem powiązanych informacji zorganizowanych w\n",
    "strukturę umożliwiającą łatwe przetwarzanie.\n",
    "\n",
    "__Definicja prawna__: Zależna od organizacji lub kraju"
   ]
  },
  {
   "cell_type": "markdown",
   "metadata": {
    "slideshow": {
     "slide_type": "slide"
    }
   },
   "source": [
    "## Cele systemu bazodanowego\n",
    "\n",
    "- Centralizacja\n",
    "- Dostęp selektywny\n",
    "- Utrzymanie spójności danych\n",
    "- Normalizacja\n",
    "- Dostęp wielokrotny\n",
    "- Widoki\n",
    "- Dostęp równoległy\n",
    "- Niezależność danych\n",
    "- Optymalizacja"
   ]
  },
  {
   "cell_type": "markdown",
   "metadata": {
    "slideshow": {
     "slide_type": "slide"
    }
   },
   "source": [
    "## Rodzaje baz danych  \n",
    "\n",
    "__Bazy proste__:\n",
    "- Kartotekowe\n",
    "- Hierarchiczne\n",
    "\n",
    "__Bazy złożone__:\n",
    "- Relacyjne\n",
    "- Obiektowe\n",
    "- Relacyjno-obiektowe\n",
    "- Strumieniowe\n",
    "- Temporalne\n",
    "- Nierelacyjne (NoSQL)\n"
   ]
  },
  {
   "cell_type": "markdown",
   "metadata": {
    "slideshow": {
     "slide_type": "subslide"
    }
   },
   "source": [
    "## Kartotekowa baza danych\n",
    "\n",
    "- Baza danych złożona z jednej tablicy\n",
    "- Tablica danych jest samodzielnym dokumentem\n",
    "- Tabela nie może współpracować z innymi tabelami\n",
    "\n",
    "| _id |    DATA    |    GMINA    | LICZBA_POJAZDOW |\n",
    "|:---:|:----------:|:-----------:|:---------------:|\n",
    "|  1  | 2021-04-21 | Bolesławiec |       347       |\n",
    "|  2  | 2021-04-21 | Dzierżoniów |       856       |\n",
    "|  3  | 2021-04-21 |    Głogów   |       297       |\n",
    "|  4  | 2021-04-21 |     Góra    |       228       |\n",
    "|  5  | 2021-04-21 | Góra powiat |       246       |\n",
    "|  6  | 2021-04-21 |     Inne    |      28046      |\n",
    "\n",
    "[źródło: Otwarte Dane Wrocław](https://www.wroclaw.pl/open-data/dataset/liczbapojazdowwjezdzajacychdowroclawiazposzczegolnychgmin_data)"
   ]
  },
  {
   "cell_type": "markdown",
   "metadata": {
    "slideshow": {
     "slide_type": "subslide"
    }
   },
   "source": [
    "## Hierarchiczna baza danych\n",
    "\n",
    "- Baza danych o strukturze drzewiastej połączeń\n",
    "- Rekordy są powiązane jednokierunkowo\n",
    "- Organizacja bazy podnosi wydajność oprogramowania bazy danych, ale utrudnia przeprowadzanie modyfikacji struktury danych\n",
    "- Pierwsze realizacje powstały we wczesnych latach 60., m.in. dla maszyn IBM serii 360.\n",
    "\n",
    "![](./fig/hier.png)"
   ]
  },
  {
   "cell_type": "markdown",
   "metadata": {
    "slideshow": {
     "slide_type": "subslide"
    }
   },
   "source": [
    "## Relacyjne bazy danych \n",
    "\n",
    "- Wiele tabel danych może współpracować ze sobą\n",
    "- Posiadają wewnętrzne języki programowania, wykorzystujące zwykle SQL.     \n",
    "- Wszystkie wartości danych oparte są na prostych typach danych.\n",
    "- Wszystkie dane w bazie relacyjnej przedstawiane są w formie dwuwymiarowych tabel.\n",
    "- Po wprowadzeniu danych do bazy, możliwe jest porównywanie wartości z różnych kolumn.\n",
    "- Wszystkie operacje wykonywane są w oparciu o algebrę relacji.\n",
    "- ACID"
   ]
  },
  {
   "cell_type": "markdown",
   "metadata": {
    "slideshow": {
     "slide_type": "subslide"
    }
   },
   "source": [
    "## Obiektowe bazy danych \n",
    "\n",
    "- Zbiór obiektów, których zachowanie się, stan oraz związki są określone zgodnie z obiektowym modelem danych.\n",
    "- Obiektowy system zarządzania bazą danych jest systemem wspomagającym definiowanie, zarządzanie, utrzymywanie, zabezpieczanie i udostępnianie obiektowej bazy danych. "
   ]
  },
  {
   "cell_type": "markdown",
   "metadata": {
    "slideshow": {
     "slide_type": "subslide"
    }
   },
   "source": [
    "## Strumieniowe bazy danych\n",
    "\n",
    "- Elementy strumienia danych napływają na bieżąco (online).\n",
    "- System nie ma wpływu na dane, jakie do niego napływają – ani na kolejność, ani na zawartość.\n",
    "- Strumienie danych teoretycznie nie są ograniczone czasem.\n",
    "- Każdy element pobrany ze strumienia danych po przetworzeniu jest niszczony lub archiwizowany. \n",
    "- Łatwy dostęp do danych możliwy jest jedynie w przypadku ostatnio zarejestrowanych danych."
   ]
  },
  {
   "cell_type": "markdown",
   "metadata": {
    "slideshow": {
     "slide_type": "subslide"
    }
   },
   "source": [
    "## Temporalna baza danych \n",
    " - Dane posiadają informację o czasie wprowadzenia lub czasie ważności. \n",
    " - Temporalne bazy danych są często administrowane automatycznie, poprzez usuwanie nieaktualnych danych lub ich archiwizowanie. "
   ]
  },
  {
   "cell_type": "markdown",
   "metadata": {
    "slideshow": {
     "slide_type": "subslide"
    }
   },
   "source": [
    "## NoSQL\n",
    "\n",
    "- Posiadają funkcjonalności przechowywania i wyszukiwania danych modelowanych w inny sposób niż relacje tabelaryczne używane w relacjach baz danych SQL. \n",
    "- Nie spełniają ACID \n",
    "- Starają się osiągnąć kompromis BASE (Basically Available, Soft state, Eventual consistency)"
   ]
  },
  {
   "cell_type": "markdown",
   "metadata": {
    "slideshow": {
     "slide_type": "slide"
    }
   },
   "source": [
    "## Database Management System (DBMS)\n",
    "\n",
    "- Zestaw programów do zarządzania bazą danych\n",
    "\n",
    "- Systemy open source: PostgreSQL, MySQL, Hadoop, Spark, Firebird,...\n",
    "\n",
    "- Systemy handlowe: Oracle, IBM DB, MS SQL Server,...\n",
    "\n",
    "- Systemy biurowe: OOBase, MS Access,...\n",
    " \n"
   ]
  },
  {
   "cell_type": "markdown",
   "metadata": {
    "slideshow": {
     "slide_type": "subslide"
    }
   },
   "source": [
    "## Użycie DBMS w aplikacjach \n",
    "\n",
    "![](./fig/DBMS.gif)"
   ]
  },
  {
   "cell_type": "markdown",
   "metadata": {
    "slideshow": {
     "slide_type": "subslide"
    }
   },
   "source": [
    "## Funkcjonalności DBMS\n",
    "\n",
    "- Umożliwienie zaprojektowania i wdrożenia nowej bazy danych przy użyciu narzędzi i Data Definition Language (DDL).\n",
    "\n",
    "- Umożliwienie selektywnego dostępu do danych przy użyciu języka zapytań (DQL).\n",
    "\n",
    "- Wykonanie określonych operacji na danych przy użyciu języka manipulacji danych (Data Manipulation Language, DML).\n",
    "\n",
    "- Obsługa przechowywania dużych zestawów danych, zapewnienie niezawodności i wydajności obsługi operacji na danych zapisanych na dysku.\n",
    "\n",
    "- Zapewnienie integralności danych (na poziomie tabeli, na poziomie bazy danych)."
   ]
  },
  {
   "cell_type": "markdown",
   "metadata": {
    "slideshow": {
     "slide_type": "subslide"
    }
   },
   "source": [
    "## Funkcjonalności DBMS - cd.\n",
    "\n",
    "- Ochrona dostępu do danych - różne obszary i poziomy dostępu (prowadzenie kont użytkowników, przydzielanie uprawnień, tworzenie widoków).\n",
    "\n",
    "- Zapewnianie dostępu dla wielu użytkowników i synchronizacja dostępu w przypadku dostępu kooperacyjnego.\n",
    "\n",
    "- Zapewnienie możliwości komunikacji z innymi systemami.\n",
    "\n",
    "- Dostarczenie opisu i dokumentacji (schemat i struktura).\n",
    "\n",
    "- Optymalizacja pracy (minimalizacja czasu dostępu lub obsługi zadań), optymalizacja dostępu dla poszczególnych użytkowników, optymalizacja zarządzania zasobami i organizacją bazy danych."
   ]
  },
  {
   "cell_type": "markdown",
   "metadata": {
    "slideshow": {
     "slide_type": "slide"
    }
   },
   "source": [
    "## Przetwarzanie danych w bazie danych \n",
    "\n",
    "- Wprowadzanie danych,\n",
    "- Zapisywanie i przechowywanie danych,\n",
    "- Wyszukiwanie i prezentacja danych,\n",
    "- Wstawianie i usuwanie danych,\n",
    "- Aktualizacje danych,\n",
    "- Przetwarzanie arytmetyczne, statystyczne, algebraiczne i logiczne,\n",
    "- Operacje oparte na algebrze relacji,\n",
    "- Kodowanie i dekodowanie danych\n"
   ]
  },
  {
   "cell_type": "markdown",
   "metadata": {
    "slideshow": {
     "slide_type": "slide"
    }
   },
   "source": [
    "## SQL (ang. Structured Query Language)\n",
    "\n",
    "- SQL został opracowany w latach 70. w IBM\n",
    "- W 1986 SQL stał się oficjalnym standardem, wspieranym przez Międzynarodową Organizację Normalizacyjną (ISO) \n",
    "- Obecna wersja *SQL:2003*"
   ]
  },
  {
   "cell_type": "markdown",
   "metadata": {
    "slideshow": {
     "slide_type": "subslide"
    }
   },
   "source": [
    "## Składnia SQL\n",
    "\n",
    "- SQL DML (ang. Data Manipulation Language – „język manipulacji danymi”)\n",
    "- sQL DDL (ang. Data Definition Language – „język definicji danych”)\n",
    "- SQL DCL (ang. Data Control Language – „język kontroli nad danymi”)\n",
    "- SQL DQL (ang. Data Query Language – „język definiowania zapytań”)"
   ]
  },
  {
   "cell_type": "markdown",
   "metadata": {
    "slideshow": {
     "slide_type": "subslide"
    }
   },
   "source": [
    "## DML (Data Manipulation Language)\n",
    "\n",
    "- INSERT – umieszczenie danych w bazie,\n",
    "- UPDATE – zmiana danych,\n",
    "- DELETE – usunięcie danych z bazy.\n"
   ]
  },
  {
   "cell_type": "markdown",
   "metadata": {
    "slideshow": {
     "slide_type": "subslide"
    }
   },
   "source": [
    "```sql\n",
    "INSERT INTO table_name (column1, column2, column3, ...)\n",
    "VALUES (value1, value2, value3, ...); \n",
    "```\n",
    "\n",
    "```sql\n",
    "UPDATE table_name\n",
    "SET column1 = value1, column2 = value2, ...\n",
    "WHERE condition;\n",
    "```\n",
    "\n",
    "```sql\n",
    "DELETE FROM table_name WHERE condition; \n",
    "```\n"
   ]
  },
  {
   "cell_type": "markdown",
   "metadata": {
    "slideshow": {
     "slide_type": "subslide"
    }
   },
   "source": [
    "## DDL (Data Definition Language)\n",
    "\n",
    "- CREATE (np. CREATE TABLE, CREATE DATABASE, ...) – utworzenie struktury (bazy, tabeli, indeksu itp.),\n",
    "- DROP (np. DROP TABLE, DROP DATABASE, ...) – usunięcie struktury,\n",
    "- ALTER (np. ALTER TABLE ADD COLUMN ...) – zmiana struktury (dodanie kolumny do tabeli, zmiana typu danych w kolumnie tabeli)."
   ]
  },
  {
   "cell_type": "markdown",
   "metadata": {
    "slideshow": {
     "slide_type": "subslide"
    }
   },
   "source": [
    "## DCL (Data Control Language) \n",
    "\n",
    "- GRANT (np. GRANT ALL PRIVILEGES ON STATS TO WALDEK WITH GRANT OPTION).\n",
    "- REVOKE (np. REVOKE ALL PRIVILEGES ON STAT FROM WALDEK).\n",
    "- DENY (np. DENY CREATE TABLE, CREATE PROCEDURE TO WALDEK)"
   ]
  },
  {
   "cell_type": "markdown",
   "metadata": {
    "slideshow": {
     "slide_type": "subslide"
    }
   },
   "source": [
    "## DQL (Data Query Language)\n",
    "\n",
    "- język formułowania zapytań do bazy danych\n",
    "- jedynym poleceniem tej składni języka jest __SELECT__\n",
    "- podstawowa składnia:\n",
    "\n",
    "```sql\n",
    "SELECT column1, column2, ...\n",
    "FROM table_name\n",
    "```"
   ]
  },
  {
   "cell_type": "markdown",
   "metadata": {
    "slideshow": {
     "slide_type": "subslide"
    }
   },
   "source": [
    "## SELECT w PostgreSQL\n",
    "\n",
    "```sql\n",
    "[ WITH [ RECURSIVE ] with_query [, ...] ]\n",
    "SELECT [ ALL | DISTINCT [ ON ( expression [, ...] ) ] ]\n",
    "    [ * | expression [ [ AS ] output_name ] [, ...] ]\n",
    "    [ FROM from_item [, ...] ]\n",
    "    [ WHERE condition ]\n",
    "    [ GROUP BY grouping_element [, ...] ]\n",
    "    [ HAVING condition ]\n",
    "    [ WINDOW window_name AS ( window_definition ) [, ...] ]\n",
    "    [ { UNION | INTERSECT | EXCEPT } [ ALL | DISTINCT ] select ]\n",
    "    [ ORDER BY expression [ ASC | DESC | USING operator ] [ NULLS { FIRST | LAST } ] [, ...] ]\n",
    "    [ LIMIT { count | ALL } ]\n",
    "    [ OFFSET start [ ROW | ROWS ] ]\n",
    "    [ FETCH { FIRST | NEXT } [ count ] { ROW | ROWS } ONLY ]\n",
    "    [ FOR { UPDATE | NO KEY UPDATE | SHARE | KEY SHARE } [ OF table_name [, ...] ] [ NOWAIT | SKIP LOCKED ] [...] ]\n",
    "\n",
    "where from_item can be one of:\n",
    "\n",
    "    [ ONLY ] table_name [ * ] [ [ AS ] alias [ ( column_alias [, ...] ) ] ]\n",
    "                [ TABLESAMPLE sampling_method ( argument [, ...] ) [ REPEATABLE ( seed ) ] ]\n",
    "    [ LATERAL ] ( select ) [ AS ] alias [ ( column_alias [, ...] ) ]\n",
    "    with_query_name [ [ AS ] alias [ ( column_alias [, ...] ) ] ]\n",
    "    [ LATERAL ] function_name ( [ argument [, ...] ] )\n",
    "                [ WITH ORDINALITY ] [ [ AS ] alias [ ( column_alias [, ...] ) ] ]\n",
    "    [ LATERAL ] function_name ( [ argument [, ...] ] ) [ AS ] alias ( column_definition [, ...] )\n",
    "    [ LATERAL ] function_name ( [ argument [, ...] ] ) AS ( column_definition [, ...] )\n",
    "    [ LATERAL ] ROWS FROM( function_name ( [ argument [, ...] ] ) [ AS ( column_definition [, ...] ) ] [, ...] )\n",
    "                [ WITH ORDINALITY ] [ [ AS ] alias [ ( column_alias [, ...] ) ] ]\n",
    "    from_item [ NATURAL ] join_type from_item [ ON join_condition | USING ( join_column [, ...] ) ]\n",
    "\n",
    "and grouping_element can be one of:\n",
    "\n",
    "    ( )\n",
    "    expression\n",
    "    ( expression [, ...] )\n",
    "    ROLLUP ( { expression | ( expression [, ...] ) } [, ...] )\n",
    "    CUBE ( { expression | ( expression [, ...] ) } [, ...] )\n",
    "    GROUPING SETS ( grouping_element [, ...] )\n",
    "\n",
    "and with_query is:\n",
    "\n",
    "    with_query_name [ ( column_name [, ...] ) ] AS ( select | values | insert | update | delete )\n",
    "\n",
    "TABLE [ ONLY ] table_name [ * ]\n",
    "```"
   ]
  }
 ],
 "metadata": {
  "celltoolbar": "Slideshow",
  "kernelspec": {
   "display_name": "Python 3",
   "language": "python",
   "name": "python3"
  },
  "language_info": {
   "codemirror_mode": {
    "name": "ipython",
    "version": 3
   },
   "file_extension": ".py",
   "mimetype": "text/x-python",
   "name": "python",
   "nbconvert_exporter": "python",
   "pygments_lexer": "ipython3",
   "version": "3.7.6"
  }
 },
 "nbformat": 4,
 "nbformat_minor": 2
}
