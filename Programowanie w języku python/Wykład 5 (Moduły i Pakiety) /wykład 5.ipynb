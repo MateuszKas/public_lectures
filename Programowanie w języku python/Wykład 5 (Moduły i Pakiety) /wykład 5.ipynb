{
 "cells": [
  {
   "cell_type": "markdown",
   "metadata": {
    "collapsed": true,
    "slideshow": {
     "slide_type": "slide"
    }
   },
   "source": [
    "# Programowanie w języku Python\n",
    "\n",
    "## Moduły i pakiety\n",
    "\n",
    "### dr inż. Waldemar Bauer"
   ]
  },
  {
   "cell_type": "markdown",
   "metadata": {
    "slideshow": {
     "slide_type": "slide"
    }
   },
   "source": [
    "## Moduły\n",
    "\n",
    "- W Pythonie moduł to każdy plik z rozszerzeniem __.py__ zawierający kod programu.\n",
    "- Pod [linkiem](https://docs.python.org/3.9/py-modindex.html) znajduje się spis standardowych bibliotek Pythona.\n",
    "- Do używania kodu z modułów w programie używamy _import_"
   ]
  },
  {
   "cell_type": "markdown",
   "metadata": {
    "slideshow": {
     "slide_type": "subslide"
    }
   },
   "source": [
    "## modul.py\n",
    "\n",
    "- Moduł przykładowy znajdujący się w tym samym folderze \n",
    "- Zawiera definicję:\n",
    "    - dwóch zmiennych \n",
    "    - dwóch funkcji"
   ]
  },
  {
   "cell_type": "markdown",
   "metadata": {
    "slideshow": {
     "slide_type": "subslide"
    }
   },
   "source": [
    "## Import modułów\n",
    "\n",
    "- Wczytanie całego modułu dokonujemy wedłóg następującego schematu:\n",
    "```python\n",
    "import scieżka_pakietu [as alias]\n",
    "```\n",
    "- Wczytanie wybranych elementów modułu jest możliwe poprzez:\n",
    "```python\n",
    "from scieżka_pakietu import nazwa_elementu\n",
    "```"
   ]
  },
  {
   "cell_type": "markdown",
   "metadata": {
    "slideshow": {
     "slide_type": "subslide"
    }
   },
   "source": [
    "## Przykład importu własnego modułu\n"
   ]
  },
  {
   "cell_type": "code",
   "execution_count": 1,
   "metadata": {
    "slideshow": {
     "slide_type": "fragment"
    }
   },
   "outputs": [
    {
     "name": "stdout",
     "output_type": "stream",
     "text": [
      "10\n"
     ]
    }
   ],
   "source": [
    "import modul\n",
    "\n",
    "print(modul.my_int_variable)"
   ]
  },
  {
   "cell_type": "code",
   "execution_count": 2,
   "metadata": {
    "slideshow": {
     "slide_type": "fragment"
    }
   },
   "outputs": [
    {
     "name": "stdout",
     "output_type": "stream",
     "text": [
      "20\n"
     ]
    }
   ],
   "source": [
    "print(modul.add(10,10))"
   ]
  },
  {
   "cell_type": "markdown",
   "metadata": {
    "slideshow": {
     "slide_type": "subslide"
    }
   },
   "source": [
    "## Import modułu z aliasem"
   ]
  },
  {
   "cell_type": "code",
   "execution_count": 5,
   "metadata": {
    "slideshow": {
     "slide_type": "fragment"
    }
   },
   "outputs": [
    {
     "name": "stdout",
     "output_type": "stream",
     "text": [
      "[10, 1, 2, 3]\n"
     ]
    }
   ],
   "source": [
    "import modul as m\n",
    "\n",
    "print(m.my_list_variable)"
   ]
  },
  {
   "cell_type": "code",
   "execution_count": 5,
   "metadata": {
    "slideshow": {
     "slide_type": "fragment"
    }
   },
   "outputs": [
    {
     "name": "stdout",
     "output_type": "stream",
     "text": [
      "0\n"
     ]
    }
   ],
   "source": [
    "print(m.dif(10,10))"
   ]
  },
  {
   "cell_type": "markdown",
   "metadata": {
    "slideshow": {
     "slide_type": "subslide"
    }
   },
   "source": [
    "## Import wybranych elementów z modułu"
   ]
  },
  {
   "cell_type": "code",
   "execution_count": 1,
   "metadata": {
    "slideshow": {
     "slide_type": "fragment"
    }
   },
   "outputs": [
    {
     "name": "stdout",
     "output_type": "stream",
     "text": [
      "[10, 1, 2, 3]\n"
     ]
    }
   ],
   "source": [
    "from modul import my_list_variable, add\n",
    "\n",
    "print(my_list_variable)\n"
   ]
  },
  {
   "cell_type": "code",
   "execution_count": 3,
   "metadata": {
    "slideshow": {
     "slide_type": "fragment"
    }
   },
   "outputs": [
    {
     "name": "stdout",
     "output_type": "stream",
     "text": [
      "6\n"
     ]
    },
    {
     "ename": "NameError",
     "evalue": "name 'diff' is not defined",
     "output_type": "error",
     "traceback": [
      "\u001b[0;31m---------------------------------------------------------------------------\u001b[0m",
      "\u001b[0;31mNameError\u001b[0m                                 Traceback (most recent call last)",
      "Input \u001b[0;32mIn [3]\u001b[0m, in \u001b[0;36m<cell line: 3>\u001b[0;34m()\u001b[0m\n\u001b[1;32m      1\u001b[0m \u001b[38;5;28mprint\u001b[39m(add(\u001b[38;5;241m3\u001b[39m,\u001b[38;5;241m3\u001b[39m))\n\u001b[0;32m----> 3\u001b[0m \u001b[38;5;28mprint\u001b[39m(\u001b[43mdiff\u001b[49m(\u001b[38;5;241m3\u001b[39m,\u001b[38;5;241m3\u001b[39m))\n",
      "\u001b[0;31mNameError\u001b[0m: name 'diff' is not defined"
     ]
    }
   ],
   "source": [
    "print(add(3,3))\n",
    "\n",
    "print(diff(3,3))"
   ]
  },
  {
   "cell_type": "markdown",
   "metadata": {
    "slideshow": {
     "slide_type": "subslide"
    }
   },
   "source": [
    "## Biblioteki standardowe\n",
    "\n",
    "- Zbiór modułów Python umożliwiające rozszerzenie podstawowych funkcjonalności.\n",
    "- Instalują się wraz z Pythonem.\n",
    "- Przykładowe biblioteki wraz z zastosowaniem:\n",
    "    - math - funkcje i stałe matematyczne,\n",
    "    - os - interfejsy dla różnych systemów operacyjnych,\n",
    "    - random - generator liczb losowych,\n",
    "    - datetime - podstawowy formaty czasu i daty,\n",
    "    - venv - tworzenie wirtualnych środowisk\n",
    "    "
   ]
  },
  {
   "cell_type": "markdown",
   "metadata": {
    "slideshow": {
     "slide_type": "subslide"
    }
   },
   "source": [
    "## Import biblotek standardowych"
   ]
  },
  {
   "cell_type": "code",
   "execution_count": 4,
   "metadata": {
    "slideshow": {
     "slide_type": "fragment"
    }
   },
   "outputs": [
    {
     "name": "stdout",
     "output_type": "stream",
     "text": [
      "3.141592653589793\n"
     ]
    }
   ],
   "source": [
    "import math\n",
    "\n",
    "print(math.pi)"
   ]
  },
  {
   "cell_type": "markdown",
   "metadata": {
    "slideshow": {
     "slide_type": "subslide"
    }
   },
   "source": [
    "## Przeglądanie modułów\n",
    "\n",
    "- Do zapoznania się z funkcjonalnością modułów podstawowych służy dokumentacja [Pythona](https://docs.python.org/3/)\n",
    "- Możliwe jest przeglądanie zawartości modułu za pomocą funkcji _dir()_ i _help()_"
   ]
  },
  {
   "cell_type": "markdown",
   "metadata": {
    "slideshow": {
     "slide_type": "subslide"
    }
   },
   "source": [
    "## Przykład użycia dir i help"
   ]
  },
  {
   "cell_type": "code",
   "execution_count": 7,
   "metadata": {
    "slideshow": {
     "slide_type": "fragment"
    }
   },
   "outputs": [
    {
     "name": "stdout",
     "output_type": "stream",
     "text": [
      "['__doc__', '__file__', '__loader__', '__name__', '__package__', '__spec__', 'acos', 'acosh', 'asin', 'asinh', 'atan', 'atan2', 'atanh', 'ceil', 'comb', 'copysign', 'cos', 'cosh', 'degrees', 'dist', 'e', 'erf', 'erfc', 'exp', 'expm1', 'fabs', 'factorial', 'floor', 'fmod', 'frexp', 'fsum', 'gamma', 'gcd', 'hypot', 'inf', 'isclose', 'isfinite', 'isinf', 'isnan', 'isqrt', 'lcm', 'ldexp', 'lgamma', 'log', 'log10', 'log1p', 'log2', 'modf', 'nan', 'nextafter', 'perm', 'pi', 'pow', 'prod', 'radians', 'remainder', 'sin', 'sinh', 'sqrt', 'tan', 'tanh', 'tau', 'trunc', 'ulp']\n"
     ]
    }
   ],
   "source": [
    "print(dir(math))"
   ]
  },
  {
   "cell_type": "code",
   "execution_count": 8,
   "metadata": {
    "slideshow": {
     "slide_type": "fragment"
    }
   },
   "outputs": [
    {
     "name": "stdout",
     "output_type": "stream",
     "text": [
      "Help on built-in function sin in module math:\n",
      "\n",
      "sin(x, /)\n",
      "    Return the sine of x (measured in radians).\n",
      "\n"
     ]
    }
   ],
   "source": [
    "help(math.sin)"
   ]
  },
  {
   "cell_type": "markdown",
   "metadata": {
    "slideshow": {
     "slide_type": "slide"
    }
   },
   "source": [
    "## Złe praktyki w importowaniu\n",
    "\n",
    "- Importowanie nie używanych w programie bibliotek \n",
    "- Używanie w strukturze import symbolu __*__"
   ]
  },
  {
   "cell_type": "code",
   "execution_count": 1,
   "metadata": {
    "slideshow": {
     "slide_type": "fragment"
    }
   },
   "outputs": [],
   "source": [
    "import os\n",
    "from math import *\n",
    "from modul import *"
   ]
  },
  {
   "cell_type": "code",
   "execution_count": 2,
   "metadata": {
    "slideshow": {
     "slide_type": "fragment"
    }
   },
   "outputs": [
    {
     "data": {
      "text/plain": [
       "3.14"
      ]
     },
     "execution_count": 2,
     "metadata": {},
     "output_type": "execute_result"
    }
   ],
   "source": [
    "pi"
   ]
  },
  {
   "cell_type": "code",
   "execution_count": 6,
   "metadata": {
    "slideshow": {
     "slide_type": "fragment"
    }
   },
   "outputs": [
    {
     "name": "stdout",
     "output_type": "stream",
     "text": [
      "7\n"
     ]
    }
   ],
   "source": [
    "sin(7)"
   ]
  },
  {
   "cell_type": "code",
   "execution_count": 7,
   "metadata": {
    "slideshow": {
     "slide_type": "fragment"
    }
   },
   "outputs": [
    {
     "ename": "NameError",
     "evalue": "name 'math' is not defined",
     "output_type": "error",
     "traceback": [
      "\u001b[0;31m---------------------------------------------------------------------------\u001b[0m",
      "\u001b[0;31mNameError\u001b[0m                                 Traceback (most recent call last)",
      "Input \u001b[0;32mIn [7]\u001b[0m, in \u001b[0;36m<cell line: 1>\u001b[0;34m()\u001b[0m\n\u001b[0;32m----> 1\u001b[0m \u001b[43mmath\u001b[49m\u001b[38;5;241m.\u001b[39mpi\n",
      "\u001b[0;31mNameError\u001b[0m: name 'math' is not defined"
     ]
    }
   ],
   "source": [
    "math.pi"
   ]
  },
  {
   "cell_type": "markdown",
   "metadata": {
    "slideshow": {
     "slide_type": "slide"
    }
   },
   "source": [
    "## Pakiety \n",
    "\n",
    "- Pakiety to w zasadzie sposób organizowania kodu z modułami za pomocą folderów.\n",
    "- Pakiet jest zatem 'pojemnikiem' na wiele modułów.\n",
    "- Projekty za zwyczaj zasierają wiele modułów dla czytelności najlepeij organozować je w foldery.\n",
    "- Pozwala to na zwiększenie czytelnosci kodu.\n",
    "- Nazw pakietów powinny być zanczące a moduły w nich zawarte powinny tworzyć logiczną całość."
   ]
  },
  {
   "cell_type": "markdown",
   "metadata": {
    "slideshow": {
     "slide_type": "subslide"
    }
   },
   "source": [
    "## Przykład wczytania pakietu własnego"
   ]
  },
  {
   "cell_type": "code",
   "execution_count": 8,
   "metadata": {
    "slideshow": {
     "slide_type": "fragment"
    }
   },
   "outputs": [
    {
     "data": {
      "text/plain": [
       "10"
      ]
     },
     "execution_count": 8,
     "metadata": {},
     "output_type": "execute_result"
    }
   ],
   "source": [
    "import pakiet.modul_pakiet as pmp\n",
    "\n",
    "print(pmp.pakiet_var)"
   ]
  },
  {
   "cell_type": "code",
   "execution_count": 9,
   "metadata": {
    "slideshow": {
     "slide_type": "fragment"
    }
   },
   "outputs": [
    {
     "name": "stdout",
     "output_type": "stream",
     "text": [
      "30\n"
     ]
    }
   ],
   "source": [
    "print(pmp.add(10,10,10))"
   ]
  },
  {
   "cell_type": "markdown",
   "metadata": {
    "slideshow": {
     "slide_type": "slide"
    }
   },
   "source": [
    "## Zarządzanie pakietami biblotecznymi\n",
    "\n",
    "- Pakiety biblioteczne to takie które można zainstalować przez menagera pakieów.\n",
    "- Pakiety te tworzone są według ściśle określonych zasad, ale na tym wykładzie nie będziemy poruszać tego tematu.\n",
    "- Zarządzanie pakietami odbywa się przez menagera pakietów __pip__ (od wersji Python 3.4 jest domyślnym menagerem).\n",
    "- Spis wszystkich dostępnych biblotek dostępny jest na stronie https://pypi.org/project/pip/  "
   ]
  },
  {
   "cell_type": "markdown",
   "metadata": {
    "slideshow": {
     "slide_type": "subslide"
    }
   },
   "source": [
    "## Podstawowe wywołanie pip\n",
    "\n",
    "- pip działa jako samodzielny program w konsoli \n",
    "```cmd\n",
    "pip <argumenty>\n",
    "```\n",
    "-lub jako skrypt pythona w konsoli\n",
    "```cmd\n",
    "python -m pip <argumenty>\n",
    "```"
   ]
  },
  {
   "cell_type": "markdown",
   "metadata": {
    "slideshow": {
     "slide_type": "subslide"
    }
   },
   "source": [
    "## Podstawy używania pip"
   ]
  },
  {
   "cell_type": "code",
   "execution_count": 12,
   "metadata": {
    "slideshow": {
     "slide_type": "fragment"
    }
   },
   "outputs": [
    {
     "name": "stdout",
     "output_type": "stream",
     "text": [
      "pip 21.2.4 from /Users/waldemarbauer/opt/anaconda3/lib/python3.9/site-packages/pip (python 3.9)\n",
      "Note: you may need to restart the kernel to use updated packages.\n"
     ]
    }
   ],
   "source": [
    "#sprawdzenie wersji pip\n",
    "pip --version"
   ]
  },
  {
   "cell_type": "code",
   "execution_count": 14,
   "metadata": {
    "slideshow": {
     "slide_type": "fragment"
    }
   },
   "outputs": [
    {
     "name": "stdout",
     "output_type": "stream",
     "text": [
      "Requirement already satisfied: numpy in /Users/waldemarbauer/opt/anaconda3/lib/python3.9/site-packages (1.21.5)\n",
      "Note: you may need to restart the kernel to use updated packages.\n"
     ]
    }
   ],
   "source": [
    "# instalacja jednego pakietu\n",
    "pip install numpy"
   ]
  },
  {
   "cell_type": "code",
   "execution_count": 21,
   "metadata": {
    "slideshow": {
     "slide_type": "subslide"
    }
   },
   "outputs": [
    {
     "name": "stdout",
     "output_type": "stream",
     "text": [
      "Requirement already satisfied: numpy in /Users/waldemarbauer/opt/anaconda3/lib/python3.9/site-packages (1.21.5)\n",
      "Requirement already satisfied: scipy in /Users/waldemarbauer/opt/anaconda3/lib/python3.9/site-packages (1.7.3)\n",
      "Requirement already satisfied: pandas in /Users/waldemarbauer/opt/anaconda3/lib/python3.9/site-packages (1.5.1)\n",
      "Requirement already satisfied: python-dateutil>=2.8.1 in /Users/waldemarbauer/opt/anaconda3/lib/python3.9/site-packages (from pandas) (2.8.2)\n",
      "Requirement already satisfied: pytz>=2020.1 in /Users/waldemarbauer/opt/anaconda3/lib/python3.9/site-packages (from pandas) (2021.3)\n",
      "Requirement already satisfied: six>=1.5 in /Users/waldemarbauer/opt/anaconda3/lib/python3.9/site-packages (from python-dateutil>=2.8.1->pandas) (1.16.0)\n"
     ]
    }
   ],
   "source": [
    "#instalacja wielu pakietów jednocześnie\n",
    "\n",
    "!pip install numpy scipy pandas"
   ]
  },
  {
   "cell_type": "code",
   "execution_count": null,
   "metadata": {
    "slideshow": {
     "slide_type": "fragment"
    }
   },
   "outputs": [],
   "source": [
    "# odinstalowanie pakietu\n",
    "pip uninstall numpy"
   ]
  },
  {
   "cell_type": "code",
   "execution_count": 24,
   "metadata": {
    "slideshow": {
     "slide_type": "subslide"
    }
   },
   "outputs": [
    {
     "name": "stdout",
     "output_type": "stream",
     "text": [
      "Package                                       Version              Location\r\n",
      "--------------------------------------------- -------------------- ------------------------------------------------------------------------------\r\n",
      "absl-py                                       1.2.0\r\n",
      "adal                                          1.2.7\r\n",
      "agroutils                                     0.1.0                /Users/waldemarbauer/git/DiseaseModelsCalculation/TIER/Command files/agroutils\r\n",
      "aiohttp                                       3.8.1\r\n",
      "aiosignal                                     1.2.0\r\n",
      "alabaster                                     0.7.12\r\n",
      "anaconda-client                               1.9.0\r\n",
      "anaconda-navigator                            2.1.4\r\n",
      "anaconda-project                              0.10.2\r\n",
      "anyio                                         3.5.0\r\n",
      "appdirs                                       1.4.4\r\n",
      "applaunchservices                             0.2.1\r\n",
      "appnope                                       0.1.2\r\n",
      "appscript                                     1.1.2\r\n",
      "argh                                          0.26.2\r\n",
      "argon2-cffi                                   21.3.0\r\n",
      "argon2-cffi-bindings                          21.2.0\r\n",
      "arrow                                         1.2.2\r\n",
      "arviz                                         0.12.1\r\n",
      "astroid                                       2.6.6\r\n",
      "astropy                                       5.0.4\r\n",
      "asttokens                                     2.0.5\r\n",
      "astunparse                                    1.6.3\r\n",
      "async-timeout                                 4.0.1\r\n",
      "atomicwrites                                  1.4.0\r\n",
      "attrs                                         21.4.0\r\n",
      "Automat                                       20.2.0\r\n",
      "autopep8                                      1.6.0\r\n",
      "azure                                         4.0.0\r\n",
      "azure-applicationinsights                     0.1.1\r\n",
      "azure-batch                                   4.1.3\r\n",
      "azure-cognitiveservices-vision-computervision 0.9.0\r\n",
      "azure-common                                  1.1.28\r\n",
      "azure-core                                    1.25.1\r\n",
      "azure-cosmos                                  4.3.0\r\n",
      "azure-cosmosdb-nspkg                          2.0.2\r\n",
      "azure-cosmosdb-table                          1.0.6\r\n",
      "azure-datalake-store                          0.0.52\r\n",
      "azure-eventgrid                               1.3.0\r\n",
      "azure-graphrbac                               0.40.0\r\n",
      "azure-keyvault                                1.1.0\r\n",
      "azure-loganalytics                            0.1.1\r\n",
      "azure-mgmt                                    4.0.0\r\n",
      "azure-mgmt-advisor                            1.0.1\r\n",
      "azure-mgmt-applicationinsights                0.1.1\r\n",
      "azure-mgmt-authorization                      0.50.0\r\n",
      "azure-mgmt-batch                              5.0.1\r\n",
      "azure-mgmt-batchai                            2.0.0\r\n",
      "azure-mgmt-billing                            0.2.0\r\n",
      "azure-mgmt-cdn                                3.1.0\r\n",
      "azure-mgmt-cognitiveservices                  3.0.0\r\n",
      "azure-mgmt-commerce                           1.0.1\r\n",
      "azure-mgmt-compute                            4.6.2\r\n",
      "azure-mgmt-consumption                        2.0.0\r\n",
      "azure-mgmt-containerinstance                  1.5.0\r\n",
      "azure-mgmt-containerregistry                  2.8.0\r\n",
      "azure-mgmt-containerservice                   4.4.0\r\n",
      "azure-mgmt-cosmosdb                           0.4.1\r\n",
      "azure-mgmt-datafactory                        0.6.0\r\n",
      "azure-mgmt-datalake-analytics                 0.6.0\r\n",
      "azure-mgmt-datalake-nspkg                     3.0.1\r\n",
      "azure-mgmt-datalake-store                     0.5.0\r\n",
      "azure-mgmt-datamigration                      1.0.0\r\n",
      "azure-mgmt-devspaces                          0.1.0\r\n",
      "azure-mgmt-devtestlabs                        2.2.0\r\n",
      "azure-mgmt-dns                                2.1.0\r\n",
      "azure-mgmt-eventgrid                          1.0.0\r\n",
      "azure-mgmt-eventhub                           2.6.0\r\n",
      "azure-mgmt-hanaonazure                        0.1.1\r\n",
      "azure-mgmt-iotcentral                         0.1.0\r\n",
      "azure-mgmt-iothub                             0.5.0\r\n",
      "azure-mgmt-iothubprovisioningservices         0.2.0\r\n",
      "azure-mgmt-keyvault                           1.1.0\r\n",
      "azure-mgmt-loganalytics                       0.2.0\r\n",
      "azure-mgmt-logic                              3.0.0\r\n",
      "azure-mgmt-machinelearningcompute             0.4.1\r\n",
      "azure-mgmt-managementgroups                   0.1.0\r\n",
      "azure-mgmt-managementpartner                  0.1.1\r\n",
      "azure-mgmt-maps                               0.1.0\r\n",
      "azure-mgmt-marketplaceordering                0.1.0\r\n",
      "azure-mgmt-media                              1.0.1\r\n",
      "azure-mgmt-monitor                            0.5.2\r\n",
      "azure-mgmt-msi                                0.2.0\r\n",
      "azure-mgmt-network                            2.7.0\r\n",
      "azure-mgmt-notificationhubs                   2.1.0\r\n",
      "azure-mgmt-nspkg                              3.0.2\r\n",
      "azure-mgmt-policyinsights                     0.1.0\r\n",
      "azure-mgmt-powerbiembedded                    2.0.0\r\n",
      "azure-mgmt-rdbms                              1.9.0\r\n",
      "azure-mgmt-recoveryservices                   0.3.0\r\n",
      "azure-mgmt-recoveryservicesbackup             0.3.0\r\n",
      "azure-mgmt-redis                              5.0.0\r\n",
      "azure-mgmt-relay                              0.1.0\r\n",
      "azure-mgmt-reservations                       0.2.1\r\n",
      "azure-mgmt-resource                           2.2.0\r\n",
      "azure-mgmt-scheduler                          2.0.0\r\n",
      "azure-mgmt-search                             2.1.0\r\n",
      "azure-mgmt-servicebus                         0.5.3\r\n",
      "azure-mgmt-servicefabric                      0.2.0\r\n",
      "azure-mgmt-signalr                            0.1.1\r\n",
      "azure-mgmt-sql                                0.9.1\r\n",
      "azure-mgmt-storage                            2.0.0\r\n",
      "azure-mgmt-subscription                       0.2.0\r\n",
      "azure-mgmt-trafficmanager                     0.50.0\r\n",
      "azure-mgmt-web                                0.35.0\r\n",
      "azure-nspkg                                   3.0.2\r\n",
      "azure-servicebus                              0.21.1\r\n",
      "azure-servicefabric                           6.3.0.0\r\n",
      "azure-servicemanagement-legacy                0.20.7\r\n",
      "azure-storage-blob                            1.5.0\r\n",
      "azure-storage-common                          1.4.2\r\n",
      "azure-storage-file                            1.4.0\r\n",
      "azure-storage-queue                           1.4.0\r\n",
      "Babel                                         2.9.1\r\n",
      "backcall                                      0.2.0\r\n",
      "backports.functools-lru-cache                 1.6.4\r\n",
      "backports.tempfile                            1.0\r\n",
      "backports.weakref                             1.0.post1\r\n",
      "bcrypt                                        3.2.0\r\n",
      "beautifulsoup4                                4.11.1\r\n",
      "binaryornot                                   0.4.4\r\n",
      "bitarray                                      2.4.1\r\n",
      "bkcharts                                      0.2\r\n",
      "black                                         19.10b0\r\n",
      "bleach                                        4.1.0\r\n",
      "bokeh                                         2.4.2\r\n",
      "boto3                                         1.21.32\r\n",
      "botocore                                      1.24.32\r\n",
      "Bottleneck                                    1.3.4\r\n",
      "brotlipy                                      0.7.0\r\n",
      "bump2version                                  0.5.11\r\n",
      "cachetools                                    4.2.2\r\n",
      "certifi                                       2021.10.8\r\n",
      "cffi                                          1.15.0\r\n",
      "cftime                                        1.6.0\r\n",
      "chardet                                       4.0.0\r\n",
      "charset-normalizer                            2.0.4\r\n",
      "click                                         8.0.4\r\n",
      "cloudpickle                                   2.0.0\r\n",
      "clyent                                        1.2.2\r\n",
      "cmdstanpy                                     1.0.1\r\n",
      "colorama                                      0.4.4\r\n",
      "colorcet                                      2.0.6\r\n",
      "conda                                         22.9.0\r\n",
      "conda-build                                   3.21.8\r\n",
      "conda-content-trust                           0+unknown\r\n",
      "conda-pack                                    0.6.0\r\n",
      "conda-package-handling                        1.8.1\r\n",
      "conda-repo-cli                                1.0.4\r\n",
      "conda-token                                   0.3.0\r\n",
      "conda-verify                                  3.4.2\r\n",
      "constantly                                    15.1.0\r\n",
      "cookiecutter                                  1.7.3\r\n",
      "coverage                                      4.5.4\r\n",
      "cryptography                                  3.4.8\r\n",
      "cssselect                                     1.1.0\r\n",
      "cycler                                        0.11.0\r\n",
      "Cython                                        0.29.28\r\n",
      "cytoolz                                       0.11.0\r\n",
      "daal4py                                       2021.5.0\r\n",
      "dask                                          2022.2.1\r\n",
      "datashader                                    0.13.0\r\n",
      "datashape                                     0.5.4\r\n",
      "debugpy                                       1.5.1\r\n",
      "decorator                                     5.1.1\r\n",
      "defusedxml                                    0.7.1\r\n",
      "deprecat                                      2.1.1\r\n",
      "diff-match-patch                              20200713\r\n",
      "dill                                          0.3.6\r\n",
      "disease-prediction                            0.1.0                /Users/waldemarbauer/git/DiseaseModelsCalculation/dev/disease_prediction\r\n",
      "distlib                                       0.3.6\r\n",
      "distributed                                   2022.2.1\r\n",
      "docutils                                      0.17.1\r\n",
      "entrypoints                                   0.3\r\n",
      "et-xmlfile                                    1.1.0\r\n",
      "executing                                     0.8.3\r\n",
      "fastjsonschema                                2.15.1\r\n",
      "fastprogress                                  1.0.3\r\n",
      "filelock                                      3.6.0\r\n",
      "flake8                                        3.7.8\r\n",
      "Flask                                         1.1.2\r\n",
      "flatbuffers                                   2.0.7\r\n",
      "fonttools                                     4.25.0\r\n",
      "frozenlist                                    1.2.0\r\n",
      "fsspec                                        2022.2.0\r\n",
      "future                                        0.18.2\r\n",
      "gast                                          0.4.0\r\n",
      "gensim                                        4.1.2\r\n",
      "glob2                                         0.7\r\n",
      "gmpy2                                         2.1.2\r\n",
      "google-api-core                               1.25.1\r\n",
      "google-auth                                   1.33.0\r\n",
      "google-auth-oauthlib                          0.4.6\r\n",
      "google-cloud-core                             1.7.1\r\n",
      "google-cloud-storage                          1.31.0\r\n",
      "google-crc32c                                 1.1.2\r\n",
      "google-pasta                                  0.2.0\r\n",
      "google-resumable-media                        1.3.1\r\n",
      "googleapis-common-protos                      1.53.0\r\n",
      "greenlet                                      1.1.1\r\n",
      "grpcio                                        1.42.0\r\n",
      "h5py                                          3.6.0\r\n",
      "HeapDict                                      1.0.1\r\n",
      "holoviews                                     1.14.8\r\n",
      "hvplot                                        0.7.3\r\n",
      "hyperlink                                     21.0.0\r\n",
      "idna                                          3.3\r\n",
      "imagecodecs                                   2021.8.26\r\n",
      "imageio                                       2.9.0\r\n",
      "imagesize                                     1.3.0\r\n",
      "importlib-metadata                            4.11.3\r\n",
      "incremental                                   21.3.0\r\n",
      "inflection                                    0.5.1\r\n",
      "iniconfig                                     1.1.1\r\n",
      "intake                                        0.6.5\r\n",
      "intervaltree                                  3.1.0\r\n",
      "ipykernel                                     6.9.1\r\n",
      "ipython                                       8.2.0\r\n",
      "ipython-genutils                              0.2.0\r\n",
      "ipywidgets                                    7.6.5\r\n",
      "isodate                                       0.6.1\r\n",
      "isort                                         5.9.3\r\n",
      "itemadapter                                   0.3.0\r\n",
      "itemloaders                                   1.0.4\r\n",
      "itsdangerous                                  2.0.1\r\n",
      "jdcal                                         1.4.1\r\n",
      "jedi                                          0.18.1\r\n",
      "Jinja2                                        3.1.2\r\n",
      "jinja2-time                                   0.2.0\r\n",
      "jmespath                                      0.10.0\r\n",
      "joblib                                        1.1.0\r\n",
      "json5                                         0.9.6\r\n",
      "jsonschema                                    4.4.0\r\n",
      "jupyter                                       1.0.0\r\n",
      "jupyter-client                                6.1.12\r\n",
      "jupyter-console                               6.4.0\r\n",
      "jupyter-core                                  4.9.2\r\n",
      "jupyter-server                                1.13.5\r\n",
      "jupyterlab                                    3.3.2\r\n",
      "jupyterlab-pygments                           0.1.2\r\n",
      "jupyterlab-server                             2.10.3\r\n",
      "jupyterlab-widgets                            1.0.0\r\n",
      "keras                                         2.10.0\r\n",
      "Keras-Preprocessing                           1.1.2\r\n",
      "keyring                                       23.4.0\r\n",
      "kiwisolver                                    1.3.2\r\n",
      "lazy-object-proxy                             1.6.0\r\n",
      "libarchive-c                                  2.9\r\n",
      "libclang                                      14.0.6\r\n",
      "llvmlite                                      0.38.0\r\n",
      "locket                                        0.2.1\r\n",
      "lxml                                          4.8.0\r\n",
      "Markdown                                      3.3.4\r\n",
      "MarkupSafe                                    2.0.1\r\n",
      "matplotlib                                    3.5.1\r\n",
      "matplotlib-inline                             0.1.2\r\n",
      "mccabe                                        0.6.1\r\n",
      "mistune                                       0.8.4\r\n",
      "mkl-fft                                       1.3.1\r\n",
      "mkl-random                                    1.2.2\r\n",
      "mkl-service                                   2.4.0\r\n",
      "mock                                          4.0.3\r\n",
      "mpmath                                        1.2.1\r\n",
      "msgpack                                       1.0.2\r\n",
      "msrest                                        0.7.1\r\n",
      "msrestazure                                   0.6.4\r\n",
      "multidict                                     5.2.0\r\n",
      "multipledispatch                              0.6.0\r\n",
      "munkres                                       1.1.4\r\n",
      "mypy-extensions                               0.4.3\r\n",
      "mysql-connector-python                        8.0.31\r\n",
      "mysqlclient                                   2.1.1\r\n",
      "navigator-updater                             0.2.1\r\n",
      "nbclassic                                     0.3.5\r\n",
      "nbclient                                      0.5.13\r\n",
      "nbconvert                                     6.4.4\r\n",
      "nbformat                                      5.3.0\r\n",
      "nest-asyncio                                  1.5.5\r\n",
      "netCDF4                                       1.5.8\r\n",
      "networkx                                      2.7.1\r\n",
      "nltk                                          3.7\r\n",
      "nose                                          1.3.7\r\n",
      "notebook                                      6.4.8\r\n",
      "numba                                         0.55.1\r\n",
      "numexpr                                       2.8.1\r\n",
      "numpy                                         1.21.5\r\n",
      "numpydoc                                      1.2\r\n",
      "oauthlib                                      3.2.0\r\n",
      "olefile                                       0.46\r\n",
      "openpyxl                                      3.0.9\r\n",
      "opt-einsum                                    3.3.0\r\n",
      "packaging                                     21.3\r\n",
      "pandas                                        1.5.1\r\n",
      "pandocfilters                                 1.5.0\r\n",
      "panel                                         0.13.0\r\n",
      "param                                         1.12.0\r\n",
      "parsel                                        1.6.0\r\n",
      "parso                                         0.8.3\r\n",
      "partd                                         1.2.0\r\n",
      "pathspec                                      0.7.0\r\n",
      "pathtools                                     0.1.2\r\n",
      "patsy                                         0.5.2\r\n",
      "pep8                                          1.7.1\r\n",
      "pexpect                                       4.8.0\r\n",
      "pickleshare                                   0.7.5\r\n",
      "Pillow                                        9.0.1\r\n",
      "pip                                           21.2.4\r\n",
      "pkginfo                                       1.8.2\r\n",
      "platformdirs                                  2.5.3\r\n",
      "plotly                                        5.6.0\r\n",
      "pluggy                                        0.13.1\r\n",
      "poyo                                          0.5.0\r\n",
      "prometheus-client                             0.13.1\r\n",
      "prompt-toolkit                                3.0.20\r\n",
      "Protego                                       0.1.16\r\n",
      "protobuf                                      3.19.1\r\n",
      "psutil                                        5.8.0\r\n",
      "ptyprocess                                    0.7.0\r\n",
      "PuLP                                          2.6.0\r\n",
      "pure-eval                                     0.2.2\r\n",
      "py                                            1.11.0\r\n",
      "pyasn1                                        0.4.8\r\n",
      "pyasn1-modules                                0.2.8\r\n",
      "pycodestyle                                   2.5.0\r\n",
      "pycosat                                       0.6.3\r\n",
      "pycparser                                     2.21\r\n",
      "pyct                                          0.4.6\r\n",
      "pycurl                                        7.44.1\r\n",
      "PyDispatcher                                  2.0.5\r\n",
      "pydocstyle                                    6.1.1\r\n",
      "pyerfa                                        2.0.0\r\n",
      "pyflakes                                      2.1.1\r\n",
      "Pygments                                      2.11.2\r\n",
      "PyHamcrest                                    2.0.2\r\n",
      "PyJWT                                         2.1.0\r\n",
      "pylint                                        2.9.6\r\n",
      "pyls-spyder                                   0.4.0\r\n",
      "pymc3                                         3.11.4\r\n",
      "Pyment                                        0.3.3\r\n",
      "PyMySQL                                       1.0.2\r\n",
      "pyodbc                                        4.0.32\r\n",
      "pyOpenSSL                                     21.0.0\r\n",
      "pyparsing                                     3.0.4\r\n",
      "pyrsistent                                    0.18.0\r\n",
      "PySocks                                       1.7.1\r\n",
      "pytest                                        6.2.4\r\n",
      "python-dateutil                               2.8.2\r\n",
      "python-lsp-black                              1.0.0\r\n",
      "python-lsp-jsonrpc                            1.0.0\r\n",
      "python-lsp-server                             1.2.4\r\n",
      "python-slugify                                5.0.2\r\n",
      "python-snappy                                 0.6.0\r\n",
      "pytz                                          2021.3\r\n",
      "pytz-deprecation-shim                         0.1.0.post0\r\n",
      "pyviz-comms                                   2.0.2\r\n",
      "PyWavelets                                    1.3.0\r\n",
      "PyYAML                                        6.0\r\n",
      "pyzmq                                         22.3.0\r\n",
      "QDarkStyle                                    3.0.2\r\n",
      "qstylizer                                     0.1.10\r\n",
      "QtAwesome                                     1.0.3\r\n",
      "qtconsole                                     5.3.0\r\n",
      "QtPy                                          2.0.1\r\n",
      "queuelib                                      1.5.0\r\n",
      "readme-renderer                               37.3\r\n",
      "regex                                         2022.3.15\r\n",
      "requests                                      2.27.1\r\n",
      "requests-file                                 1.5.1\r\n",
      "requests-oauthlib                             1.3.1\r\n",
      "requests-toolbelt                             0.10.1\r\n",
      "rise                                          5.7.1\r\n",
      "rope                                          0.22.0\r\n",
      "rpy2                                          3.5.3\r\n",
      "rsa                                           4.7.2\r\n",
      "Rtree                                         0.9.7\r\n",
      "ruamel-yaml-conda                             0.15.100\r\n",
      "s3transfer                                    0.5.0\r\n",
      "scikit-image                                  0.19.2\r\n",
      "scikit-learn                                  1.0.2\r\n",
      "scikit-learn-intelex                          2021.20220215.132722\r\n",
      "scipy                                         1.7.3\r\n",
      "Scrapy                                        2.6.1\r\n",
      "seaborn                                       0.11.2\r\n",
      "semver                                        2.13.0\r\n",
      "Send2Trash                                    1.8.0\r\n",
      "service-identity                              18.1.0\r\n",
      "setuptools                                    61.2.0\r\n",
      "sip                                           4.19.13\r\n",
      "six                                           1.16.0\r\n",
      "sklearn                                       0.0.post1\r\n",
      "smart-open                                    5.1.0\r\n",
      "sniffio                                       1.2.0\r\n",
      "snowballstemmer                               2.2.0\r\n",
      "sortedcollections                             2.1.0\r\n",
      "sortedcontainers                              2.4.0\r\n",
      "soupsieve                                     2.3.1\r\n",
      "Sphinx                                        1.8.5\r\n",
      "sphinxcontrib-applehelp                       1.0.2\r\n",
      "sphinxcontrib-devhelp                         1.0.2\r\n",
      "sphinxcontrib-htmlhelp                        2.0.0\r\n",
      "sphinxcontrib-jsmath                          1.0.1\r\n",
      "sphinxcontrib-qthelp                          1.0.3\r\n",
      "sphinxcontrib-serializinghtml                 1.1.5\r\n",
      "sphinxcontrib-websupport                      1.2.4\r\n",
      "spyder                                        5.1.5\r\n",
      "spyder-kernels                                2.1.3\r\n",
      "SQLAlchemy                                    1.4.32\r\n",
      "stack-data                                    0.2.0\r\n",
      "statsmodels                                   0.13.2\r\n",
      "sympy                                         1.10.1\r\n",
      "tables                                        3.6.1\r\n",
      "tabulate                                      0.8.9\r\n",
      "TBB                                           0.2\r\n",
      "tblib                                         1.7.0\r\n",
      "tenacity                                      8.0.1\r\n",
      "tensorboard                                   2.10.0\r\n",
      "tensorboard-data-server                       0.6.1\r\n",
      "tensorboard-plugin-wit                        1.8.1\r\n",
      "tensorflow                                    2.10.0\r\n",
      "tensorflow-estimator                          2.10.0\r\n",
      "tensorflow-io-gcs-filesystem                  0.27.0\r\n",
      "termcolor                                     1.1.0\r\n",
      "terminado                                     0.13.1\r\n",
      "testpath                                      0.5.0\r\n",
      "text-unidecode                                1.3\r\n",
      "textdistance                                  4.2.1\r\n",
      "Theano-PyMC                                   1.1.2\r\n",
      "thefuzz                                       0.19.0\r\n",
      "threadpoolctl                                 2.2.0\r\n",
      "three-merge                                   0.1.1\r\n",
      "tifffile                                      2021.7.2\r\n",
      "tinycss                                       0.4\r\n",
      "tldextract                                    3.2.0\r\n",
      "toml                                          0.10.2\r\n",
      "tomli                                         1.2.2\r\n",
      "toolz                                         0.11.2\r\n",
      "tornado                                       6.1\r\n",
      "tox                                           3.14.0\r\n",
      "tqdm                                          4.64.0\r\n",
      "traitlets                                     5.1.1\r\n",
      "twine                                         1.14.0\r\n",
      "Twisted                                       22.2.0\r\n",
      "typed-ast                                     1.4.3\r\n",
      "typing_extensions                             4.1.1\r\n",
      "tzdata                                        2022.1\r\n",
      "tzlocal                                       4.2\r\n",
      "ujson                                         5.1.0\r\n",
      "Unidecode                                     1.2.0\r\n",
      "urllib3                                       1.26.9\r\n",
      "virtualenv                                    20.16.6\r\n",
      "w3lib                                         1.21.0\r\n",
      "watchdog                                      0.9.0\r\n",
      "watermark                                     2.3.1\r\n",
      "wcwidth                                       0.2.5\r\n",
      "webencodings                                  0.5.1\r\n",
      "websocket-client                              0.58.0\r\n",
      "Werkzeug                                      2.0.3\r\n",
      "wheel                                         0.33.6\r\n",
      "widgetsnbextension                            3.5.2\r\n",
      "wrapt                                         1.12.1\r\n",
      "wurlitzer                                     3.0.2\r\n",
      "xarray                                        0.20.1\r\n",
      "xarray-einstats                               0.3.0\r\n",
      "xlrd                                          2.0.1\r\n",
      "XlsxWriter                                    3.0.3\r\n",
      "xlwings                                       0.24.9\r\n",
      "yapf                                          0.31.0\r\n",
      "yarl                                          1.6.3\r\n",
      "zict                                          2.0.0\r\n",
      "zipp                                          3.7.0\r\n",
      "zope.interface                                5.4.0\r\n"
     ]
    }
   ],
   "source": [
    "# lista zainstalowanych pakietów\n",
    "!pip list"
   ]
  },
  {
   "cell_type": "code",
   "execution_count": 8,
   "metadata": {
    "slideshow": {
     "slide_type": "fragment"
    }
   },
   "outputs": [],
   "source": [
    "# lista pakietów do wsółdzielaniarequ\n",
    "!pip freeze > plik.txt"
   ]
  },
  {
   "cell_type": "code",
   "execution_count": 29,
   "metadata": {
    "slideshow": {
     "slide_type": "subslide"
    }
   },
   "outputs": [
    {
     "name": "stdout",
     "output_type": "stream",
     "text": [
      "Requirement already satisfied: pandas in /Users/waldemarbauer/opt/anaconda3/lib/python3.9/site-packages (from -r requirements.txt (line 1)) (1.5.1)\n",
      "Requirement already satisfied: numpy in /Users/waldemarbauer/opt/anaconda3/lib/python3.9/site-packages (from -r requirements.txt (line 2)) (1.21.5)\n",
      "Requirement already satisfied: scipy in /Users/waldemarbauer/opt/anaconda3/lib/python3.9/site-packages (from -r requirements.txt (line 3)) (1.7.3)\n",
      "Requirement already satisfied: matplotlib in /Users/waldemarbauer/opt/anaconda3/lib/python3.9/site-packages (from -r requirements.txt (line 4)) (3.5.1)\n",
      "Requirement already satisfied: python-dateutil>=2.8.1 in /Users/waldemarbauer/opt/anaconda3/lib/python3.9/site-packages (from pandas->-r requirements.txt (line 1)) (2.8.2)\n",
      "Requirement already satisfied: pytz>=2020.1 in /Users/waldemarbauer/opt/anaconda3/lib/python3.9/site-packages (from pandas->-r requirements.txt (line 1)) (2021.3)\n",
      "Requirement already satisfied: cycler>=0.10 in /Users/waldemarbauer/opt/anaconda3/lib/python3.9/site-packages (from matplotlib->-r requirements.txt (line 4)) (0.11.0)\n",
      "Requirement already satisfied: pillow>=6.2.0 in /Users/waldemarbauer/opt/anaconda3/lib/python3.9/site-packages (from matplotlib->-r requirements.txt (line 4)) (9.0.1)\n",
      "Requirement already satisfied: fonttools>=4.22.0 in /Users/waldemarbauer/opt/anaconda3/lib/python3.9/site-packages (from matplotlib->-r requirements.txt (line 4)) (4.25.0)\n",
      "Requirement already satisfied: pyparsing>=2.2.1 in /Users/waldemarbauer/opt/anaconda3/lib/python3.9/site-packages (from matplotlib->-r requirements.txt (line 4)) (3.0.4)\n",
      "Requirement already satisfied: packaging>=20.0 in /Users/waldemarbauer/opt/anaconda3/lib/python3.9/site-packages (from matplotlib->-r requirements.txt (line 4)) (21.3)\n",
      "Requirement already satisfied: kiwisolver>=1.0.1 in /Users/waldemarbauer/opt/anaconda3/lib/python3.9/site-packages (from matplotlib->-r requirements.txt (line 4)) (1.3.2)\n",
      "Requirement already satisfied: six>=1.5 in /Users/waldemarbauer/opt/anaconda3/lib/python3.9/site-packages (from python-dateutil>=2.8.1->pandas->-r requirements.txt (line 1)) (1.16.0)\n"
     ]
    }
   ],
   "source": [
    "## instalacja z pliku\n",
    "!pip install -r requirements.txt"
   ]
  },
  {
   "cell_type": "markdown",
   "metadata": {
    "slideshow": {
     "slide_type": "slide"
    }
   },
   "source": [
    "## Wirtualne środowisko Pythona\n",
    "\n",
    "- Wirtualne środowiska pomagają w pracy grupowej w rozwijaniu oprogramownaia.\n",
    "- Środowiska wirtualne utrzymują zależności w oddzielnych \"piaskownicach\" przez co pozwalają na posiadanie wielu niezależnych wersji środowiska."
   ]
  },
  {
   "cell_type": "markdown",
   "metadata": {
    "slideshow": {
     "slide_type": "subslide"
    }
   },
   "source": [
    "## Używanie wirtualnych środowisk\n",
    "\n",
    "- Tworzenie środowiska: virtualenv twoja_nazwa_środowiska\n",
    "- Aktywacja środowiska: \n",
    "    - Linux/MAC: source twoja_nazwa_środowiska/bin/activate\n",
    "    - Windows: twoja_nazwa_środowiska\\Scripts\\activate\n",
    "- Dezaktywacja środowisko po zakończeniu pracy: deactivate "
   ]
  },
  {
   "cell_type": "code",
   "execution_count": null,
   "metadata": {},
   "outputs": [],
   "source": []
  }
 ],
 "metadata": {
  "celltoolbar": "Slideshow",
  "jupytext": {
   "formats": "ipynb"
  },
  "kernelspec": {
   "display_name": "Python 3 (ipykernel)",
   "language": "python",
   "name": "python3"
  },
  "language_info": {
   "codemirror_mode": {
    "name": "ipython",
    "version": 3
   },
   "file_extension": ".py",
   "mimetype": "text/x-python",
   "name": "python",
   "nbconvert_exporter": "python",
   "pygments_lexer": "ipython3",
   "version": "3.9.12"
  },
  "rise": {
   "autolaunch": true,
   "backimage": "img/tlo_agh.png"
  }
 },
 "nbformat": 4,
 "nbformat_minor": 2
}
