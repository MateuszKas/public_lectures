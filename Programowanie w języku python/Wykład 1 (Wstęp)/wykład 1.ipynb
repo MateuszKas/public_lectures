{
 "cells": [
  {
   "cell_type": "markdown",
   "metadata": {
    "collapsed": true,
    "slideshow": {
     "slide_type": "slide"
    }
   },
   "source": [
    "# Programowanie w języku Python\n",
    "\n",
    "## Zagadnienia wstępne\n",
    "\n",
    "### dr inż. Waldemar Bauer"
   ]
  },
  {
   "cell_type": "markdown",
   "metadata": {
    "slideshow": {
     "slide_type": "slide"
    }
   },
   "source": [
    "## Sprawy organizacyjne\n",
    "- C3 216, godziny konsultacji: poniedziałek 8.00\n",
    "- bauer@agh.edu.pl\n",
    "- Materiały do przedmiotu są dostępne na [Github](https://github.com/KAIR-ISZ/public_lectures/tree/master/Narzędzia%20Pracy%20Grupowej), Jeżeli zauważycie błedy proszę o założenie tematu na platformie Github."
   ]
  },
  {
   "cell_type": "markdown",
   "metadata": {
    "slideshow": {
     "slide_type": "subslide"
    }
   },
   "source": [
    "## Sprawy organizacyjne cd.\n",
    "\n",
    "- Zaliczenie na podstawie projektu i obecności na laboratorium \n",
    "- Na laboratorium używać będziemy:\n",
    "    - [Python 3.8](https://www.python.org/downloads/)\n",
    "    - [Github](https://github.com/) lub inny serwer kontroli wersji\n",
    "    - IDE\n",
    "        - podstawowe: [VSCode](https://code.visualstudio.com/docs/languages/python)\n",
    "        - opcjonalne: [PyCharm](https://www.jetbrains.com/pycharm/)\n",
    "    \n",
    "### Wszystkie technologie w ramach zajęć są *darmowe* "
   ]
  },
  {
   "cell_type": "markdown",
   "metadata": {
    "slideshow": {
     "slide_type": "subslide"
    }
   },
   "source": [
    "## Zakres kursu\n",
    "- Podstawowa składnia języka Python\n",
    "- Podstawowe struktury danych Pythona\n",
    "- Klasy, metaklasy, wyszukiwanie atrybutów w obiektach i klasach\n",
    "- Deskryproty\n",
    "- Dekoratory\n",
    "- Organizacja kodu w modułach\n",
    "- Biblioteki języka Python\n",
    "- Błędy i wyjątki\n",
    "- Generatory i listy składane\n",
    "- Programowanie wielowątkowe w Pythonie"
   ]
  },
  {
   "cell_type": "markdown",
   "metadata": {
    "slideshow": {
     "slide_type": "slide"
    }
   },
   "source": [
    "## Czym jest Python\n",
    "\n",
    "```\n",
    "Python – język programowania wysokiego poziomu ogólnego przeznaczenia, o rozbudowanym pakiecie bibliotek standardowych, którego ideą przewodnią jest czytelność i klarowność kodu źródłowego. Jego składnia cechuje się przejrzystością i zwięzłością.\n",
    "```\n",
    "[źródło](https://pl.wikipedia.org/wiki/Python)"
   ]
  },
  {
   "cell_type": "code",
   "execution_count": 3,
   "metadata": {
    "slideshow": {
     "slide_type": "fragment"
    }
   },
   "outputs": [
    {
     "name": "stdout",
     "output_type": "stream",
     "text": [
      "Witajcie na zajęciach,\n"
     ]
    }
   ],
   "source": [
    "if __name__ == '__main__':\n",
    "    print('Witajcie na zajęciach,')"
   ]
  },
  {
   "cell_type": "markdown",
   "metadata": {
    "slideshow": {
     "slide_type": "slide"
    }
   },
   "source": [
    "| Sep 2022 | Sep 2021 | Programming Language | Ratings | Change |\n",
    "|:----------:|:----------:|:----------------------:|:---------:|:--------:|\n",
    "| 1        | 2        | Python               | 15.74%  | +4.07% |\n",
    "| 2        | 1        | C                    | 13.96%  | +2.13% |\n",
    "| 3        | 3        | Java                 | 11.72%  | +0.60% |\n",
    "| 4        | 4        | C++                  | 9.76%   | +2.63% |\n",
    "| 5        | 5        | C#                   | 4.88%   | -0.89% |\n",
    "| 6        | 6        | Visual Basic         | 4.39%   | -0.22% |\n",
    "| 7        | 7        | JavaScript           | 2.82%   | +0.27% |\n",
    "| 8        | 8        | Assembly language    | 2.49%   | +0.07% |\n",
    "| 9        | 10       | SQL                  | 2.01%   | +0.21% |\n",
    "| 10       | 9        | PHP                  | 1.68%   | -0.17% |"
   ]
  },
  {
   "cell_type": "markdown",
   "metadata": {
    "slideshow": {
     "slide_type": "subslide"
    }
   },
   "source": [
    "## Język programowania\n",
    "\n",
    "- zasady opisujące poprawne definiowanie programu komputerowego,\n",
    "- składa się z reguł gramatycznych umożliwiających tworzenie programu,\n",
    "- umożliwia \"tłumaczenie\" algorytmów na język maszyny.\n",
    "\n",
    "## Język programowania wysokiego poziomu\n",
    "\n",
    "- język programowania którego słowa kluczowe i składnia są w prosty sposób interpretowalne przez człowieka"
   ]
  },
  {
   "cell_type": "markdown",
   "metadata": {
    "slideshow": {
     "slide_type": "subslide"
    }
   },
   "source": [
    "### Asembler\n",
    "```asembly\n",
    "    .START ST\n",
    "ST: MOV R1,#2\n",
    "    MOV R2,#1\n",
    "M1: CMP R2,#20\n",
    "    BGT M2\n",
    "    MUL R1,R2\n",
    "    INI R2\n",
    "    JMP M1\n",
    "M2: JSR PRINT\n",
    "    .END\n",
    "```\n",
    "\n",
    "### Python\n",
    "```python\n",
    "A = 2;\n",
    "for I in range(1,20):\n",
    "    A=A*I\n",
    "    print(A);\n",
    "```\n",
    "\n"
   ]
  },
  {
   "cell_type": "code",
   "execution_count": 1,
   "metadata": {},
   "outputs": [
    {
     "name": "stdout",
     "output_type": "stream",
     "text": [
      "2\n",
      "4\n",
      "12\n",
      "48\n",
      "240\n",
      "1440\n",
      "10080\n",
      "80640\n",
      "725760\n",
      "7257600\n",
      "79833600\n",
      "958003200\n",
      "12454041600\n",
      "174356582400\n",
      "2615348736000\n",
      "41845579776000\n",
      "711374856192000\n",
      "12804747411456000\n",
      "243290200817664000\n"
     ]
    }
   ],
   "source": [
    "A = 2;\n",
    "for I in range(1,20):\n",
    "    A=A*I\n",
    "    print(A);"
   ]
  },
  {
   "cell_type": "markdown",
   "metadata": {
    "slideshow": {
     "slide_type": "subslide"
    }
   },
   "source": [
    "## Język programowania ogólnego zastosowania\n",
    "\n",
    "![python_ogolne](./img/Python_Powered.png)\n",
    "\n",
    "[źródło](https://pl.wikipedia.org/wiki/Python)"
   ]
  },
  {
   "cell_type": "markdown",
   "metadata": {
    "slideshow": {
     "slide_type": "slide"
    }
   },
   "source": [
    "## Zalety\n",
    "\n",
    "1. Czytelność\n",
    "2. Poprawia wydajność pisania kodu\n",
    "3. Język interpretowalny\n",
    "4. Dynamiczne typowanie\n",
    "5. Darmowy i Open Source\n",
    "6. Wsparcie społeczności i duża ilość bibliotek\n",
    "7. Możliwość wbudowania w inne języki programowania"
   ]
  },
  {
   "cell_type": "markdown",
   "metadata": {
    "slideshow": {
     "slide_type": "subslide"
    }
   },
   "source": [
    "## Wady\n",
    "1. Wolne działanie\n",
    "2. Zasobo żerność\n",
    "3. Słabe sparcie dla rozwiązań mobilnych i przeglądarek internetowych\n",
    "4. Ograniczenia projetowe\n",
    "5. Dostęp do dużych baz danych\n",
    "6. Runtime Errors"
   ]
  },
  {
   "cell_type": "markdown",
   "metadata": {
    "slideshow": {
     "slide_type": "subslide"
    }
   },
   "source": [
    "<img src=\"./img/compare_time.png\" width=\"60%\" height=\"60%\"/>\n",
    "\n",
    "[źródło](https://en.wikipedia.org/wiki/Comparison_of_programming_languages)"
   ]
  },
  {
   "cell_type": "markdown",
   "metadata": {
    "slideshow": {
     "slide_type": "subslide"
    }
   },
   "source": [
    "![energy](./img/energy.png)\n",
    "\n",
    "[źródło](https://kaspergroesludvigsen.medium.com/the-10-most-energy-efficient-programming-languages-6a4165126670)"
   ]
  },
  {
   "cell_type": "markdown",
   "metadata": {
    "slideshow": {
     "slide_type": "subslide"
    }
   },
   "source": [
    "<img src=\"./img/comparison.webp\" width=\"60%\" height=\"60%\"/>\n",
    "\n",
    "[źródło](https://www.sciencedirect.com/science/article/abs/pii/S0167642321000022?via%3Dihub)"
   ]
  },
  {
   "cell_type": "markdown",
   "metadata": {
    "slideshow": {
     "slide_type": "slide"
    }
   },
   "source": [
    "## Z czego i jak się uczyć\n",
    "\n",
    "1. Książki\n",
    "    - [Python Crash Course]\n",
    "    - [Learning Python]\n",
    "2. Kursy internetowe\n",
    "    - https://checkio.org/\n",
    "    - https://www.codingame.com/\n",
    "    - https://www.101computing.net/\n",
    "    - https://pythonprinciples.com/\n",
    "    - https://edabit.com/challenges\n",
    "    "
   ]
  },
  {
   "cell_type": "code",
   "execution_count": null,
   "metadata": {},
   "outputs": [],
   "source": []
  }
 ],
 "metadata": {
  "celltoolbar": "Slideshow",
  "jupytext": {
   "formats": "ipynb"
  },
  "kernelspec": {
   "display_name": "Python 3 (ipykernel)",
   "language": "python",
   "name": "python3"
  },
  "language_info": {
   "codemirror_mode": {
    "name": "ipython",
    "version": 3
   },
   "file_extension": ".py",
   "mimetype": "text/x-python",
   "name": "python",
   "nbconvert_exporter": "python",
   "pygments_lexer": "ipython3",
   "version": "3.9.12"
  },
  "rise": {
   "autolaunch": true,
   "backimage": "img/tlo_agh.png"
  }
 },
 "nbformat": 4,
 "nbformat_minor": 2
}
