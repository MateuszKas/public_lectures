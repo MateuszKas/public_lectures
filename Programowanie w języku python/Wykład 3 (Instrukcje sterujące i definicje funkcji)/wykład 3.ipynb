{
 "cells": [
  {
   "cell_type": "markdown",
   "metadata": {
    "collapsed": true,
    "slideshow": {
     "slide_type": "slide"
    }
   },
   "source": [
    "# Programowanie w języku Python\n",
    "\n",
    "## Instrukcje sterujące\n",
    "\n",
    "### dr inż. Waldemar Bauer"
   ]
  },
  {
   "cell_type": "code",
   "execution_count": null,
   "metadata": {},
   "outputs": [],
   "source": []
  },
  {
   "cell_type": "markdown",
   "metadata": {
    "slideshow": {
     "slide_type": "slide"
    }
   },
   "source": [
    "## Komentarze w Pythonie\n",
    "\n",
    "- służą do poprawienia czytelności kodu i jego wytłumaczenia\n",
    "- dla komentarza jedno liniowego rozpoczyna się go od znaku __#__ a jego końcem jest koniec lini\n",
    "- dla komentarza wielo liniowego komentarz zaczyn się i kończy __\"\"\"__."
   ]
  },
  {
   "cell_type": "markdown",
   "metadata": {
    "slideshow": {
     "slide_type": "subslide"
    }
   },
   "source": [
    "## Przykłady komentarzy"
   ]
  },
  {
   "cell_type": "code",
   "execution_count": 1,
   "metadata": {
    "slideshow": {
     "slide_type": "fragment"
    }
   },
   "outputs": [
    {
     "name": "stdout",
     "output_type": "stream",
     "text": [
      "Witajcie\n",
      "Kolejny krok\n",
      "a=20 b=10\n"
     ]
    }
   ],
   "source": [
    "\"\"\"\n",
    "Długie podsumowanie\n",
    "tego co będzie się działo \n",
    "w kodzie\n",
    "\"\"\"\n",
    "\n",
    "# komentarz jedno liniowy przed kodem\n",
    "print('Witajcie')\n",
    " \n",
    "print('Kolejny krok') # komentarz jedno liniowy tłumaczący linię\n",
    "\n",
    "a = 10 + 10\n",
    "b = 10 # + 10\n",
    "print(f'a={a} b={b}')\n"
   ]
  },
  {
   "cell_type": "markdown",
   "metadata": {
    "slideshow": {
     "slide_type": "slide"
    }
   },
   "source": [
    "## Wartości logiczne (Boolen)\n",
    "\n",
    "- Typ danych przyjmujący wartości True lub False\n",
    "- Jest odpowiedzalny za operację logiczne w języku Python\n"
   ]
  },
  {
   "cell_type": "markdown",
   "metadata": {
    "slideshow": {
     "slide_type": "subslide"
    }
   },
   "source": [
    "## Wartości zmiennych logicznych"
   ]
  },
  {
   "cell_type": "code",
   "execution_count": 3,
   "metadata": {
    "slideshow": {
     "slide_type": "fragment"
    }
   },
   "outputs": [
    {
     "name": "stdout",
     "output_type": "stream",
     "text": [
      "True\n",
      "True\n",
      "True\n",
      "True\n",
      "True\n",
      "True\n"
     ]
    }
   ],
   "source": [
    "#True\n",
    "print(bool(True))\n",
    "print(bool(0.5))\n",
    "print(bool(\"ala\"))\n",
    "print(bool((1)))\n",
    "print(bool([1]))\n",
    "print(bool({1:1}))"
   ]
  },
  {
   "cell_type": "code",
   "execution_count": 4,
   "metadata": {
    "slideshow": {
     "slide_type": "fragment"
    }
   },
   "outputs": [
    {
     "name": "stdout",
     "output_type": "stream",
     "text": [
      "False\n",
      "False\n",
      "False\n",
      "False\n",
      "False\n",
      "False\n"
     ]
    }
   ],
   "source": [
    "#False\n",
    "print(bool(False))\n",
    "print(bool(0))\n",
    "print(bool(\"\"))\n",
    "print(bool(()))\n",
    "print(bool([]))\n",
    "print(bool({}))"
   ]
  },
  {
   "cell_type": "markdown",
   "metadata": {
    "slideshow": {
     "slide_type": "subslide"
    }
   },
   "source": [
    "## Operatory logiczne\n",
    "\n",
    "|        Operator        | Przykład użycia |\n",
    "|:----------------------:|:---------------:|\n",
    "|      równości: ==      |      a == b     |\n",
    "|      różny od: !=      |      a != b     |\n",
    "|       mniejszy: <      |      a < b      |\n",
    "| mniejszy lub równy: <= |      a <= b     |\n",
    "|       większy: >       |      a > b      |\n",
    "|  większy lub równy: >= |      a >= b     |\n",
    "|     zawiera się: in    |      a in b     |\n",
    "|        jest: is        |      a is b     |\n",
    "|     logiczne lub: or   |      a or b     |\n",
    "|     logiczne i: and    |      a and b    |\n",
    "|logiczne zaprzeczenie : not |  not a      |"
   ]
  },
  {
   "cell_type": "markdown",
   "metadata": {
    "slideshow": {
     "slide_type": "subslide"
    }
   },
   "source": [
    "## Użycie operatorów logicznych"
   ]
  },
  {
   "cell_type": "code",
   "execution_count": 5,
   "metadata": {
    "slideshow": {
     "slide_type": "fragment"
    }
   },
   "outputs": [],
   "source": [
    "a, b, c = 10, 10.0, 20\n",
    "my_list = ['Mama', \"Tata\", 10.0]"
   ]
  },
  {
   "cell_type": "code",
   "execution_count": 6,
   "metadata": {
    "slideshow": {
     "slide_type": "fragment"
    }
   },
   "outputs": [
    {
     "name": "stdout",
     "output_type": "stream",
     "text": [
      "a==b => True\n",
      "c==b => False\n",
      "a!=b => False\n",
      "a!=c => True\n"
     ]
    }
   ],
   "source": [
    "print(f'a==b => {a == b}')\n",
    "print(f'c==b => {c == b}')\n",
    "print(f'a!=b => {a != b}')\n",
    "print(f'a!=c => {a != c}')"
   ]
  },
  {
   "cell_type": "markdown",
   "metadata": {
    "slideshow": {
     "slide_type": "subslide"
    }
   },
   "source": [
    "## Użycie operatorów logicznych cd"
   ]
  },
  {
   "cell_type": "code",
   "execution_count": 7,
   "metadata": {
    "slideshow": {
     "slide_type": "fragment"
    }
   },
   "outputs": [
    {
     "name": "stdout",
     "output_type": "stream",
     "text": [
      "a in my_list => True\n",
      "a not in my_list => False\n",
      "c not in my_list => True\n",
      "not(a==b) => False\n"
     ]
    }
   ],
   "source": [
    "a, b, c = 10, 10.0, 20\n",
    "my_list = ['Mama', \"Tata\", 10.0]\n",
    "\n",
    "print(f'a in my_list => {a in my_list}')\n",
    "print(f'a not in my_list => {a not in my_list}')\n",
    "print(f'c not in my_list => {c not in my_list}')\n",
    "print(f'not(a==b) => {not a == b}')"
   ]
  },
  {
   "cell_type": "markdown",
   "metadata": {
    "slideshow": {
     "slide_type": "subslide"
    }
   },
   "source": [
    "## Operator _is_ i typ _None_"
   ]
  },
  {
   "cell_type": "code",
   "execution_count": 8,
   "metadata": {
    "slideshow": {
     "slide_type": "fragment"
    }
   },
   "outputs": [
    {
     "name": "stdout",
     "output_type": "stream",
     "text": [
      "a is b => False\n",
      "a is c => False\n"
     ]
    }
   ],
   "source": [
    "a, b, c, d = 10, 10.0, 20, None\n",
    "\n",
    "print(f'a is b => {a is b}')\n",
    "print(f'a is c => {a is c}')"
   ]
  },
  {
   "cell_type": "code",
   "execution_count": 11,
   "metadata": {
    "slideshow": {
     "slide_type": "fragment"
    }
   },
   "outputs": [
    {
     "name": "stdout",
     "output_type": "stream",
     "text": [
      "d is a => False\n",
      "d is None => True\n"
     ]
    }
   ],
   "source": [
    "print(f'd is a => {d is a}')\n",
    "print(f'd is None => {d is None}')"
   ]
  },
  {
   "cell_type": "markdown",
   "metadata": {
    "slideshow": {
     "slide_type": "subslide"
    }
   },
   "source": [
    "## Wyrażenia warunkowe użycie *or* i *and*"
   ]
  },
  {
   "cell_type": "code",
   "execution_count": 15,
   "metadata": {
    "slideshow": {
     "slide_type": "fragment"
    }
   },
   "outputs": [
    {
     "name": "stdout",
     "output_type": "stream",
     "text": [
      "(a==c) or (a in my_list) => True\n"
     ]
    }
   ],
   "source": [
    "a, b, c = 10, 10.0, 20\n",
    "my_list = ['Mama', \"Tata\", 10.0]\n",
    "\n",
    "print(f'(a==c) or (a in my_list) => {(a==c) or (a in my_list)}')"
   ]
  },
  {
   "cell_type": "code",
   "execution_count": 16,
   "metadata": {
    "slideshow": {
     "slide_type": "fragment"
    }
   },
   "outputs": [
    {
     "name": "stdout",
     "output_type": "stream",
     "text": [
      "(a==c) and (a in my_list) => False\n"
     ]
    }
   ],
   "source": [
    "print(f'(a==c) and (a in my_list) => {(a==c) and (a in my_list)}')"
   ]
  },
  {
   "cell_type": "markdown",
   "metadata": {
    "slideshow": {
     "slide_type": "slide"
    }
   },
   "source": [
    "## Instrukcje sterujące\n",
    "\n",
    "Zdefiniowane w języku programowania instrukcje służące do kierowania i zmiany kolejności wykonywania bloków kodu w opisanych w kodzie zródłowym.\n",
    "\n",
    "W pythonie zaliczmy do nich:\n",
    "- if\n",
    "- match (od wersji 3.10)\n",
    "- for\n",
    "- while\n",
    "    "
   ]
  },
  {
   "cell_type": "markdown",
   "metadata": {
    "slideshow": {
     "slide_type": "slide"
    }
   },
   "source": [
    "## if .. elif .. else ...\n",
    "\n",
    "- instrukcja warunkowa umożliwiająca kontrole nad wykonaniem lub nie fragmentu kodu.\n",
    "\n",
    "```python\n",
    "if condition:\n",
    "    #code\n",
    "elif condition:\n",
    "    #code2\n",
    "else:\n",
    "    #code3\n",
    "```\n"
   ]
  },
  {
   "cell_type": "markdown",
   "metadata": {
    "slideshow": {
     "slide_type": "subslide"
    }
   },
   "source": [
    "## Przykłady użycia if"
   ]
  },
  {
   "cell_type": "code",
   "execution_count": 22,
   "metadata": {
    "slideshow": {
     "slide_type": "fragment"
    }
   },
   "outputs": [
    {
     "name": "stdout",
     "output_type": "stream",
     "text": [
      "Mimo wszystko witamy!\n"
     ]
    }
   ],
   "source": [
    "name = 'Witek'\n",
    "age = 4\n",
    "if age >=18:\n",
    "    print(f'Zgodnie z polskim prawem {name} jest pełnoletni: {age}') \n",
    "    \n",
    "print('Mimo wszystko witamy!')"
   ]
  },
  {
   "cell_type": "code",
   "execution_count": 23,
   "metadata": {
    "slideshow": {
     "slide_type": "fragment"
    }
   },
   "outputs": [
    {
     "name": "stdout",
     "output_type": "stream",
     "text": [
      "Zgodnie z polskim prawem Witek nie jest pełnoletni: 4\n"
     ]
    }
   ],
   "source": [
    "if age >=18:\n",
    "    print(f'Zgodnie z polskim prawem {name} jest pełnoletni: {age}')\n",
    "else:\n",
    "    print(f'Zgodnie z polskim prawem {name} nie jest pełnoletni: {age}')\n"
   ]
  },
  {
   "cell_type": "markdown",
   "metadata": {
    "slideshow": {
     "slide_type": "subslide"
    }
   },
   "source": [
    "## Przykłady użycia if cd."
   ]
  },
  {
   "cell_type": "code",
   "execution_count": 35,
   "metadata": {
    "slideshow": {
     "slide_type": "fragment"
    }
   },
   "outputs": [
    {
     "name": "stdout",
     "output_type": "stream",
     "text": [
      "Jesteś w wieku produkcyjnym: 30\n"
     ]
    }
   ],
   "source": [
    "# wersja 1\n",
    "age = 30\n",
    "if age > 26:\n",
    "    print(f'Jesteś w wieku produkcyjnym: {age}')\n",
    "elif age > 18:\n",
    "    print(f'Jesteś w wieku produkcyjnym lub studiujesz: {age}')\n",
    "elif age >=0:\n",
    "    print(f'Jesteś w wieku szkolnym: {age}')\n",
    "else:\n",
    "    print(f'Nie możesz mieć takiego wieku: {age}')"
   ]
  },
  {
   "cell_type": "code",
   "execution_count": 36,
   "metadata": {
    "slideshow": {
     "slide_type": "fragment"
    }
   },
   "outputs": [
    {
     "name": "stdout",
     "output_type": "stream",
     "text": [
      "Jesteś w wieku produkcyjnym: 30\n"
     ]
    }
   ],
   "source": [
    "#wersja 2\n",
    "if age <0:\n",
    "    print(f'Nie możesz mieć takiego wieku: {age}')\n",
    "elif age >= 0 and age < 8:\n",
    "    print(f'Jesteś w wieku przedszkolnym: {age}')\n",
    "elif age >= 8 and age < 19:\n",
    "    print(f'Jesteś w wieku szkolnym: {age}')\n",
    "elif age >=19 and age< 26:\n",
    "    print(f'Jesteś w wieku produkcyjnym lub studiujesz: {age}')\n",
    "else:\n",
    "    print(f'Jesteś w wieku produkcyjnym: {age}')"
   ]
  },
  {
   "cell_type": "markdown",
   "metadata": {
    "slideshow": {
     "slide_type": "subslide"
    }
   },
   "source": [
    "## Zagnieżdzanie if-ów"
   ]
  },
  {
   "cell_type": "code",
   "execution_count": 39,
   "metadata": {
    "slideshow": {
     "slide_type": "fragment"
    }
   },
   "outputs": [
    {
     "name": "stdout",
     "output_type": "stream",
     "text": [
      "Liczba ujemna\n"
     ]
    }
   ],
   "source": [
    "num = -8\n",
    "if num >= 0:\n",
    "    if num == 0:\n",
    "        print(\"Zero\")\n",
    "    else:\n",
    "        print(\"Liczba dodatnia\")\n",
    "else:\n",
    "    print(\"Liczba ujemna\")"
   ]
  },
  {
   "cell_type": "markdown",
   "metadata": {
    "slideshow": {
     "slide_type": "subslide"
    }
   },
   "source": [
    "## If z obiektami"
   ]
  },
  {
   "cell_type": "code",
   "execution_count": 40,
   "metadata": {
    "slideshow": {
     "slide_type": "fragment"
    }
   },
   "outputs": [
    {
     "name": "stdout",
     "output_type": "stream",
     "text": [
      "Lista jest pusta\n"
     ]
    }
   ],
   "source": [
    "my_empty_list = []\n",
    "my_full_list = ['1',1,2,3]\n",
    "\n",
    "if my_empty_list:\n",
    "    print('Lista nie jest pusta')\n",
    "else:\n",
    "    print('Lista jest pusta')"
   ]
  },
  {
   "cell_type": "code",
   "execution_count": 41,
   "metadata": {
    "slideshow": {
     "slide_type": "fragment"
    }
   },
   "outputs": [
    {
     "name": "stdout",
     "output_type": "stream",
     "text": [
      "Lista nie jest pusta\n"
     ]
    }
   ],
   "source": [
    "if my_full_list:\n",
    "    print('Lista nie jest pusta')\n",
    "else:\n",
    "    print('Lista jest pusta')"
   ]
  },
  {
   "cell_type": "code",
   "execution_count": 42,
   "metadata": {
    "slideshow": {
     "slide_type": "fragment"
    }
   },
   "outputs": [
    {
     "name": "stdout",
     "output_type": "stream",
     "text": [
      "Element 3 jest na liście\n"
     ]
    }
   ],
   "source": [
    "a = 3\n",
    "if a in my_full_list:\n",
    "    print(f'Element {a} jest na liście')\n",
    "else:\n",
    "    print(f'Elementu {a} nie ma na liście')\n",
    "    "
   ]
  },
  {
   "cell_type": "markdown",
   "metadata": {
    "slideshow": {
     "slide_type": "subslide"
    }
   },
   "source": [
    "## Struktura match\n",
    "Dostępny od wersji 3.10\n",
    "```python\n",
    "point = (0, 0)\n",
    "\n",
    "match point:\n",
    "    case (0, 0):\n",
    "        print(\"Origin\")\n",
    "    case (0, y):\n",
    "        print(f\"Y={y}\")\n",
    "    case (x, 0):\n",
    "        print(f\"X={x}\")\n",
    "    case (x, y):\n",
    "        print(f\"X={x}, Y={y}\")\n",
    "    case _:\n",
    "        print(\"Not a point\")\n",
    "```"
   ]
  },
  {
   "cell_type": "markdown",
   "metadata": {
    "slideshow": {
     "slide_type": "slide"
    }
   },
   "source": [
    "## Pętla\n",
    "\n",
    "- jedna z podstawowych konstrukcji programowania strukturalnego\n",
    "- umożliwia wykonywanie ciągu instrukcji określoną liczbę razy, do momentu zajścia pewnych warunków"
   ]
  },
  {
   "cell_type": "markdown",
   "metadata": {
    "slideshow": {
     "slide_type": "subslide"
    }
   },
   "source": [
    "## Funkcja *range* \n",
    "\n",
    "- jedna z funkcji podstawowych umożliwiająca tworzenie wektorów liczb\n",
    "```python\n",
    "range([start], stop, [step])\n",
    "```\n",
    "Przykłady użycia:"
   ]
  },
  {
   "cell_type": "code",
   "execution_count": 45,
   "metadata": {
    "slideshow": {
     "slide_type": "fragment"
    }
   },
   "outputs": [
    {
     "name": "stdout",
     "output_type": "stream",
     "text": [
      "Wywołanie funkcji: range(0, 10)\n",
      "Tworzenie listy na podstawie range: [0, 1, 2, 3, 4, 5, 6, 7, 8, 9]\n",
      "Tworzenie listy na podstawie range o zadanym początku: [2, 3, 4, 5, 6, 7, 8, 9]\n",
      "Tworzenie listy na podstawie range o zadanym początku i kroku: [2, 4, 6, 8]\n",
      "Tworzenie listy malejącej na podstawie range o zadanym początku i kroku: [10, 8, 6, 4]\n"
     ]
    }
   ],
   "source": [
    "start = 2\n",
    "stop = 10\n",
    "step = 2\n",
    "\n",
    "print(f'Wywołanie funkcji: {range(stop)}')\n",
    "print(f'Tworzenie listy na podstawie range: {list(range(stop))}')\n",
    "print(f'Tworzenie listy na podstawie range o zadanym początku: {list(range(start, stop))}')\n",
    "print(f'Tworzenie listy na podstawie range o zadanym początku i kroku: {list(range(start, stop, step))}')\n",
    "print(f'Tworzenie listy malejącej na podstawie range o zadanym początku i kroku: {list(range(stop, start, -step))}')"
   ]
  },
  {
   "cell_type": "markdown",
   "metadata": {
    "slideshow": {
     "slide_type": "subslide"
    }
   },
   "source": [
    "## Pętla for"
   ]
  },
  {
   "cell_type": "code",
   "execution_count": 48,
   "metadata": {
    "slideshow": {
     "slide_type": "fragment"
    }
   },
   "outputs": [
    {
     "name": "stdout",
     "output_type": "stream",
     "text": [
      "45\n",
      "10\n"
     ]
    }
   ],
   "source": [
    "n = 10\n",
    "s = 0\n",
    "s2 = 0\n",
    "for i in range(0,n):\n",
    "    s = s + i\n",
    "    s2 = s2 + 1\n",
    "\n",
    "print(s)\n",
    "print(s2)"
   ]
  },
  {
   "cell_type": "markdown",
   "metadata": {
    "slideshow": {
     "slide_type": "subslide"
    }
   },
   "source": [
    "## Pętla while"
   ]
  },
  {
   "cell_type": "code",
   "execution_count": 1,
   "metadata": {
    "slideshow": {
     "slide_type": "fragment"
    }
   },
   "outputs": [
    {
     "name": "stdout",
     "output_type": "stream",
     "text": [
      "45\n"
     ]
    }
   ],
   "source": [
    "n = 0\n",
    "s = 0\n",
    "while n < 10:\n",
    "    s = s + n\n",
    "    n += 1\n",
    "    \n",
    "print(s)"
   ]
  },
  {
   "cell_type": "markdown",
   "metadata": {
    "slideshow": {
     "slide_type": "subslide"
    }
   },
   "source": [
    "## Porównanie szybkość działania"
   ]
  },
  {
   "cell_type": "code",
   "execution_count": 5,
   "metadata": {
    "slideshow": {
     "slide_type": "fragment"
    }
   },
   "outputs": [],
   "source": [
    "import random\n",
    "n = 1_000\n",
    "x, y = random.sample(range(0, n**3), n), random.sample(range(0, n**3), n)"
   ]
  },
  {
   "cell_type": "code",
   "execution_count": 10,
   "metadata": {
    "slideshow": {
     "slide_type": "fragment"
    }
   },
   "outputs": [
    {
     "name": "stdout",
     "output_type": "stream",
     "text": [
      "196 µs ± 200 ns per loop (mean ± std. dev. of 7 runs, 10,000 loops each)\n"
     ]
    }
   ],
   "source": [
    "%%timeit\n",
    "z = []\n",
    "for i in range(n):\n",
    "    z.append(x[i] + y[i])"
   ]
  },
  {
   "cell_type": "code",
   "execution_count": 11,
   "metadata": {
    "slideshow": {
     "slide_type": "fragment"
    }
   },
   "outputs": [
    {
     "name": "stdout",
     "output_type": "stream",
     "text": [
      "252 µs ± 429 ns per loop (mean ± std. dev. of 7 runs, 1,000 loops each)\n"
     ]
    }
   ],
   "source": [
    "%%timeit\n",
    "i, z = 0, []\n",
    "while i < n:\n",
    "    z.append(x[i] + y[i])\n",
    "    i += 1"
   ]
  },
  {
   "cell_type": "markdown",
   "metadata": {
    "slideshow": {
     "slide_type": "slide"
    }
   },
   "source": [
    "## For po obiektach\n"
   ]
  },
  {
   "cell_type": "code",
   "execution_count": 13,
   "metadata": {
    "slideshow": {
     "slide_type": "fragment"
    }
   },
   "outputs": [
    {
     "name": "stdout",
     "output_type": "stream",
     "text": [
      "A\n",
      "l\n",
      "a\n",
      " \n",
      "m\n",
      "a\n",
      " \n",
      "k\n",
      "o\n",
      "t\n",
      "a\n"
     ]
    }
   ],
   "source": [
    "# string\n",
    "\n",
    "my_str = 'Ala ma kota'\n",
    "for i in my_str:\n",
    "     print(i)\n",
    "\n",
    "for i in range(len(my_str)):\n",
    "    print(my_str[i])"
   ]
  },
  {
   "cell_type": "markdown",
   "metadata": {
    "slideshow": {
     "slide_type": "subslide"
    }
   },
   "source": [
    "## For po obiektach cd."
   ]
  },
  {
   "cell_type": "code",
   "execution_count": 16,
   "metadata": {
    "slideshow": {
     "slide_type": "fragment"
    }
   },
   "outputs": [
    {
     "name": "stdout",
     "output_type": "stream",
     "text": [
      "banan\n",
      "marchew\n",
      "gruszka\n"
     ]
    }
   ],
   "source": [
    "#listy\n",
    "my_list = ['banan', 'marchew', 'gruszka']\n",
    "\n",
    "for element in my_list:\n",
    "    print(element)"
   ]
  },
  {
   "cell_type": "code",
   "execution_count": 17,
   "metadata": {
    "slideshow": {
     "slide_type": "fragment"
    }
   },
   "outputs": [
    {
     "name": "stdout",
     "output_type": "stream",
     "text": [
      "banan\n",
      "marchew\n",
      "gruszka\n"
     ]
    }
   ],
   "source": [
    "#krotki\n",
    "my_tuple = ('banan', 'marchew', 'gruszka')\n",
    "\n",
    "for element in my_tuple:\n",
    "    print(element)"
   ]
  },
  {
   "cell_type": "markdown",
   "metadata": {
    "slideshow": {
     "slide_type": "subslide"
    }
   },
   "source": [
    "## For po obiektach cd."
   ]
  },
  {
   "cell_type": "code",
   "execution_count": 19,
   "metadata": {
    "slideshow": {
     "slide_type": "fragment"
    }
   },
   "outputs": [
    {
     "name": "stdout",
     "output_type": "stream",
     "text": [
      "a: banan\n",
      "b: marchew\n",
      "c: gruszka\n"
     ]
    }
   ],
   "source": [
    "#słowniki\n",
    "my_dict = {'a':'banan', 'b':'marchew', 'c':'gruszka'}\n",
    "\n",
    "for key in my_dict:\n",
    "    print(f'{key}: {my_dict[key]}')"
   ]
  },
  {
   "cell_type": "code",
   "execution_count": 20,
   "metadata": {
    "slideshow": {
     "slide_type": "fragment"
    }
   },
   "outputs": [
    {
     "name": "stdout",
     "output_type": "stream",
     "text": [
      "banan\n",
      "marchew\n",
      "gruszka\n"
     ]
    }
   ],
   "source": [
    "#słowniki\n",
    "my_dict = {'a':'banan', 'b':'marchew', 'c':'gruszka'}\n",
    "\n",
    "for element in my_dict.values():\n",
    "    print(element)"
   ]
  },
  {
   "cell_type": "markdown",
   "metadata": {
    "slideshow": {
     "slide_type": "subslide"
    }
   },
   "source": [
    "## Porównanie szybkość działania"
   ]
  },
  {
   "cell_type": "code",
   "execution_count": 21,
   "metadata": {
    "slideshow": {
     "slide_type": "fragment"
    }
   },
   "outputs": [],
   "source": [
    "my_list = ['banan', 'marchew', 'gruszka']*1000"
   ]
  },
  {
   "cell_type": "code",
   "execution_count": 23,
   "metadata": {
    "slideshow": {
     "slide_type": "fragment"
    }
   },
   "outputs": [
    {
     "name": "stdout",
     "output_type": "stream",
     "text": [
      "204 µs ± 478 ns per loop (mean ± std. dev. of 7 runs, 1,000 loops each)\n"
     ]
    }
   ],
   "source": [
    "%%timeit\n",
    "z = []\n",
    "for element in my_list:\n",
    "    z.append(element)"
   ]
  },
  {
   "cell_type": "code",
   "execution_count": 24,
   "metadata": {
    "slideshow": {
     "slide_type": "fragment"
    }
   },
   "outputs": [
    {
     "name": "stdout",
     "output_type": "stream",
     "text": [
      "347 µs ± 233 ns per loop (mean ± std. dev. of 7 runs, 1,000 loops each)\n"
     ]
    }
   ],
   "source": [
    "%%timeit\n",
    "z = []\n",
    "for i in range(len(my_list)):\n",
    "    z.append(my_list[i])"
   ]
  },
  {
   "cell_type": "markdown",
   "metadata": {
    "slideshow": {
     "slide_type": "subslide"
    }
   },
   "source": [
    "## Porównanie szybkość działania cd"
   ]
  },
  {
   "cell_type": "code",
   "execution_count": 27,
   "metadata": {
    "slideshow": {
     "slide_type": "fragment"
    }
   },
   "outputs": [],
   "source": [
    "my_tuple = ('banan', 'marchew', 'gruszka')*1000\n"
   ]
  },
  {
   "cell_type": "code",
   "execution_count": 28,
   "metadata": {
    "slideshow": {
     "slide_type": "fragment"
    }
   },
   "outputs": [
    {
     "name": "stdout",
     "output_type": "stream",
     "text": [
      "204 µs ± 267 ns per loop (mean ± std. dev. of 7 runs, 1,000 loops each)\n"
     ]
    }
   ],
   "source": [
    "%%timeit\n",
    "z = []\n",
    "for element in my_tuple:\n",
    "    z.append(element)"
   ]
  },
  {
   "cell_type": "code",
   "execution_count": 29,
   "metadata": {
    "slideshow": {
     "slide_type": "fragment"
    }
   },
   "outputs": [
    {
     "name": "stdout",
     "output_type": "stream",
     "text": [
      "349 µs ± 854 ns per loop (mean ± std. dev. of 7 runs, 1,000 loops each)\n"
     ]
    }
   ],
   "source": [
    "%%timeit\n",
    "z = []\n",
    "for i in range(len(my_tuple)):\n",
    "    z.append(my_tuple[i])"
   ]
  },
  {
   "cell_type": "markdown",
   "metadata": {
    "slideshow": {
     "slide_type": "slide"
    }
   },
   "source": [
    "## Wyrażenia *pass*, *continue*, *break*\n",
    "\n",
    "- wyrażenia pomocnicze służące do kontroli wykonania pętli (*continue, break*) lub wypełnienia luk w kodzie (*pass*)\n",
    "- *continue* w sterowaniu pętlą umożliwia przejście do następnej iteracji z pominięciem części kodu\n",
    "- *break* kończy działanie pętli\n"
   ]
  },
  {
   "cell_type": "code",
   "execution_count": 35,
   "metadata": {
    "slideshow": {
     "slide_type": "fragment"
    }
   },
   "outputs": [
    {
     "name": "stdout",
     "output_type": "stream",
     "text": [
      "10\n"
     ]
    }
   ],
   "source": [
    "n = 10\n",
    "# pass\n",
    "if n < 10:\n",
    "    pass\n",
    "else:\n",
    "    print(n)"
   ]
  },
  {
   "cell_type": "code",
   "execution_count": 37,
   "metadata": {
    "slideshow": {
     "slide_type": "subslide"
    }
   },
   "outputs": [
    {
     "name": "stdout",
     "output_type": "stream",
     "text": [
      "Liczba pażysta 2\n",
      "liczba niepażysta 3\n",
      "Liczba pażysta 4\n",
      "liczba niepażysta 5\n",
      "Liczba pażysta 6\n",
      "liczba niepażysta 7\n",
      "Liczba pażysta 8\n",
      "liczba niepażysta 9\n"
     ]
    }
   ],
   "source": [
    "# continue\n",
    "for num in range(2, 10):\n",
    "    if num % 2 == 0:\n",
    "        print(\"Liczba pażysta\", num)\n",
    "        continue\n",
    "    print(\"liczba niepażysta\", num)"
   ]
  },
  {
   "cell_type": "code",
   "execution_count": 39,
   "metadata": {
    "slideshow": {
     "slide_type": "fragment"
    }
   },
   "outputs": [
    {
     "name": "stdout",
     "output_type": "stream",
     "text": [
      "2\n",
      "3\n",
      "przed break\n"
     ]
    }
   ],
   "source": [
    "# break\n",
    "for num in range(2, 10):\n",
    "    if num < 4:\n",
    "        print(num)\n",
    "    else:\n",
    "        print('przed break')\n",
    "        break\n",
    "        print(num)"
   ]
  },
  {
   "cell_type": "markdown",
   "metadata": {
    "slideshow": {
     "slide_type": "slide"
    }
   },
   "source": [
    "## Else z pętlą\n",
    "\n",
    "- instrukcje pętli mogą zawierać klauzulę else\n",
    "- jest wykonywany, gdy pętla kończy się :\n",
    "    - for - brak iteratorów\n",
    "    - while - warunek jest fałszywy\n",
    "- gdy pętla jest zakończona przez instrukcję break else w pętli jest pomijany "
   ]
  },
  {
   "cell_type": "code",
   "execution_count": 41,
   "metadata": {
    "slideshow": {
     "slide_type": "fragment"
    }
   },
   "outputs": [
    {
     "name": "stdout",
     "output_type": "stream",
     "text": [
      "2 jest liczbą pierwszą\n",
      "3 jest liczbą pierwszą\n",
      "4 równa się 2 * 2\n",
      "5 jest liczbą pierwszą\n",
      "6 równa się 2 * 3\n",
      "7 jest liczbą pierwszą\n",
      "8 równa się 2 * 4\n",
      "9 równa się 3 * 3\n"
     ]
    }
   ],
   "source": [
    "for n in range(2, 10):\n",
    "    for x in range(2, n):\n",
    "        if n % x == 0:\n",
    "            print(n, 'równa się', x, '*', n//x)\n",
    "            break\n",
    "    else:\n",
    "        # loop fell through without finding a factor\n",
    "        print(n, 'jest liczbą pierwszą')"
   ]
  },
  {
   "cell_type": "markdown",
   "metadata": {
    "slideshow": {
     "slide_type": "slide"
    }
   },
   "source": [
    "## Funkcja enumerate() i zip()\n",
    "\n",
    "- *enumerate* funkcja umożliwiająca generowanie numeracji elementom listy\n",
    "- *zip* funkcja generująca na podstawie dwóch lub więcej list, \"listę\" krotek łączącej odpowiadające elementy tych list  "
   ]
  },
  {
   "cell_type": "code",
   "execution_count": 43,
   "metadata": {
    "slideshow": {
     "slide_type": "fragment"
    }
   },
   "outputs": [
    {
     "name": "stdout",
     "output_type": "stream",
     "text": [
      "[(0, 'a'), (1, 'b'), (2, 'c'), (3, 'd')]\n"
     ]
    }
   ],
   "source": [
    "my_list = ['a','b','c','d']\n",
    "\n",
    "print(list(enumerate(my_list)))"
   ]
  },
  {
   "cell_type": "code",
   "execution_count": 44,
   "metadata": {
    "slideshow": {
     "slide_type": "fragment"
    }
   },
   "outputs": [
    {
     "name": "stdout",
     "output_type": "stream",
     "text": [
      "[('a', 1), ('b', 2), ('c', 3), ('d', 4)]\n"
     ]
    }
   ],
   "source": [
    "my_list2 = [1, 2, 3, 4]\n",
    "my_list3 = [(1,1),(2,2),(3,3),(4,4)]\n",
    "\n",
    "print(list(zip(my_list, my_list2)))"
   ]
  },
  {
   "cell_type": "code",
   "execution_count": 45,
   "metadata": {
    "slideshow": {
     "slide_type": "fragment"
    }
   },
   "outputs": [
    {
     "name": "stdout",
     "output_type": "stream",
     "text": [
      "[('a', 1, (1, 1)), ('b', 2, (2, 2)), ('c', 3, (3, 3)), ('d', 4, (4, 4))]\n"
     ]
    }
   ],
   "source": [
    "print(list(zip(my_list, my_list2, my_list3)))"
   ]
  },
  {
   "cell_type": "markdown",
   "metadata": {
    "slideshow": {
     "slide_type": "subslide"
    }
   },
   "source": [
    "## Łączenie list zip o różnych długościach"
   ]
  },
  {
   "cell_type": "code",
   "execution_count": 47,
   "metadata": {
    "slideshow": {
     "slide_type": "fragment"
    }
   },
   "outputs": [
    {
     "name": "stdout",
     "output_type": "stream",
     "text": [
      "[('a', 1), ('b', 2), ('c', 3), ('d', 4)]\n"
     ]
    }
   ],
   "source": [
    "my_list = ['a','b','c','d']\n",
    "my_list2 = [1, 2, 3, 4, 5, 6, 7]\n",
    "my_list3 = [(1,1),(2,2)]\n",
    "\n",
    "print(list(zip(my_list, my_list2)))"
   ]
  },
  {
   "cell_type": "code",
   "execution_count": 48,
   "metadata": {
    "slideshow": {
     "slide_type": "fragment"
    }
   },
   "outputs": [
    {
     "name": "stdout",
     "output_type": "stream",
     "text": [
      "[('a', 1, (1, 1)), ('b', 2, (2, 2))]\n"
     ]
    }
   ],
   "source": [
    "print(list(zip(my_list, my_list2, my_list3)))"
   ]
  },
  {
   "cell_type": "markdown",
   "metadata": {
    "slideshow": {
     "slide_type": "subslide"
    }
   },
   "source": [
    "## Użycie enumerate() i zip() w pętli for"
   ]
  },
  {
   "cell_type": "code",
   "execution_count": 2,
   "metadata": {
    "slideshow": {
     "slide_type": "fragment"
    }
   },
   "outputs": [
    {
     "name": "stdout",
     "output_type": "stream",
     "text": [
      "0 a\n",
      "1 b\n",
      "2 c\n",
      "3 d\n"
     ]
    }
   ],
   "source": [
    "my_list = ['a','b','c','d']\n",
    "\n",
    "for count, value in enumerate(my_list):\n",
    "    print(count, value)\n",
    "    "
   ]
  },
  {
   "cell_type": "code",
   "execution_count": 3,
   "metadata": {
    "slideshow": {
     "slide_type": "fragment"
    }
   },
   "outputs": [
    {
     "name": "stdout",
     "output_type": "stream",
     "text": [
      "0 a 10\n",
      "1 b 15\n",
      "2 c 25\n",
      "3 d 4\n"
     ]
    }
   ],
   "source": [
    "my_list2 = [10, 15, 25, 4]\n",
    "for count, value in enumerate(my_list):\n",
    "    print(count, value, my_list2[count])"
   ]
  },
  {
   "cell_type": "code",
   "execution_count": 4,
   "metadata": {
    "slideshow": {
     "slide_type": "subslide"
    }
   },
   "outputs": [
    {
     "name": "stdout",
     "output_type": "stream",
     "text": [
      "a 10\n",
      "b 15\n",
      "c 25\n",
      "d 4\n"
     ]
    }
   ],
   "source": [
    "for element1, element2 in zip(my_list,my_list2):\n",
    "    print(element1, element2)"
   ]
  },
  {
   "cell_type": "code",
   "execution_count": 5,
   "metadata": {
    "slideshow": {
     "slide_type": "fragment"
    }
   },
   "outputs": [
    {
     "name": "stdout",
     "output_type": "stream",
     "text": [
      "0 a 10\n",
      "1 b 15\n",
      "2 c 25\n",
      "3 d 4\n"
     ]
    }
   ],
   "source": [
    "for count, (element1, element2) in enumerate(zip(my_list,my_list2)):\n",
    "    print(count, element1, element2)"
   ]
  },
  {
   "cell_type": "code",
   "execution_count": null,
   "metadata": {},
   "outputs": [],
   "source": []
  }
 ],
 "metadata": {
  "celltoolbar": "Slideshow",
  "jupytext": {
   "formats": "ipynb"
  },
  "kernelspec": {
   "display_name": "Python 3 (ipykernel)",
   "language": "python",
   "name": "python3"
  },
  "language_info": {
   "codemirror_mode": {
    "name": "ipython",
    "version": 3
   },
   "file_extension": ".py",
   "mimetype": "text/x-python",
   "name": "python",
   "nbconvert_exporter": "python",
   "pygments_lexer": "ipython3",
   "version": "3.9.12"
  },
  "rise": {
   "autolaunch": true,
   "backimage": "img/tlo_agh.png"
  }
 },
 "nbformat": 4,
 "nbformat_minor": 2
}
