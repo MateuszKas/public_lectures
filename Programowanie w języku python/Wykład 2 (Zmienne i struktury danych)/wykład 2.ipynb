{
 "cells": [
  {
   "cell_type": "markdown",
   "metadata": {
    "collapsed": true,
    "slideshow": {
     "slide_type": "slide"
    }
   },
   "source": [
    "# Programowanie w języku Python\n",
    "\n",
    "## Strukury danych\n",
    "\n",
    "### dr inż. Waldemar Bauer"
   ]
  },
  {
   "cell_type": "markdown",
   "metadata": {
    "slideshow": {
     "slide_type": "slide"
    }
   },
   "source": [
    "## Instalacja Pythona\n",
    "\n",
    "- Python posiada instalatory dostosowane do dużej liczby systemów operacyjnych, należy go pobrać z [oficjalnej strony](https://www.python.org/downloads/)\n",
    "\n",
    "- W czasie instalacji należy pamiętać o tym by ustawić zmienne systemowe w szczególności PATH"
   ]
  },
  {
   "cell_type": "markdown",
   "metadata": {
    "slideshow": {
     "slide_type": "subslide"
    }
   },
   "source": [
    "## Zmienne systemowe Python\n",
    "\n",
    "| Zmienna       | OPIS                                                                                                                                                                                                                                                                                              |\n",
    "|---------------|:---------------------------------------------------------------------------------------------------------------------------------------------------------------------------------------------------------------------------------------------------------------------------------------------------|\n",
    "| PYTHONPATH    |  Pełni rolę podobną do PATH. Ta zmienna informuje interpreter Pythona, gdzie umieścić pliki modułów zaimportowane do programu.|\n",
    "| PYTHONSTARTUP | Zawiera ścieżkę pliku inicjującego zawierającego kod źródłowy Pythona. Jest wykonywany za każdym razem, gdy uruchamiany jest interpreter. W Uniksie nazywa się .pythonrc.py i zawiera polecenia, które ładują narzędzia lub modyfikują PYTHONPATH.                                                        |\n",
    "| PYTHONCASEOK  | Jest używany w systemie Windows do instruowania Pythona, aby znalazł pierwsze dopasowanie bez uwzględniania wielkości liter w instrukcji import. Ustaw tę zmienną na dowolną wartość, aby ją aktywować.                                                                                           |\n",
    "| PYTHONHOME    | Jest to alternatywna ścieżka wyszukiwania modułów. Jest zwykle osadzony w katalogach PYTHONSTARTUP lub PYTHONPATH, aby ułatwić przełączanie bibliotek modułów.                                                                                                                                    |"
   ]
  },
  {
   "cell_type": "markdown",
   "metadata": {
    "slideshow": {
     "slide_type": "slide"
    }
   },
   "source": [
    "## Standardowe Typy zmiennych\n",
    "\n",
    "- Zmienna w informatyce to koncept programistyczny posiadająca trzy podstawowe atrybuty: symboliczną nazwę, miejsce przechowywania i wartość.\n",
    "\n",
    "- Python następujące standardowe typy zmiennych:\n",
    "    - Liczbowe (Numbers)\n",
    "    - Ciągi znakowe (String)\n",
    "    - Listy (list)\n",
    "    - Krotki (tuple)\n",
    "    - Słowniki (dictionary)\n",
    "    - zbiory (set)"
   ]
  },
  {
   "cell_type": "markdown",
   "metadata": {
    "slideshow": {
     "slide_type": "subslide"
    }
   },
   "source": [
    "## Deklaracja zmiennych"
   ]
  },
  {
   "cell_type": "code",
   "execution_count": 8,
   "metadata": {
    "slideshow": {
     "slide_type": "fragment"
    }
   },
   "outputs": [],
   "source": [
    "int_variable   = 4\n",
    "\n",
    "float_variable = 0.5\n",
    "\n",
    "complex_variable = 1 + 2j\n",
    "\n",
    "str_variable   = \"Python jest ok\"\n",
    "\n",
    "list_variable = []\n",
    "list_variable2 = list()\n",
    "\n",
    "tuple_variable = ()\n",
    "tuple_variable = tuple()\n",
    "\n",
    "dict_variable = {}\n",
    "dict_variable2 = dict()\n",
    "\n",
    "set_variable = set()"
   ]
  },
  {
   "cell_type": "markdown",
   "metadata": {
    "slideshow": {
     "slide_type": "slide"
    }
   },
   "source": [
    "## Nazwy zmiennych\n",
    "```python\n",
    "#dozwolone nazwy zmienych:\n",
    "myvar = \"AGH\"\n",
    "my_var = \"AGH\"\n",
    "_my_var = \"AGH\"\n",
    "myVar = \"AGH\"\n",
    "MYVAR = \"AGH\"\n",
    "myvar2 = \"AGH\"\n",
    "\n",
    "#niedozwolone nazwy zmienych:\n",
    "2myvar = \"AGH\"\n",
    "my-var = \"AGH\"\n",
    "my var = \"AGH\" \n",
    "```"
   ]
  },
  {
   "cell_type": "code",
   "execution_count": 9,
   "metadata": {
    "slideshow": {
     "slide_type": "fragment"
    }
   },
   "outputs": [
    {
     "ename": "SyntaxError",
     "evalue": "invalid syntax (2743660792.py, line 2)",
     "output_type": "error",
     "traceback": [
      "\u001b[0;36m  Input \u001b[0;32mIn [9]\u001b[0;36m\u001b[0m\n\u001b[0;31m    my var = \"AGH\"\u001b[0m\n\u001b[0m       ^\u001b[0m\n\u001b[0;31mSyntaxError\u001b[0m\u001b[0;31m:\u001b[0m invalid syntax\n"
     ]
    }
   ],
   "source": [
    "#test nazw \n",
    "my var = \"AGH\""
   ]
  },
  {
   "cell_type": "markdown",
   "metadata": {
    "slideshow": {
     "slide_type": "slide"
    }
   },
   "source": [
    "## Funkcja print()\n",
    "\n",
    "- jedna z podstawowych funkcji w Pythonie\n",
    "- po zwala na wypisywanie informacji na standardowe wyjście systemu\n",
    "- informacja może być dowolną zmienną lub ciągiem znaków\n",
    "- wywołanie:\n",
    "```python\n",
    "print(text)\n",
    "```"
   ]
  },
  {
   "cell_type": "markdown",
   "metadata": {
    "slideshow": {
     "slide_type": "subslide"
    }
   },
   "source": [
    "## Sprawdzenie typów zmiennych\n",
    "\n",
    "- sprawdzenie jakiego typu jest zmienna jest możliwe dzięki funkcji [__type()__](https://docs.python.org/3/library/functions.html#type)\n",
    "\n",
    "- wywołanie:\n",
    "```python\n",
    "type(variable)\n",
    "```\n",
    "    "
   ]
  },
  {
   "cell_type": "code",
   "execution_count": 10,
   "metadata": {
    "slideshow": {
     "slide_type": "fragment"
    }
   },
   "outputs": [
    {
     "name": "stdout",
     "output_type": "stream",
     "text": [
      "<class 'int'>\n"
     ]
    }
   ],
   "source": [
    "print(type(int_variable))"
   ]
  },
  {
   "cell_type": "code",
   "execution_count": 11,
   "metadata": {
    "slideshow": {
     "slide_type": "fragment"
    }
   },
   "outputs": [
    {
     "name": "stdout",
     "output_type": "stream",
     "text": [
      "<class 'float'>\n"
     ]
    }
   ],
   "source": [
    "print(type(float_variable))"
   ]
  },
  {
   "cell_type": "code",
   "execution_count": 12,
   "metadata": {
    "slideshow": {
     "slide_type": "fragment"
    }
   },
   "outputs": [
    {
     "name": "stdout",
     "output_type": "stream",
     "text": [
      "<class 'complex'>\n"
     ]
    }
   ],
   "source": [
    "print(type(complex_variable))"
   ]
  },
  {
   "cell_type": "markdown",
   "metadata": {
    "slideshow": {
     "slide_type": "subslide"
    }
   },
   "source": [
    "## Sprawdzenie typów cd."
   ]
  },
  {
   "cell_type": "code",
   "execution_count": 13,
   "metadata": {
    "slideshow": {
     "slide_type": "fragment"
    }
   },
   "outputs": [
    {
     "name": "stdout",
     "output_type": "stream",
     "text": [
      "<class 'str'>\n"
     ]
    }
   ],
   "source": [
    "print(type(str_variable))"
   ]
  },
  {
   "cell_type": "code",
   "execution_count": 14,
   "metadata": {
    "slideshow": {
     "slide_type": "fragment"
    }
   },
   "outputs": [
    {
     "name": "stdout",
     "output_type": "stream",
     "text": [
      "<class 'list'>\n"
     ]
    }
   ],
   "source": [
    "print(type(list_variable))"
   ]
  },
  {
   "cell_type": "code",
   "execution_count": 15,
   "metadata": {
    "slideshow": {
     "slide_type": "fragment"
    }
   },
   "outputs": [
    {
     "name": "stdout",
     "output_type": "stream",
     "text": [
      "<class 'list'>\n"
     ]
    }
   ],
   "source": [
    "print(type(list_variable2))"
   ]
  },
  {
   "cell_type": "markdown",
   "metadata": {
    "slideshow": {
     "slide_type": "subslide"
    }
   },
   "source": [
    "## Sprawdzenie typów cd."
   ]
  },
  {
   "cell_type": "code",
   "execution_count": null,
   "metadata": {
    "slideshow": {
     "slide_type": "fragment"
    }
   },
   "outputs": [],
   "source": [
    "print(type(dict_variable))"
   ]
  },
  {
   "cell_type": "code",
   "execution_count": null,
   "metadata": {
    "slideshow": {
     "slide_type": "fragment"
    }
   },
   "outputs": [],
   "source": [
    "print(type(dict_variable2))"
   ]
  },
  {
   "cell_type": "code",
   "execution_count": null,
   "metadata": {
    "slideshow": {
     "slide_type": "fragment"
    }
   },
   "outputs": [],
   "source": [
    "print(type(set_variable))"
   ]
  },
  {
   "cell_type": "markdown",
   "metadata": {
    "slideshow": {
     "slide_type": "slide"
    }
   },
   "source": [
    "## Przypisanie wielu wartości na raz\n",
    "\n",
    "- przypisanie jednej wartości:"
   ]
  },
  {
   "cell_type": "code",
   "execution_count": 17,
   "metadata": {
    "slideshow": {
     "slide_type": "fragment"
    }
   },
   "outputs": [
    {
     "name": "stdout",
     "output_type": "stream",
     "text": [
      "10\n",
      "10\n",
      "10\n"
     ]
    }
   ],
   "source": [
    "a = b = c = 10\n",
    "print(a)\n",
    "print(b)\n",
    "print(c)"
   ]
  },
  {
   "cell_type": "markdown",
   "metadata": {
    "slideshow": {
     "slide_type": "fragment"
    }
   },
   "source": [
    "- przypisanie różnych wartości:"
   ]
  },
  {
   "cell_type": "code",
   "execution_count": null,
   "metadata": {
    "slideshow": {
     "slide_type": "fragment"
    }
   },
   "outputs": [],
   "source": [
    "a, b, c = 5, 10, 'Kaczuszka'\n",
    "print(a)\n",
    "print(b)\n",
    "print(c)"
   ]
  },
  {
   "cell_type": "markdown",
   "metadata": {
    "slideshow": {
     "slide_type": "slide"
    }
   },
   "source": [
    "## Operacje arytmetyczne\n",
    "\n",
    "| Operator |         Działenie         | Przykład użycia |\n",
    "|:--------:|:-------------------------:|:---------------:|\n",
    "|     +    |         Dodawanie         |      x + y      |\n",
    "|     -    |        Odejmowanie        |      x - y      |\n",
    "|     *    |          Mnożenie         |      x * y      |\n",
    "|     /    |         Dzielenie         |      x / y      |\n",
    "|     %    |           Modulo          |      x % y      |\n",
    "|    **    | Potęgowanie liczby x do y |      x ** y     |\n",
    "|    //    |   Dzielenie z odcięciem   |      x // y     |"
   ]
  },
  {
   "cell_type": "markdown",
   "metadata": {
    "slideshow": {
     "slide_type": "subslide"
    }
   },
   "source": [
    "## Operacje na liczbach \n",
    "- dodawanie"
   ]
  },
  {
   "cell_type": "code",
   "execution_count": 26,
   "metadata": {
    "slideshow": {
     "slide_type": "fragment"
    }
   },
   "outputs": [
    {
     "ename": "TypeError",
     "evalue": "can only concatenate str (not \"float\") to str",
     "output_type": "error",
     "traceback": [
      "\u001b[0;31m---------------------------------------------------------------------------\u001b[0m",
      "\u001b[0;31mTypeError\u001b[0m                                 Traceback (most recent call last)",
      "Input \u001b[0;32mIn [26]\u001b[0m, in \u001b[0;36m<cell line: 1>\u001b[0;34m()\u001b[0m\n\u001b[0;32m----> 1\u001b[0m \u001b[43mint_variable\u001b[49m\u001b[43m \u001b[49m\u001b[38;5;241;43m+\u001b[39;49m\u001b[43m \u001b[49m\u001b[43mfloat_variable\u001b[49m \u001b[38;5;241m+\u001b[39m complex_variable\n",
      "\u001b[0;31mTypeError\u001b[0m: can only concatenate str (not \"float\") to str"
     ]
    }
   ],
   "source": [
    "int_variable + float_variable + complex_variable "
   ]
  },
  {
   "cell_type": "markdown",
   "metadata": {
    "slideshow": {
     "slide_type": "fragment"
    }
   },
   "source": [
    "- odejmowanie"
   ]
  },
  {
   "cell_type": "code",
   "execution_count": 21,
   "metadata": {
    "slideshow": {
     "slide_type": "fragment"
    }
   },
   "outputs": [
    {
     "data": {
      "text/plain": [
       "(2.5-2j)"
      ]
     },
     "execution_count": 21,
     "metadata": {},
     "output_type": "execute_result"
    }
   ],
   "source": [
    "int_variable - float_variable - complex_variable "
   ]
  },
  {
   "cell_type": "markdown",
   "metadata": {
    "slideshow": {
     "slide_type": "fragment"
    }
   },
   "source": [
    "- mnożenie"
   ]
  },
  {
   "cell_type": "code",
   "execution_count": 22,
   "metadata": {
    "slideshow": {
     "slide_type": "fragment"
    }
   },
   "outputs": [
    {
     "data": {
      "text/plain": [
       "(2+4j)"
      ]
     },
     "execution_count": 22,
     "metadata": {},
     "output_type": "execute_result"
    }
   ],
   "source": [
    "int_variable * float_variable * complex_variable "
   ]
  },
  {
   "cell_type": "markdown",
   "metadata": {
    "slideshow": {
     "slide_type": "fragment"
    }
   },
   "source": [
    "- dzielenie"
   ]
  },
  {
   "cell_type": "code",
   "execution_count": 23,
   "metadata": {
    "slideshow": {
     "slide_type": "fragment"
    }
   },
   "outputs": [
    {
     "data": {
      "text/plain": [
       "8.0"
      ]
     },
     "execution_count": 23,
     "metadata": {},
     "output_type": "execute_result"
    }
   ],
   "source": [
    "int_variable / float_variable"
   ]
  },
  {
   "cell_type": "markdown",
   "metadata": {
    "slideshow": {
     "slide_type": "slide"
    }
   },
   "source": [
    "## Listy \n",
    "\n",
    "- najbardziej wszechstrone ze złożonych typów danych w Pythonie \n",
    "\n",
    "- wszystkie elementy należące do listy mogą mieć inny typ danych\n",
    "\n",
    "- Dostęp do wartości przechowywanych na liście można uzyskać za pomocą operatora  [ ] lub [:] z indeksami zaczynającymi się od 0 na początku listy i prowadzącymi do końca "
   ]
  },
  {
   "cell_type": "markdown",
   "metadata": {
    "slideshow": {
     "slide_type": "subslide"
    }
   },
   "source": [
    "## Podstawowe operacje na listach\n",
    "\n",
    "- deklaracja"
   ]
  },
  {
   "cell_type": "code",
   "execution_count": 29,
   "metadata": {
    "slideshow": {
     "slide_type": "fragment"
    }
   },
   "outputs": [
    {
     "name": "stdout",
     "output_type": "stream",
     "text": [
      "kot\n",
      "7.9\n"
     ]
    }
   ],
   "source": [
    "first_list = [ 'kot', 921 , 'pies' ,0.3, 'ptak' ]\n",
    "second_list = [7.9, 'marka']\n",
    "\n",
    "# dostęp do pierwszego elementu listy\n",
    "print(first_list[0])\n",
    "print(second_list[0])"
   ]
  },
  {
   "cell_type": "code",
   "execution_count": 31,
   "metadata": {
    "slideshow": {
     "slide_type": "subslide"
    }
   },
   "outputs": [
    {
     "name": "stdout",
     "output_type": "stream",
     "text": [
      "ptak\n",
      "marka\n"
     ]
    }
   ],
   "source": [
    "# dostęp do ostatniego elementu listy \n",
    "print(first_list[-1])\n",
    "print(second_list[-1])"
   ]
  },
  {
   "cell_type": "code",
   "execution_count": 35,
   "metadata": {
    "slideshow": {
     "slide_type": "fragment"
    }
   },
   "outputs": [
    {
     "name": "stdout",
     "output_type": "stream",
     "text": [
      "0.3\n",
      "7.9\n"
     ]
    }
   ],
   "source": [
    "# dostęp do n-tego elementu listy od końca \n",
    "n = 2\n",
    "print(first_list[-n])\n",
    "print(second_list[-n])"
   ]
  },
  {
   "cell_type": "code",
   "execution_count": 36,
   "metadata": {
    "slideshow": {
     "slide_type": "subslide"
    }
   },
   "outputs": [
    {
     "name": "stdout",
     "output_type": "stream",
     "text": [
      "['pies', 0.3]\n"
     ]
    }
   ],
   "source": [
    "# dostęp do elementów pomiędzy n-tym a m-tym [ 'kot', 921 , 'pies' ,0.3, 'ptak' ]\n",
    "n = 2\n",
    "m = 4\n",
    "print(first_list[n:m])"
   ]
  },
  {
   "cell_type": "code",
   "execution_count": 37,
   "metadata": {
    "slideshow": {
     "slide_type": "fragment"
    }
   },
   "outputs": [
    {
     "name": "stdout",
     "output_type": "stream",
     "text": [
      "[0.3, 'ptak']\n"
     ]
    }
   ],
   "source": [
    "# dostęp do elementów od n-tego do końca [ 'kot', 921 , 'pies' ,0.3, 'ptak' ]\n",
    "n = 3\n",
    "print(first_list[n:])"
   ]
  },
  {
   "cell_type": "code",
   "execution_count": 38,
   "metadata": {
    "slideshow": {
     "slide_type": "fragment"
    }
   },
   "outputs": [
    {
     "name": "stdout",
     "output_type": "stream",
     "text": [
      "['kot', 921, 'pies', 0.3]\n"
     ]
    }
   ],
   "source": [
    "# dostęp od elementu n-tego od końca do początku [ 'kot', 921 , 'pies' ,0.3, 'ptak' ]\n",
    "n = 4\n",
    "print(first_list[:n])"
   ]
  },
  {
   "cell_type": "code",
   "execution_count": 39,
   "metadata": {
    "slideshow": {
     "slide_type": "subslide"
    }
   },
   "outputs": [
    {
     "name": "stdout",
     "output_type": "stream",
     "text": [
      "[7.9, 'marka', 7.9, 'marka', 7.9, 'marka', 7.9, 'marka']\n"
     ]
    }
   ],
   "source": [
    "# mnożenie list  [7.9, 'marka']\n",
    "n = 4\n",
    "print(second_list * n)"
   ]
  },
  {
   "cell_type": "code",
   "execution_count": 40,
   "metadata": {
    "slideshow": {
     "slide_type": "fragment"
    }
   },
   "outputs": [
    {
     "name": "stdout",
     "output_type": "stream",
     "text": [
      "['kot', 921, 'pies', 0.3, 'ptak', 7.9, 'marka']\n",
      "[7.9, 'marka', 'kot', 921, 'pies', 0.3, 'ptak']\n"
     ]
    }
   ],
   "source": [
    "#łączenie list - konkatenacja\n",
    "print(first_list + second_list)\n",
    "print(second_list + first_list)"
   ]
  },
  {
   "cell_type": "code",
   "execution_count": 41,
   "metadata": {
    "slideshow": {
     "slide_type": "fragment"
    }
   },
   "outputs": [
    {
     "ename": "TypeError",
     "evalue": "can only concatenate list (not \"str\") to list",
     "output_type": "error",
     "traceback": [
      "\u001b[0;31m---------------------------------------------------------------------------\u001b[0m",
      "\u001b[0;31mTypeError\u001b[0m                                 Traceback (most recent call last)",
      "Input \u001b[0;32mIn [41]\u001b[0m, in \u001b[0;36m<cell line: 2>\u001b[0;34m()\u001b[0m\n\u001b[1;32m      1\u001b[0m \u001b[38;5;66;03m# trochę szaleństwa: [ 'kot', 921 , 'pies' ,0.3, 'ptak' ],  [7.9, 'marka']\u001b[39;00m\n\u001b[0;32m----> 2\u001b[0m \u001b[38;5;28mprint\u001b[39m(\u001b[43mfirst_list\u001b[49m\u001b[43m[\u001b[49m\u001b[43m:\u001b[49m\u001b[38;5;241;43m3\u001b[39;49m\u001b[43m]\u001b[49m\u001b[38;5;241;43m*\u001b[39;49m\u001b[38;5;241;43m2\u001b[39;49m\u001b[43m \u001b[49m\u001b[38;5;241;43m+\u001b[39;49m\u001b[43m \u001b[49m\u001b[43mfirst_list\u001b[49m\u001b[43m[\u001b[49m\u001b[38;5;241;43m2\u001b[39;49m\u001b[43m:\u001b[49m\u001b[38;5;241;43m-\u001b[39;49m\u001b[38;5;241;43m3\u001b[39;49m\u001b[43m]\u001b[49m\u001b[43m \u001b[49m\u001b[38;5;241;43m+\u001b[39;49m\u001b[43m \u001b[49m\u001b[43msecond_list\u001b[49m\u001b[43m[\u001b[49m\u001b[38;5;241;43m-\u001b[39;49m\u001b[38;5;241;43m1\u001b[39;49m\u001b[43m]\u001b[49m\u001b[38;5;241;43m*\u001b[39;49m\u001b[38;5;241;43m5\u001b[39;49m)\n",
      "\u001b[0;31mTypeError\u001b[0m: can only concatenate list (not \"str\") to list"
     ]
    }
   ],
   "source": [
    "# trochę szaleństwa: [ 'kot', 921 , 'pies' ,0.3, 'ptak' ],  [7.9, 'marka']\n",
    "print(first_list[:3]*2 + first_list[2:-3] + second_list[-1]*5)"
   ]
  },
  {
   "cell_type": "code",
   "execution_count": 42,
   "metadata": {
    "slideshow": {
     "slide_type": "subslide"
    }
   },
   "outputs": [
    {
     "name": "stdout",
     "output_type": "stream",
     "text": [
      "['Mama', 45]\n"
     ]
    }
   ],
   "source": [
    "## zamiana wartości w liście\n",
    "second_list[-1] = 45\n",
    "second_list[0] = 'Mama'\n",
    "print(second_list)\n"
   ]
  },
  {
   "cell_type": "markdown",
   "metadata": {
    "slideshow": {
     "slide_type": "slide"
    }
   },
   "source": [
    "## Ciągi znaków (String)\n",
    "\n",
    "- podstawowy typ zmiennych w Pytonie określający ciąg znaków\n",
    "- deklarowany jako obiekt __str()__\n",
    "- dostęp do elementów łańcuch znaków można uzyskać poprzez operator []\n"
   ]
  },
  {
   "cell_type": "markdown",
   "metadata": {
    "slideshow": {
     "slide_type": "subslide"
    }
   },
   "source": [
    "## Podstawowe operację na __str__"
   ]
  },
  {
   "cell_type": "code",
   "execution_count": 43,
   "metadata": {
    "slideshow": {
     "slide_type": "fragment"
    }
   },
   "outputs": [
    {
     "name": "stdout",
     "output_type": "stream",
     "text": [
      "Python jest ok\n",
      "P\n",
      "tho\n",
      "thon jest ok\n",
      "Python jest okPython jest ok\n",
      "Python jest ok TEST\n"
     ]
    }
   ],
   "source": [
    "print(str_variable)          \n",
    "print(str_variable[0])       \n",
    "print(str_variable[2:5])     \n",
    "print(str_variable[2:])      \n",
    "print(str_variable * 2)      \n",
    "print(str_variable + \" TEST\") "
   ]
  },
  {
   "cell_type": "markdown",
   "metadata": {
    "slideshow": {
     "slide_type": "slide"
    }
   },
   "source": [
    "## Krotki (Tuple)\n",
    "\n",
    "- składa się z wielu wartości oddzielonych przecinkami\n",
    "- w przeciwieństwie do listy deklaruje je się w nawiasach okrągłych\n",
    "- dostęp do elementów można uzyskać poprzez operator []\n",
    "- różnią się od listy tym że wartości w krotce nie można zmieniać ani dodawać nowych po zadeklarowaniu\n"
   ]
  },
  {
   "cell_type": "code",
   "execution_count": 3,
   "metadata": {
    "slideshow": {
     "slide_type": "fragment"
    }
   },
   "outputs": [
    {
     "data": {
      "text/plain": [
       "('kot', 921)"
      ]
     },
     "execution_count": 3,
     "metadata": {},
     "output_type": "execute_result"
    }
   ],
   "source": [
    "tuple_variable[0] = 1 "
   ]
  },
  {
   "cell_type": "code",
   "execution_count": 1,
   "metadata": {},
   "outputs": [
    {
     "name": "stdout",
     "output_type": "stream",
     "text": [
      "kot\n",
      "7.9\n"
     ]
    }
   ],
   "source": [
    "first_tuple = ('kot', 921 , 'pies' ,0.3, 'ptak')\n",
    "second_tuple = (7.9, 'marka')\n",
    "\n",
    "# dostęp do pierwszego elementu krotek\n",
    "print(first_tuple[0])\n",
    "print(second_tuple[0])"
   ]
  },
  {
   "cell_type": "code",
   "execution_count": 4,
   "metadata": {
    "slideshow": {
     "slide_type": "subslide"
    }
   },
   "outputs": [
    {
     "name": "stdout",
     "output_type": "stream",
     "text": [
      "ptak\n",
      "marka\n"
     ]
    }
   ],
   "source": [
    "# dostęp do ostatniego elementu krotki \n",
    "print(first_tuple[-1])\n",
    "print(second_tuple[-1])"
   ]
  },
  {
   "cell_type": "code",
   "execution_count": 5,
   "metadata": {
    "slideshow": {
     "slide_type": "fragment"
    }
   },
   "outputs": [
    {
     "name": "stdout",
     "output_type": "stream",
     "text": [
      "0.3\n",
      "7.9\n"
     ]
    }
   ],
   "source": [
    "# dostęp do n-tego elementu krotki od końca \n",
    "n = 2\n",
    "print(first_tuple[-n])\n",
    "print(second_tuple[-n])"
   ]
  },
  {
   "cell_type": "code",
   "execution_count": 7,
   "metadata": {
    "slideshow": {
     "slide_type": "subslide"
    }
   },
   "outputs": [
    {
     "name": "stdout",
     "output_type": "stream",
     "text": [
      "('pies', 0.3)\n"
     ]
    }
   ],
   "source": [
    "# dostęp do elementów pomiędzy n-tym a m-tym ( 'kot', 921 , 'pies' ,0.3, 'ptak' )\n",
    "n = 2\n",
    "m = 4\n",
    "print(first_tuple[n:m])"
   ]
  },
  {
   "cell_type": "code",
   "execution_count": 8,
   "metadata": {
    "slideshow": {
     "slide_type": "fragment"
    }
   },
   "outputs": [
    {
     "name": "stdout",
     "output_type": "stream",
     "text": [
      "(0.3, 'ptak')\n"
     ]
    }
   ],
   "source": [
    "# dostęp do elementów od n-tego do końca ( 'kot', 921 , 'pies' ,0.3, 'ptak' )\n",
    "n = 3\n",
    "print(first_tuple[n:])"
   ]
  },
  {
   "cell_type": "code",
   "execution_count": 9,
   "metadata": {
    "slideshow": {
     "slide_type": "fragment"
    }
   },
   "outputs": [
    {
     "name": "stdout",
     "output_type": "stream",
     "text": [
      "('kot', 921, 'pies', 0.3)\n"
     ]
    }
   ],
   "source": [
    "# dostęp od elementu n-tego od końca do początku ( 'kot', 921 , 'pies' ,0.3, 'ptak' )\n",
    "n = 4\n",
    "print(first_tuple[:n])"
   ]
  },
  {
   "cell_type": "code",
   "execution_count": 10,
   "metadata": {
    "slideshow": {
     "slide_type": "subslide"
    }
   },
   "outputs": [
    {
     "name": "stdout",
     "output_type": "stream",
     "text": [
      "(7.9, 'marka', 7.9, 'marka', 7.9, 'marka', 7.9, 'marka')\n"
     ]
    }
   ],
   "source": [
    "# mnożenie list  (7.9, 'marka')\n",
    "n = 4\n",
    "print(second_tuple * n)"
   ]
  },
  {
   "cell_type": "code",
   "execution_count": 11,
   "metadata": {
    "slideshow": {
     "slide_type": "fragment"
    }
   },
   "outputs": [
    {
     "name": "stdout",
     "output_type": "stream",
     "text": [
      "('kot', 921, 'pies', 0.3, 'ptak', 7.9, 'marka')\n",
      "(7.9, 'marka', 'kot', 921, 'pies', 0.3, 'ptak')\n"
     ]
    }
   ],
   "source": [
    "#łączenie krotek - konkatenacja\n",
    "print(first_tuple + second_tuple)\n",
    "print(second_tuple + first_tuple)"
   ]
  },
  {
   "cell_type": "markdown",
   "metadata": {
    "slideshow": {
     "slide_type": "slide"
    }
   },
   "source": [
    "## Słowniki (Dictionary - dict)\n",
    "\n",
    "- są to tablice haszujące (hash table)\n",
    "- składają się z par klucz-wartość \n",
    "- każdy klucz musi być unikatowy\n",
    "- kluczem słownika może być prawie dowolnym typem Pythona, ale zazwyczaj są to liczby lub łańcuchy\n",
    "- wartości mogą być dowolnymi obiektami Pythona"
   ]
  },
  {
   "cell_type": "code",
   "execution_count": 13,
   "metadata": {
    "slideshow": {
     "slide_type": "subslide"
    }
   },
   "outputs": [],
   "source": [
    "# deklaracja słowników\n",
    "first_dict = {}\n",
    "first_dict['one'] = \"This is one\"\n",
    "first_dict[2]     = \"This is two\"\n",
    "first_dict[(3,1)] = \"This is tree\"\n",
    "first_dict[(4)] = \"This is four\"\n",
    "\n",
    "second_dict = {'name': 'john','code':6734, 'dept': 'sales'}"
   ]
  },
  {
   "cell_type": "code",
   "execution_count": 14,
   "metadata": {
    "slideshow": {
     "slide_type": "fragment"
    }
   },
   "outputs": [
    {
     "name": "stdout",
     "output_type": "stream",
     "text": [
      "{'one': 'This is one', 2: 'This is two', (3, 1): 'This is tree', 4: 'This is four'}\n",
      "{'name': 'john', 'code': 6734, 'dept': 'sales'}\n"
     ]
    }
   ],
   "source": [
    "# wypisywanie słowników\n",
    "print(first_dict)\n",
    "print(second_dict)"
   ]
  },
  {
   "cell_type": "code",
   "execution_count": 15,
   "metadata": {
    "slideshow": {
     "slide_type": "slide"
    }
   },
   "outputs": [
    {
     "name": "stdout",
     "output_type": "stream",
     "text": [
      "This is one\n",
      "This is tree\n",
      "This is four\n"
     ]
    }
   ],
   "source": [
    "# wartość pod podanym kluczem\n",
    "print(first_dict['one'])\n",
    "print(first_dict[(3,1)])\n",
    "print(first_dict[4])"
   ]
  },
  {
   "cell_type": "code",
   "execution_count": 16,
   "metadata": {
    "slideshow": {
     "slide_type": "fragment"
    }
   },
   "outputs": [
    {
     "name": "stdout",
     "output_type": "stream",
     "text": [
      "dict_keys(['name', 'code', 'dept'])\n"
     ]
    }
   ],
   "source": [
    "# wartości kluczy\n",
    "print(second_dict.keys())"
   ]
  },
  {
   "cell_type": "code",
   "execution_count": 17,
   "metadata": {
    "slideshow": {
     "slide_type": "fragment"
    }
   },
   "outputs": [
    {
     "name": "stdout",
     "output_type": "stream",
     "text": [
      "dict_values(['john', 6734, 'sales'])\n"
     ]
    }
   ],
   "source": [
    "# wartości \n",
    "print(second_dict.values())"
   ]
  },
  {
   "cell_type": "markdown",
   "metadata": {
    "slideshow": {
     "slide_type": "slide"
    }
   },
   "source": [
    "## Zbiór (set)\n",
    "\n",
    "- to kolekcja, która jest nieuporządkowana, niezmienna i nieindeksowana."
   ]
  },
  {
   "cell_type": "code",
   "execution_count": 21,
   "metadata": {
    "slideshow": {
     "slide_type": "fragment"
    }
   },
   "outputs": [
    {
     "name": "stdout",
     "output_type": "stream",
     "text": [
      "{1, 2, 3, 4}\n"
     ]
    }
   ],
   "source": [
    "#deklaracja zbiorów\n",
    "my_set = {4, 1, 2, 3, 3, 2}\n",
    "print(my_set)"
   ]
  },
  {
   "cell_type": "code",
   "execution_count": 4,
   "metadata": {
    "slideshow": {
     "slide_type": "fragment"
    }
   },
   "outputs": [
    {
     "name": "stdout",
     "output_type": "stream",
     "text": [
      "{1, 2, 3}\n"
     ]
    }
   ],
   "source": [
    "my_set = set([1, 2, 3, 2])\n",
    "print(my_set)"
   ]
  },
  {
   "cell_type": "code",
   "execution_count": 23,
   "metadata": {
    "slideshow": {
     "slide_type": "fragment"
    }
   },
   "outputs": [
    {
     "ename": "TypeError",
     "evalue": "unhashable type: 'list'",
     "output_type": "error",
     "traceback": [
      "\u001b[0;31m---------------------------------------------------------------------------\u001b[0m",
      "\u001b[0;31mTypeError\u001b[0m                                 Traceback (most recent call last)",
      "Input \u001b[0;32mIn [23]\u001b[0m, in \u001b[0;36m<cell line: 1>\u001b[0;34m()\u001b[0m\n\u001b[0;32m----> 1\u001b[0m my_set \u001b[38;5;241m=\u001b[39m {\u001b[38;5;241m1\u001b[39m, \u001b[38;5;241m2\u001b[39m, [\u001b[38;5;241m3\u001b[39m, \u001b[38;5;241m4\u001b[39m]}\n",
      "\u001b[0;31mTypeError\u001b[0m: unhashable type: 'list'"
     ]
    }
   ],
   "source": [
    "my_set = {1, 2, [3, 4]}   "
   ]
  },
  {
   "cell_type": "code",
   "execution_count": 24,
   "metadata": {
    "slideshow": {
     "slide_type": "fragment"
    }
   },
   "outputs": [
    {
     "data": {
      "text/plain": [
       "{1, 2, 3, 4}"
      ]
     },
     "execution_count": 24,
     "metadata": {},
     "output_type": "execute_result"
    }
   ],
   "source": [
    "my_set"
   ]
  },
  {
   "cell_type": "code",
   "execution_count": null,
   "metadata": {},
   "outputs": [],
   "source": []
  }
 ],
 "metadata": {
  "celltoolbar": "Slideshow",
  "jupytext": {
   "formats": "ipynb"
  },
  "kernelspec": {
   "display_name": "Python 3 (ipykernel)",
   "language": "python",
   "name": "python3"
  },
  "language_info": {
   "codemirror_mode": {
    "name": "ipython",
    "version": 3
   },
   "file_extension": ".py",
   "mimetype": "text/x-python",
   "name": "python",
   "nbconvert_exporter": "python",
   "pygments_lexer": "ipython3",
   "version": "3.9.12"
  },
  "rise": {
   "autolaunch": true,
   "backimage": "img/tlo_agh.png"
  }
 },
 "nbformat": 4,
 "nbformat_minor": 2
}
